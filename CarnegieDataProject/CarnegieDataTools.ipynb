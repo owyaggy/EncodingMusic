{
 "cells": [
  {
   "cell_type": "markdown",
   "source": [
    "# Carnegie Hall Trends Data Querying, Cleanup and Graphing\n",
    "\n",
    "### By Vivek Mittal-Henkle and Owen Yaggy\n",
    "#### December 21, 2023"
   ],
   "metadata": {
    "collapsed": false
   },
   "id": "1f3d46cee741907"
  },
  {
   "cell_type": "markdown",
   "source": [
    "### A note on dependencies\n",
    "\n",
    "This project relies on several data files, .csv and .pkl, to run all of its code. Contained within this repository are all the\n",
    "files necessary such that any user of this notebook will not have to make any SPARQL queries to obtain the necessary data.\n",
    "However, in some cases we show the code that transforms the data resulting from a SPARQL query into a new CSV. We do not\n",
    "include the CSVs resulting directly from the SPARQL queries in this repository, only the resultant CSVs that are necessary\n",
    "for this project to run its core features."
   ],
   "metadata": {
    "collapsed": false
   },
   "id": "342ae34d488b6e09"
  },
  {
   "cell_type": "markdown",
   "source": [
    "# [RUN] Import statements"
   ],
   "metadata": {
    "id": "329c1f83"
   },
   "id": "329c1f83"
  },
  {
   "cell_type": "code",
   "outputs": [],
   "source": [
    "import pandas as pd\n",
    "import plotly.express as px\n",
    "import os\n",
    "import requests\n",
    "import csv"
   ],
   "metadata": {
    "id": "38b61b5d",
    "ExecuteTime": {
     "end_time": "2023-12-22T01:51:55.743752Z",
     "start_time": "2023-12-22T01:51:54.409310Z"
    }
   },
   "id": "38b61b5d",
   "execution_count": 2
  },
  {
   "cell_type": "markdown",
   "source": [
    "## A query with optional results ##\n",
    "This allows the query to return a result even if it has certain attributes missing.\n",
    "This returns all the data we're looking for.\n",
    "\n",
    "```PREFIX schema: <http://schema.org/>\n",
    "PREFIX rdfs: <http://www.w3.org/2000/01/rdf-schema#>\n",
    "PREFIX dcterms: <http://purl.org/dc/terms/>\n",
    "PREFIX skos: <http://www.w3.org/2004/02/skos/core#>\n",
    "PREFIX mo: <http://purl.org/ontology/mo/>\n",
    "\n",
    "SELECT *\n",
    "WHERE {\n",
    "\t?event a schema:Event .\n",
    "  \tOPTIONAL {\n",
    "    \t?event schema:startDate ?date .\n",
    "  \t}\n",
    "    OPTIONAL { ?event rdfs:label ?title . }\n",
    "  \tOPTIONAL {\n",
    "    \t?event mo:genre ?genre .\n",
    "  \t\tFILTER contains(str(?genre), \"http://data.carnegiehall.org/genres/\")\n",
    "  \t\tOPTIONAL { ?genre rdfs:label ?genreLabel . }\n",
    "  \t}\n",
    "    OPTIONAL {\n",
    "    \t?event schema:subEvent/schema:workPerformed ?workperformed .\n",
    "    \tOPTIONAL { ?workperformed rdfs:label ?work . }\n",
    "  \t\tOPTIONAL {\n",
    "    \t\t?workperformed dcterms:creator ?composer .\n",
    "      \tOPTIONAL { ?composer schema:name ?composerName . }\n",
    "  \t\t\tOPTIONAL {\n",
    "    \t\t\t?composer skos:exactMatch ?skos .\n",
    "    \t\t\tFILTER contains(str(?skos), \"wiki\") \n",
    "  \t\t\t}\n",
    "  \t\t}\n",
    "  \t}\n",
    "}\n",
    "LIMIT 10000\n",
    "OFFSET 0        # this offset should be increased in increments of 10,000 until all data has been queried and downloaded\n",
    "```\n",
    "\n",
    "A significant drawback is the enforced results limit of 10,000 on the Carnegie Data Lab website. This necessitates 38 queries offset by increments of 10,000 to query the full suite of data. The resulting data is downloaded as separate CSVs, which are concatenated using the below code."
   ],
   "metadata": {},
   "id": "9b09b72b0a423052"
  },
  {
   "cell_type": "markdown",
   "source": [
    "# [do not run] CSV concatenator\n",
    "\n",
    "If SPARQL query limits mean that the necessary data is stored in many disparate csv files, this code will take the path to the folder containing all those csvs (and nothing else!!) and the desired file path of the resultant csv that will concatenate all the smaller csvs.\n",
    "\n",
    "This is a tool used in the process of working with the data. However, since the resultant data has already been stored, it is not necessary to run it."
   ],
   "metadata": {
    "collapsed": false
   },
   "id": "a76a65ece7ac2cf"
  },
  {
   "cell_type": "code",
   "outputs": [],
   "source": [
    "# code to combine several downloaded sparql query results\n",
    "\n",
    "def combine_csvs(folder_path, file_name):\n",
    "    \"\"\"\n",
    "    Combines several csvs into one large one\n",
    "    :param folder_path: path to the folder containing all the csvs to be contained and NOTHING ELSE\n",
    "    :param file_name: path to the file that will store the combined csv, including .csv at the end!\n",
    "    :return: \n",
    "    \"\"\"\n",
    "    \n",
    "    # record all the files in the folder\n",
    "    files = os.listdir(folder_path)\n",
    "    \n",
    "    # blank list to store dataframes for each individual csv\n",
    "    df_list = []\n",
    "    # iterate through smaller csvs, make a dataframe for them\n",
    "    # and add that dataframe to a list of dataframes\n",
    "    for csv in files:\n",
    "        file_path = os.path.join(folder_path, csv)\n",
    "        csv_df = pd.read_csv(file_path)\n",
    "        df_list.append(csv_df)\n",
    "    \n",
    "    # concatenate all the dataframes\n",
    "    big_df = pd.concat(df_list, ignore_index=True)\n",
    "    # save the result in a csv\n",
    "    big_df.to_csv(file_name)"
   ],
   "metadata": {
    "ExecuteTime": {
     "end_time": "2023-12-20T09:13:55.421652Z",
     "start_time": "2023-12-20T09:13:55.416460Z"
    }
   },
   "id": "b0ce262da092ed65",
   "execution_count": 21
  },
  {
   "cell_type": "markdown",
   "source": [
    "# [do not run] Function to gather all nationalities\n",
    "\n",
    "First, make the below query:\n",
    "```\n",
    "# Fetch Wikidata ID for all composers who have one\n",
    "PREFIX marcRel: <http://id.loc.gov/vocabulary/relators/>\n",
    "PREFIX schema: <http://schema.org/>\n",
    "PREFIX skos: <http://www.w3.org/2004/02/skos/core#>\n",
    "\n",
    "SELECT ?composer ?skos WHERE {\n",
    "\t?composer schema:hasOccupation marcRel:cmp . #occupation of composer\n",
    "  \t?composer skos:exactMatch ?skos .\n",
    "  \tfilter contains(str(?skos), \"wiki\")\n",
    "}\n",
    "LIMIT 10000\n",
    "OFFSET 0\n",
    "```\n",
    "\n",
    "The result should be fewer than 10,000 composer wikidata IDs. If a query has over 10,000 results, download all the CSVs and combine them using the CSV concatenator above.\n",
    "\n",
    "Then run the below function with the CSV resulting from the query passed to `path_to_query_results`, and the `path_to_nationalities_csv` parameter set to the path to the file where the nationalities for each composer should be stored, for example `composer_nationalities.csv`.\n",
    "\n",
    "This is a tool used in the process of working with the data. However, since the resultant data has already been stored, it is not necessary to run it."
   ],
   "metadata": {
    "collapsed": false
   },
   "id": "77b8f73bbee47821"
  },
  {
   "cell_type": "code",
   "outputs": [],
   "source": [
    "def store_nationalities(path_to_query_results_csv, path_to_nationalities_pkl):\n",
    "    \"\"\"Creates a PKL listing all Carnegie composer IDs and all their nationalities, which are stored in a list.\"\"\"\n",
    "    nationalities_df = pd.read_csv(path_to_query_results_csv)\n",
    "    nationalities_df.insert(2, 'nationalities', pd.Series(dtype=str))\n",
    "    \n",
    "    for index in nationalities_df.index:\n",
    "            # isolate the data in the 'skos' row\n",
    "            wikidata_id = nationalities_df.loc[index, 'skos']\n",
    "            # isolate the unique wikidata item identifier beginning with 'Q'\n",
    "            wikidata_id = wikidata_id[wikidata_id.index('Q'):]\n",
    "            \n",
    "            # API call to wikidata to get the \"countries of citizenship\" for this item\n",
    "            request = requests.get(f'https://www.wikidata.org/w/rest.php/wikibase/v0/entities/items/{wikidata_id}/statements?property=P27')\n",
    "            if len(dict(request.json())) == 0:\n",
    "                request = requests.get(f'https://www.wikidata.org/w/rest.php/wikibase/v0/entities/items/{wikidata_id}/statements?property=P495')\n",
    "            \n",
    "            # create blank list to store nationalities\n",
    "            nationalities = []\n",
    "            \n",
    "            try:\n",
    "                # iterate through all countries of citizenship for the composer\n",
    "                for result in dict(request.json())['P27']:\n",
    "                    # store the nationality ID(s)\n",
    "                    nationalities.append(result['value']['content'])\n",
    "            # if the composer doesn't have a nationality\n",
    "            except KeyError:\n",
    "                # see if it's actually a musical group with an association to a specific country/countries\n",
    "                try:\n",
    "                    for result in dict(request.json())['P495']:\n",
    "                        # store the country ID(s)\n",
    "                        nationalities.append(result['value']['content'])\n",
    "                # if no associated countries found, add the value for \"statelessness\")\n",
    "                except KeyError:\n",
    "                    nationalities.append('Q223050')         # stateless\n",
    "            \n",
    "            # iterate through all the nationality IDs found\n",
    "            for i in range(len(nationalities)):\n",
    "                # convert the ID to the label for that country\n",
    "                nationalities[i] = requests.get(f'https://www.wikidata.org/w/rest.php/wikibase/v0/entities/items/{nationalities[i]}/labels/en').json()\n",
    "            \n",
    "            # store the result in the dataframe\n",
    "            nationalities_df.at[index, 'nationalities'] = nationalities\n",
    "    \n",
    "    # iterate through the nationalities\n",
    "    #for index in nationalities_df.index:\n",
    "    #    # convert to a string\n",
    "    #    nationalities_df.at[index, 'nationalities'] = nationalities_df.at[index, 'nationalities'].to_string()\n",
    "    \n",
    "    # Create and store a PKL based on the nationality data\n",
    "    nationalities_df.to_pickle(path_to_nationalities_pkl)\n",
    "\n",
    "store_nationalities('path/to/composers_wikidatas.csv', 'Data/composers_nationalities.pkl')"
   ],
   "metadata": {
    "collapsed": false,
    "ExecuteTime": {
     "end_time": "2023-12-21T23:31:48.704547Z",
     "start_time": "2023-12-21T23:03:47.741927Z"
    }
   },
   "id": "1f91b3c3d0a07de9",
   "execution_count": 26
  },
  {
   "cell_type": "markdown",
   "source": [
    "# [do not run] Function to format data"
   ],
   "metadata": {
    "id": "60f08ee3"
   },
   "id": "60f08ee3"
  },
  {
   "cell_type": "code",
   "outputs": [],
   "source": [
    "def add_to_event_info(column_name: str, item: str, event_df, base_df, row):\n",
    "    \"\"\"\n",
    "    adds a particular column to the sub-dataframe event_df\n",
    "    by looking at all the work rows in the base dataframe that are from the same event\n",
    "    \"\"\"\n",
    "\n",
    "    event_df[column_name] = base_df[base_df['event'] == row['event']][item]\n",
    "    return event_df\n",
    "\n",
    "def progress_indicator(index):\n",
    "    \"\"\"For the two processes that take a very long time to run,\n",
    "    this code will occasionally print a status update by seeing\n",
    "    if the current position in the 373,232 line csv matches a\n",
    "    landmark interval, and if so printing that interval (e.g.\n",
    "    10%, 90%)\"\"\"\n",
    "    pos = index / 373232\n",
    "    if 0.99 < pos < 0.9901:\n",
    "        print('Almost done!')\n",
    "    elif 0.9 < pos < 0.9001:\n",
    "        print('90%')\n",
    "    elif 0.8 < pos < 0.8001:\n",
    "        print('80%')\n",
    "    elif 0.7 < pos < 0.7001:\n",
    "        print('70%')\n",
    "    elif 0.6 < pos < 0.6001:\n",
    "        print('60%')\n",
    "    elif 0.5 < pos < 0.5001:\n",
    "        print('50%')\n",
    "    elif 0.4 < pos < 0.4001:\n",
    "        print('40%')\n",
    "    elif 0.3 < pos < 0.3001:\n",
    "        print('30%')\n",
    "    elif 0.2 < pos < 0.2001:\n",
    "        print('20%')\n",
    "    elif 0.1 < pos < 0.1001:\n",
    "        print('10%')\n",
    "    elif 0.01 < pos < 0.0101:\n",
    "        print('1% done!')\n",
    "    elif 0.001 < pos < 0.0011:\n",
    "        print('0.1% done!')\n",
    "\n",
    "def create_event_data(items_to_add, base_df, row, index):\n",
    "    progress_indicator(index)\n",
    "    event_data = pd.DataFrame()\n",
    "    for item in items_to_add:\n",
    "        event_data = add_to_event_info(item, item, event_data, base_df, row)\n",
    "    return event_data\n",
    "\n",
    "def cleaner(x, items_to_add):\n",
    "    \"\"\"\n",
    "    1. takes in an uncleaned dataframe x\n",
    "    2. creates the sub-dataframe event_data for each event with the information\n",
    "    pertaining to all the works in that event\n",
    "    3. removes redundant rows\n",
    "    4. adds new column for simple four digit year\n",
    "    5. cleans genreLabel column\n",
    "    6. returns cleaned dataframe\n",
    "    \"\"\"\n",
    "    \n",
    "    print('Step 1: Create event data')\n",
    "    x['event_data'] = [create_event_data(items_to_add, x, row, index) for index, row in x.iterrows()]\n",
    "    \n",
    "    print('Step 2: Get rid of duplicate rows')\n",
    "    events = []\n",
    "    for index, row in x.iterrows():\n",
    "        progress_indicator(index)\n",
    "        # get rid of multiple rows for the same event\n",
    "        if row['event'] in events:\n",
    "            x = x.drop(index)\n",
    "        else:\n",
    "            events.append(row['event'])\n",
    "    \n",
    "    print('Step 3: Adding additional columns')\n",
    "    # creates a simple year column of type int\n",
    "    x['year'] = [int(date[:4]) for date in x['date']]\n",
    "    # cleans the column genreLabel\n",
    "    x['genreLabel'] = x['genreLabel'].str.lower()\n",
    "    \n",
    "    print('DONE')\n",
    "\n",
    "    return x"
   ],
   "metadata": {
    "id": "d6f36b50",
    "ExecuteTime": {
     "end_time": "2023-12-21T19:22:59.960863Z",
     "start_time": "2023-12-21T19:22:59.952482Z"
    }
   },
   "id": "d6f36b50",
   "execution_count": 2
  },
  {
   "cell_type": "markdown",
   "source": [
    "# [do not run] Function to add nationalities to dataframe"
   ],
   "metadata": {
    "id": "ce9db74f"
   },
   "id": "ce9db74f"
  },
  {
   "cell_type": "code",
   "outputs": [],
   "source": [
    "def add_nationalities(input_df, col=6):\n",
    "    \"\"\"Combines nationality data csv and carnegie hall data csv together\"\"\"\n",
    "    # in the main list of event data, nationalities should be inserted in the 6th column\n",
    "    # however, in the list of all composers, nationality should be inserted in a different column\n",
    "    input_df.insert(col, \"nationalities\", pd.Series(dtype=str))\n",
    "    \n",
    "    names_with_nationalities = pd.read_pickle('Data/composers_nationalities.pkl')\n",
    "    \n",
    "    # Iterate through the dataframe, adding nationalities when possible\n",
    "    for index in input_df.index:\n",
    "        nationalities = names_with_nationalities.loc[names_with_nationalities['composer'] == input_df.loc[index, 'composer']]\n",
    "        nationalities = nationalities['nationalities']\n",
    "        try:\n",
    "            nationalities = nationalities.get(nationalities.keys()[0])\n",
    "        except IndexError:\n",
    "            nationalities = 'statelessness'\n",
    "        try:\n",
    "            input_df.at[index, 'nationalities'] = nationalities\n",
    "        except KeyError:\n",
    "            print(input_df.loc[index])\n",
    "    \n",
    "    return input_df"
   ],
   "metadata": {
    "ExecuteTime": {
     "end_time": "2023-12-22T00:17:14.208916Z",
     "start_time": "2023-12-22T00:17:14.185179Z"
    }
   },
   "id": "83c9dda35fb9d7b6",
   "execution_count": 40
  },
  {
   "cell_type": "markdown",
   "source": [
    "# [RUN] Graphing functions"
   ],
   "metadata": {
    "id": "18e97636"
   },
   "id": "18e97636"
  },
  {
   "cell_type": "code",
   "outputs": [],
   "source": [
    "def create_event_frequency_list(df, lookup_range, column, specific_value, normalize=False):\n",
    "    \"\"\"\n",
    "    Given a lookup_range of years, and a specific_value in a column to look for, this function\n",
    "    returns a list of frequencies of that specific_value per year.\n",
    "    \n",
    "    Note that specific_value must appear in column.\n",
    "    \n",
    "    Setting the normalize parameter to True will instead return a list of the proportions\n",
    "    count(specific_value)/total number of performances per year\n",
    "    \"\"\"\n",
    "    \n",
    "    # converts user inputs into column names in df\n",
    "    column_key = {'Genre': 'genreLabel', 'Nationality': 'nationalities', 'Work': 'workperformed', 'Composer': 'composer'}\n",
    "    column = column_key[column]\n",
    "    \n",
    "    # cleaning work to make sure everything matches up\n",
    "    if column == 'genreLabel':\n",
    "        specific_value = specific_value.lower()\n",
    "    elif column in ('workperformed', 'composer'):\n",
    "        specific_value = specific_value[specific_value.index('#') + 1:specific_value.index(')')]\n",
    "    \n",
    "    frequency_list = []\n",
    "    \n",
    "    \n",
    "    for year in lookup_range:\n",
    "\n",
    "        # if it has to do with works and not events (composer, nationality, etc.)\n",
    "        if column in df['event_data'][0].columns:\n",
    "\n",
    "            # create smaller dataframe with events only in that year to simplify\n",
    "            sub_df = df[df['year'] == year].copy()\n",
    "\n",
    "            # create a boolean column for whether the specific value can be found in a work performed at that event\n",
    "            has_value = []\n",
    "\n",
    "            # iterate through events in specific year\n",
    "            for index, row in sub_df.iterrows():\n",
    "                # isolate the entry in the column for the current event\n",
    "                important_column = sub_df['event_data'][index][column]\n",
    "\n",
    "                # check if the desired value is present in the column entry\n",
    "                # for nationalities, need to check if any of the desired nations are present in the column\n",
    "                if column == 'nationalities':\n",
    "                    # assume not present\n",
    "                    any_nationality_present = False\n",
    "                    # iterate through nations\n",
    "                    for nation in specific_value:\n",
    "                        # if a matching nation is found\n",
    "                        if nation in important_column.to_string():\n",
    "                            # mark that this nationality group is present for this event\n",
    "                            any_nationality_present = True\n",
    "                            # stop searching for matches in this event\n",
    "                            break\n",
    "                    # add the boolean storing whether this nationality group was present for this event\n",
    "                    has_value.append(any_nationality_present)\n",
    "                else:\n",
    "                    # add the boolean storing whether the desired value was present for this event\n",
    "                    has_value.append(f\"/{specific_value}\" in important_column.to_string())\n",
    "                    \n",
    "\n",
    "            if column == 'nationalities':\n",
    "                sub_df[specific_value[0]] = has_value\n",
    "            else:\n",
    "                sub_df[specific_value] = has_value\n",
    "\n",
    "            # create the frequency list\n",
    "            try:  # if the desired event has occurred in this year, add the number of times it occurred\n",
    "                if column == 'nationalities':\n",
    "                    frequency_list.append(sub_df.value_counts(specific_value[0], normalize=normalize).to_dict()[True])\n",
    "                else:\n",
    "                    frequency_list.append(sub_df.value_counts(specific_value, normalize=normalize).to_dict()[True])\n",
    "            except KeyError:  # if the desired event has not occurred in this year\n",
    "                frequency_list.append(0)\n",
    "\n",
    "        # if it has to do with events (genre, work, etc)\n",
    "        else:\n",
    "            # get a dictionary of the frequencies\n",
    "            attribute_counts = df[df['year'] == year].value_counts(column, normalize=normalize)\n",
    "\n",
    "            # getting the count for the specific value\n",
    "            try:\n",
    "                if column == 'nationalities':\n",
    "                    frequency_list.append(attribute_counts[specific_value[0]])\n",
    "                else:\n",
    "                    frequency_list.append(attribute_counts[specific_value])\n",
    "            except KeyError:\n",
    "                frequency_list.append(0)\n",
    "\n",
    "    return frequency_list\n",
    "\n",
    "\n",
    "def make_bar_chart(df, column, specific_value, lookup_range=(0, 0), normalize=False):\n",
    "    \"\"\"\n",
    "    make a bar chart of the frequency of \"specific_value\", which is a value in \"column\" over \"lookup_range\" years\n",
    "    \n",
    "    Note: if normalize=True it will instead return a bar chart of proportions\n",
    "    \"\"\"\n",
    "    # Create a DataFrame for bar chart\n",
    "\n",
    "    # years is the x-axis\n",
    "    # this first if statement allows you to make the chart for a subset of the years\n",
    "    if lookup_range != (0, 0):\n",
    "        years = []\n",
    "        for year in range(lookup_range[0], lookup_range[1] + 1):\n",
    "            years.append(year)\n",
    "\n",
    "    else:\n",
    "        years = list(set(df['year'].to_list()))\n",
    "\n",
    "\n",
    "    # list of frequencies\n",
    "    frequency = create_event_frequency_list(df, years, column, specific_value, normalize)\n",
    "\n",
    "\n",
    "    bar_data = {'Years': years,\n",
    "                'frequency': frequency}\n",
    "    df_bar = pd.DataFrame(bar_data)\n",
    "\n",
    "    # The barchart with Plotly Express specifying the source df, the columns to use as x and y axes,\n",
    "    # labels to use for those axes, and an overall title for the figure\n",
    "\n",
    "    fig = px.bar(df_bar,\n",
    "                 x = 'Years', y= 'frequency',\n",
    "                 labels={'Years': 'Years', 'frequency': f'Performances of {column.title()}: {specific_value}'},\n",
    "                 title=f'Performances of {column.title()}: {specific_value} by Year',\n",
    "                )\n",
    "    # Set width and height in pixels\n",
    "    fig.update_layout(width=600, height=400)\n",
    "    fig.show()"
   ],
   "metadata": {
    "id": "eaea371c",
    "ExecuteTime": {
     "end_time": "2023-12-22T02:39:30.553597Z",
     "start_time": "2023-12-22T02:39:30.541830Z"
    }
   },
   "id": "eaea371c",
   "execution_count": 14
  },
  {
   "cell_type": "markdown",
   "source": [
    "# [do not run] Store results from the query in a .pkl file\n",
    "\n",
    "This processes the data queried from the Carnegie SPARQL service and stores the result in a `.pkl` file. Unlike a CSV, a pickle file retains the information contained in a dataframe, such as item types, so that the data can be more easily processed when it is uploaded and used in the Streamlit app."
   ],
   "metadata": {
    "collapsed": false
   },
   "id": "ec833d7dc8cf7700"
  },
  {
   "cell_type": "code",
   "outputs": [],
   "source": [
    "# read the CSV containing all event data (the concatenation of all the (38!) SPARQL queries)\n",
    "df = pd.read_csv(\"events_list.csv\")\n",
    "\n",
    "# the columns that need to be added to our new dataframe for each event\n",
    "items_to_add = ['workperformed', 'composerName', 'nationalities']\n",
    "\n",
    "# add the nationalities to the dataframe\n",
    "df = add_nationalities(df)"
   ],
   "metadata": {
    "collapsed": false
   },
   "id": "3b99a3aa04e23409",
   "execution_count": 0
  },
  {
   "cell_type": "markdown",
   "source": [
    "The cleaner data processes the data in the way that is easiest for us to read when creating graphs. However, it has an extreme computational cost: to process the 380,000+ rows of data returned by all the SPARQL queries necessary to gather the entire Carnegie Hall dataset, this cleaner function takes just under **12 hours** to run."
   ],
   "metadata": {
    "collapsed": false
   },
   "id": "674d581a7d29eaeb"
  },
  {
   "cell_type": "code",
   "outputs": [],
   "source": [
    "# This line of code is the most computationally intensive, and can take many hours to run.\n",
    "data = cleaner(df, items_to_add)"
   ],
   "metadata": {},
   "id": "e1fb4ef51c61741c",
   "execution_count": null
  },
  {
   "cell_type": "code",
   "outputs": [],
   "source": [
    "# Store the dataframe resulting from the cleaner into a pickle file, which maintains the dataframe characteristics better than a CSV\n",
    "data.to_pickle('Data/event_data.pkl')"
   ],
   "metadata": {
    "collapsed": false
   },
   "id": "6112a6b6c91e696c",
   "execution_count": null
  },
  {
   "cell_type": "markdown",
   "source": [
    "# [RUN] Demo\n",
    "\n",
    "Enter your own parameters in `make_bar_chart` for attribute and value."
   ],
   "metadata": {
    "collapsed": false
   },
   "id": "fd9e108093401a3c"
  },
  {
   "cell_type": "code",
   "outputs": [
    {
     "name": "stdout",
     "output_type": "stream",
     "text": [
      "68080\n",
      "- 2005 -\n",
      "304090    http://data.carnegiehall.org/works/46169\n",
      "304091    http://data.carnegiehall.org/works/91426\n",
      "304092    http://data.carnegiehall.org/works/44234\n",
      "304093    http://data.carnegiehall.org/works/68079\n",
      "304094    http://data.carnegiehall.org/works/45814\n",
      "304095    http://data.carnegiehall.org/works/68080\n",
      "304096       http://data.carnegiehall.org/works/68\n",
      "304097    http://data.carnegiehall.org/works/68086\n",
      "304098    http://data.carnegiehall.org/works/68085\n",
      "304099    http://data.carnegiehall.org/works/68084\n",
      "304100    http://data.carnegiehall.org/works/55702\n",
      "304101    http://data.carnegiehall.org/works/42288\n",
      "304102     http://data.carnegiehall.org/works/2617\n",
      "304103     http://data.carnegiehall.org/works/9760\n",
      "304104    http://data.carnegiehall.org/works/31014\n",
      "304105    http://data.carnegiehall.org/works/31899\n",
      "304106    http://data.carnegiehall.org/works/68081\n",
      "304107    http://data.carnegiehall.org/works/25688\n",
      "304108    http://data.carnegiehall.org/works/15727\n",
      "304109    http://data.carnegiehall.org/works/15727\n",
      "304110    http://data.carnegiehall.org/works/68083\n",
      "304111     http://data.carnegiehall.org/works/8204\n",
      "304112    http://data.carnegiehall.org/works/27865\n",
      "304113    http://data.carnegiehall.org/works/37953\n",
      "304114    http://data.carnegiehall.org/works/46568\n",
      "304115    http://data.carnegiehall.org/works/48005\n",
      "304116    http://data.carnegiehall.org/works/39805\n",
      "304117    http://data.carnegiehall.org/works/43447\n",
      "##################################################\n",
      "68080\n",
      "- 2012 -\n",
      "134748    http://data.carnegiehall.org/works/44234\n",
      "134749    http://data.carnegiehall.org/works/37439\n",
      "134750    http://data.carnegiehall.org/works/29503\n",
      "134751    http://data.carnegiehall.org/works/45814\n",
      "134752    http://data.carnegiehall.org/works/85214\n",
      "134753      http://data.carnegiehall.org/works/157\n",
      "134754    http://data.carnegiehall.org/works/85213\n",
      "134755    http://data.carnegiehall.org/works/46859\n",
      "134756    http://data.carnegiehall.org/works/85209\n",
      "134757    http://data.carnegiehall.org/works/12509\n",
      "134758    http://data.carnegiehall.org/works/68080\n",
      "134759    http://data.carnegiehall.org/works/10998\n",
      "134760     http://data.carnegiehall.org/works/3932\n",
      "134761    http://data.carnegiehall.org/works/85210\n",
      "134762     http://data.carnegiehall.org/works/9535\n",
      "134763     http://data.carnegiehall.org/works/1491\n",
      "134764    http://data.carnegiehall.org/works/85212\n",
      "134765    http://data.carnegiehall.org/works/85211\n",
      "134766    http://data.carnegiehall.org/works/39261\n",
      "134767    http://data.carnegiehall.org/works/70040\n",
      "134768    http://data.carnegiehall.org/works/34606\n",
      "134769    http://data.carnegiehall.org/works/82111\n",
      "134770    http://data.carnegiehall.org/works/42087\n",
      "##################################################\n",
      "68080\n",
      "- 2013 -\n",
      "41509    http://data.carnegiehall.org/works/44234\n",
      "41510    http://data.carnegiehall.org/works/33081\n",
      "41511    http://data.carnegiehall.org/works/87283\n",
      "41512    http://data.carnegiehall.org/works/87280\n",
      "41513    http://data.carnegiehall.org/works/68080\n",
      "41514    http://data.carnegiehall.org/works/41930\n",
      "41515    http://data.carnegiehall.org/works/87277\n",
      "41516     http://data.carnegiehall.org/works/3388\n",
      "41517    http://data.carnegiehall.org/works/30684\n",
      "41518    http://data.carnegiehall.org/works/87279\n",
      "41519    http://data.carnegiehall.org/works/39439\n",
      "41520    http://data.carnegiehall.org/works/87282\n",
      "41521    http://data.carnegiehall.org/works/87274\n",
      "41522    http://data.carnegiehall.org/works/73070\n",
      "41523    http://data.carnegiehall.org/works/17376\n",
      "41524    http://data.carnegiehall.org/works/87273\n",
      "41525    http://data.carnegiehall.org/works/87275\n",
      "41526    http://data.carnegiehall.org/works/87284\n",
      "41527    http://data.carnegiehall.org/works/43897\n",
      "41528    http://data.carnegiehall.org/works/80057\n",
      "41529    http://data.carnegiehall.org/works/80053\n",
      "41530    http://data.carnegiehall.org/works/79628\n",
      "41531    http://data.carnegiehall.org/works/87278\n",
      "41532    http://data.carnegiehall.org/works/87281\n",
      "41533    http://data.carnegiehall.org/works/64394\n",
      "41534    http://data.carnegiehall.org/works/85755\n",
      "##################################################\n"
     ]
    },
    {
     "data": {
      "application/vnd.plotly.v1+json": {
       "data": [
        {
         "alignmentgroup": "True",
         "hovertemplate": "Years=%{x}<br>Performances of Work: (#68080)=%{y}<extra></extra>",
         "legendgroup": "",
         "marker": {
          "color": "#636efa",
          "pattern": {
           "shape": ""
          }
         },
         "name": "",
         "offsetgroup": "",
         "orientation": "v",
         "showlegend": false,
         "textposition": "auto",
         "x": [
          1891,
          1892,
          1893,
          1894,
          1895,
          1896,
          1897,
          1898,
          1899,
          1900,
          1901,
          1902,
          1903,
          1904,
          1905,
          1906,
          1907,
          1908,
          1909,
          1910,
          1911,
          1912,
          1913,
          1914,
          1915,
          1916,
          1917,
          1918,
          1919,
          1920,
          1921,
          1922,
          1923,
          1924,
          1925,
          1926,
          1927,
          1928,
          1929,
          1930,
          1931,
          1932,
          1933,
          1934,
          1935,
          1936,
          1937,
          1938,
          1939,
          1940,
          1941,
          1942,
          1943,
          1944,
          1945,
          1946,
          1947,
          1948,
          1949,
          1950,
          1951,
          1952,
          1953,
          1954,
          1955,
          1956,
          1957,
          1958,
          1959,
          1960,
          1961,
          1962,
          1963,
          1964,
          1965,
          1966,
          1967,
          1968,
          1969,
          1970,
          1971,
          1972,
          1973,
          1974,
          1975,
          1976,
          1977,
          1978,
          1979,
          1980,
          1981,
          1982,
          1983,
          1984,
          1985,
          1986,
          1987,
          1988,
          1989,
          1990,
          1991,
          1992,
          1993,
          1994,
          1995,
          1996,
          1997,
          1998,
          1999,
          2000,
          2001,
          2002,
          2003,
          2004,
          2005,
          2006,
          2007,
          2008,
          2009,
          2010,
          2011,
          2012,
          2013,
          2014,
          2015,
          2016,
          2017,
          2018,
          2019,
          2020,
          2021,
          2022,
          2023
         ],
         "xaxis": "x",
         "y": [
          0,
          0,
          0,
          0,
          0,
          0,
          0,
          0,
          0,
          0,
          0,
          0,
          0,
          0,
          0,
          0,
          0,
          0,
          0,
          0,
          0,
          0,
          0,
          0,
          0,
          0,
          0,
          0,
          1,
          0,
          0,
          0,
          0,
          0,
          0,
          0,
          0,
          0,
          0,
          0,
          0,
          0,
          0,
          0,
          0,
          0,
          0,
          0,
          0,
          0,
          0,
          0,
          0,
          0,
          0,
          0,
          0,
          0,
          0,
          0,
          0,
          0,
          0,
          0,
          0,
          0,
          0,
          0,
          0,
          0,
          0,
          0,
          0,
          0,
          0,
          0,
          0,
          0,
          0,
          0,
          0,
          0,
          0,
          0,
          0,
          0,
          0,
          0,
          0,
          0,
          0,
          0,
          0,
          0,
          0,
          0,
          0,
          0,
          0,
          0,
          0,
          0,
          0,
          0,
          0,
          0,
          0,
          0,
          0,
          1,
          0,
          0,
          0,
          0,
          1,
          0,
          1,
          0,
          0,
          0,
          0,
          1,
          1,
          0,
          0,
          0,
          0,
          0,
          0,
          1,
          0,
          0,
          0
         ],
         "yaxis": "y",
         "type": "bar"
        }
       ],
       "layout": {
        "template": {
         "data": {
          "histogram2dcontour": [
           {
            "type": "histogram2dcontour",
            "colorbar": {
             "outlinewidth": 0,
             "ticks": ""
            },
            "colorscale": [
             [
              0.0,
              "#0d0887"
             ],
             [
              0.1111111111111111,
              "#46039f"
             ],
             [
              0.2222222222222222,
              "#7201a8"
             ],
             [
              0.3333333333333333,
              "#9c179e"
             ],
             [
              0.4444444444444444,
              "#bd3786"
             ],
             [
              0.5555555555555556,
              "#d8576b"
             ],
             [
              0.6666666666666666,
              "#ed7953"
             ],
             [
              0.7777777777777778,
              "#fb9f3a"
             ],
             [
              0.8888888888888888,
              "#fdca26"
             ],
             [
              1.0,
              "#f0f921"
             ]
            ]
           }
          ],
          "choropleth": [
           {
            "type": "choropleth",
            "colorbar": {
             "outlinewidth": 0,
             "ticks": ""
            }
           }
          ],
          "histogram2d": [
           {
            "type": "histogram2d",
            "colorbar": {
             "outlinewidth": 0,
             "ticks": ""
            },
            "colorscale": [
             [
              0.0,
              "#0d0887"
             ],
             [
              0.1111111111111111,
              "#46039f"
             ],
             [
              0.2222222222222222,
              "#7201a8"
             ],
             [
              0.3333333333333333,
              "#9c179e"
             ],
             [
              0.4444444444444444,
              "#bd3786"
             ],
             [
              0.5555555555555556,
              "#d8576b"
             ],
             [
              0.6666666666666666,
              "#ed7953"
             ],
             [
              0.7777777777777778,
              "#fb9f3a"
             ],
             [
              0.8888888888888888,
              "#fdca26"
             ],
             [
              1.0,
              "#f0f921"
             ]
            ]
           }
          ],
          "heatmap": [
           {
            "type": "heatmap",
            "colorbar": {
             "outlinewidth": 0,
             "ticks": ""
            },
            "colorscale": [
             [
              0.0,
              "#0d0887"
             ],
             [
              0.1111111111111111,
              "#46039f"
             ],
             [
              0.2222222222222222,
              "#7201a8"
             ],
             [
              0.3333333333333333,
              "#9c179e"
             ],
             [
              0.4444444444444444,
              "#bd3786"
             ],
             [
              0.5555555555555556,
              "#d8576b"
             ],
             [
              0.6666666666666666,
              "#ed7953"
             ],
             [
              0.7777777777777778,
              "#fb9f3a"
             ],
             [
              0.8888888888888888,
              "#fdca26"
             ],
             [
              1.0,
              "#f0f921"
             ]
            ]
           }
          ],
          "heatmapgl": [
           {
            "type": "heatmapgl",
            "colorbar": {
             "outlinewidth": 0,
             "ticks": ""
            },
            "colorscale": [
             [
              0.0,
              "#0d0887"
             ],
             [
              0.1111111111111111,
              "#46039f"
             ],
             [
              0.2222222222222222,
              "#7201a8"
             ],
             [
              0.3333333333333333,
              "#9c179e"
             ],
             [
              0.4444444444444444,
              "#bd3786"
             ],
             [
              0.5555555555555556,
              "#d8576b"
             ],
             [
              0.6666666666666666,
              "#ed7953"
             ],
             [
              0.7777777777777778,
              "#fb9f3a"
             ],
             [
              0.8888888888888888,
              "#fdca26"
             ],
             [
              1.0,
              "#f0f921"
             ]
            ]
           }
          ],
          "contourcarpet": [
           {
            "type": "contourcarpet",
            "colorbar": {
             "outlinewidth": 0,
             "ticks": ""
            }
           }
          ],
          "contour": [
           {
            "type": "contour",
            "colorbar": {
             "outlinewidth": 0,
             "ticks": ""
            },
            "colorscale": [
             [
              0.0,
              "#0d0887"
             ],
             [
              0.1111111111111111,
              "#46039f"
             ],
             [
              0.2222222222222222,
              "#7201a8"
             ],
             [
              0.3333333333333333,
              "#9c179e"
             ],
             [
              0.4444444444444444,
              "#bd3786"
             ],
             [
              0.5555555555555556,
              "#d8576b"
             ],
             [
              0.6666666666666666,
              "#ed7953"
             ],
             [
              0.7777777777777778,
              "#fb9f3a"
             ],
             [
              0.8888888888888888,
              "#fdca26"
             ],
             [
              1.0,
              "#f0f921"
             ]
            ]
           }
          ],
          "surface": [
           {
            "type": "surface",
            "colorbar": {
             "outlinewidth": 0,
             "ticks": ""
            },
            "colorscale": [
             [
              0.0,
              "#0d0887"
             ],
             [
              0.1111111111111111,
              "#46039f"
             ],
             [
              0.2222222222222222,
              "#7201a8"
             ],
             [
              0.3333333333333333,
              "#9c179e"
             ],
             [
              0.4444444444444444,
              "#bd3786"
             ],
             [
              0.5555555555555556,
              "#d8576b"
             ],
             [
              0.6666666666666666,
              "#ed7953"
             ],
             [
              0.7777777777777778,
              "#fb9f3a"
             ],
             [
              0.8888888888888888,
              "#fdca26"
             ],
             [
              1.0,
              "#f0f921"
             ]
            ]
           }
          ],
          "mesh3d": [
           {
            "type": "mesh3d",
            "colorbar": {
             "outlinewidth": 0,
             "ticks": ""
            }
           }
          ],
          "scatter": [
           {
            "marker": {
             "line": {
              "color": "#283442"
             }
            },
            "type": "scatter"
           }
          ],
          "parcoords": [
           {
            "type": "parcoords",
            "line": {
             "colorbar": {
              "outlinewidth": 0,
              "ticks": ""
             }
            }
           }
          ],
          "scatterpolargl": [
           {
            "type": "scatterpolargl",
            "marker": {
             "colorbar": {
              "outlinewidth": 0,
              "ticks": ""
             }
            }
           }
          ],
          "bar": [
           {
            "error_x": {
             "color": "#f2f5fa"
            },
            "error_y": {
             "color": "#f2f5fa"
            },
            "marker": {
             "line": {
              "color": "rgb(17,17,17)",
              "width": 0.5
             },
             "pattern": {
              "fillmode": "overlay",
              "size": 10,
              "solidity": 0.2
             }
            },
            "type": "bar"
           }
          ],
          "scattergeo": [
           {
            "type": "scattergeo",
            "marker": {
             "colorbar": {
              "outlinewidth": 0,
              "ticks": ""
             }
            }
           }
          ],
          "scatterpolar": [
           {
            "type": "scatterpolar",
            "marker": {
             "colorbar": {
              "outlinewidth": 0,
              "ticks": ""
             }
            }
           }
          ],
          "histogram": [
           {
            "marker": {
             "pattern": {
              "fillmode": "overlay",
              "size": 10,
              "solidity": 0.2
             }
            },
            "type": "histogram"
           }
          ],
          "scattergl": [
           {
            "marker": {
             "line": {
              "color": "#283442"
             }
            },
            "type": "scattergl"
           }
          ],
          "scatter3d": [
           {
            "type": "scatter3d",
            "line": {
             "colorbar": {
              "outlinewidth": 0,
              "ticks": ""
             }
            },
            "marker": {
             "colorbar": {
              "outlinewidth": 0,
              "ticks": ""
             }
            }
           }
          ],
          "scattermapbox": [
           {
            "type": "scattermapbox",
            "marker": {
             "colorbar": {
              "outlinewidth": 0,
              "ticks": ""
             }
            }
           }
          ],
          "scatterternary": [
           {
            "type": "scatterternary",
            "marker": {
             "colorbar": {
              "outlinewidth": 0,
              "ticks": ""
             }
            }
           }
          ],
          "scattercarpet": [
           {
            "type": "scattercarpet",
            "marker": {
             "colorbar": {
              "outlinewidth": 0,
              "ticks": ""
             }
            }
           }
          ],
          "carpet": [
           {
            "aaxis": {
             "endlinecolor": "#A2B1C6",
             "gridcolor": "#506784",
             "linecolor": "#506784",
             "minorgridcolor": "#506784",
             "startlinecolor": "#A2B1C6"
            },
            "baxis": {
             "endlinecolor": "#A2B1C6",
             "gridcolor": "#506784",
             "linecolor": "#506784",
             "minorgridcolor": "#506784",
             "startlinecolor": "#A2B1C6"
            },
            "type": "carpet"
           }
          ],
          "table": [
           {
            "cells": {
             "fill": {
              "color": "#506784"
             },
             "line": {
              "color": "rgb(17,17,17)"
             }
            },
            "header": {
             "fill": {
              "color": "#2a3f5f"
             },
             "line": {
              "color": "rgb(17,17,17)"
             }
            },
            "type": "table"
           }
          ],
          "barpolar": [
           {
            "marker": {
             "line": {
              "color": "rgb(17,17,17)",
              "width": 0.5
             },
             "pattern": {
              "fillmode": "overlay",
              "size": 10,
              "solidity": 0.2
             }
            },
            "type": "barpolar"
           }
          ],
          "pie": [
           {
            "automargin": true,
            "type": "pie"
           }
          ]
         },
         "layout": {
          "autotypenumbers": "strict",
          "colorway": [
           "#636efa",
           "#EF553B",
           "#00cc96",
           "#ab63fa",
           "#FFA15A",
           "#19d3f3",
           "#FF6692",
           "#B6E880",
           "#FF97FF",
           "#FECB52"
          ],
          "font": {
           "color": "#f2f5fa"
          },
          "hovermode": "closest",
          "hoverlabel": {
           "align": "left"
          },
          "paper_bgcolor": "rgb(17,17,17)",
          "plot_bgcolor": "rgb(17,17,17)",
          "polar": {
           "bgcolor": "rgb(17,17,17)",
           "angularaxis": {
            "gridcolor": "#506784",
            "linecolor": "#506784",
            "ticks": ""
           },
           "radialaxis": {
            "gridcolor": "#506784",
            "linecolor": "#506784",
            "ticks": ""
           }
          },
          "ternary": {
           "bgcolor": "rgb(17,17,17)",
           "aaxis": {
            "gridcolor": "#506784",
            "linecolor": "#506784",
            "ticks": ""
           },
           "baxis": {
            "gridcolor": "#506784",
            "linecolor": "#506784",
            "ticks": ""
           },
           "caxis": {
            "gridcolor": "#506784",
            "linecolor": "#506784",
            "ticks": ""
           }
          },
          "coloraxis": {
           "colorbar": {
            "outlinewidth": 0,
            "ticks": ""
           }
          },
          "colorscale": {
           "sequential": [
            [
             0.0,
             "#0d0887"
            ],
            [
             0.1111111111111111,
             "#46039f"
            ],
            [
             0.2222222222222222,
             "#7201a8"
            ],
            [
             0.3333333333333333,
             "#9c179e"
            ],
            [
             0.4444444444444444,
             "#bd3786"
            ],
            [
             0.5555555555555556,
             "#d8576b"
            ],
            [
             0.6666666666666666,
             "#ed7953"
            ],
            [
             0.7777777777777778,
             "#fb9f3a"
            ],
            [
             0.8888888888888888,
             "#fdca26"
            ],
            [
             1.0,
             "#f0f921"
            ]
           ],
           "sequentialminus": [
            [
             0.0,
             "#0d0887"
            ],
            [
             0.1111111111111111,
             "#46039f"
            ],
            [
             0.2222222222222222,
             "#7201a8"
            ],
            [
             0.3333333333333333,
             "#9c179e"
            ],
            [
             0.4444444444444444,
             "#bd3786"
            ],
            [
             0.5555555555555556,
             "#d8576b"
            ],
            [
             0.6666666666666666,
             "#ed7953"
            ],
            [
             0.7777777777777778,
             "#fb9f3a"
            ],
            [
             0.8888888888888888,
             "#fdca26"
            ],
            [
             1.0,
             "#f0f921"
            ]
           ],
           "diverging": [
            [
             0,
             "#8e0152"
            ],
            [
             0.1,
             "#c51b7d"
            ],
            [
             0.2,
             "#de77ae"
            ],
            [
             0.3,
             "#f1b6da"
            ],
            [
             0.4,
             "#fde0ef"
            ],
            [
             0.5,
             "#f7f7f7"
            ],
            [
             0.6,
             "#e6f5d0"
            ],
            [
             0.7,
             "#b8e186"
            ],
            [
             0.8,
             "#7fbc41"
            ],
            [
             0.9,
             "#4d9221"
            ],
            [
             1,
             "#276419"
            ]
           ]
          },
          "xaxis": {
           "gridcolor": "#283442",
           "linecolor": "#506784",
           "ticks": "",
           "title": {
            "standoff": 15
           },
           "zerolinecolor": "#283442",
           "automargin": true,
           "zerolinewidth": 2
          },
          "yaxis": {
           "gridcolor": "#283442",
           "linecolor": "#506784",
           "ticks": "",
           "title": {
            "standoff": 15
           },
           "zerolinecolor": "#283442",
           "automargin": true,
           "zerolinewidth": 2
          },
          "scene": {
           "xaxis": {
            "backgroundcolor": "rgb(17,17,17)",
            "gridcolor": "#506784",
            "linecolor": "#506784",
            "showbackground": true,
            "ticks": "",
            "zerolinecolor": "#C8D4E3",
            "gridwidth": 2
           },
           "yaxis": {
            "backgroundcolor": "rgb(17,17,17)",
            "gridcolor": "#506784",
            "linecolor": "#506784",
            "showbackground": true,
            "ticks": "",
            "zerolinecolor": "#C8D4E3",
            "gridwidth": 2
           },
           "zaxis": {
            "backgroundcolor": "rgb(17,17,17)",
            "gridcolor": "#506784",
            "linecolor": "#506784",
            "showbackground": true,
            "ticks": "",
            "zerolinecolor": "#C8D4E3",
            "gridwidth": 2
           }
          },
          "shapedefaults": {
           "line": {
            "color": "#f2f5fa"
           }
          },
          "annotationdefaults": {
           "arrowcolor": "#f2f5fa",
           "arrowhead": 0,
           "arrowwidth": 1
          },
          "geo": {
           "bgcolor": "rgb(17,17,17)",
           "landcolor": "rgb(17,17,17)",
           "subunitcolor": "#506784",
           "showland": true,
           "showlakes": true,
           "lakecolor": "rgb(17,17,17)"
          },
          "title": {
           "x": 0.05
          },
          "updatemenudefaults": {
           "bgcolor": "#506784",
           "borderwidth": 0
          },
          "sliderdefaults": {
           "bgcolor": "#C8D4E3",
           "borderwidth": 1,
           "bordercolor": "rgb(17,17,17)",
           "tickwidth": 0
          },
          "mapbox": {
           "style": "dark"
          }
         }
        },
        "xaxis": {
         "anchor": "y",
         "domain": [
          0.0,
          1.0
         ],
         "title": {
          "text": "Years"
         }
        },
        "yaxis": {
         "anchor": "x",
         "domain": [
          0.0,
          1.0
         ],
         "title": {
          "text": "Performances of Work: (#68080)"
         }
        },
        "legend": {
         "tracegroupgap": 0
        },
        "title": {
         "text": "Performances of Work: (#68080) by Year"
        },
        "barmode": "relative",
        "width": 600,
        "height": 400
       },
       "config": {
        "plotlyServerURL": "https://plot.ly"
       }
      },
      "text/html": "<div>                            <div id=\"193238ba-7186-4bc8-a232-4a660eadcb50\" class=\"plotly-graph-div\" style=\"height:400px; width:600px;\"></div>            <script type=\"text/javascript\">                require([\"plotly\"], function(Plotly) {                    window.PLOTLYENV=window.PLOTLYENV || {};                                    if (document.getElementById(\"193238ba-7186-4bc8-a232-4a660eadcb50\")) {                    Plotly.newPlot(                        \"193238ba-7186-4bc8-a232-4a660eadcb50\",                        [{\"alignmentgroup\":\"True\",\"hovertemplate\":\"Years=%{x}\\u003cbr\\u003ePerformances of Work: (#68080)=%{y}\\u003cextra\\u003e\\u003c\\u002fextra\\u003e\",\"legendgroup\":\"\",\"marker\":{\"color\":\"#636efa\",\"pattern\":{\"shape\":\"\"}},\"name\":\"\",\"offsetgroup\":\"\",\"orientation\":\"v\",\"showlegend\":false,\"textposition\":\"auto\",\"x\":[1891,1892,1893,1894,1895,1896,1897,1898,1899,1900,1901,1902,1903,1904,1905,1906,1907,1908,1909,1910,1911,1912,1913,1914,1915,1916,1917,1918,1919,1920,1921,1922,1923,1924,1925,1926,1927,1928,1929,1930,1931,1932,1933,1934,1935,1936,1937,1938,1939,1940,1941,1942,1943,1944,1945,1946,1947,1948,1949,1950,1951,1952,1953,1954,1955,1956,1957,1958,1959,1960,1961,1962,1963,1964,1965,1966,1967,1968,1969,1970,1971,1972,1973,1974,1975,1976,1977,1978,1979,1980,1981,1982,1983,1984,1985,1986,1987,1988,1989,1990,1991,1992,1993,1994,1995,1996,1997,1998,1999,2000,2001,2002,2003,2004,2005,2006,2007,2008,2009,2010,2011,2012,2013,2014,2015,2016,2017,2018,2019,2020,2021,2022,2023],\"xaxis\":\"x\",\"y\":[0,0,0,0,0,0,0,0,0,0,0,0,0,0,0,0,0,0,0,0,0,0,0,0,0,0,0,0,1,0,0,0,0,0,0,0,0,0,0,0,0,0,0,0,0,0,0,0,0,0,0,0,0,0,0,0,0,0,0,0,0,0,0,0,0,0,0,0,0,0,0,0,0,0,0,0,0,0,0,0,0,0,0,0,0,0,0,0,0,0,0,0,0,0,0,0,0,0,0,0,0,0,0,0,0,0,0,0,0,1,0,0,0,0,1,0,1,0,0,0,0,1,1,0,0,0,0,0,0,1,0,0,0],\"yaxis\":\"y\",\"type\":\"bar\"}],                        {\"template\":{\"data\":{\"histogram2dcontour\":[{\"type\":\"histogram2dcontour\",\"colorbar\":{\"outlinewidth\":0,\"ticks\":\"\"},\"colorscale\":[[0.0,\"#0d0887\"],[0.1111111111111111,\"#46039f\"],[0.2222222222222222,\"#7201a8\"],[0.3333333333333333,\"#9c179e\"],[0.4444444444444444,\"#bd3786\"],[0.5555555555555556,\"#d8576b\"],[0.6666666666666666,\"#ed7953\"],[0.7777777777777778,\"#fb9f3a\"],[0.8888888888888888,\"#fdca26\"],[1.0,\"#f0f921\"]]}],\"choropleth\":[{\"type\":\"choropleth\",\"colorbar\":{\"outlinewidth\":0,\"ticks\":\"\"}}],\"histogram2d\":[{\"type\":\"histogram2d\",\"colorbar\":{\"outlinewidth\":0,\"ticks\":\"\"},\"colorscale\":[[0.0,\"#0d0887\"],[0.1111111111111111,\"#46039f\"],[0.2222222222222222,\"#7201a8\"],[0.3333333333333333,\"#9c179e\"],[0.4444444444444444,\"#bd3786\"],[0.5555555555555556,\"#d8576b\"],[0.6666666666666666,\"#ed7953\"],[0.7777777777777778,\"#fb9f3a\"],[0.8888888888888888,\"#fdca26\"],[1.0,\"#f0f921\"]]}],\"heatmap\":[{\"type\":\"heatmap\",\"colorbar\":{\"outlinewidth\":0,\"ticks\":\"\"},\"colorscale\":[[0.0,\"#0d0887\"],[0.1111111111111111,\"#46039f\"],[0.2222222222222222,\"#7201a8\"],[0.3333333333333333,\"#9c179e\"],[0.4444444444444444,\"#bd3786\"],[0.5555555555555556,\"#d8576b\"],[0.6666666666666666,\"#ed7953\"],[0.7777777777777778,\"#fb9f3a\"],[0.8888888888888888,\"#fdca26\"],[1.0,\"#f0f921\"]]}],\"heatmapgl\":[{\"type\":\"heatmapgl\",\"colorbar\":{\"outlinewidth\":0,\"ticks\":\"\"},\"colorscale\":[[0.0,\"#0d0887\"],[0.1111111111111111,\"#46039f\"],[0.2222222222222222,\"#7201a8\"],[0.3333333333333333,\"#9c179e\"],[0.4444444444444444,\"#bd3786\"],[0.5555555555555556,\"#d8576b\"],[0.6666666666666666,\"#ed7953\"],[0.7777777777777778,\"#fb9f3a\"],[0.8888888888888888,\"#fdca26\"],[1.0,\"#f0f921\"]]}],\"contourcarpet\":[{\"type\":\"contourcarpet\",\"colorbar\":{\"outlinewidth\":0,\"ticks\":\"\"}}],\"contour\":[{\"type\":\"contour\",\"colorbar\":{\"outlinewidth\":0,\"ticks\":\"\"},\"colorscale\":[[0.0,\"#0d0887\"],[0.1111111111111111,\"#46039f\"],[0.2222222222222222,\"#7201a8\"],[0.3333333333333333,\"#9c179e\"],[0.4444444444444444,\"#bd3786\"],[0.5555555555555556,\"#d8576b\"],[0.6666666666666666,\"#ed7953\"],[0.7777777777777778,\"#fb9f3a\"],[0.8888888888888888,\"#fdca26\"],[1.0,\"#f0f921\"]]}],\"surface\":[{\"type\":\"surface\",\"colorbar\":{\"outlinewidth\":0,\"ticks\":\"\"},\"colorscale\":[[0.0,\"#0d0887\"],[0.1111111111111111,\"#46039f\"],[0.2222222222222222,\"#7201a8\"],[0.3333333333333333,\"#9c179e\"],[0.4444444444444444,\"#bd3786\"],[0.5555555555555556,\"#d8576b\"],[0.6666666666666666,\"#ed7953\"],[0.7777777777777778,\"#fb9f3a\"],[0.8888888888888888,\"#fdca26\"],[1.0,\"#f0f921\"]]}],\"mesh3d\":[{\"type\":\"mesh3d\",\"colorbar\":{\"outlinewidth\":0,\"ticks\":\"\"}}],\"scatter\":[{\"marker\":{\"line\":{\"color\":\"#283442\"}},\"type\":\"scatter\"}],\"parcoords\":[{\"type\":\"parcoords\",\"line\":{\"colorbar\":{\"outlinewidth\":0,\"ticks\":\"\"}}}],\"scatterpolargl\":[{\"type\":\"scatterpolargl\",\"marker\":{\"colorbar\":{\"outlinewidth\":0,\"ticks\":\"\"}}}],\"bar\":[{\"error_x\":{\"color\":\"#f2f5fa\"},\"error_y\":{\"color\":\"#f2f5fa\"},\"marker\":{\"line\":{\"color\":\"rgb(17,17,17)\",\"width\":0.5},\"pattern\":{\"fillmode\":\"overlay\",\"size\":10,\"solidity\":0.2}},\"type\":\"bar\"}],\"scattergeo\":[{\"type\":\"scattergeo\",\"marker\":{\"colorbar\":{\"outlinewidth\":0,\"ticks\":\"\"}}}],\"scatterpolar\":[{\"type\":\"scatterpolar\",\"marker\":{\"colorbar\":{\"outlinewidth\":0,\"ticks\":\"\"}}}],\"histogram\":[{\"marker\":{\"pattern\":{\"fillmode\":\"overlay\",\"size\":10,\"solidity\":0.2}},\"type\":\"histogram\"}],\"scattergl\":[{\"marker\":{\"line\":{\"color\":\"#283442\"}},\"type\":\"scattergl\"}],\"scatter3d\":[{\"type\":\"scatter3d\",\"line\":{\"colorbar\":{\"outlinewidth\":0,\"ticks\":\"\"}},\"marker\":{\"colorbar\":{\"outlinewidth\":0,\"ticks\":\"\"}}}],\"scattermapbox\":[{\"type\":\"scattermapbox\",\"marker\":{\"colorbar\":{\"outlinewidth\":0,\"ticks\":\"\"}}}],\"scatterternary\":[{\"type\":\"scatterternary\",\"marker\":{\"colorbar\":{\"outlinewidth\":0,\"ticks\":\"\"}}}],\"scattercarpet\":[{\"type\":\"scattercarpet\",\"marker\":{\"colorbar\":{\"outlinewidth\":0,\"ticks\":\"\"}}}],\"carpet\":[{\"aaxis\":{\"endlinecolor\":\"#A2B1C6\",\"gridcolor\":\"#506784\",\"linecolor\":\"#506784\",\"minorgridcolor\":\"#506784\",\"startlinecolor\":\"#A2B1C6\"},\"baxis\":{\"endlinecolor\":\"#A2B1C6\",\"gridcolor\":\"#506784\",\"linecolor\":\"#506784\",\"minorgridcolor\":\"#506784\",\"startlinecolor\":\"#A2B1C6\"},\"type\":\"carpet\"}],\"table\":[{\"cells\":{\"fill\":{\"color\":\"#506784\"},\"line\":{\"color\":\"rgb(17,17,17)\"}},\"header\":{\"fill\":{\"color\":\"#2a3f5f\"},\"line\":{\"color\":\"rgb(17,17,17)\"}},\"type\":\"table\"}],\"barpolar\":[{\"marker\":{\"line\":{\"color\":\"rgb(17,17,17)\",\"width\":0.5},\"pattern\":{\"fillmode\":\"overlay\",\"size\":10,\"solidity\":0.2}},\"type\":\"barpolar\"}],\"pie\":[{\"automargin\":true,\"type\":\"pie\"}]},\"layout\":{\"autotypenumbers\":\"strict\",\"colorway\":[\"#636efa\",\"#EF553B\",\"#00cc96\",\"#ab63fa\",\"#FFA15A\",\"#19d3f3\",\"#FF6692\",\"#B6E880\",\"#FF97FF\",\"#FECB52\"],\"font\":{\"color\":\"#f2f5fa\"},\"hovermode\":\"closest\",\"hoverlabel\":{\"align\":\"left\"},\"paper_bgcolor\":\"rgb(17,17,17)\",\"plot_bgcolor\":\"rgb(17,17,17)\",\"polar\":{\"bgcolor\":\"rgb(17,17,17)\",\"angularaxis\":{\"gridcolor\":\"#506784\",\"linecolor\":\"#506784\",\"ticks\":\"\"},\"radialaxis\":{\"gridcolor\":\"#506784\",\"linecolor\":\"#506784\",\"ticks\":\"\"}},\"ternary\":{\"bgcolor\":\"rgb(17,17,17)\",\"aaxis\":{\"gridcolor\":\"#506784\",\"linecolor\":\"#506784\",\"ticks\":\"\"},\"baxis\":{\"gridcolor\":\"#506784\",\"linecolor\":\"#506784\",\"ticks\":\"\"},\"caxis\":{\"gridcolor\":\"#506784\",\"linecolor\":\"#506784\",\"ticks\":\"\"}},\"coloraxis\":{\"colorbar\":{\"outlinewidth\":0,\"ticks\":\"\"}},\"colorscale\":{\"sequential\":[[0.0,\"#0d0887\"],[0.1111111111111111,\"#46039f\"],[0.2222222222222222,\"#7201a8\"],[0.3333333333333333,\"#9c179e\"],[0.4444444444444444,\"#bd3786\"],[0.5555555555555556,\"#d8576b\"],[0.6666666666666666,\"#ed7953\"],[0.7777777777777778,\"#fb9f3a\"],[0.8888888888888888,\"#fdca26\"],[1.0,\"#f0f921\"]],\"sequentialminus\":[[0.0,\"#0d0887\"],[0.1111111111111111,\"#46039f\"],[0.2222222222222222,\"#7201a8\"],[0.3333333333333333,\"#9c179e\"],[0.4444444444444444,\"#bd3786\"],[0.5555555555555556,\"#d8576b\"],[0.6666666666666666,\"#ed7953\"],[0.7777777777777778,\"#fb9f3a\"],[0.8888888888888888,\"#fdca26\"],[1.0,\"#f0f921\"]],\"diverging\":[[0,\"#8e0152\"],[0.1,\"#c51b7d\"],[0.2,\"#de77ae\"],[0.3,\"#f1b6da\"],[0.4,\"#fde0ef\"],[0.5,\"#f7f7f7\"],[0.6,\"#e6f5d0\"],[0.7,\"#b8e186\"],[0.8,\"#7fbc41\"],[0.9,\"#4d9221\"],[1,\"#276419\"]]},\"xaxis\":{\"gridcolor\":\"#283442\",\"linecolor\":\"#506784\",\"ticks\":\"\",\"title\":{\"standoff\":15},\"zerolinecolor\":\"#283442\",\"automargin\":true,\"zerolinewidth\":2},\"yaxis\":{\"gridcolor\":\"#283442\",\"linecolor\":\"#506784\",\"ticks\":\"\",\"title\":{\"standoff\":15},\"zerolinecolor\":\"#283442\",\"automargin\":true,\"zerolinewidth\":2},\"scene\":{\"xaxis\":{\"backgroundcolor\":\"rgb(17,17,17)\",\"gridcolor\":\"#506784\",\"linecolor\":\"#506784\",\"showbackground\":true,\"ticks\":\"\",\"zerolinecolor\":\"#C8D4E3\",\"gridwidth\":2},\"yaxis\":{\"backgroundcolor\":\"rgb(17,17,17)\",\"gridcolor\":\"#506784\",\"linecolor\":\"#506784\",\"showbackground\":true,\"ticks\":\"\",\"zerolinecolor\":\"#C8D4E3\",\"gridwidth\":2},\"zaxis\":{\"backgroundcolor\":\"rgb(17,17,17)\",\"gridcolor\":\"#506784\",\"linecolor\":\"#506784\",\"showbackground\":true,\"ticks\":\"\",\"zerolinecolor\":\"#C8D4E3\",\"gridwidth\":2}},\"shapedefaults\":{\"line\":{\"color\":\"#f2f5fa\"}},\"annotationdefaults\":{\"arrowcolor\":\"#f2f5fa\",\"arrowhead\":0,\"arrowwidth\":1},\"geo\":{\"bgcolor\":\"rgb(17,17,17)\",\"landcolor\":\"rgb(17,17,17)\",\"subunitcolor\":\"#506784\",\"showland\":true,\"showlakes\":true,\"lakecolor\":\"rgb(17,17,17)\"},\"title\":{\"x\":0.05},\"updatemenudefaults\":{\"bgcolor\":\"#506784\",\"borderwidth\":0},\"sliderdefaults\":{\"bgcolor\":\"#C8D4E3\",\"borderwidth\":1,\"bordercolor\":\"rgb(17,17,17)\",\"tickwidth\":0},\"mapbox\":{\"style\":\"dark\"}}},\"xaxis\":{\"anchor\":\"y\",\"domain\":[0.0,1.0],\"title\":{\"text\":\"Years\"}},\"yaxis\":{\"anchor\":\"x\",\"domain\":[0.0,1.0],\"title\":{\"text\":\"Performances of Work: (#68080)\"}},\"legend\":{\"tracegroupgap\":0},\"title\":{\"text\":\"Performances of Work: (#68080) by Year\"},\"barmode\":\"relative\",\"width\":600,\"height\":400},                        {\"responsive\": true}                    ).then(function(){\n                            \nvar gd = document.getElementById('193238ba-7186-4bc8-a232-4a660eadcb50');\nvar x = new MutationObserver(function (mutations, observer) {{\n        var display = window.getComputedStyle(gd).display;\n        if (!display || display === 'none') {{\n            console.log([gd, 'removed!']);\n            Plotly.purge(gd);\n            observer.disconnect();\n        }}\n}});\n\n// Listen for the removal of the full notebook cells\nvar notebookContainer = gd.closest('#notebook-container');\nif (notebookContainer) {{\n    x.observe(notebookContainer, {childList: true});\n}}\n\n// Listen for the clearing of the current output cell\nvar outputEl = gd.closest('.output');\nif (outputEl) {{\n    x.observe(outputEl, {childList: true});\n}}\n\n                        })                };                });            </script>        </div>"
     },
     "metadata": {},
     "output_type": "display_data"
    }
   ],
   "source": [
    "# Input the exact attribute and value you want to graph\n",
    "event_data = pd.read_pickle('Data/event_data.pkl')\n",
    "make_bar_chart(event_data, 'Work', '(#68080)')"
   ],
   "metadata": {
    "id": "3d4c4374",
    "ExecuteTime": {
     "end_time": "2023-12-22T02:40:20.438692Z",
     "start_time": "2023-12-22T02:39:33.619449Z"
    }
   },
   "id": "3d4c4374",
   "execution_count": 15
  },
  {
   "cell_type": "markdown",
   "source": [
    "# Tools for Streamlit\n",
    "\n",
    "In the process of the making the Streamlit app, we needed to create lists of all the genres, all the nationalities, all the works, and all the composers\n",
    "that have (been) performed at Carnegie Hall. We made queries for each of these lists, and created tools to clean the data."
   ],
   "metadata": {
    "collapsed": false
   },
   "id": "8d6b0d9409a37db2"
  },
  {
   "cell_type": "markdown",
   "source": [
    "### Genre\n",
    "\n",
    "We collected and downloaded a CSV with all genres by making the following query:\n",
    "```\n",
    "PREFIX schema: <http://schema.org/>\n",
    "PREFIX rdfs: <http://www.w3.org/2000/01/rdf-schema#>\n",
    "PREFIX mo: <http://purl.org/ontology/mo/>\n",
    "\n",
    "SELECT DISTINCT ?genreLabel WHERE {\n",
    "\t?event a schema:Event ;\n",
    "  \t\tmo:genre ?genre .\n",
    "  ?genre rdfs:label ?genreLabel .\n",
    "}\n",
    "```\n",
    "\n",
    "The following code creates a new csv that adds a column header, 'Genre', and capitalizes all the genres. It first reads a CSV resulting from the above query."
   ],
   "metadata": {
    "collapsed": false
   },
   "id": "43f4349e762f7a65"
  },
  {
   "cell_type": "code",
   "outputs": [],
   "source": [
    "df = pd.read_csv('path/to/genre_query.csv')\n",
    "\n",
    "with open('genreLabels_list.csv', 'w') as csvfile:\n",
    "    spamwriter = csv.writer(csvfile)\n",
    "    spamwriter.writerow(['Genre'])\n",
    "    for genreLabel in df['genreLabel']:\n",
    "        spamwriter.writerow([genreLabel.title()])"
   ],
   "metadata": {
    "collapsed": false,
    "ExecuteTime": {
     "end_time": "2023-12-21T21:36:27.055732Z",
     "start_time": "2023-12-21T21:36:27.008794Z"
    }
   },
   "id": "df44daa64e39c5af",
   "execution_count": 11
  },
  {
   "cell_type": "markdown",
   "source": [
    "### Nationality\n",
    "\n",
    "From running `store_nationalities` from earlier, we have a PKL containing all composers and their nationalities. We can use this to create a list of every\n",
    "nationality held by a composer in the Carnegie Hall database, thus creating a list of options for users in the Streamlit app selecting nationality."
   ],
   "metadata": {
    "collapsed": false
   },
   "id": "8c861d44235c9de9"
  },
  {
   "cell_type": "code",
   "outputs": [],
   "source": [
    "df = pd.read_pickle('Data/composers_nationalities.pkl')\n",
    "\n",
    "all_nations = set()\n",
    "last = None\n",
    "for item in df['nationalities']:\n",
    "    for nation in item:\n",
    "        all_nations.add(nation)\\\n",
    "\n",
    "all_nations = sorted(all_nations)"
   ],
   "metadata": {
    "collapsed": false,
    "ExecuteTime": {
     "end_time": "2023-12-22T01:06:24.294260Z",
     "start_time": "2023-12-22T01:06:24.272708Z"
    }
   },
   "id": "70faa64a14e0210a",
   "execution_count": 89
  },
  {
   "cell_type": "code",
   "outputs": [],
   "source": [
    "# store the results in a csv\n",
    "with open('nationalities_list.csv', 'w') as csvfile:\n",
    "    spamwriter = csv.writer(csvfile, delimiter=',', quotechar='\"')\n",
    "    spamwriter.writerow(['Nation'])\n",
    "    for item in all_nations:\n",
    "        spamwriter.writerow([item])"
   ],
   "metadata": {
    "collapsed": false,
    "ExecuteTime": {
     "end_time": "2023-12-22T01:09:26.342261Z",
     "start_time": "2023-12-22T01:09:26.322602Z"
    }
   },
   "id": "afca761a14defbfd",
   "execution_count": 96
  },
  {
   "cell_type": "markdown",
   "source": [
    "### Works\n",
    "\n",
    "There are just over 100,000 unique works in the Carnegie Hall database. So we have to make queries of 10,000 at a time, incrementing the offset by 10,000,\n",
    "to create 11 CSVs. Those then need to be combined using the CSV concatenator. This combined CSV is all that is necessary to create a list of works,\n",
    "combined with their composer and unique identifier. The below query is used, and fetches all the necessary information:\n",
    "\n",
    "```\n",
    "#Find works\n",
    "PREFIX schema: <http://schema.org/>\n",
    "PREFIX rdfs: <http://www.w3.org/2000/01/rdf-schema#>\n",
    "PREFIX dcterms: <http://purl.org/dc/terms/>\n",
    "PREFIX skos: <http://www.w3.org/2004/02/skos/core#>\n",
    "PREFIX mo: <http://purl.org/ontology/mo/>\n",
    "SELECT * WHERE {\n",
    "\t?work a schema:MusicComposition .\n",
    "    OPTIONAL {\n",
    "    \t?work rdfs:label ?title .\n",
    "        OPTIONAL {\n",
    "      \t\t?work dcterms:creator ?composer .\n",
    "      \t\tOPTIONAL { ?composer rdfs:label ?composerLabel . }\n",
    "    \t}\n",
    "  \t} \n",
    "}\n",
    "LIMIT 10000\n",
    "OFFSET 0\n",
    "```"
   ],
   "metadata": {
    "collapsed": false
   },
   "id": "8ed291f8f798c992"
  },
  {
   "cell_type": "markdown",
   "source": [
    "### Composers\n",
    "\n",
    "To find all the composers, the following query is made:\n",
    "```\n",
    "# Fetch all composers\n",
    "PREFIX marcRel: <http://id.loc.gov/vocabulary/relators/>\n",
    "PREFIX schema: <http://schema.org/>\n",
    "PREFIX skos: <http://www.w3.org/2004/02/skos/core#>\n",
    "PREFIX rdfs: <http://www.w3.org/2000/01/rdf-schema#>\n",
    "\n",
    "SELECT ?composer ?composerLabel WHERE {\n",
    "\t?composer schema:hasOccupation marcRel:cmp . #occupation of composer\n",
    "  \tOPTIONAL { ?composer rdfs:label ?composerLabel . }\n",
    "}\n",
    "LIMIT 10000\n",
    "OFFSET 0\n",
    "```\n",
    "There are just over 20,000 composers, necessitating 3 queries to fetch them all. The CSVs created from each query should be combined using the CSV concatenator."
   ],
   "metadata": {
    "collapsed": false
   },
   "id": "ef5bf99b90f1d371"
  },
  {
   "cell_type": "markdown",
   "source": [
    "### All the lists\n",
    "\n",
    "In our Streamlit app, we used the following names for the CSVs produced for each attribute's potential options:\n",
    "* Genre: `genreLabels_list.csv`\n",
    "* Nationality: `nationalities_list.csv`\n",
    "* Work: `works_list.csv`\n",
    "* Composer: `composers_list.csv`"
   ],
   "metadata": {
    "collapsed": false
   },
   "id": "a9a415c43b3faf65"
  }
 ],
 "metadata": {
  "colab": {
   "provenance": []
  },
  "kernelspec": {
   "display_name": "Python 3 (ipykernel)",
   "language": "python",
   "name": "python3"
  },
  "language_info": {
   "codemirror_mode": {
    "name": "ipython",
    "version": 3
   },
   "file_extension": ".py",
   "mimetype": "text/x-python",
   "name": "python",
   "nbconvert_exporter": "python",
   "pygments_lexer": "ipython3",
   "version": "3.10.8"
  }
 },
 "nbformat": 4,
 "nbformat_minor": 5
}
