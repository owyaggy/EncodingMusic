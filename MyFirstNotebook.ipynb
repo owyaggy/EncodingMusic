{
 "cells": [
  {
   "cell_type": "markdown",
   "id": "cb7f301cc6afebdf",
   "metadata": {
    "collapsed": false,
    "jupyter": {
     "outputs_hidden": false
    }
   },
   "source": [
    "# MyFirstNotebook\n",
    "### Owen Yaggy\n",
    "### 9/16/23\n",
    "### MUSC H255"
   ]
  },
  {
   "cell_type": "markdown",
   "id": "8078baf6-19e7-4cfa-9c1e-06d49bc9a58b",
   "metadata": {
    "ExecuteTime": {
     "end_time": "2023-09-14T17:46:25.332992Z",
     "start_time": "2023-09-14T17:46:25.324638Z"
    },
    "collapsed": false,
    "jupyter": {
     "outputs_hidden": false
    }
   },
   "source": [
    "**Step 1:** Create a list of songs. Each song is stored as a dictionary with all of its metadata."
   ]
  },
  {
   "cell_type": "code",
   "execution_count": 1,
   "id": "7781853f-f272-45eb-9a23-cb212a1c6b0d",
   "metadata": {},
   "outputs": [],
   "source": [
    "music = [\n",
    "    {\n",
    "        'title': 'Welcome Home, Son',\n",
    "        'length': 287,\n",
    "        'artists': ['Radical Face'],\n",
    "        'composers': ['Ben Cooper'],\n",
    "        'producers': ['Ben Cooper'],\n",
    "        'performers': ['Ben Cooper'],\n",
    "        'album': 'Ghost',\n",
    "        'album_pos': 2,\n",
    "        'album_track_count': 11,\n",
    "        'label': 'Bear Machine',\n",
    "        'spotify_link': 'https://open.spotify.com/track/6HTVZeVQ9J6Uiq6tHESxU9?si=3019ebc3ce7f444e',\n",
    "        'spotify_id': '3019ebc3ce7f444e',\n",
    "    },\n",
    "    {\n",
    "        'title': 'Australia',\n",
    "        'length': 236,\n",
    "        'artists': ['The Shins'],\n",
    "        'composers': ['James Mercer'],\n",
    "        'producers': ['Phil Ek', 'Joe Chiccarelli', 'James Mercer'],\n",
    "        'performers': ['James Mercer', 'Yuuki Matthews', 'Mark Watrous', 'Jon Sortland', 'Patti King'],\n",
    "        'album': 'Ghost',\n",
    "        'album_pos': 2,\n",
    "        'album_track_count': 11,\n",
    "        'label': 'Sub Pop Records',\n",
    "        'spotify_link': 'https://open.spotify.com/track/47TQjzeG4KI0XWWb0wkbri?si=d674fb28d7da497b',\n",
    "        'spotify_id': 'd674fb28d7da497b',\n",
    "    },\n",
    "    {\n",
    "        'title': \"A Children's Crusade on Acid\",\n",
    "        'length': 250,\n",
    "        'artists': ['Margot and the Nuclear So and So\\'s'],\n",
    "        'composers': ['Richard Edwards'],\n",
    "        'producers': ['Brian Deck'],\n",
    "        'performers': ['Richard Edwards', 'Tyler Watkins', 'Heidi Gluck', 'Kenny Chiders', 'Ronnie Kwasman'],\n",
    "        'album': 'Not Animal',\n",
    "        'album_pos': 1,\n",
    "        'album_track_count': 12,\n",
    "        'label': 'Sony BMG Music Entertainment',\n",
    "        'spotify_link': 'https://open.spotify.com/track/2bSRSDvVXgXrKU78seeIji?si=1bcf0c54e0ea489b',\n",
    "        'spotify_id': '1bcf0c54e0ea489b',\n",
    "    }\n",
    "]"
   ]
  },
  {
   "cell_type": "markdown",
   "id": "abab5d43-a802-4490-896c-17112b0252d5",
   "metadata": {},
   "source": [
    "**Step 2:** ***<span style=\"color:olive\">Functions!</span>*** We need to create a series of functions that each accomplish different tasks with the data given in the dictionary `music`. These functions just return data - you can write code to print what it returns, but without that, they just work in the background."
   ]
  },
  {
   "cell_type": "code",
   "execution_count": null,
   "id": "f791470e-8851-400e-82cf-946d4e3e17a0",
   "metadata": {},
   "outputs": [],
   "source": [
    "def song_titles(data: list=music) -> list:                              # data: list=music allows user to use any list of music they'd like, and provides type hint\n",
    "    \"\"\"Returns all songs in the given list. The list defaults to the one previously created.\"\"\"\n",
    "    songs = []                          # List to contain all songs\n",
    "    for song in data:                   # Iterate through songs\n",
    "        songs.append(song['title'])     # Add song title to song list\n",
    "    return songs                        # Return list of song titles\n",
    "\n",
    "def find_songs_by_composer(composer: str, data: list=music) -> list:\n",
    "    \"\"\"Returns all songs written by the given composer.\"\"\"\n",
    "    songs = []                          # List to contain songs by given composer\n",
    "    for song in data:                   # Iterate through songs\n",
    "        if composer in song['composers']:       # If current song written by given composer\n",
    "            songs.append(song['title'])         # Add current song to output list\n",
    "    return songs                        # Return list of songs\n",
    "\n",
    "def find_avg_performers(data: list=music) -> float:\n",
    "    \"\"\"Returns the average number of performers per song.\"\"\"\n",
    "    performers = []         # List to contain number of performers per song\n",
    "    for song in data:       # Iterate through songs\n",
    "        performers.append(len(song['performers']))              # Add the number of performers in current song to list\n",
    "    return round(sum(performers) / len(performers), 1)          # Return rounded average of number of performers per song\n",
    "\n",
    "def order_songs_by_length(data: list=music) -> list:\n",
    "    \"\"\"Returns a list of songs sorted from longest to shortest.\"\"\"\n",
    "    lengths = []        # List of lengths for each song\n",
    "    output = []         # Output list containing songs in order\n",
    "    for song in data:   # Iterate through songs\n",
    "        lengths.append(song['length'])      # Add length of song to a list\n",
    "    lengths.sort(reverse=True)              # Sort list in descending order\n",
    "    for length in lengths:                  # Iterate through list of lengths\n",
    "        for song in data:                   # Iterate through songs\n",
    "            if song['length'] == length and song['title'] not in output:            # If song has matching length and not already in output\n",
    "                output.append(song['title'])                                        # Add song to the output list\n",
    "    return output                           # Return the output list\n",
    "            "
   ]
  },
  {
   "cell_type": "markdown",
   "id": "f2d21c90-33f2-4ce5-bbae-0feedad2250d",
   "metadata": {},
   "source": [
    "**Step 3:** Use the functions! Now that functions are written to use the data in different ways, we can call them and see what they return. Often the data is returned in a \"messy\" format, for example, a list. More code would need to be written to remove the brackets, quotation marks, etc. that come with that."
   ]
  },
  {
   "cell_type": "code",
   "execution_count": null,
   "id": "ff25d95a-79bf-41dc-975f-c35eb18656e6",
   "metadata": {},
   "outputs": [],
   "source": [
    "# Print all the songs in the given list\n",
    "print(song_titles())"
   ]
  },
  {
   "cell_type": "code",
   "execution_count": null,
   "id": "add566cc-28aa-41fb-95dd-5ba1cafd9a5a",
   "metadata": {},
   "outputs": [],
   "source": [
    "# Print all the songs written by Richard Edwards\n",
    "print(find_songs_by_composer('Richard Edwards'))"
   ]
  },
  {
   "cell_type": "code",
   "execution_count": null,
   "id": "4d106744-175e-4d5b-91c3-6bc901161959",
   "metadata": {},
   "outputs": [],
   "source": [
    "# Print the average number of performers per song\n",
    "print(find_avg_performers())"
   ]
  },
  {
   "cell_type": "code",
   "execution_count": null,
   "id": "bc9c84d1-8d10-474e-ac00-ad602df6fb4b",
   "metadata": {},
   "outputs": [],
   "source": []
  }
 ],
 "metadata": {
  "kernelspec": {
   "display_name": "Python 3 (ipykernel)",
   "language": "python",
   "name": "python3"
  },
  "language_info": {
   "codemirror_mode": {
    "name": "ipython",
    "version": 3
   },
   "file_extension": ".py",
   "mimetype": "text/x-python",
   "name": "python",
   "nbconvert_exporter": "python",
   "pygments_lexer": "ipython3",
   "version": "3.10.8"
  }
 },
 "nbformat": 4,
 "nbformat_minor": 5
}
