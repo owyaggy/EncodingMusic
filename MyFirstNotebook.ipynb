{
 "cells": [
  {
   "cell_type": "markdown",
   "id": "cb7f301cc6afebdf",
   "metadata": {
    "collapsed": false,
    "jupyter": {
     "outputs_hidden": false
    }
   },
   "source": [
    "# MyFirstNotebook\n",
    "### Owen Yaggy\n",
    "### MUSC H255"
   ]
  },
  {
   "cell_type": "code",
   "execution_count": null,
   "id": "d404254b3e8eb4de",
   "metadata": {
    "ExecuteTime": {
     "end_time": "2023-09-14T17:46:25.332992Z",
     "start_time": "2023-09-14T17:46:25.324638Z"
    },
    "collapsed": false,
    "jupyter": {
     "outputs_hidden": false
    }
   },
   "outputs": [],
   "source": []
  }
 ],
 "metadata": {
  "kernelspec": {
   "display_name": "Python 3 (ipykernel)",
   "language": "python",
   "name": "python3"
  },
  "language_info": {
   "codemirror_mode": {
    "name": "ipython",
    "version": 3
   },
   "file_extension": ".py",
   "mimetype": "text/x-python",
   "name": "python",
   "nbconvert_exporter": "python",
   "pygments_lexer": "ipython3",
   "version": "3.10.8"
  }
 },
 "nbformat": 4,
 "nbformat_minor": 5
}
