{
 "cells": [
  {
   "cell_type": "markdown",
   "source": [
    "# MyFirstNotebook\n",
    "### Owen Yaggy\n",
    "### MUSC H255"
   ],
   "metadata": {
    "collapsed": false
   },
   "id": "cb7f301cc6afebdf"
  },
  {
   "cell_type": "markdown",
   "source": [
    "**Step 1:** Create a list of songs. Each song is stored as a dictionary with all of its metadata."
   ],
   "metadata": {
    "collapsed": false
   },
   "id": "7471f8e31de7c693"
  },
  {
   "cell_type": "code",
   "execution_count": 46,
   "outputs": [],
   "source": [
    "music = [\n",
    "    {\n",
    "        'title': 'Welcome Home, Son',\n",
    "        'length': 287,\n",
    "        'artists': ['Radical Face'],\n",
    "        'composers': ['Ben Cooper'],\n",
    "        'producers': ['Ben Cooper'],\n",
    "        'performers': ['Ben Cooper'],\n",
    "        'album': 'Ghost',\n",
    "        'album_pos': 2,\n",
    "        'album_track_count': 11,\n",
    "        'label': 'Bear Machine',\n",
    "        'spotify_link': 'https://open.spotify.com/track/6HTVZeVQ9J6Uiq6tHESxU9?si=3019ebc3ce7f444e',\n",
    "        'spotify_id': '3019ebc3ce7f444e',\n",
    "    },\n",
    "    {\n",
    "        'title': 'Australia',\n",
    "        'length': 236,\n",
    "        'artists': ['The Shins'],\n",
    "        'composers': ['James Mercer'],\n",
    "        'producers': ['Phil Ek', 'Joe Chiccarelli', 'James Mercer'],\n",
    "        'performers': ['James Mercer', 'Yuuki Matthews', 'Mark Watrous', 'Jon Sortland', 'Patti King'],\n",
    "        'album': 'Ghost',\n",
    "        'album_pos': 2,\n",
    "        'album_track_count': 11,\n",
    "        'label': 'Sub Pop Records',\n",
    "        'spotify_link': 'https://open.spotify.com/track/47TQjzeG4KI0XWWb0wkbri?si=d674fb28d7da497b',\n",
    "        'spotify_id': 'd674fb28d7da497b',\n",
    "    },\n",
    "    {\n",
    "        'title': \"A Children's Crusade on Acid\",\n",
    "        'length': 250,\n",
    "        'artists': ['Margot and the Nuclear So and So\\'s'],\n",
    "        'composers': ['Richard Edwards'],\n",
    "        'producers': ['Brian Deck'],\n",
    "        'performers': ['Richard Edwards', 'Tyler Watkins', 'Heidi Gluck', 'Kenny Chiders', 'Ronnie Kwasman'],\n",
    "        'album': 'Not Animal',\n",
    "        'album_pos': 1,\n",
    "        'album_track_count': 12,\n",
    "        'label': 'Sony BMG Music Entertainment',\n",
    "        'spotify_link': 'https://open.spotify.com/track/2bSRSDvVXgXrKU78seeIji?si=1bcf0c54e0ea489b',\n",
    "        'spotify_id': '1bcf0c54e0ea489b',\n",
    "    }\n",
    "]"
   ],
   "metadata": {
    "collapsed": false,
    "ExecuteTime": {
     "end_time": "2023-09-15T19:04:19.260987Z",
     "start_time": "2023-09-15T19:04:19.250469Z"
    }
   },
   "id": "d404254b3e8eb4de"
  },
  {
   "cell_type": "markdown",
   "source": [
    "**Step 2:** ***<span style=\"color:olive\">Functions!</span>*** We need to create a series of functions that each accomplish different tasks with the data given in the dictionary `music`. These functions just return data - you can write code to print what it returns, but without that, they just work in the background."
   ],
   "metadata": {
    "collapsed": false
   },
   "id": "64eaf6f604d441a8"
  },
  {
   "cell_type": "code",
   "execution_count": 47,
   "outputs": [],
   "source": [
    "def song_titles(data: list=music) -> list:                              # data: list=music allows user to use any list of music they'd like, and provides type hint\n",
    "    \"\"\"Returns all songs in the given list. The list defaults to the one previously created.\"\"\"\n",
    "    songs = []\n",
    "    for song in data:\n",
    "        songs.append(song['title'])\n",
    "    return songs\n",
    "\n",
    "def find_songs_by_composer(composer: str, data: list=music) -> list:\n",
    "    \"\"\"Returns all songs written by the given composer.\"\"\"\n",
    "    songs = []\n",
    "    for song in data:\n",
    "        if composer in song['composers']:\n",
    "            songs.append(song['title'])\n",
    "    return songs\n",
    "\n",
    "def find_avg_performers(data: list=music) -> float:\n",
    "    \"\"\"Returns the average number of performs per song.\"\"\"\n",
    "    performers = []\n",
    "    for song in data:\n",
    "        performers.append(len(song['performers']))\n",
    "    return round(sum(performers) / len(performers), 1)\n",
    "\n",
    "def order_songs_by_length(data: list=music) -> list:\n",
    "    \"\"\"Returns a list of songs ordered from longest to shortest.\"\"\"\n",
    "    songs_lengths = {}      # Dictionary associating a song's Spotify ID to its length\n",
    "    for song in data:\n",
    "        songs_lengths[song['spotify_id']] = song['length']\n",
    "    for item in "
   ],
   "metadata": {
    "collapsed": false,
    "ExecuteTime": {
     "end_time": "2023-09-15T19:04:19.273386Z",
     "start_time": "2023-09-15T19:04:19.259947Z"
    }
   },
   "id": "74b6908c98b28efc"
  },
  {
   "cell_type": "markdown",
   "source": [
    "**Step 3:** Use the functions! Now that functions are written to use the data in different ways, we can call them and see what they return. Often the data is returned in a \"messy\" format, for example, a list. More code would need to be written to remove the brackets, quotation marks, etc. that come with that."
   ],
   "metadata": {
    "collapsed": false
   },
   "id": "f425e601d68ed0e2"
  },
  {
   "cell_type": "code",
   "execution_count": 48,
   "outputs": [
    {
     "name": "stdout",
     "output_type": "stream",
     "text": [
      "['Welcome Home, Son', 'Australia', \"A Children's Crusade on Acid\"]\n"
     ]
    }
   ],
   "source": [
    "# Print all the songs in the given list\n",
    "print(song_titles())"
   ],
   "metadata": {
    "collapsed": false,
    "ExecuteTime": {
     "end_time": "2023-09-15T19:04:19.289603Z",
     "start_time": "2023-09-15T19:04:19.263549Z"
    }
   },
   "id": "7fdbb21396f06fbd"
  },
  {
   "cell_type": "code",
   "execution_count": 49,
   "outputs": [
    {
     "name": "stdout",
     "output_type": "stream",
     "text": [
      "[\"A Children's Crusade on Acid\"]\n"
     ]
    }
   ],
   "source": [
    "# Print all the songs written by Richard Edwards\n",
    "print(find_songs_by_composer('Richard Edwards'))"
   ],
   "metadata": {
    "collapsed": false,
    "ExecuteTime": {
     "end_time": "2023-09-15T19:04:19.290152Z",
     "start_time": "2023-09-15T19:04:19.271133Z"
    }
   },
   "id": "4f41040ec3c4a1d2"
  },
  {
   "cell_type": "code",
   "execution_count": 50,
   "outputs": [
    {
     "name": "stdout",
     "output_type": "stream",
     "text": [
      "3.7\n"
     ]
    }
   ],
   "source": [
    "# Print the average number of performers per song\n",
    "print(find_avg_performers())"
   ],
   "metadata": {
    "collapsed": false,
    "ExecuteTime": {
     "end_time": "2023-09-15T19:04:19.290797Z",
     "start_time": "2023-09-15T19:04:19.274769Z"
    }
   },
   "id": "47e1723f9b49c892"
  }
 ],
 "metadata": {
  "kernelspec": {
   "display_name": "Python 3",
   "language": "python",
   "name": "python3"
  },
  "language_info": {
   "codemirror_mode": {
    "name": "ipython",
    "version": 2
   },
   "file_extension": ".py",
   "mimetype": "text/x-python",
   "name": "python",
   "nbconvert_exporter": "python",
   "pygments_lexer": "ipython2",
   "version": "2.7.6"
  }
 },
 "nbformat": 4,
 "nbformat_minor": 5
}
