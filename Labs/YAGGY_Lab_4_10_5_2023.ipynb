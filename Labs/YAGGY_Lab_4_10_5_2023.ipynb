{
 "cells": [
  {
   "cell_type": "code",
   "execution_count": 37,
   "id": "initial_id",
   "metadata": {
    "collapsed": true,
    "ExecuteTime": {
     "end_time": "2023-10-05T18:28:31.136077Z",
     "start_time": "2023-10-05T18:28:31.122388Z"
    }
   },
   "outputs": [],
   "source": [
    "import pandas as pd\n",
    "import numpy as np\n",
    "import random\n",
    "import altair as alt\n",
    "import plotly.graph_objects as go\n",
    "import requests\n",
    "import inspect\n",
    "import spotipy\n",
    "from spotipy.oauth2 import SpotifyClientCredentials\n",
    "import spotify_tools\n",
    "import networkx as nx\n",
    "import networkx.algorithms.community as nx_comm\n",
    "import matplotlib.cm as cm\n",
    "import matplotlib.pyplot as plt\n",
    "import plotly.express as px\n",
    "import pyvis\n",
    "from pyvis import network as net\n",
    "from itertools import combinations\n",
    "# from community import community_louvain\n",
    "from copy import deepcopy\n",
    "\n",
    "import config"
   ]
  },
  {
   "cell_type": "code",
   "execution_count": 38,
   "outputs": [],
   "source": [
    "# storing the credentials:\n",
    "#\n",
    "CLIENT_ID = config.client_id\n",
    "CLIENT_SECRET = config.client_secret\n",
    "my_username = \"owenyyyyy\"\n",
    "\n",
    "# instantiating the client.  This 'sp' version of the client is used repeatedly below\n",
    "# source: Max Hilsdorf (https://towardsdatascience.com/how-to-create-large-music-datasets-using-spotipy-40e7242cc6a6)\n",
    "client_credentials_manager = SpotifyClientCredentials(client_id=CLIENT_ID, client_secret=CLIENT_SECRET)\n",
    "sp = spotipy.Spotify(client_credentials_manager=client_credentials_manager)"
   ],
   "metadata": {
    "collapsed": false,
    "ExecuteTime": {
     "end_time": "2023-10-05T18:28:31.154905Z",
     "start_time": "2023-10-05T18:28:31.132026Z"
    }
   },
   "id": "3c2f76d7f27ad43d"
  },
  {
   "cell_type": "code",
   "execution_count": 39,
   "outputs": [],
   "source": [
    "creator_id = \"rich6833spot\"\n",
    "playlist_id = \"75OAYmyh848DuB16eLqBtk\""
   ],
   "metadata": {
    "collapsed": false,
    "ExecuteTime": {
     "end_time": "2023-10-05T18:28:31.156964Z",
     "start_time": "2023-10-05T18:28:31.138168Z"
    }
   },
   "id": "598ccba5133991a6"
  },
  {
   "cell_type": "code",
   "execution_count": 40,
   "outputs": [
    {
     "data": {
      "text/plain": "                                                 href  \\\n0   https://api.spotify.com/v1/playlists/75OAYmyh8...   \n1   https://api.spotify.com/v1/playlists/75OAYmyh8...   \n2   https://api.spotify.com/v1/playlists/75OAYmyh8...   \n3   https://api.spotify.com/v1/playlists/75OAYmyh8...   \n4   https://api.spotify.com/v1/playlists/75OAYmyh8...   \n..                                                ...   \n74  https://api.spotify.com/v1/playlists/75OAYmyh8...   \n75  https://api.spotify.com/v1/playlists/75OAYmyh8...   \n76  https://api.spotify.com/v1/playlists/75OAYmyh8...   \n77  https://api.spotify.com/v1/playlists/75OAYmyh8...   \n78  https://api.spotify.com/v1/playlists/75OAYmyh8...   \n\n                                                items  limit  next  offset  \\\n0   {'added_at': '2023-09-15T17:20:27Z', 'added_by...    100  None       0   \n1   {'added_at': '2023-09-15T17:21:50Z', 'added_by...    100  None       0   \n2   {'added_at': '2023-09-15T17:22:14Z', 'added_by...    100  None       0   \n3   {'added_at': '2023-09-15T17:39:01Z', 'added_by...    100  None       0   \n4   {'added_at': '2023-09-15T17:39:42Z', 'added_by...    100  None       0   \n..                                                ...    ...   ...     ...   \n74  {'added_at': '2023-09-15T20:18:28Z', 'added_by...    100  None       0   \n75  {'added_at': '2023-09-15T20:18:41Z', 'added_by...    100  None       0   \n76  {'added_at': '2023-09-15T20:24:26Z', 'added_by...    100  None       0   \n77  {'added_at': '2023-09-15T20:24:33Z', 'added_by...    100  None       0   \n78  {'added_at': '2023-09-15T20:24:40Z', 'added_by...    100  None       0   \n\n   previous  total  \n0      None     79  \n1      None     79  \n2      None     79  \n3      None     79  \n4      None     79  \n..      ...    ...  \n74     None     79  \n75     None     79  \n76     None     79  \n77     None     79  \n78     None     79  \n\n[79 rows x 7 columns]",
      "text/html": "<div>\n<style scoped>\n    .dataframe tbody tr th:only-of-type {\n        vertical-align: middle;\n    }\n\n    .dataframe tbody tr th {\n        vertical-align: top;\n    }\n\n    .dataframe thead th {\n        text-align: right;\n    }\n</style>\n<table border=\"1\" class=\"dataframe\">\n  <thead>\n    <tr style=\"text-align: right;\">\n      <th></th>\n      <th>href</th>\n      <th>items</th>\n      <th>limit</th>\n      <th>next</th>\n      <th>offset</th>\n      <th>previous</th>\n      <th>total</th>\n    </tr>\n  </thead>\n  <tbody>\n    <tr>\n      <th>0</th>\n      <td>https://api.spotify.com/v1/playlists/75OAYmyh8...</td>\n      <td>{'added_at': '2023-09-15T17:20:27Z', 'added_by...</td>\n      <td>100</td>\n      <td>None</td>\n      <td>0</td>\n      <td>None</td>\n      <td>79</td>\n    </tr>\n    <tr>\n      <th>1</th>\n      <td>https://api.spotify.com/v1/playlists/75OAYmyh8...</td>\n      <td>{'added_at': '2023-09-15T17:21:50Z', 'added_by...</td>\n      <td>100</td>\n      <td>None</td>\n      <td>0</td>\n      <td>None</td>\n      <td>79</td>\n    </tr>\n    <tr>\n      <th>2</th>\n      <td>https://api.spotify.com/v1/playlists/75OAYmyh8...</td>\n      <td>{'added_at': '2023-09-15T17:22:14Z', 'added_by...</td>\n      <td>100</td>\n      <td>None</td>\n      <td>0</td>\n      <td>None</td>\n      <td>79</td>\n    </tr>\n    <tr>\n      <th>3</th>\n      <td>https://api.spotify.com/v1/playlists/75OAYmyh8...</td>\n      <td>{'added_at': '2023-09-15T17:39:01Z', 'added_by...</td>\n      <td>100</td>\n      <td>None</td>\n      <td>0</td>\n      <td>None</td>\n      <td>79</td>\n    </tr>\n    <tr>\n      <th>4</th>\n      <td>https://api.spotify.com/v1/playlists/75OAYmyh8...</td>\n      <td>{'added_at': '2023-09-15T17:39:42Z', 'added_by...</td>\n      <td>100</td>\n      <td>None</td>\n      <td>0</td>\n      <td>None</td>\n      <td>79</td>\n    </tr>\n    <tr>\n      <th>...</th>\n      <td>...</td>\n      <td>...</td>\n      <td>...</td>\n      <td>...</td>\n      <td>...</td>\n      <td>...</td>\n      <td>...</td>\n    </tr>\n    <tr>\n      <th>74</th>\n      <td>https://api.spotify.com/v1/playlists/75OAYmyh8...</td>\n      <td>{'added_at': '2023-09-15T20:18:28Z', 'added_by...</td>\n      <td>100</td>\n      <td>None</td>\n      <td>0</td>\n      <td>None</td>\n      <td>79</td>\n    </tr>\n    <tr>\n      <th>75</th>\n      <td>https://api.spotify.com/v1/playlists/75OAYmyh8...</td>\n      <td>{'added_at': '2023-09-15T20:18:41Z', 'added_by...</td>\n      <td>100</td>\n      <td>None</td>\n      <td>0</td>\n      <td>None</td>\n      <td>79</td>\n    </tr>\n    <tr>\n      <th>76</th>\n      <td>https://api.spotify.com/v1/playlists/75OAYmyh8...</td>\n      <td>{'added_at': '2023-09-15T20:24:26Z', 'added_by...</td>\n      <td>100</td>\n      <td>None</td>\n      <td>0</td>\n      <td>None</td>\n      <td>79</td>\n    </tr>\n    <tr>\n      <th>77</th>\n      <td>https://api.spotify.com/v1/playlists/75OAYmyh8...</td>\n      <td>{'added_at': '2023-09-15T20:24:33Z', 'added_by...</td>\n      <td>100</td>\n      <td>None</td>\n      <td>0</td>\n      <td>None</td>\n      <td>79</td>\n    </tr>\n    <tr>\n      <th>78</th>\n      <td>https://api.spotify.com/v1/playlists/75OAYmyh8...</td>\n      <td>{'added_at': '2023-09-15T20:24:40Z', 'added_by...</td>\n      <td>100</td>\n      <td>None</td>\n      <td>0</td>\n      <td>None</td>\n      <td>79</td>\n    </tr>\n  </tbody>\n</table>\n<p>79 rows × 7 columns</p>\n</div>"
     },
     "execution_count": 40,
     "metadata": {},
     "output_type": "execute_result"
    }
   ],
   "source": [
    "# playlist_tracks(user_id: String, playlist_id: String): json_dict\n",
    "playlist_tracks = pd.DataFrame(sp.user_playlist_tracks(\"rich6833spot\", \"75OAYmyh848DuB16eLqBtk\"))\n",
    "playlist_tracks"
   ],
   "metadata": {
    "collapsed": false,
    "ExecuteTime": {
     "end_time": "2023-10-05T18:28:31.804861Z",
     "start_time": "2023-10-05T18:28:31.141701Z"
    }
   },
   "id": "2ab8389a4a0a8a5d"
  },
  {
   "cell_type": "code",
   "execution_count": 41,
   "outputs": [
    {
     "data": {
      "text/plain": "{'album': {'album_type': 'album',\n  'artists': [{'external_urls': {'spotify': 'https://open.spotify.com/artist/4ogvuDRerGhZfSf7TtzHlr'},\n    'href': 'https://api.spotify.com/v1/artists/4ogvuDRerGhZfSf7TtzHlr',\n    'id': '4ogvuDRerGhZfSf7TtzHlr',\n    'name': \"Israel Kamakawiwo'ole\",\n    'type': 'artist',\n    'uri': 'spotify:artist:4ogvuDRerGhZfSf7TtzHlr'}],\n  'available_markets': ['AR',\n   'AU',\n   'AT',\n   'BE',\n   'BO',\n   'BR',\n   'BG',\n   'CA',\n   'CL',\n   'CO',\n   'CR',\n   'CY',\n   'CZ',\n   'DK',\n   'DO',\n   'DE',\n   'EC',\n   'EE',\n   'SV',\n   'FI',\n   'FR',\n   'GR',\n   'GT',\n   'HN',\n   'HK',\n   'HU',\n   'IS',\n   'IE',\n   'IT',\n   'LV',\n   'LT',\n   'LU',\n   'MY',\n   'MT',\n   'MX',\n   'NL',\n   'NZ',\n   'NI',\n   'NO',\n   'PA',\n   'PY',\n   'PE',\n   'PH',\n   'PL',\n   'PT',\n   'SG',\n   'SK',\n   'ES',\n   'SE',\n   'CH',\n   'TW',\n   'TR',\n   'UY',\n   'US',\n   'GB',\n   'AD',\n   'LI',\n   'MC',\n   'ID',\n   'JP',\n   'TH',\n   'VN',\n   'RO',\n   'IL',\n   'ZA',\n   'SA',\n   'AE',\n   'BH',\n   'QA',\n   'OM',\n   'KW',\n   'EG',\n   'MA',\n   'DZ',\n   'TN',\n   'LB',\n   'JO',\n   'PS',\n   'IN',\n   'BY',\n   'KZ',\n   'MD',\n   'UA',\n   'AL',\n   'BA',\n   'HR',\n   'ME',\n   'MK',\n   'RS',\n   'SI',\n   'KR',\n   'BD',\n   'PK',\n   'LK',\n   'GH',\n   'KE',\n   'NG',\n   'TZ',\n   'UG',\n   'AG',\n   'AM',\n   'BS',\n   'BB',\n   'BZ',\n   'BT',\n   'BW',\n   'BF',\n   'CV',\n   'CW',\n   'DM',\n   'FJ',\n   'GM',\n   'GE',\n   'GD',\n   'GW',\n   'GY',\n   'HT',\n   'JM',\n   'KI',\n   'LS',\n   'LR',\n   'MW',\n   'MV',\n   'ML',\n   'MH',\n   'FM',\n   'NA',\n   'NR',\n   'NE',\n   'PW',\n   'PG',\n   'WS',\n   'SM',\n   'ST',\n   'SN',\n   'SC',\n   'SL',\n   'SB',\n   'KN',\n   'LC',\n   'VC',\n   'SR',\n   'TL',\n   'TO',\n   'TT',\n   'TV',\n   'VU',\n   'AZ',\n   'BN',\n   'BI',\n   'KH',\n   'CM',\n   'TD',\n   'KM',\n   'GQ',\n   'SZ',\n   'GA',\n   'GN',\n   'KG',\n   'LA',\n   'MO',\n   'MR',\n   'MN',\n   'NP',\n   'RW',\n   'TG',\n   'UZ',\n   'ZW',\n   'BJ',\n   'MG',\n   'MU',\n   'MZ',\n   'AO',\n   'CI',\n   'DJ',\n   'ZM',\n   'CD',\n   'CG',\n   'IQ',\n   'LY',\n   'TJ',\n   'VE',\n   'ET',\n   'XK'],\n  'external_urls': {'spotify': 'https://open.spotify.com/album/0pquf1NcG9FdiypBPwICu9'},\n  'href': 'https://api.spotify.com/v1/albums/0pquf1NcG9FdiypBPwICu9',\n  'id': '0pquf1NcG9FdiypBPwICu9',\n  'images': [{'height': 640,\n    'url': 'https://i.scdn.co/image/ab67616d0000b273d358679de4783983510aa57d',\n    'width': 640},\n   {'height': 300,\n    'url': 'https://i.scdn.co/image/ab67616d00001e02d358679de4783983510aa57d',\n    'width': 300},\n   {'height': 64,\n    'url': 'https://i.scdn.co/image/ab67616d00004851d358679de4783983510aa57d',\n    'width': 64}],\n  'name': 'Facing Future',\n  'release_date': '1993-11-01',\n  'release_date_precision': 'day',\n  'total_tracks': 15,\n  'type': 'album',\n  'uri': 'spotify:album:0pquf1NcG9FdiypBPwICu9'},\n 'artists': [{'external_urls': {'spotify': 'https://open.spotify.com/artist/4ogvuDRerGhZfSf7TtzHlr'},\n   'href': 'https://api.spotify.com/v1/artists/4ogvuDRerGhZfSf7TtzHlr',\n   'id': '4ogvuDRerGhZfSf7TtzHlr',\n   'name': \"Israel Kamakawiwo'ole\",\n   'type': 'artist',\n   'uri': 'spotify:artist:4ogvuDRerGhZfSf7TtzHlr'}],\n 'available_markets': ['AR',\n  'AU',\n  'AT',\n  'BE',\n  'BO',\n  'BR',\n  'BG',\n  'CA',\n  'CL',\n  'CO',\n  'CR',\n  'CY',\n  'CZ',\n  'DK',\n  'DO',\n  'DE',\n  'EC',\n  'EE',\n  'SV',\n  'FI',\n  'FR',\n  'GR',\n  'GT',\n  'HN',\n  'HK',\n  'HU',\n  'IS',\n  'IE',\n  'IT',\n  'LV',\n  'LT',\n  'LU',\n  'MY',\n  'MT',\n  'MX',\n  'NL',\n  'NZ',\n  'NI',\n  'NO',\n  'PA',\n  'PY',\n  'PE',\n  'PH',\n  'PL',\n  'PT',\n  'SG',\n  'SK',\n  'ES',\n  'SE',\n  'CH',\n  'TW',\n  'TR',\n  'UY',\n  'US',\n  'GB',\n  'AD',\n  'LI',\n  'MC',\n  'ID',\n  'JP',\n  'TH',\n  'VN',\n  'RO',\n  'IL',\n  'ZA',\n  'SA',\n  'AE',\n  'BH',\n  'QA',\n  'OM',\n  'KW',\n  'EG',\n  'MA',\n  'DZ',\n  'TN',\n  'LB',\n  'JO',\n  'PS',\n  'IN',\n  'BY',\n  'KZ',\n  'MD',\n  'UA',\n  'AL',\n  'BA',\n  'HR',\n  'ME',\n  'MK',\n  'RS',\n  'SI',\n  'KR',\n  'BD',\n  'PK',\n  'LK',\n  'GH',\n  'KE',\n  'NG',\n  'TZ',\n  'UG',\n  'AG',\n  'AM',\n  'BS',\n  'BB',\n  'BZ',\n  'BT',\n  'BW',\n  'BF',\n  'CV',\n  'CW',\n  'DM',\n  'FJ',\n  'GM',\n  'GE',\n  'GD',\n  'GW',\n  'GY',\n  'HT',\n  'JM',\n  'KI',\n  'LS',\n  'LR',\n  'MW',\n  'MV',\n  'ML',\n  'MH',\n  'FM',\n  'NA',\n  'NR',\n  'NE',\n  'PW',\n  'PG',\n  'WS',\n  'SM',\n  'ST',\n  'SN',\n  'SC',\n  'SL',\n  'SB',\n  'KN',\n  'LC',\n  'VC',\n  'SR',\n  'TL',\n  'TO',\n  'TT',\n  'TV',\n  'VU',\n  'AZ',\n  'BN',\n  'BI',\n  'KH',\n  'CM',\n  'TD',\n  'KM',\n  'GQ',\n  'SZ',\n  'GA',\n  'GN',\n  'KG',\n  'LA',\n  'MO',\n  'MR',\n  'MN',\n  'NP',\n  'RW',\n  'TG',\n  'UZ',\n  'ZW',\n  'BJ',\n  'MG',\n  'MU',\n  'MZ',\n  'AO',\n  'CI',\n  'DJ',\n  'ZM',\n  'CD',\n  'CG',\n  'IQ',\n  'LY',\n  'TJ',\n  'VE',\n  'ET',\n  'XK'],\n 'disc_number': 1,\n 'duration_ms': 308026,\n 'episode': False,\n 'explicit': False,\n 'external_ids': {'isrc': 'USMAC9300084'},\n 'external_urls': {'spotify': 'https://open.spotify.com/track/25U7raB3ZSszayTYClh4hF'},\n 'href': 'https://api.spotify.com/v1/tracks/25U7raB3ZSszayTYClh4hF',\n 'id': '25U7raB3ZSszayTYClh4hF',\n 'is_local': False,\n 'name': 'Somewhere Over The Rainbow_What A Wonderful World',\n 'popularity': 71,\n 'preview_url': 'https://p.scdn.co/mp3-preview/4b369644bedf2042131031ab4e32a7afd83271f4?cid=5c7c2508c17a4c56b08181fb82eaf726',\n 'track': True,\n 'track_number': 14,\n 'type': 'track',\n 'uri': 'spotify:track:25U7raB3ZSszayTYClh4hF'}"
     },
     "execution_count": 41,
     "metadata": {},
     "output_type": "execute_result"
    }
   ],
   "source": [
    "sample_track = playlist_tracks.iloc[0][\"items\"][\"track\"]\n",
    "sample_track"
   ],
   "metadata": {
    "collapsed": false,
    "ExecuteTime": {
     "end_time": "2023-10-05T18:28:31.868656Z",
     "start_time": "2023-10-05T18:28:31.813107Z"
    }
   },
   "id": "26aed3d091ae64a2"
  },
  {
   "cell_type": "code",
   "execution_count": 42,
   "outputs": [
    {
     "name": "stderr",
     "output_type": "stream",
     "text": [
      "/Users/owenyaggy/code/EncodingMusic/spotify_tools.py:65: FutureWarning:\n",
      "\n",
      "The behavior of DataFrame concatenation with empty or all-NA entries is deprecated. In a future version, this will no longer exclude empty or all-NA columns when determining the result dtypes. To retain the old behavior, exclude the relevant entries before the concat operation.\n",
      "\n"
     ]
    },
    {
     "data": {
      "text/plain": "                  artist                                             album  \\\n0  Israel Kamakawiwo'ole                                     Facing Future   \n1                  Queen  A Night At The Opera (Deluxe Remastered Version)   \n2                 VOCES8                                    Enchanted Isle   \n3        Michael Jackson                                         Dangerous   \n4               Coldplay                                     Ghost Stories   \n\n                                          track_name                track_id  \\\n0  Somewhere Over The Rainbow_What A Wonderful World  25U7raB3ZSszayTYClh4hF   \n1                Bohemian Rhapsody - Remastered 2011  7tFiyTwD0nx5a1eklYtX2J   \n2                                 The Sun never says  2aAzKiCSR8Ine2vYEbbVaB   \n3                                     Heal the World  7woW97CfcWaKtuC6W5BP2K   \n4                                A Sky Full of Stars  0FDzzruyVECATHXKHFs9eJ   \n\n   danceability  energy key  loudness mode  speechiness  instrumentalness  \\\n0        0.6630  0.1680   0   -13.725    1       0.0448          0.000057   \n1        0.3920  0.4020   0    -9.961    0       0.0536          0.000000   \n2        0.0726  0.0946   8   -21.337    1       0.0412          0.956000   \n3        0.5450  0.4850   9    -8.045    1       0.0485          0.000002   \n4        0.5450  0.6750   6    -6.474    1       0.0279          0.001970   \n\n   liveness  valence    tempo duration_ms time_signature  \n0    0.3610   0.6780   85.005      308027              4  \n1    0.2430   0.2280  143.883      354320              4  \n2    0.0981   0.0361   75.089      290693              5  \n3    0.1040   0.1010   80.948      384307              4  \n4    0.2090   0.1620  124.970      267867              4  ",
      "text/html": "<div>\n<style scoped>\n    .dataframe tbody tr th:only-of-type {\n        vertical-align: middle;\n    }\n\n    .dataframe tbody tr th {\n        vertical-align: top;\n    }\n\n    .dataframe thead th {\n        text-align: right;\n    }\n</style>\n<table border=\"1\" class=\"dataframe\">\n  <thead>\n    <tr style=\"text-align: right;\">\n      <th></th>\n      <th>artist</th>\n      <th>album</th>\n      <th>track_name</th>\n      <th>track_id</th>\n      <th>danceability</th>\n      <th>energy</th>\n      <th>key</th>\n      <th>loudness</th>\n      <th>mode</th>\n      <th>speechiness</th>\n      <th>instrumentalness</th>\n      <th>liveness</th>\n      <th>valence</th>\n      <th>tempo</th>\n      <th>duration_ms</th>\n      <th>time_signature</th>\n    </tr>\n  </thead>\n  <tbody>\n    <tr>\n      <th>0</th>\n      <td>Israel Kamakawiwo'ole</td>\n      <td>Facing Future</td>\n      <td>Somewhere Over The Rainbow_What A Wonderful World</td>\n      <td>25U7raB3ZSszayTYClh4hF</td>\n      <td>0.6630</td>\n      <td>0.1680</td>\n      <td>0</td>\n      <td>-13.725</td>\n      <td>1</td>\n      <td>0.0448</td>\n      <td>0.000057</td>\n      <td>0.3610</td>\n      <td>0.6780</td>\n      <td>85.005</td>\n      <td>308027</td>\n      <td>4</td>\n    </tr>\n    <tr>\n      <th>1</th>\n      <td>Queen</td>\n      <td>A Night At The Opera (Deluxe Remastered Version)</td>\n      <td>Bohemian Rhapsody - Remastered 2011</td>\n      <td>7tFiyTwD0nx5a1eklYtX2J</td>\n      <td>0.3920</td>\n      <td>0.4020</td>\n      <td>0</td>\n      <td>-9.961</td>\n      <td>0</td>\n      <td>0.0536</td>\n      <td>0.000000</td>\n      <td>0.2430</td>\n      <td>0.2280</td>\n      <td>143.883</td>\n      <td>354320</td>\n      <td>4</td>\n    </tr>\n    <tr>\n      <th>2</th>\n      <td>VOCES8</td>\n      <td>Enchanted Isle</td>\n      <td>The Sun never says</td>\n      <td>2aAzKiCSR8Ine2vYEbbVaB</td>\n      <td>0.0726</td>\n      <td>0.0946</td>\n      <td>8</td>\n      <td>-21.337</td>\n      <td>1</td>\n      <td>0.0412</td>\n      <td>0.956000</td>\n      <td>0.0981</td>\n      <td>0.0361</td>\n      <td>75.089</td>\n      <td>290693</td>\n      <td>5</td>\n    </tr>\n    <tr>\n      <th>3</th>\n      <td>Michael Jackson</td>\n      <td>Dangerous</td>\n      <td>Heal the World</td>\n      <td>7woW97CfcWaKtuC6W5BP2K</td>\n      <td>0.5450</td>\n      <td>0.4850</td>\n      <td>9</td>\n      <td>-8.045</td>\n      <td>1</td>\n      <td>0.0485</td>\n      <td>0.000002</td>\n      <td>0.1040</td>\n      <td>0.1010</td>\n      <td>80.948</td>\n      <td>384307</td>\n      <td>4</td>\n    </tr>\n    <tr>\n      <th>4</th>\n      <td>Coldplay</td>\n      <td>Ghost Stories</td>\n      <td>A Sky Full of Stars</td>\n      <td>0FDzzruyVECATHXKHFs9eJ</td>\n      <td>0.5450</td>\n      <td>0.6750</td>\n      <td>6</td>\n      <td>-6.474</td>\n      <td>1</td>\n      <td>0.0279</td>\n      <td>0.001970</td>\n      <td>0.2090</td>\n      <td>0.1620</td>\n      <td>124.970</td>\n      <td>267867</td>\n      <td>4</td>\n    </tr>\n  </tbody>\n</table>\n</div>"
     },
     "execution_count": 42,
     "metadata": {},
     "output_type": "execute_result"
    }
   ],
   "source": [
    "playlist_audio_features = spotify_tools.analyze_playlist(creator_id, playlist_id, sp) #Stores the resulting data frame as the variable: playlist_data_frame\n",
    "playlist_audio_features.head(5) #Displays the first n rows of the data frame "
   ],
   "metadata": {
    "collapsed": false,
    "ExecuteTime": {
     "end_time": "2023-10-05T18:28:41.606161Z",
     "start_time": "2023-10-05T18:28:31.854811Z"
    }
   },
   "id": "b72697f5f72552a9"
  },
  {
   "cell_type": "code",
   "execution_count": 43,
   "outputs": [
    {
     "name": "stderr",
     "output_type": "stream",
     "text": [
      "/Users/owenyaggy/code/EncodingMusic/spotify_tools.py:40: FutureWarning:\n",
      "\n",
      "The behavior of DataFrame concatenation with empty or all-NA entries is deprecated. In a future version, this will no longer exclude empty or all-NA columns when determining the result dtypes. To retain the old behavior, exclude the relevant entries before the concat operation.\n",
      "\n"
     ]
    },
    {
     "data": {
      "text/html": "<iframe\n    scrolling=\"no\"\n    width=\"100%\"\n    height=\"545px\"\n    src=\"iframe_figures/figure_43.html\"\n    frameborder=\"0\"\n    allowfullscreen\n></iframe>\n"
     },
     "metadata": {},
     "output_type": "display_data"
    },
    {
     "ename": "ValueError",
     "evalue": "\nImage export using the \"kaleido\" engine requires the kaleido package,\nwhich can be installed using pip:\n    $ pip install -U kaleido\n",
     "output_type": "error",
     "traceback": [
      "\u001B[0;31m---------------------------------------------------------------------------\u001B[0m",
      "\u001B[0;31mValueError\u001B[0m                                Traceback (most recent call last)",
      "Cell \u001B[0;32mIn[43], line 21\u001B[0m\n\u001B[1;32m     18\u001B[0m         get_radar_plot(item, features_list, sp)\n\u001B[1;32m     20\u001B[0m playlist_id \u001B[38;5;241m=\u001B[39m \u001B[38;5;124m\"\u001B[39m\u001B[38;5;124m1NppEwvZhkjeG3ZTYoOwVM\u001B[39m\u001B[38;5;124m\"\u001B[39m\n\u001B[0;32m---> 21\u001B[0m \u001B[43mget_radar_plot\u001B[49m\u001B[43m(\u001B[49m\u001B[43mplaylist_id\u001B[49m\u001B[43m,\u001B[49m\u001B[43m \u001B[49m\u001B[43mfeature_columns\u001B[49m\u001B[43m,\u001B[49m\u001B[43m \u001B[49m\u001B[43msp\u001B[49m\u001B[43m)\u001B[49m\n",
      "Cell \u001B[0;32mIn[43], line 14\u001B[0m, in \u001B[0;36mget_radar_plot\u001B[0;34m(playlist_id, features_list, spotipy_client)\u001B[0m\n\u001B[1;32m     12\u001B[0m fig \u001B[38;5;241m=\u001B[39m go\u001B[38;5;241m.\u001B[39mFigure(current_data, )\n\u001B[1;32m     13\u001B[0m fig\u001B[38;5;241m.\u001B[39mshow(renderer\u001B[38;5;241m=\u001B[39m\u001B[38;5;124m'\u001B[39m\u001B[38;5;124miframe\u001B[39m\u001B[38;5;124m'\u001B[39m)\n\u001B[0;32m---> 14\u001B[0m \u001B[43mfig\u001B[49m\u001B[38;5;241;43m.\u001B[39;49m\u001B[43mwrite_image\u001B[49m\u001B[43m(\u001B[49m\u001B[43mplaylist_id\u001B[49m\u001B[43m \u001B[49m\u001B[38;5;241;43m+\u001B[39;49m\u001B[43m \u001B[49m\u001B[38;5;124;43m'\u001B[39;49m\u001B[38;5;124;43m.png\u001B[39;49m\u001B[38;5;124;43m'\u001B[39;49m\u001B[43m,\u001B[49m\u001B[43m \u001B[49m\u001B[43mwidth\u001B[49m\u001B[38;5;241;43m=\u001B[39;49m\u001B[38;5;241;43m1200\u001B[39;49m\u001B[43m,\u001B[49m\u001B[43m \u001B[49m\u001B[43mheight\u001B[49m\u001B[38;5;241;43m=\u001B[39;49m\u001B[38;5;241;43m800\u001B[39;49m\u001B[43m)\u001B[49m\n",
      "File \u001B[0;32m~/code/EncodingMusic/venv/lib/python3.10/site-packages/plotly/basedatatypes.py:3843\u001B[0m, in \u001B[0;36mBaseFigure.write_image\u001B[0;34m(self, *args, **kwargs)\u001B[0m\n\u001B[1;32m   3783\u001B[0m \u001B[38;5;250m\u001B[39m\u001B[38;5;124;03m\"\"\"\u001B[39;00m\n\u001B[1;32m   3784\u001B[0m \u001B[38;5;124;03mConvert a figure to a static image and write it to a file or writeable\u001B[39;00m\n\u001B[1;32m   3785\u001B[0m \u001B[38;5;124;03mobject\u001B[39;00m\n\u001B[0;32m   (...)\u001B[0m\n\u001B[1;32m   3839\u001B[0m \u001B[38;5;124;03mNone\u001B[39;00m\n\u001B[1;32m   3840\u001B[0m \u001B[38;5;124;03m\"\"\"\u001B[39;00m\n\u001B[1;32m   3841\u001B[0m \u001B[38;5;28;01mimport\u001B[39;00m \u001B[38;5;21;01mplotly\u001B[39;00m\u001B[38;5;21;01m.\u001B[39;00m\u001B[38;5;21;01mio\u001B[39;00m \u001B[38;5;28;01mas\u001B[39;00m \u001B[38;5;21;01mpio\u001B[39;00m\n\u001B[0;32m-> 3843\u001B[0m \u001B[38;5;28;01mreturn\u001B[39;00m \u001B[43mpio\u001B[49m\u001B[38;5;241;43m.\u001B[39;49m\u001B[43mwrite_image\u001B[49m\u001B[43m(\u001B[49m\u001B[38;5;28;43mself\u001B[39;49m\u001B[43m,\u001B[49m\u001B[43m \u001B[49m\u001B[38;5;241;43m*\u001B[39;49m\u001B[43margs\u001B[49m\u001B[43m,\u001B[49m\u001B[43m \u001B[49m\u001B[38;5;241;43m*\u001B[39;49m\u001B[38;5;241;43m*\u001B[39;49m\u001B[43mkwargs\u001B[49m\u001B[43m)\u001B[49m\n",
      "File \u001B[0;32m~/code/EncodingMusic/venv/lib/python3.10/site-packages/plotly/io/_kaleido.py:267\u001B[0m, in \u001B[0;36mwrite_image\u001B[0;34m(fig, file, format, scale, width, height, validate, engine)\u001B[0m\n\u001B[1;32m    251\u001B[0m             \u001B[38;5;28;01mraise\u001B[39;00m \u001B[38;5;167;01mValueError\u001B[39;00m(\n\u001B[1;32m    252\u001B[0m \u001B[38;5;250m                \u001B[39m\u001B[38;5;124;03m\"\"\"\u001B[39;00m\n\u001B[1;32m    253\u001B[0m \u001B[38;5;124;03mCannot infer image type from output path '{file}'.\u001B[39;00m\n\u001B[0;32m   (...)\u001B[0m\n\u001B[1;32m    261\u001B[0m                 )\n\u001B[1;32m    262\u001B[0m             )\n\u001B[1;32m    264\u001B[0m     \u001B[38;5;66;03m# Request image\u001B[39;00m\n\u001B[1;32m    265\u001B[0m     \u001B[38;5;66;03m# -------------\u001B[39;00m\n\u001B[1;32m    266\u001B[0m     \u001B[38;5;66;03m# Do this first so we don't create a file if image conversion fails\u001B[39;00m\n\u001B[0;32m--> 267\u001B[0m     img_data \u001B[38;5;241m=\u001B[39m \u001B[43mto_image\u001B[49m\u001B[43m(\u001B[49m\n\u001B[1;32m    268\u001B[0m \u001B[43m        \u001B[49m\u001B[43mfig\u001B[49m\u001B[43m,\u001B[49m\n\u001B[1;32m    269\u001B[0m \u001B[43m        \u001B[49m\u001B[38;5;28;43mformat\u001B[39;49m\u001B[38;5;241;43m=\u001B[39;49m\u001B[38;5;28;43mformat\u001B[39;49m\u001B[43m,\u001B[49m\n\u001B[1;32m    270\u001B[0m \u001B[43m        \u001B[49m\u001B[43mscale\u001B[49m\u001B[38;5;241;43m=\u001B[39;49m\u001B[43mscale\u001B[49m\u001B[43m,\u001B[49m\n\u001B[1;32m    271\u001B[0m \u001B[43m        \u001B[49m\u001B[43mwidth\u001B[49m\u001B[38;5;241;43m=\u001B[39;49m\u001B[43mwidth\u001B[49m\u001B[43m,\u001B[49m\n\u001B[1;32m    272\u001B[0m \u001B[43m        \u001B[49m\u001B[43mheight\u001B[49m\u001B[38;5;241;43m=\u001B[39;49m\u001B[43mheight\u001B[49m\u001B[43m,\u001B[49m\n\u001B[1;32m    273\u001B[0m \u001B[43m        \u001B[49m\u001B[43mvalidate\u001B[49m\u001B[38;5;241;43m=\u001B[39;49m\u001B[43mvalidate\u001B[49m\u001B[43m,\u001B[49m\n\u001B[1;32m    274\u001B[0m \u001B[43m        \u001B[49m\u001B[43mengine\u001B[49m\u001B[38;5;241;43m=\u001B[39;49m\u001B[43mengine\u001B[49m\u001B[43m,\u001B[49m\n\u001B[1;32m    275\u001B[0m \u001B[43m    \u001B[49m\u001B[43m)\u001B[49m\n\u001B[1;32m    277\u001B[0m     \u001B[38;5;66;03m# Open file\u001B[39;00m\n\u001B[1;32m    278\u001B[0m     \u001B[38;5;66;03m# ---------\u001B[39;00m\n\u001B[1;32m    279\u001B[0m     \u001B[38;5;28;01mif\u001B[39;00m path \u001B[38;5;129;01mis\u001B[39;00m \u001B[38;5;28;01mNone\u001B[39;00m:\n\u001B[1;32m    280\u001B[0m         \u001B[38;5;66;03m# We previously failed to make sense of `file` as a pathlib object.\u001B[39;00m\n\u001B[1;32m    281\u001B[0m         \u001B[38;5;66;03m# Attempt to write to `file` as an open file descriptor.\u001B[39;00m\n",
      "File \u001B[0;32m~/code/EncodingMusic/venv/lib/python3.10/site-packages/plotly/io/_kaleido.py:133\u001B[0m, in \u001B[0;36mto_image\u001B[0;34m(fig, format, width, height, scale, validate, engine)\u001B[0m\n\u001B[1;32m    131\u001B[0m     \u001B[38;5;66;03m# Raise informative error message if Kaleido is not installed\u001B[39;00m\n\u001B[1;32m    132\u001B[0m     \u001B[38;5;28;01mif\u001B[39;00m scope \u001B[38;5;129;01mis\u001B[39;00m \u001B[38;5;28;01mNone\u001B[39;00m:\n\u001B[0;32m--> 133\u001B[0m         \u001B[38;5;28;01mraise\u001B[39;00m \u001B[38;5;167;01mValueError\u001B[39;00m(\n\u001B[1;32m    134\u001B[0m \u001B[38;5;250m            \u001B[39m\u001B[38;5;124;03m\"\"\"\u001B[39;00m\n\u001B[1;32m    135\u001B[0m \u001B[38;5;124;03mImage export using the \"kaleido\" engine requires the kaleido package,\u001B[39;00m\n\u001B[1;32m    136\u001B[0m \u001B[38;5;124;03mwhich can be installed using pip:\u001B[39;00m\n\u001B[1;32m    137\u001B[0m \u001B[38;5;124;03m    $ pip install -U kaleido\u001B[39;00m\n\u001B[1;32m    138\u001B[0m \u001B[38;5;124;03m\"\"\"\u001B[39;00m\n\u001B[1;32m    139\u001B[0m         )\n\u001B[1;32m    141\u001B[0m     \u001B[38;5;66;03m# Validate figure\u001B[39;00m\n\u001B[1;32m    142\u001B[0m     \u001B[38;5;66;03m# ---------------\u001B[39;00m\n\u001B[1;32m    143\u001B[0m     fig_dict \u001B[38;5;241m=\u001B[39m validate_coerce_fig_to_dict(fig, validate)\n",
      "\u001B[0;31mValueError\u001B[0m: \nImage export using the \"kaleido\" engine requires the kaleido package,\nwhich can be installed using pip:\n    $ pip install -U kaleido\n"
     ]
    }
   ],
   "source": [
    "feature_columns = [\"danceability\", \"energy\", \"speechiness\", \"liveness\", \"instrumentalness\", \"valence\", \"danceability\"]\n",
    "def createRadarElement(row, feature_cols):\n",
    "    return go.Scatterpolar(\n",
    "        r = row[feature_cols].values.tolist(), \n",
    "        theta = feature_cols, \n",
    "        mode = 'lines', \n",
    "        name = row['track_name'])\n",
    "\n",
    "def get_radar_plot(playlist_id, features_list, spotipy_client):\n",
    "    current_playlist_audio_df = spotify_tools.get_audio_features_df(pd.DataFrame(spotipy_client.playlist_items(playlist_id)), spotipy_client)\n",
    "    current_data = list(current_playlist_audio_df.apply(createRadarElement, axis=1, args=(features_list, )))  \n",
    "    fig = go.Figure(current_data, )\n",
    "    fig.show(renderer='iframe')\n",
    "    fig.write_image(playlist_id + '.png', width=1200, height=800)\n",
    "    \n",
    "def get_radar_plots(playlist_id_list, features_list):\n",
    "    for item in playlist_id_list:\n",
    "        get_radar_plot(item, features_list, sp)\n",
    "        \n",
    "playlist_id = \"1NppEwvZhkjeG3ZTYoOwVM\"\n",
    "get_radar_plot(playlist_id, feature_columns, sp)"
   ],
   "metadata": {
    "collapsed": false,
    "ExecuteTime": {
     "end_time": "2023-10-05T18:28:43.395347Z",
     "start_time": "2023-10-05T18:28:41.609237Z"
    }
   },
   "id": "df150b148150131"
  },
  {
   "cell_type": "code",
   "execution_count": null,
   "outputs": [],
   "source": [
    "playlist_audio_features[(playlist_tracks['danceability'] < 0.4) and (playlist_tracks['intstrumentalness'] > 0.6)]"
   ],
   "metadata": {
    "collapsed": false,
    "ExecuteTime": {
     "end_time": "2023-10-05T18:28:43.400112Z",
     "start_time": "2023-10-05T18:28:43.398999Z"
    }
   },
   "id": "44a60bfb8ded618a"
  },
  {
   "cell_type": "code",
   "execution_count": null,
   "outputs": [],
   "source": [],
   "metadata": {
    "collapsed": false,
    "ExecuteTime": {
     "start_time": "2023-10-05T18:28:43.402226Z"
    }
   },
   "id": "aa8085e7f2e9100c"
  }
 ],
 "metadata": {
  "kernelspec": {
   "display_name": "Python 3",
   "language": "python",
   "name": "python3"
  },
  "language_info": {
   "codemirror_mode": {
    "name": "ipython",
    "version": 2
   },
   "file_extension": ".py",
   "mimetype": "text/x-python",
   "name": "python",
   "nbconvert_exporter": "python",
   "pygments_lexer": "ipython2",
   "version": "2.7.6"
  }
 },
 "nbformat": 4,
 "nbformat_minor": 5
}
