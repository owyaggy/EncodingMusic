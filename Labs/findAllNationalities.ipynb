{
 "cells": [
  {
   "cell_type": "code",
   "execution_count": 2,
   "outputs": [],
   "source": [
    "import pandas as pd\n",
    "\n",
    "df = pd.read_csv('CarnegieData/nationalities.csv')"
   ],
   "metadata": {
    "collapsed": false,
    "ExecuteTime": {
     "end_time": "2023-12-20T01:44:16.507481Z",
     "start_time": "2023-12-20T01:44:16.486690Z"
    }
   },
   "id": "d10345a49e65930c"
  },
  {
   "cell_type": "code",
   "execution_count": 34,
   "outputs": [],
   "source": [
    "def convert_str_to_list(fake_list: str):\n",
    "    quotes = []\n",
    "    nations = []\n",
    "    for i in range(len(fake_list)):\n",
    "        if fake_list[i] == \"'\" and fake_list[i + 1] != \"s\":\n",
    "            quotes.append(i)\n",
    "    \n",
    "    interval = 0\n",
    "    while interval + 2 <= len(quotes):\n",
    "        nations.append(fake_list[quotes[0 + interval] + 1 : quotes[1 + interval]])\n",
    "        interval += 2\n",
    "    return nations"
   ],
   "metadata": {
    "collapsed": false,
    "ExecuteTime": {
     "end_time": "2023-12-20T01:55:21.627841Z",
     "start_time": "2023-12-20T01:55:21.622633Z"
    }
   },
   "id": "f7be226aa11eabb1"
  },
  {
   "cell_type": "code",
   "execution_count": 35,
   "outputs": [],
   "source": [
    "all_nations = set()\n",
    "last = None\n",
    "for item in df['nationalities']:\n",
    "    for nation in convert_str_to_list(item):\n",
    "        all_nations.add(nation)"
   ],
   "metadata": {
    "collapsed": true,
    "ExecuteTime": {
     "end_time": "2023-12-20T01:55:22.458359Z",
     "start_time": "2023-12-20T01:55:22.451299Z"
    }
   },
   "id": "initial_id"
  },
  {
   "cell_type": "code",
   "execution_count": 36,
   "outputs": [
    {
     "data": {
      "text/plain": "{'Ancient Rome',\n 'Archbishopric of Salzburg',\n 'Archduchy of Austria',\n 'Argentina',\n 'Armenia',\n 'Australia',\n 'Austria',\n 'Austria-Hungary',\n 'Austrian Empire',\n 'Azerbaijan',\n 'Azerbaijan Democratic Republic',\n 'Belgium',\n 'Bohemia',\n 'Brandenburg-Prussia',\n 'Brazil',\n 'British America',\n 'British Raj',\n 'British Virgin Islands',\n 'Bulgaria',\n 'Cameroon',\n 'Canada',\n 'Chile',\n 'Cisleithania',\n 'Classical Athens',\n 'Colombia',\n 'Congress Poland',\n 'Croatia',\n 'Crown of Castile',\n 'Cuba',\n 'Czech Republic',\n 'Czechoslovakia',\n 'Denmark',\n 'Denmark–Norway',\n 'Dominican Republic',\n 'Dominion of India',\n 'Duchy of Brunswick-Lüneburg',\n 'Duchy of Ferrara',\n 'Duchy of Parma and Piacenza',\n 'Duchy of Warsaw',\n 'Duchy of Württemberg',\n 'Dutch Republic',\n 'Ecuador',\n 'Electorate of Cologne',\n 'Electorate of Saxony',\n 'Empire of Japan',\n 'England',\n 'Estonia',\n 'Ethiopia',\n 'Federal State of Austria',\n 'Finland',\n 'First French Empire',\n 'First Republic of Austria',\n 'France',\n 'French Second Republic',\n 'French Third Republic',\n 'Georgia',\n 'German Confederation',\n 'German Democratic Republic',\n 'German Empire',\n 'German Reich',\n 'Germany',\n 'Grand Duchy of Hesse',\n 'Grand Duchy of Mecklenburg-Schwerin',\n 'Grand Duchy of Oldenburg',\n 'Grand Duchy of Tuscany',\n 'Greece',\n 'Guatemala',\n 'Habsburg Netherlands',\n 'Haiti',\n 'Hamburg',\n 'Holy Roman Empire',\n 'Hungary',\n 'Iceland',\n 'India',\n 'Indonesia',\n 'Iran',\n 'Iraq',\n 'Irish Free State',\n 'Israel',\n 'Italy',\n 'Jamaica',\n 'Japan',\n 'Kazakhstan',\n 'Kingdom of Bavaria',\n 'Kingdom of Bohemia',\n 'Kingdom of Denmark',\n 'Kingdom of England',\n 'Kingdom of France',\n 'Kingdom of Great Britain',\n 'Kingdom of Hanover',\n 'Kingdom of Hawaiʻi',\n 'Kingdom of Hungary',\n 'Kingdom of Ireland',\n 'Kingdom of Italy',\n 'Kingdom of Lombardy–Venetia',\n 'Kingdom of Naples',\n 'Kingdom of Navarre',\n 'Kingdom of Prussia',\n 'Kingdom of Romania',\n 'Kingdom of Saxony',\n 'Kingdom of Serbs, Croats and Slovenes',\n 'Kingdom of Sicily (1734-1816)',\n 'Kingdom of Spain',\n 'Kingdom of Yugoslavia',\n 'Kingdom of the Netherlands',\n 'Latvia',\n 'Lithuania',\n 'Mali',\n 'Malta',\n 'Mandatory Palestine',\n 'Mexico',\n 'Ming dynasty',\n 'Moldova',\n 'Monaco',\n 'Nazi Germany',\n 'New Zealand',\n 'Nigeria',\n 'Norway',\n 'Ottoman Empire',\n 'Panama',\n 'Papal States',\n 'Peru',\n 'Poland',\n 'Portugal',\n 'Prince-Bishopric of Liège',\n 'Prince-Bishopric of Lübeck',\n 'Puerto Rico',\n 'Qatar',\n 'Qing dynasty',\n 'Republic of China',\n 'Republic of Genoa',\n 'Republic of German-Austria',\n 'Republic of Ireland',\n 'Republic of Lucca',\n 'Republic of Venice',\n 'Romania',\n 'Russia',\n 'Russian Empire',\n 'Russian Republic',\n 'Russian Socialist Federative Soviet Republic',\n 'Russian Soviet Federative Socialist Republic',\n 'Saudi Arabia',\n 'Saxe-Eisenach',\n 'Saxe-Weimar',\n 'Saxe-Weimar-Eisenach',\n 'Scotland',\n 'Second French Empire',\n 'Second Polish Republic',\n 'Senegal',\n 'Serbia',\n 'Socialist Federal Republic of Yugoslavia',\n 'South Africa',\n 'South Korea',\n 'Soviet Union',\n 'Spain',\n 'Spanish Empire',\n 'Spanish Netherlands',\n 'State of Palestine',\n 'Sudan',\n 'Sultanate of Zanzibar',\n 'Sweden',\n 'Switzerland',\n 'Transcaucasian Socialist Federative Soviet Republic',\n 'Trinidad and Tobago',\n 'Turkey',\n 'Ukraine',\n 'Ukrainian Soviet Socialist Republic',\n 'Ukrainian State',\n 'United Kingdom',\n 'United Kingdom of Great Britain and Ireland',\n 'United Kingdom of the Netherlands',\n 'United States of America',\n 'Uruguay',\n 'Uzbekistan',\n 'Vatican City',\n 'Venezuela',\n 'Vietnam',\n 'Wales',\n 'Weimar Republic',\n 'West Germany'}"
     },
     "execution_count": 36,
     "metadata": {},
     "output_type": "execute_result"
    }
   ],
   "source": [
    "all_nations"
   ],
   "metadata": {
    "collapsed": false,
    "ExecuteTime": {
     "end_time": "2023-12-20T01:55:31.093487Z",
     "start_time": "2023-12-20T01:55:31.086698Z"
    }
   },
   "id": "e909346b13ced65"
  },
  {
   "cell_type": "code",
   "execution_count": 37,
   "outputs": [
    {
     "data": {
      "text/plain": "180"
     },
     "execution_count": 37,
     "metadata": {},
     "output_type": "execute_result"
    }
   ],
   "source": [
    "len(all_nations)"
   ],
   "metadata": {
    "collapsed": false,
    "ExecuteTime": {
     "end_time": "2023-12-20T01:55:46.628426Z",
     "start_time": "2023-12-20T01:55:46.621114Z"
    }
   },
   "id": "148a7de96354a46c"
  },
  {
   "cell_type": "code",
   "execution_count": 45,
   "outputs": [],
   "source": [
    "import csv\n",
    "\n",
    "with open('nationalities_list.csv', 'w') as csvfile:\n",
    "    spamwriter = csv.writer(csvfile, delimiter=',', quotechar='\"')\n",
    "    spamwriter.writerow(['Nation'])\n",
    "    for item in all_nations:\n",
    "        spamwriter.writerow([item])"
   ],
   "metadata": {
    "collapsed": false,
    "ExecuteTime": {
     "end_time": "2023-12-20T03:41:35.494508Z",
     "start_time": "2023-12-20T03:41:35.489789Z"
    }
   },
   "id": "f74af401af97e3d"
  },
  {
   "cell_type": "code",
   "execution_count": 40,
   "outputs": [
    {
     "name": "stdout",
     "output_type": "stream",
     "text": [
      "Dominican Republic\n",
      "Kingdom of Naples\n",
      "Austria-Hungary\n",
      "Cisleithania\n",
      "Peru\n",
      "Puerto Rico\n",
      "French Third Republic\n",
      "Wales\n",
      "Archduchy of Austria\n",
      "Grand Duchy of Hesse\n",
      "State of Palestine\n",
      "Mexico\n",
      "Papal States\n",
      "First French Empire\n",
      "Jamaica\n",
      "Holy Roman Empire\n",
      "Electorate of Saxony\n",
      "Qing dynasty\n",
      "Kingdom of Hungary\n",
      "Vatican City\n",
      "Bohemia\n",
      "Dutch Republic\n",
      "Classical Athens\n",
      "Israel\n",
      "Brazil\n",
      "Iceland\n",
      "Scotland\n",
      "Grand Duchy of Oldenburg\n",
      "Kingdom of Saxony\n",
      "Ukrainian State\n",
      "Dominion of India\n",
      "Kingdom of France\n",
      "Chile\n",
      "Armenia\n",
      "German Reich\n",
      "Mali\n",
      "Czechoslovakia\n",
      "Kingdom of the Netherlands\n",
      "Transcaucasian Socialist Federative Soviet Republic\n",
      "Sultanate of Zanzibar\n",
      "Denmark–Norway\n",
      "Russian Empire\n",
      "United Kingdom\n",
      "United Kingdom of the Netherlands\n",
      "Habsburg Netherlands\n",
      "Spain\n",
      "Georgia\n",
      "Irish Free State\n",
      "Kingdom of Serbs, Croats and Slovenes\n",
      "First Republic of Austria\n",
      "Ming dynasty\n",
      "Uruguay\n",
      "Greece\n",
      "Azerbaijan Democratic Republic\n",
      "Grand Duchy of Tuscany\n",
      "Saxe-Eisenach\n",
      "Hungary\n",
      "Austria\n",
      "Russia\n",
      "Kingdom of Ireland\n",
      "Haiti\n",
      "Serbia\n",
      "Canada\n",
      "India\n",
      "Ecuador\n",
      "Republic of China\n",
      "Electorate of Cologne\n",
      "Socialist Federal Republic of Yugoslavia\n",
      "Republic of Ireland\n",
      "Republic of Lucca\n",
      "Kingdom of Hanover\n",
      "French Second Republic\n",
      "Duchy of Parma and Piacenza\n",
      "Kingdom of Great Britain\n",
      "Bulgaria\n",
      "Panama\n",
      "British Raj\n",
      "Kingdom of Italy\n",
      "Nigeria\n",
      "German Confederation\n",
      "Republic of Genoa\n",
      "Second French Empire\n",
      "United Kingdom of Great Britain and Ireland\n",
      "Kingdom of Lombardy–Venetia\n",
      "Trinidad and Tobago\n",
      "Turkey\n",
      "Moldova\n",
      "Italy\n",
      "Kingdom of Spain\n",
      "Grand Duchy of Mecklenburg-Schwerin\n",
      "Kingdom of England\n",
      "Venezuela\n",
      "Kingdom of Sicily (1734-1816)\n",
      "Malta\n",
      "Saxe-Weimar\n",
      "Monaco\n",
      "Duchy of Württemberg\n",
      "Sudan\n",
      "Poland\n",
      "Japan\n",
      "Czech Republic\n",
      "Russian Soviet Federative Socialist Republic\n",
      "England\n",
      "Empire of Japan\n",
      "Ancient Rome\n",
      "Colombia\n",
      "Denmark\n",
      "British America\n",
      "Ottoman Empire\n",
      "Croatia\n",
      "British Virgin Islands\n",
      "Duchy of Warsaw\n",
      "New Zealand\n",
      "Sweden\n",
      "Congress Poland\n",
      "Spanish Empire\n",
      "Iran\n",
      "Hamburg\n",
      "Switzerland\n",
      "United States of America\n",
      "Soviet Union\n",
      "Kingdom of Bohemia\n",
      "Kazakhstan\n",
      "Iraq\n",
      "Russian Republic\n",
      "Republic of German-Austria\n",
      "Kingdom of Romania\n",
      "Romania\n",
      "Ethiopia\n",
      "Spanish Netherlands\n",
      "Finland\n",
      "German Democratic Republic\n",
      "Lithuania\n",
      "Norway\n",
      "Argentina\n",
      "Kingdom of Denmark\n",
      "Germany\n",
      "Cuba\n",
      "Estonia\n",
      "Kingdom of Yugoslavia\n",
      "German Empire\n",
      "Portugal\n",
      "Qatar\n",
      "France\n",
      "Ukraine\n",
      "Uzbekistan\n",
      "Second Polish Republic\n",
      "Prince-Bishopric of Lübeck\n",
      "South Korea\n",
      "Kingdom of Hawaiʻi\n",
      "Weimar Republic\n",
      "Mandatory Palestine\n",
      "Latvia\n",
      "Duchy of Ferrara\n",
      "Indonesia\n",
      "Kingdom of Prussia\n",
      "Crown of Castile\n",
      "Saudi Arabia\n",
      "Ukrainian Soviet Socialist Republic\n",
      "Duchy of Brunswick-Lüneburg\n",
      "Federal State of Austria\n",
      "Nazi Germany\n",
      "Archbishopric of Salzburg\n",
      "Kingdom of Bavaria\n",
      "Republic of Venice\n",
      "Prince-Bishopric of Liège\n",
      "Cameroon\n",
      "Kingdom of Navarre\n",
      "Vietnam\n",
      "Azerbaijan\n",
      "Russian Socialist Federative Soviet Republic\n",
      "Guatemala\n",
      "Belgium\n",
      "Austrian Empire\n",
      "West Germany\n",
      "Australia\n",
      "Brandenburg-Prussia\n",
      "South Africa\n",
      "Saxe-Weimar-Eisenach\n",
      "Senegal\n"
     ]
    }
   ],
   "source": [
    "for item in all_nations:\n",
    "    print(item)"
   ],
   "metadata": {
    "collapsed": false,
    "ExecuteTime": {
     "end_time": "2023-12-20T02:23:40.086027Z",
     "start_time": "2023-12-20T02:23:40.077449Z"
    }
   },
   "id": "35fe3bf69ef9933"
  },
  {
   "cell_type": "code",
   "execution_count": null,
   "outputs": [],
   "source": [],
   "metadata": {
    "collapsed": false
   },
   "id": "869d9f3c902e7b7"
  }
 ],
 "metadata": {
  "kernelspec": {
   "display_name": "Python 3",
   "language": "python",
   "name": "python3"
  },
  "language_info": {
   "codemirror_mode": {
    "name": "ipython",
    "version": 2
   },
   "file_extension": ".py",
   "mimetype": "text/x-python",
   "name": "python",
   "nbconvert_exporter": "python",
   "pygments_lexer": "ipython2",
   "version": "2.7.6"
  }
 },
 "nbformat": 4,
 "nbformat_minor": 5
}
