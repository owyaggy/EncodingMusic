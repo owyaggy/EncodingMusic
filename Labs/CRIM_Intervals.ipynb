{
 "cells": [
  {
   "cell_type": "markdown",
   "source": [
    "Import libraries"
   ],
   "metadata": {
    "collapsed": false
   },
   "id": "c49b3b8848aa5af"
  },
  {
   "cell_type": "code",
   "execution_count": 5,
   "outputs": [
    {
     "name": "stdout",
     "output_type": "stream",
     "text": [
      "created folder :  saved_csv\n",
      "created folder :  Music_Files\n"
     ]
    }
   ],
   "source": [
    "# import crim_intervals\n",
    "import crim_intervals\n",
    "from crim_intervals import * \n",
    "from crim_intervals import main_objs\n",
    "import crim_intervals.visualizations as viz\n",
    "# import pandas and other libraries\n",
    "import pandas as pd\n",
    "import re\n",
    "import altair as alt\n",
    "import matplotlib.pyplot as plt\n",
    "import seaborn as sns\n",
    "from ipywidgets import interact\n",
    "# from pandas.io.json import json_normalize\n",
    "from pyvis.network import Network\n",
    "from IPython.display import display\n",
    "import requests\n",
    "import os\n",
    "\n",
    "# for use in Jupyter notebook, create a local folder for music files\n",
    "MYDIR = (\"saved_csv\")\n",
    "CHECK_FOLDER = os.path.isdir(MYDIR)\n",
    "\n",
    "# If folder doesn't exist, then create it.\n",
    "if not CHECK_FOLDER:\n",
    "    os.makedirs(MYDIR)\n",
    "    print(\"created folder : \", MYDIR)\n",
    "else:\n",
    "    print(MYDIR, \"folder already exists.\")\n",
    "    \n",
    "MUSDIR = (\"Music_Files\")\n",
    "CHECK_FOLDER = os.path.isdir(MUSDIR)\n",
    "\n",
    "# If folder doesn't exist, then create it.\n",
    "if not CHECK_FOLDER:\n",
    "    os.makedirs(MUSDIR)\n",
    "    print(\"created folder : \", MUSDIR)\n",
    "\n",
    "else:\n",
    "    print(MUSDIR, \"folder already exists.\")"
   ],
   "metadata": {
    "collapsed": false,
    "ExecuteTime": {
     "end_time": "2023-11-13T20:47:08.002626Z",
     "start_time": "2023-11-13T20:47:07.994015Z"
    }
   },
   "id": "bff77def083a3eef"
  },
  {
   "cell_type": "markdown",
   "source": [
    "Next"
   ],
   "metadata": {
    "collapsed": false
   },
   "id": "945fb7fd85a4ea76"
  },
  {
   "cell_type": "code",
   "execution_count": 8,
   "outputs": [
    {
     "name": "stderr",
     "output_type": "stream",
     "text": [
      "/Users/owenyaggy/code/EncodingMusic/venv/lib/python3.10/site-packages/crim_intervals/main_objs.py:262: FutureWarning: DataFrame.applymap has been deprecated. Use DataFrame.map instead.\n",
      "  df = self._getM21Objs().applymap(self._remove_tied).dropna(how='all')\n",
      "/Users/owenyaggy/code/EncodingMusic/venv/lib/python3.10/site-packages/crim_intervals/main_objs.py:936: FutureWarning: Series.__getitem__ treating keys as positions is deprecated. In a future version, integer keys will always be treated as labels (consistent with DataFrame behavior). To access a value by position, use `ser.iloc[pos]`\n",
      "  if hasattr(row[0], 'isRest'):\n",
      "/Users/owenyaggy/code/EncodingMusic/venv/lib/python3.10/site-packages/crim_intervals/main_objs.py:937: FutureWarning: Series.__getitem__ treating keys as positions is deprecated. In a future version, integer keys will always be treated as labels (consistent with DataFrame behavior). To access a value by position, use `ser.iloc[pos]`\n",
      "  if row[0].isRest:\n",
      "/Users/owenyaggy/code/EncodingMusic/venv/lib/python3.10/site-packages/crim_intervals/main_objs.py:939: FutureWarning: Series.__getitem__ treating keys as positions is deprecated. In a future version, integer keys will always be treated as labels (consistent with DataFrame behavior). To access a value by position, use `ser.iloc[pos]`\n",
      "  elif row[0].isNote and hasattr(row[1], 'isNote') and row[1].isNote:\n",
      "/Users/owenyaggy/code/EncodingMusic/venv/lib/python3.10/site-packages/crim_intervals/main_objs.py:940: FutureWarning: Series.__getitem__ treating keys as positions is deprecated. In a future version, integer keys will always be treated as labels (consistent with DataFrame behavior). To access a value by position, use `ser.iloc[pos]`\n",
      "  return interval.Interval(row[1], row[0])\n",
      "/Users/owenyaggy/code/EncodingMusic/venv/lib/python3.10/site-packages/crim_intervals/main_objs.py:1220: FutureWarning: DataFrame.applymap has been deprecated. Use DataFrame.map instead.\n",
      "  _df = _df.applymap(self._intervalMethods[settings])\n",
      "/Users/owenyaggy/code/EncodingMusic/venv/lib/python3.10/site-packages/crim_intervals/main_objs.py:262: FutureWarning: DataFrame.applymap has been deprecated. Use DataFrame.map instead.\n",
      "  df = self._getM21Objs().applymap(self._remove_tied).dropna(how='all')\n",
      "/Users/owenyaggy/code/EncodingMusic/venv/lib/python3.10/site-packages/crim_intervals/main_objs.py:936: FutureWarning: Series.__getitem__ treating keys as positions is deprecated. In a future version, integer keys will always be treated as labels (consistent with DataFrame behavior). To access a value by position, use `ser.iloc[pos]`\n",
      "  if hasattr(row[0], 'isRest'):\n",
      "/Users/owenyaggy/code/EncodingMusic/venv/lib/python3.10/site-packages/crim_intervals/main_objs.py:937: FutureWarning: Series.__getitem__ treating keys as positions is deprecated. In a future version, integer keys will always be treated as labels (consistent with DataFrame behavior). To access a value by position, use `ser.iloc[pos]`\n",
      "  if row[0].isRest:\n",
      "/Users/owenyaggy/code/EncodingMusic/venv/lib/python3.10/site-packages/crim_intervals/main_objs.py:939: FutureWarning: Series.__getitem__ treating keys as positions is deprecated. In a future version, integer keys will always be treated as labels (consistent with DataFrame behavior). To access a value by position, use `ser.iloc[pos]`\n",
      "  elif row[0].isNote and hasattr(row[1], 'isNote') and row[1].isNote:\n",
      "/Users/owenyaggy/code/EncodingMusic/venv/lib/python3.10/site-packages/crim_intervals/main_objs.py:940: FutureWarning: Series.__getitem__ treating keys as positions is deprecated. In a future version, integer keys will always be treated as labels (consistent with DataFrame behavior). To access a value by position, use `ser.iloc[pos]`\n",
      "  return interval.Interval(row[1], row[0])\n",
      "/Users/owenyaggy/code/EncodingMusic/venv/lib/python3.10/site-packages/crim_intervals/main_objs.py:1220: FutureWarning: DataFrame.applymap has been deprecated. Use DataFrame.map instead.\n",
      "  _df = _df.applymap(self._intervalMethods[settings])\n"
     ]
    },
    {
     "data": {
      "text/plain": "      Sup[erius] Contratenor Tenor Bassus          Composer   \n0.0         Rest         NaN  Rest   Rest  Antoine de Févin  \\\n8.0         Rest           0  Rest   Rest  Antoine de Févin   \n12.0         NaN           3   NaN    NaN  Antoine de Févin   \n16.0         NaN           0  Rest   Rest  Antoine de Févin   \n22.0         NaN           0   NaN    NaN  Antoine de Févin   \n...          ...         ...   ...    ...               ...   \n241.0        NaN         NaN     2    NaN     Pierre Cadéac   \n242.0        NaN           3     1      3     Pierre Cadéac   \n243.0        NaN         NaN     2    NaN     Pierre Cadéac   \n244.0        NaN           1     1      4     Pierre Cadéac   \n246.0        NaN         NaN   NaN    NaN     Pierre Cadéac   \n\n                         Title  Date Superius  \n0.0    Missa Mente tota: Credo  1515      NaN  \n8.0    Missa Mente tota: Credo  1515      NaN  \n12.0   Missa Mente tota: Credo  1515      NaN  \n16.0   Missa Mente tota: Credo  1515      NaN  \n22.0   Missa Mente tota: Credo  1515      NaN  \n...                        ...   ...      ...  \n241.0       Je suis déshéritée  1540        2  \n242.0       Je suis déshéritée  1540        0  \n243.0       Je suis déshéritée  1540      NaN  \n244.0       Je suis déshéritée  1540      NaN  \n246.0       Je suis déshéritée  1540        1  \n\n[1342 rows x 8 columns]",
      "text/html": "<div>\n<style scoped>\n    .dataframe tbody tr th:only-of-type {\n        vertical-align: middle;\n    }\n\n    .dataframe tbody tr th {\n        vertical-align: top;\n    }\n\n    .dataframe thead th {\n        text-align: right;\n    }\n</style>\n<table border=\"1\" class=\"dataframe\">\n  <thead>\n    <tr style=\"text-align: right;\">\n      <th></th>\n      <th>Sup[erius]</th>\n      <th>Contratenor</th>\n      <th>Tenor</th>\n      <th>Bassus</th>\n      <th>Composer</th>\n      <th>Title</th>\n      <th>Date</th>\n      <th>Superius</th>\n    </tr>\n  </thead>\n  <tbody>\n    <tr>\n      <th>0.0</th>\n      <td>Rest</td>\n      <td>NaN</td>\n      <td>Rest</td>\n      <td>Rest</td>\n      <td>Antoine de Févin</td>\n      <td>Missa Mente tota: Credo</td>\n      <td>1515</td>\n      <td>NaN</td>\n    </tr>\n    <tr>\n      <th>8.0</th>\n      <td>Rest</td>\n      <td>0</td>\n      <td>Rest</td>\n      <td>Rest</td>\n      <td>Antoine de Févin</td>\n      <td>Missa Mente tota: Credo</td>\n      <td>1515</td>\n      <td>NaN</td>\n    </tr>\n    <tr>\n      <th>12.0</th>\n      <td>NaN</td>\n      <td>3</td>\n      <td>NaN</td>\n      <td>NaN</td>\n      <td>Antoine de Févin</td>\n      <td>Missa Mente tota: Credo</td>\n      <td>1515</td>\n      <td>NaN</td>\n    </tr>\n    <tr>\n      <th>16.0</th>\n      <td>NaN</td>\n      <td>0</td>\n      <td>Rest</td>\n      <td>Rest</td>\n      <td>Antoine de Févin</td>\n      <td>Missa Mente tota: Credo</td>\n      <td>1515</td>\n      <td>NaN</td>\n    </tr>\n    <tr>\n      <th>22.0</th>\n      <td>NaN</td>\n      <td>0</td>\n      <td>NaN</td>\n      <td>NaN</td>\n      <td>Antoine de Févin</td>\n      <td>Missa Mente tota: Credo</td>\n      <td>1515</td>\n      <td>NaN</td>\n    </tr>\n    <tr>\n      <th>...</th>\n      <td>...</td>\n      <td>...</td>\n      <td>...</td>\n      <td>...</td>\n      <td>...</td>\n      <td>...</td>\n      <td>...</td>\n      <td>...</td>\n    </tr>\n    <tr>\n      <th>241.0</th>\n      <td>NaN</td>\n      <td>NaN</td>\n      <td>2</td>\n      <td>NaN</td>\n      <td>Pierre Cadéac</td>\n      <td>Je suis déshéritée</td>\n      <td>1540</td>\n      <td>2</td>\n    </tr>\n    <tr>\n      <th>242.0</th>\n      <td>NaN</td>\n      <td>3</td>\n      <td>1</td>\n      <td>3</td>\n      <td>Pierre Cadéac</td>\n      <td>Je suis déshéritée</td>\n      <td>1540</td>\n      <td>0</td>\n    </tr>\n    <tr>\n      <th>243.0</th>\n      <td>NaN</td>\n      <td>NaN</td>\n      <td>2</td>\n      <td>NaN</td>\n      <td>Pierre Cadéac</td>\n      <td>Je suis déshéritée</td>\n      <td>1540</td>\n      <td>NaN</td>\n    </tr>\n    <tr>\n      <th>244.0</th>\n      <td>NaN</td>\n      <td>1</td>\n      <td>1</td>\n      <td>4</td>\n      <td>Pierre Cadéac</td>\n      <td>Je suis déshéritée</td>\n      <td>1540</td>\n      <td>NaN</td>\n    </tr>\n    <tr>\n      <th>246.0</th>\n      <td>NaN</td>\n      <td>NaN</td>\n      <td>NaN</td>\n      <td>NaN</td>\n      <td>Pierre Cadéac</td>\n      <td>Je suis déshéritée</td>\n      <td>1540</td>\n      <td>1</td>\n    </tr>\n  </tbody>\n</table>\n<p>1342 rows × 8 columns</p>\n</div>"
     },
     "execution_count": 8,
     "metadata": {},
     "output_type": "execute_result"
    }
   ],
   "source": [
    "piece = importScore('https://crimproject.org/mei/CRIM_Model_0008.mei')\n",
    "\n",
    "#define the corpus\n",
    "corpus = CorpusBase(['https://crimproject.org/mei/CRIM_Mass_0014_3.mei', 'https://crimproject.org/mei/CRIM_Model_0009.mei'])\n",
    "#specify the function \n",
    "func = ImportedPiece.melodic  # <- NB there are no parentheses here\n",
    "#provide the kwargs\n",
    "kwargs = {'kind': 'c', 'directed': False}\n",
    "#build a list of dataframes, one for each piece in the corpus\n",
    "list_of_dfs = corpus.batch(func, kwargs)\n",
    "#concatenate the list to a single dataframe\n",
    "output = pd.concat(list_of_dfs)\n",
    "\n",
    "output"
   ],
   "metadata": {
    "collapsed": false,
    "ExecuteTime": {
     "end_time": "2023-11-14T04:35:29.397468Z",
     "start_time": "2023-11-14T04:35:25.202341Z"
    }
   },
   "id": "2cc890204d20d663"
  },
  {
   "cell_type": "code",
   "execution_count": null,
   "outputs": [],
   "source": [],
   "metadata": {
    "collapsed": false
   },
   "id": "9d8cb2e93d84e76c"
  }
 ],
 "metadata": {
  "kernelspec": {
   "display_name": "Python 3",
   "language": "python",
   "name": "python3"
  },
  "language_info": {
   "codemirror_mode": {
    "name": "ipython",
    "version": 2
   },
   "file_extension": ".py",
   "mimetype": "text/x-python",
   "name": "python",
   "nbconvert_exporter": "python",
   "pygments_lexer": "ipython2",
   "version": "2.7.6"
  }
 },
 "nbformat": 4,
 "nbformat_minor": 5
}
