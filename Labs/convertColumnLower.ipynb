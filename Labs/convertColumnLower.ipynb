{
 "cells": [
  {
   "cell_type": "code",
   "execution_count": 5,
   "id": "initial_id",
   "metadata": {
    "collapsed": true,
    "ExecuteTime": {
     "end_time": "2023-12-20T21:19:43.697382Z",
     "start_time": "2023-12-20T21:19:43.446604Z"
    }
   },
   "outputs": [
    {
     "data": {
      "text/plain": "0           suite no. 3 for solo cello in c major, bwv 1009\n1                                           madra's musings\n2                        murmelndes lüftchen, op. 21, no. 4\n3                                     his name is wonderful\n4                                              der handkuss\n                                ...                        \n103140                                     partridge flying\n103141    string quartet no. 2 in a minor: 2. andante ca...\n103142                                              la rose\n103143               south pacific: selection (unspecified)\n103144                                        goose pimples\nName: title, Length: 103145, dtype: object"
     },
     "execution_count": 5,
     "metadata": {},
     "output_type": "execute_result"
    }
   ],
   "source": [
    "import pandas as pd\n",
    "\n",
    "df = pd.read_csv('works_list_old.csv')\n",
    "\n",
    "df['title'] = df['title'].str.lower()\n",
    "\n",
    "df['title']"
   ]
  },
  {
   "cell_type": "code",
   "execution_count": null,
   "outputs": [],
   "source": [],
   "metadata": {
    "collapsed": false
   },
   "id": "cd5b299efa02945d"
  }
 ],
 "metadata": {
  "kernelspec": {
   "display_name": "Python 3",
   "language": "python",
   "name": "python3"
  },
  "language_info": {
   "codemirror_mode": {
    "name": "ipython",
    "version": 2
   },
   "file_extension": ".py",
   "mimetype": "text/x-python",
   "name": "python",
   "nbconvert_exporter": "python",
   "pygments_lexer": "ipython2",
   "version": "2.7.6"
  }
 },
 "nbformat": 4,
 "nbformat_minor": 5
}
