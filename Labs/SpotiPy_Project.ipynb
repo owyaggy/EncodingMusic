{
 "cells": [
  {
   "cell_type": "markdown",
   "metadata": {
    "id": "JluHT0GaOfVe"
   },
   "source": [
    "# Interim Notebook (Labs 4 + 5)\n",
    "### Owen Yaggy\n",
    "### 10/13/23\n",
    "### MUSC H255"
   ]
  },
  {
   "cell_type": "markdown",
   "source": [
    "## Importing libraries:\n",
    "All the libraries that could be needed. This is directly from the Encoding Music tutorial on Spotify functions on GitHub. As a result, not all of these libraries are currently being used. In addition, I was having issues with the community library, but since it isn't currently necessary, I removed that import statement for the time being.\n",
    "\n",
    "Finally, I added my own input statement, `import config`. On my local machine, I have a file called config.py. Since I store all my code for this class in a GitHub repository, I want to avoid any unnecessary personal data in the code. My config.py file is on my .gitignore list, so my credentials stay private.\n",
    "\n",
    "Unusual dependencies:\n",
    "* Download spotify_tools.py from the Encoding Music GitHub\n",
    "* A file, config.py, with variables for `client_id`, `client_secret`, and `user` stored as strings. These correspond to your public and private Spotify API keys, and your Spotify username, respectively, OR:\n",
    "* Replace the usage of `config.client_id` with your private API key, and so on for the other variables. They are only used once, in the code block following the import statements code block."
   ],
   "metadata": {
    "collapsed": false
   }
  },
  {
   "cell_type": "code",
   "execution_count": 42,
   "metadata": {
    "id": "Q2TBxEJHQLcF",
    "ExecuteTime": {
     "end_time": "2023-10-14T02:45:29.914659Z",
     "start_time": "2023-10-14T02:45:29.890388Z"
    }
   },
   "outputs": [],
   "source": [
    "import pandas as pd\n",
    "import numpy as np\n",
    "import random\n",
    "import altair as alt\n",
    "import plotly.graph_objects as go\n",
    "import requests\n",
    "import inspect\n",
    "import spotipy\n",
    "from spotipy.oauth2 import SpotifyClientCredentials\n",
    "import spotify_tools\n",
    "import networkx as nx\n",
    "import networkx.algorithms.community as nx_comm\n",
    "import matplotlib.cm as cm\n",
    "import matplotlib.pyplot as plt\n",
    "import plotly.express as px\n",
    "import pyvis\n",
    "from pyvis import network as net\n",
    "from itertools import combinations\n",
    "# from community import community_louvain\n",
    "from copy import deepcopy\n",
    "import time\n",
    "\n",
    "import config   # A file I store on my local device containing my Spotify API credentials"
   ]
  },
  {
   "cell_type": "markdown",
   "source": [
    "Store the credentials based on the config.py and set up the spotipy library with those credentials.\n",
    "\n",
    "**This is where you can replace the variable usage with your own API keys and username.** "
   ],
   "metadata": {
    "collapsed": false
   }
  },
  {
   "cell_type": "code",
   "execution_count": 43,
   "metadata": {
    "id": "i7CCZxnvQYUk",
    "ExecuteTime": {
     "end_time": "2023-10-14T02:45:29.921727Z",
     "start_time": "2023-10-14T02:45:29.897693Z"
    }
   },
   "outputs": [],
   "source": [
    "# storing the credentials:\n",
    "#\n",
    "CLIENT_ID = config.client_id\n",
    "CLIENT_SECRET = config.client_secret\n",
    "my_username = config.user\n",
    "\n",
    "# instantiating the client.  This 'sp' version of the client is used repeatedly below\n",
    "# source: Max Hilsdorf (https://towardsdatascience.com/how-to-create-large-music-datasets-using-spotipy-40e7242cc6a6)\n",
    "client_credentials_manager = SpotifyClientCredentials(client_id=CLIENT_ID, client_secret=CLIENT_SECRET)\n",
    "sp = spotipy.Spotify(client_credentials_manager=client_credentials_manager)"
   ]
  },
  {
   "cell_type": "markdown",
   "source": [
    "Take a specific playlist, store it in a dataframe, and show the result."
   ],
   "metadata": {
    "collapsed": false
   }
  },
  {
   "cell_type": "code",
   "execution_count": 44,
   "metadata": {
    "colab": {
     "base_uri": "https://localhost:8080/",
     "height": 359
    },
    "id": "j0SAEDWaQzpy",
    "outputId": "6af179ad-e787-4220-d453-9c6ec3428d08",
    "ExecuteTime": {
     "end_time": "2023-10-14T02:45:30.305891Z",
     "start_time": "2023-10-14T02:45:29.903810Z"
    }
   },
   "outputs": [
    {
     "data": {
      "text/plain": "                                                href  \\\n0  https://api.spotify.com/v1/playlists/1hTUFxr38...   \n1  https://api.spotify.com/v1/playlists/1hTUFxr38...   \n2  https://api.spotify.com/v1/playlists/1hTUFxr38...   \n3  https://api.spotify.com/v1/playlists/1hTUFxr38...   \n4  https://api.spotify.com/v1/playlists/1hTUFxr38...   \n5  https://api.spotify.com/v1/playlists/1hTUFxr38...   \n6  https://api.spotify.com/v1/playlists/1hTUFxr38...   \n7  https://api.spotify.com/v1/playlists/1hTUFxr38...   \n8  https://api.spotify.com/v1/playlists/1hTUFxr38...   \n9  https://api.spotify.com/v1/playlists/1hTUFxr38...   \n\n                                               items  limit  next  offset  \\\n0  {'added_at': '2023-10-06T17:42:39Z', 'added_by...    100  None       0   \n1  {'added_at': '2023-10-06T17:42:42Z', 'added_by...    100  None       0   \n2  {'added_at': '2023-10-06T17:43:22Z', 'added_by...    100  None       0   \n3  {'added_at': '2023-10-06T17:44:56Z', 'added_by...    100  None       0   \n4  {'added_at': '2023-10-06T17:45:31Z', 'added_by...    100  None       0   \n5  {'added_at': '2023-10-06T17:46:20Z', 'added_by...    100  None       0   \n6  {'added_at': '2023-10-06T17:47:14Z', 'added_by...    100  None       0   \n7  {'added_at': '2023-10-06T17:48:01Z', 'added_by...    100  None       0   \n8  {'added_at': '2023-10-06T17:50:00Z', 'added_by...    100  None       0   \n9  {'added_at': '2023-10-06T17:51:32Z', 'added_by...    100  None       0   \n\n  previous  total  \n0     None     10  \n1     None     10  \n2     None     10  \n3     None     10  \n4     None     10  \n5     None     10  \n6     None     10  \n7     None     10  \n8     None     10  \n9     None     10  ",
      "text/html": "<div>\n<style scoped>\n    .dataframe tbody tr th:only-of-type {\n        vertical-align: middle;\n    }\n\n    .dataframe tbody tr th {\n        vertical-align: top;\n    }\n\n    .dataframe thead th {\n        text-align: right;\n    }\n</style>\n<table border=\"1\" class=\"dataframe\">\n  <thead>\n    <tr style=\"text-align: right;\">\n      <th></th>\n      <th>href</th>\n      <th>items</th>\n      <th>limit</th>\n      <th>next</th>\n      <th>offset</th>\n      <th>previous</th>\n      <th>total</th>\n    </tr>\n  </thead>\n  <tbody>\n    <tr>\n      <th>0</th>\n      <td>https://api.spotify.com/v1/playlists/1hTUFxr38...</td>\n      <td>{'added_at': '2023-10-06T17:42:39Z', 'added_by...</td>\n      <td>100</td>\n      <td>None</td>\n      <td>0</td>\n      <td>None</td>\n      <td>10</td>\n    </tr>\n    <tr>\n      <th>1</th>\n      <td>https://api.spotify.com/v1/playlists/1hTUFxr38...</td>\n      <td>{'added_at': '2023-10-06T17:42:42Z', 'added_by...</td>\n      <td>100</td>\n      <td>None</td>\n      <td>0</td>\n      <td>None</td>\n      <td>10</td>\n    </tr>\n    <tr>\n      <th>2</th>\n      <td>https://api.spotify.com/v1/playlists/1hTUFxr38...</td>\n      <td>{'added_at': '2023-10-06T17:43:22Z', 'added_by...</td>\n      <td>100</td>\n      <td>None</td>\n      <td>0</td>\n      <td>None</td>\n      <td>10</td>\n    </tr>\n    <tr>\n      <th>3</th>\n      <td>https://api.spotify.com/v1/playlists/1hTUFxr38...</td>\n      <td>{'added_at': '2023-10-06T17:44:56Z', 'added_by...</td>\n      <td>100</td>\n      <td>None</td>\n      <td>0</td>\n      <td>None</td>\n      <td>10</td>\n    </tr>\n    <tr>\n      <th>4</th>\n      <td>https://api.spotify.com/v1/playlists/1hTUFxr38...</td>\n      <td>{'added_at': '2023-10-06T17:45:31Z', 'added_by...</td>\n      <td>100</td>\n      <td>None</td>\n      <td>0</td>\n      <td>None</td>\n      <td>10</td>\n    </tr>\n    <tr>\n      <th>5</th>\n      <td>https://api.spotify.com/v1/playlists/1hTUFxr38...</td>\n      <td>{'added_at': '2023-10-06T17:46:20Z', 'added_by...</td>\n      <td>100</td>\n      <td>None</td>\n      <td>0</td>\n      <td>None</td>\n      <td>10</td>\n    </tr>\n    <tr>\n      <th>6</th>\n      <td>https://api.spotify.com/v1/playlists/1hTUFxr38...</td>\n      <td>{'added_at': '2023-10-06T17:47:14Z', 'added_by...</td>\n      <td>100</td>\n      <td>None</td>\n      <td>0</td>\n      <td>None</td>\n      <td>10</td>\n    </tr>\n    <tr>\n      <th>7</th>\n      <td>https://api.spotify.com/v1/playlists/1hTUFxr38...</td>\n      <td>{'added_at': '2023-10-06T17:48:01Z', 'added_by...</td>\n      <td>100</td>\n      <td>None</td>\n      <td>0</td>\n      <td>None</td>\n      <td>10</td>\n    </tr>\n    <tr>\n      <th>8</th>\n      <td>https://api.spotify.com/v1/playlists/1hTUFxr38...</td>\n      <td>{'added_at': '2023-10-06T17:50:00Z', 'added_by...</td>\n      <td>100</td>\n      <td>None</td>\n      <td>0</td>\n      <td>None</td>\n      <td>10</td>\n    </tr>\n    <tr>\n      <th>9</th>\n      <td>https://api.spotify.com/v1/playlists/1hTUFxr38...</td>\n      <td>{'added_at': '2023-10-06T17:51:32Z', 'added_by...</td>\n      <td>100</td>\n      <td>None</td>\n      <td>0</td>\n      <td>None</td>\n      <td>10</td>\n    </tr>\n  </tbody>\n</table>\n</div>"
     },
     "execution_count": 44,
     "metadata": {},
     "output_type": "execute_result"
    }
   ],
   "source": [
    "creator_id = \"lzsfootball\"\n",
    "playlist_id = \"1hTUFxr380FuNNYHpynyzy\"\n",
    "\n",
    "# playlist_tracks(user_id: String, playlist_id: String): json_dict\n",
    "playlist_tracks = pd.DataFrame(sp.user_playlist_tracks(creator_id, playlist_id))\n",
    "playlist_tracks"
   ]
  },
  {
   "cell_type": "markdown",
   "source": [
    "Experiment: show a single song's name.\n",
    "*Challenge:* Because the data returned by Spotify's API is so voluminous and complex, it's actually quite difficult to find out how to query a very specific piece of data."
   ],
   "metadata": {
    "collapsed": false
   }
  },
  {
   "cell_type": "code",
   "execution_count": 45,
   "metadata": {
    "colab": {
     "base_uri": "https://localhost:8080/",
     "height": 35
    },
    "id": "8nyrRWLiRqdU",
    "outputId": "8c0f4d06-fa9a-4658-a58e-803cf9867821",
    "ExecuteTime": {
     "end_time": "2023-10-14T02:45:30.313560Z",
     "start_time": "2023-10-14T02:45:30.307199Z"
    }
   },
   "outputs": [
    {
     "data": {
      "text/plain": "'Dumb'"
     },
     "execution_count": 45,
     "metadata": {},
     "output_type": "execute_result"
    }
   ],
   "source": [
    "sample_track = playlist_tracks.iloc[0][\"items\"][\"track\"]['name']\n",
    "sample_track"
   ]
  },
  {
   "cell_type": "markdown",
   "source": [
    "Show what one row in data looks like."
   ],
   "metadata": {
    "collapsed": false
   }
  },
  {
   "cell_type": "code",
   "execution_count": 46,
   "metadata": {
    "collapsed": false,
    "ExecuteTime": {
     "end_time": "2023-10-14T02:45:30.354846Z",
     "start_time": "2023-10-14T02:45:30.321886Z"
    }
   },
   "outputs": [
    {
     "data": {
      "text/plain": "{'added_at': '2023-10-06T17:42:39Z',\n 'added_by': {'external_urls': {'spotify': 'https://open.spotify.com/user/lzsfootball'},\n  'href': 'https://api.spotify.com/v1/users/lzsfootball',\n  'id': 'lzsfootball',\n  'type': 'user',\n  'uri': 'spotify:user:lzsfootball'},\n 'is_local': False,\n 'primary_color': None,\n 'track': {'album': {'album_type': 'album',\n   'artists': [{'external_urls': {'spotify': 'https://open.spotify.com/artist/6olE6TJLqED3rqDCT0FyPh'},\n     'href': 'https://api.spotify.com/v1/artists/6olE6TJLqED3rqDCT0FyPh',\n     'id': '6olE6TJLqED3rqDCT0FyPh',\n     'name': 'Nirvana',\n     'type': 'artist',\n     'uri': 'spotify:artist:6olE6TJLqED3rqDCT0FyPh'}],\n   'available_markets': ['AR',\n    'AU',\n    'AT',\n    'BE',\n    'BO',\n    'BR',\n    'BG',\n    'CA',\n    'CL',\n    'CO',\n    'CR',\n    'CY',\n    'CZ',\n    'DK',\n    'DO',\n    'DE',\n    'EC',\n    'EE',\n    'SV',\n    'FI',\n    'FR',\n    'GR',\n    'GT',\n    'HN',\n    'HK',\n    'HU',\n    'IS',\n    'IE',\n    'IT',\n    'LV',\n    'LT',\n    'LU',\n    'MY',\n    'MT',\n    'MX',\n    'NL',\n    'NZ',\n    'NI',\n    'NO',\n    'PA',\n    'PY',\n    'PE',\n    'PH',\n    'PL',\n    'PT',\n    'SG',\n    'SK',\n    'ES',\n    'SE',\n    'CH',\n    'TW',\n    'TR',\n    'UY',\n    'US',\n    'GB',\n    'AD',\n    'LI',\n    'MC',\n    'ID',\n    'JP',\n    'TH',\n    'VN',\n    'RO',\n    'IL',\n    'ZA',\n    'SA',\n    'AE',\n    'BH',\n    'QA',\n    'OM',\n    'KW',\n    'EG',\n    'MA',\n    'DZ',\n    'TN',\n    'LB',\n    'JO',\n    'PS',\n    'IN',\n    'BY',\n    'KZ',\n    'MD',\n    'UA',\n    'AL',\n    'BA',\n    'HR',\n    'ME',\n    'MK',\n    'RS',\n    'SI',\n    'KR',\n    'BD',\n    'PK',\n    'LK',\n    'GH',\n    'KE',\n    'NG',\n    'TZ',\n    'UG',\n    'AG',\n    'AM',\n    'BS',\n    'BB',\n    'BZ',\n    'BT',\n    'BW',\n    'BF',\n    'CV',\n    'CW',\n    'DM',\n    'FJ',\n    'GM',\n    'GE',\n    'GD',\n    'GW',\n    'GY',\n    'HT',\n    'JM',\n    'KI',\n    'LS',\n    'LR',\n    'MW',\n    'MV',\n    'ML',\n    'MH',\n    'FM',\n    'NA',\n    'NR',\n    'NE',\n    'PW',\n    'PG',\n    'WS',\n    'SM',\n    'ST',\n    'SN',\n    'SC',\n    'SL',\n    'SB',\n    'KN',\n    'LC',\n    'VC',\n    'SR',\n    'TL',\n    'TO',\n    'TT',\n    'TV',\n    'VU',\n    'AZ',\n    'BN',\n    'BI',\n    'KH',\n    'CM',\n    'TD',\n    'KM',\n    'GQ',\n    'SZ',\n    'GA',\n    'GN',\n    'KG',\n    'LA',\n    'MO',\n    'MR',\n    'MN',\n    'NP',\n    'RW',\n    'TG',\n    'UZ',\n    'ZW',\n    'BJ',\n    'MG',\n    'MU',\n    'MZ',\n    'AO',\n    'CI',\n    'DJ',\n    'ZM',\n    'CD',\n    'CG',\n    'IQ',\n    'LY',\n    'TJ',\n    'VE',\n    'ET',\n    'XK'],\n   'external_urls': {'spotify': 'https://open.spotify.com/album/7wOOA7l306K8HfBKfPoafr'},\n   'href': 'https://api.spotify.com/v1/albums/7wOOA7l306K8HfBKfPoafr',\n   'id': '7wOOA7l306K8HfBKfPoafr',\n   'images': [{'height': 640,\n     'url': 'https://i.scdn.co/image/ab67616d0000b273c4f52ef8782f0e8ede4c1aaf',\n     'width': 640},\n    {'height': 300,\n     'url': 'https://i.scdn.co/image/ab67616d00001e02c4f52ef8782f0e8ede4c1aaf',\n     'width': 300},\n    {'height': 64,\n     'url': 'https://i.scdn.co/image/ab67616d00004851c4f52ef8782f0e8ede4c1aaf',\n     'width': 64}],\n   'name': 'In Utero',\n   'release_date': '1993-09-21',\n   'release_date_precision': 'day',\n   'total_tracks': 12,\n   'type': 'album',\n   'uri': 'spotify:album:7wOOA7l306K8HfBKfPoafr'},\n  'artists': [{'external_urls': {'spotify': 'https://open.spotify.com/artist/6olE6TJLqED3rqDCT0FyPh'},\n    'href': 'https://api.spotify.com/v1/artists/6olE6TJLqED3rqDCT0FyPh',\n    'id': '6olE6TJLqED3rqDCT0FyPh',\n    'name': 'Nirvana',\n    'type': 'artist',\n    'uri': 'spotify:artist:6olE6TJLqED3rqDCT0FyPh'}],\n  'available_markets': ['AR',\n   'AU',\n   'AT',\n   'BE',\n   'BO',\n   'BR',\n   'BG',\n   'CA',\n   'CL',\n   'CO',\n   'CR',\n   'CY',\n   'CZ',\n   'DK',\n   'DO',\n   'DE',\n   'EC',\n   'EE',\n   'SV',\n   'FI',\n   'FR',\n   'GR',\n   'GT',\n   'HN',\n   'HK',\n   'HU',\n   'IS',\n   'IE',\n   'IT',\n   'LV',\n   'LT',\n   'LU',\n   'MY',\n   'MT',\n   'MX',\n   'NL',\n   'NZ',\n   'NI',\n   'NO',\n   'PA',\n   'PY',\n   'PE',\n   'PH',\n   'PL',\n   'PT',\n   'SG',\n   'SK',\n   'ES',\n   'SE',\n   'CH',\n   'TW',\n   'TR',\n   'UY',\n   'US',\n   'GB',\n   'AD',\n   'LI',\n   'MC',\n   'ID',\n   'JP',\n   'TH',\n   'VN',\n   'RO',\n   'IL',\n   'ZA',\n   'SA',\n   'AE',\n   'BH',\n   'QA',\n   'OM',\n   'KW',\n   'EG',\n   'MA',\n   'DZ',\n   'TN',\n   'LB',\n   'JO',\n   'PS',\n   'IN',\n   'BY',\n   'KZ',\n   'MD',\n   'UA',\n   'AL',\n   'BA',\n   'HR',\n   'ME',\n   'MK',\n   'RS',\n   'SI',\n   'KR',\n   'BD',\n   'PK',\n   'LK',\n   'GH',\n   'KE',\n   'NG',\n   'TZ',\n   'UG',\n   'AG',\n   'AM',\n   'BS',\n   'BB',\n   'BZ',\n   'BT',\n   'BW',\n   'BF',\n   'CV',\n   'CW',\n   'DM',\n   'FJ',\n   'GM',\n   'GE',\n   'GD',\n   'GW',\n   'GY',\n   'HT',\n   'JM',\n   'KI',\n   'LS',\n   'LR',\n   'MW',\n   'MV',\n   'ML',\n   'MH',\n   'FM',\n   'NA',\n   'NR',\n   'NE',\n   'PW',\n   'PG',\n   'WS',\n   'SM',\n   'ST',\n   'SN',\n   'SC',\n   'SL',\n   'SB',\n   'KN',\n   'LC',\n   'VC',\n   'SR',\n   'TL',\n   'TO',\n   'TT',\n   'TV',\n   'VU',\n   'AZ',\n   'BN',\n   'BI',\n   'KH',\n   'CM',\n   'TD',\n   'KM',\n   'GQ',\n   'SZ',\n   'GA',\n   'GN',\n   'KG',\n   'LA',\n   'MO',\n   'MR',\n   'MN',\n   'NP',\n   'RW',\n   'TG',\n   'UZ',\n   'ZW',\n   'BJ',\n   'MG',\n   'MU',\n   'MZ',\n   'AO',\n   'CI',\n   'DJ',\n   'ZM',\n   'CD',\n   'CG',\n   'IQ',\n   'LY',\n   'TJ',\n   'VE',\n   'ET',\n   'XK'],\n  'disc_number': 1,\n  'duration_ms': 151893,\n  'episode': False,\n  'explicit': False,\n  'external_ids': {'isrc': 'USGF19960706'},\n  'external_urls': {'spotify': 'https://open.spotify.com/track/5gRcv46AMTrosmTOqrOV3Q'},\n  'href': 'https://api.spotify.com/v1/tracks/5gRcv46AMTrosmTOqrOV3Q',\n  'id': '5gRcv46AMTrosmTOqrOV3Q',\n  'is_local': False,\n  'name': 'Dumb',\n  'popularity': 77,\n  'preview_url': None,\n  'track': True,\n  'track_number': 6,\n  'type': 'track',\n  'uri': 'spotify:track:5gRcv46AMTrosmTOqrOV3Q'},\n 'video_thumbnail': {'url': None}}"
     },
     "execution_count": 46,
     "metadata": {},
     "output_type": "execute_result"
    }
   ],
   "source": [
    "playlist_tracks.iloc[0]['items']"
   ]
  },
  {
   "cell_type": "markdown",
   "source": [
    "**First function:** Given the dataframe of tracks, return the Spotify song IDs.\n",
    "It seems like this wasn't truly necessary, after discovering the function I was trying to build with this data already existed on the Encoding Music GitHub, but it was a useful experiment to try and get specific information from the dataframe.\n",
    "However, this can now be used to query the results of the `analyze_playlist` function based on specific song ids."
   ],
   "metadata": {
    "collapsed": false
   }
  },
  {
   "cell_type": "code",
   "execution_count": 58,
   "metadata": {
    "collapsed": false,
    "ExecuteTime": {
     "end_time": "2023-10-14T03:08:53.231562Z",
     "start_time": "2023-10-14T03:08:53.221502Z"
    }
   },
   "outputs": [
    {
     "name": "stdout",
     "output_type": "stream",
     "text": [
      "{'Dumb': '5gRcv46AMTrosmTOqrOV3Q', 'Creep': '70LcF31zb1H0PyJoS1Sx1r', 'Jerk': '065bY5WrLvI3NN9VCK0QLe', 'Son of a Bitch': '6Al4oITGudbYvcBzO65ah6', 'Dickhead': '25aNJcqUnZmEKBmPhW9I82', 'Snitch': '3sXaTInkrXe5YEaa6ZYr1S', 'Moron': '3OmhbyRDJDm1zhfVEV7d0w', 'Heartbreaker': '22ML0MuFKfw16WejbxsLOy', 'Jackass': '2UiUTpQkTCmE1OX6senl6j', 'Fucker': '2khc6kEG4eBvYN1GvR6R97'}\n"
     ]
    }
   ],
   "source": [
    "def get_song_ids(tracks: pd.DataFrame) -> dict:     # Parameter is a dataframe, output is a dict\n",
    "    \"\"\"Returns the Spotify song IDs contained in the playlist dataframe, matched with the song titles to make them easy to identify\"\"\"\n",
    "    song_ids = {}       # Empty dict to contain all outputted song ids\n",
    "    for track in tracks['items']:           # Iterate through tracks in dataframe\n",
    "        song_ids[track['track']['name']] = track['track']['id']          # add song id to list\n",
    "    return song_ids    # return song ids\n",
    "\n",
    "print(get_song_ids(playlist_tracks))"
   ]
  },
  {
   "cell_type": "markdown",
   "source": [
    "**Get music feature data!** This is needed to analyze the songs and determine similarity.\n",
    "\n",
    "*This code is taken from the EncodingMusic GitHub, in spotify_tools.py, but MODIFIED as follows:*\n",
    "\n",
    "* Previously, the index of every song in the dataframe was sequential (0, 1, 2, etc.)\n",
    "* This made it hard for me to query a specific audio feature for a track\n",
    "* So, I changed the code so that it the index becomes the track_id for a song\n",
    "* This means you can query based on track_id, which makes it easier to find specific data for a song\n",
    "* HOWEVER, I did not consider that playlists could contain several copies of the exact same song\n",
    "* I believe this now might pose errors if creating a dataframe for a playlist that contains the same song more than once\n",
    "* I'm not sure how I would want to resolve that\n",
    "\n",
    "**Problems Encountered**\n",
    "\n",
    "Ultimately, the difficult part of this lab has been figuring out how to work with Pandas. While ultimately the tasks are not overly complex, there are so many ways of retrieving data that the syntax for doing so is rather convoluted. I've encountered countless error messages so far related to querying data in the wrong way, which I did forget to record as I was encountering them. "
   ],
   "metadata": {
    "collapsed": false
   }
  },
  {
   "cell_type": "code",
   "execution_count": 93,
   "outputs": [],
   "source": [
    "def analyze_playlist(creator, playlist_id, spotipy_client):\n",
    "    playlist_features_list = [\"artist\", \"album\", \"track_name\",\n",
    "                              \"danceability\", \"energy\", \"key\", \"loudness\", \"mode\", \"speechiness\",\n",
    "                              \"instrumentalness\", \"liveness\", \"valence\", \"tempo\", \"duration_ms\", \"time_signature\"] # removed track_id\n",
    "    playlist_df = pd.DataFrame(columns=playlist_features_list)\n",
    "\n",
    "    playlist_features = {}\n",
    "\n",
    "    playlist = spotipy_client.user_playlist_tracks(creator, playlist_id)[\"items\"]\n",
    "    for track in playlist:\n",
    "        playlist_features[\"artist\"] = track[\"track\"][\"album\"][\"artists\"][0][\"name\"]\n",
    "        playlist_features[\"album\"] = track[\"track\"][\"album\"][\"name\"]\n",
    "        playlist_features[\"track_name\"] = track[\"track\"][\"name\"]\n",
    "        playlist_features[\"track_id\"] = track[\"track\"][\"id\"]\n",
    "\n",
    "        audio_features = spotipy_client.audio_features(playlist_features[\"track_id\"])[0]\n",
    "        for feature in playlist_features_list[3:]: # changed from 4 to 3 to fix error caused by removing track_id from list of features\n",
    "            playlist_features[feature] = audio_features[feature]\n",
    "\n",
    "        track_df = pd.DataFrame(playlist_features, index=[playlist_features['track_id']]) # changed index from automatically being 0 to being the track_id\n",
    "        playlist_df = pd.concat([playlist_df, track_df], ignore_index=False) # changed ignore_index from True to False\n",
    "\n",
    "    return playlist_df"
   ],
   "metadata": {
    "collapsed": false,
    "ExecuteTime": {
     "end_time": "2023-10-14T03:54:46.468158Z",
     "start_time": "2023-10-14T03:54:46.457746Z"
    }
   }
  },
  {
   "cell_type": "markdown",
   "source": [
    "I needed to test what how I could query the data returned from this function:"
   ],
   "metadata": {
    "collapsed": false
   }
  },
  {
   "cell_type": "code",
   "execution_count": 101,
   "outputs": [
    {
     "name": "stderr",
     "output_type": "stream",
     "text": [
      "/var/folders/24/qxr9c06j19gcvdhrn3t51m000000gn/T/ipykernel_78648/3211627563.py:21: FutureWarning: The behavior of DataFrame concatenation with empty or all-NA entries is deprecated. In a future version, this will no longer exclude empty or all-NA columns when determining the result dtypes. To retain the old behavior, exclude the relevant entries before the concat operation.\n",
      "  playlist_df = pd.concat([playlist_df, track_df], ignore_index=False) # changed ignore_index from True to False\n"
     ]
    },
    {
     "name": "stdout",
     "output_type": "stream",
     "text": [
      "0.173\n"
     ]
    }
   ],
   "source": [
    "df = analyze_playlist(creator_id, playlist_id, sp)\n",
    "print(df)\n",
    "print(df.at['5gRcv46AMTrosmTOqrOV3Q', 'liveness'])\n",
    "print(type(df.at['5gRcv46AMTrosmTOqrOV3Q', 'liveness']))\n",
    "x = df.loc['5gRcv46AMTrosmTOqrOV3Q']\n",
    "got = x.get('liveness')\n",
    "print(got)"
   ],
   "metadata": {
    "collapsed": false,
    "ExecuteTime": {
     "end_time": "2023-10-14T04:03:37.323167Z",
     "start_time": "2023-10-14T04:03:35.532009Z"
    }
   }
  },
  {
   "cell_type": "code",
   "execution_count": 102,
   "outputs": [],
   "source": [
    "def similarity(id1: str, id2: str, playlist_df: pd.DataFrame) -> None:\n",
    "    \"\"\"Returns a scalar from 0-1 that tells you how similar 2 songs are based on a mash-up of their audio features.\"\"\"\n",
    "    similarities = {}\n",
    "    \n",
    "    # A list of features to compare:\n",
    "    features = ['acousticness', 'danceability', 'energy', 'instrumentalness', 'liveness', 'valence', 'loudness', 'tempo', 'mode', 'key']\n",
    "    \n",
    "    track1 = df.loc[id1] # variable containing all feature data from track 1\n",
    "    track2 = df.loc[id2] # variable containing all feature data from track 2\n",
    "    \n",
    "    # Store all music feature data in dictionary form:\n",
    "    track1_features = {}\n",
    "    track2_features = {}\n",
    "    for feature in features:\n",
    "        track1_features[feature] = track1.get(feature)\n",
    "        track2_features[feature] = track2.get(feature)\n",
    "    \n",
    "    feature_similarities = {}\n",
    "    for feature in features:\n",
    "        if feature not in ['loudness', 'tempo', 'mode', 'key']:# these features aren't stored as scalars, meaning their comparisons need to be handled differently\n",
    "            feature_similarities[feature] = abs(track1_features[feature] - track2_features[feature])\n",
    "        if feature == 'loudness':\n",
    "            feature_similarities[feature] = abs(track1_features[feature] - track2_features[feature]) * (1/60)  # loudness is stored -60 to 0, this converts the difference to a positive scalar\n",
    "            # In rare cases, loudness falls outside the -60 to 0 range. If so, the code to scale down the difference between loudness to a scalar might result in a value over 1.\n",
    "            # This code caps the maximum amount of difference at 1 - in other words, tracks that have over 60 dB of loudness difference are treated as having 60 dB of loudness difference.\n",
    "            if feature_similarities[feature] > 1:\n",
    "                feature_similarities[feature] = 1\n",
    "        if feature == 'tempo':\n",
    "            # Tempo is measured in BPM. This could be any positive integer, but most are within a range of 40-200 BPM.\n",
    "            # For the purpose of comparison, tracks under 40 BPM are treated as having a BPM of 40. Tracks over 200 are treated as having a BPM of 200.\n",
    "            # Thus, the maximum difference is 160, and the minimum is 0.\n",
    "            # So to convert to a scalar, the difference between BPM is divided by 160.\n",
    "            if track1_features[feature] < 40:\n",
    "                track1_features[feature] = 40\n",
    "            if track1_features[feature] > 200:\n",
    "                track1_features[feature] = 200\n",
    "            if track2_features[feature] < 40:\n",
    "                track2_features[feature] = 40\n",
    "            if track2_features[feature] > 200:\n",
    "                track2_features[feature] = 200\n",
    "            \n",
    "            feature_similarities[feature] = abs(track1_features[feature] - track2_features[feature]) * (1/140)\n",
    "        if feature\n",
    "    \n",
    "    return None\n",
    "\n",
    "song_ids = get_song_ids(playlist_tracks)\n",
    "similarity(song_ids['Dumb'], song_ids['Creep'], playlist_tracks)"
   ],
   "metadata": {
    "collapsed": false,
    "ExecuteTime": {
     "end_time": "2023-10-14T04:04:05.032329Z",
     "start_time": "2023-10-14T04:04:05.025453Z"
    }
   }
  },
  {
   "cell_type": "markdown",
   "source": [
    "## Things I still want to explore:\n",
    "* Visualizing data that is collected\n",
    "* Using numpy to analyze data\n",
    "* Merging dataframes with Pandas, and the other powers of Pandas\n",
    "* What are Louvain communities, and how can they be used?\n",
    "* Using the NetworkX library"
   ],
   "metadata": {
    "collapsed": false
   }
  }
 ],
 "metadata": {
  "colab": {
   "provenance": []
  },
  "kernelspec": {
   "display_name": "Python 3 (ipykernel)",
   "language": "python",
   "name": "python3"
  },
  "language_info": {
   "codemirror_mode": {
    "name": "ipython",
    "version": 3
   },
   "file_extension": ".py",
   "mimetype": "text/x-python",
   "name": "python",
   "nbconvert_exporter": "python",
   "pygments_lexer": "ipython3",
   "version": "3.10.8"
  }
 },
 "nbformat": 4,
 "nbformat_minor": 4
}
