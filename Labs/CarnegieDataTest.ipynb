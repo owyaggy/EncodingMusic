{
 "cells": [
  {
   "cell_type": "markdown",
   "source": [
    "#Find events from a specific year\n",
    "PREFIX schema: <http://schema.org/>\n",
    "PREFIX rdfs: <http://www.w3.org/2000/01/rdf-schema#>\n",
    "PREFIX dcterms: <http://purl.org/dc/terms/>\n",
    "PREFIX skos: <http://www.w3.org/2004/02/skos/core#>\n",
    "select * where {\n",
    "?event a schema:Event ;\n",
    "schema:startDate ?date ;\n",
    "rdfs:label ?title ;\n",
    "schema:subEvent/schema:workPerformed ?workperformed .\n",
    "  \n",
    "  ?workperformed dcterms:creator ?composer .\n",
    "  \n",
    "  ?composer schema:name ?composerName ;\n",
    "            schema:birthPlace ?birthPlace ;\n",
    "            skos:exactMatch ?skos .\n",
    "  \n",
    "filter (year(?date) = 1971)\n",
    "  filter (month(?date) = 9)\n",
    "  \n",
    "  filter contains(str(?skos), \"wiki\")\n",
    "\n",
    "}\n"
   ],
   "metadata": {
    "collapsed": false
   },
   "id": "1009368556e1d1"
  },
  {
   "cell_type": "code",
   "execution_count": 32,
   "outputs": [],
   "source": [
    "import pandas as pd\n",
    "import requests\n",
    "import json"
   ],
   "metadata": {
    "collapsed": false,
    "ExecuteTime": {
     "end_time": "2023-12-11T20:06:27.040102Z",
     "start_time": "2023-12-11T20:06:27.032238Z"
    }
   },
   "id": "initial_id"
  },
  {
   "cell_type": "code",
   "execution_count": 33,
   "outputs": [],
   "source": [
    "df = pd.read_csv('CarnegieData/EventsSept1971.csv')"
   ],
   "metadata": {
    "collapsed": false,
    "ExecuteTime": {
     "end_time": "2023-12-11T20:06:28.260583Z",
     "start_time": "2023-12-11T20:06:28.248771Z"
    }
   },
   "id": "de7452dace023404"
  },
  {
   "cell_type": "code",
   "execution_count": 34,
   "outputs": [
    {
     "name": "stdout",
     "output_type": "stream",
     "text": [
      "                                       event                 date  \\\n",
      "0  http://data.carnegiehall.org/events/27000  1971-09-24T19:30:00   \n",
      "1  http://data.carnegiehall.org/events/31673  1971-09-24T23:00:00   \n",
      "2  http://data.carnegiehall.org/events/18896  1971-09-14T20:00:00   \n",
      "3  http://data.carnegiehall.org/events/27000  1971-09-24T19:30:00   \n",
      "4  http://data.carnegiehall.org/events/31673  1971-09-24T23:00:00   \n",
      "\n",
      "                          title                              workperformed  \\\n",
      "0                The Beach Boys  http://data.carnegiehall.org/works/109666   \n",
      "1                The Beach Boys  http://data.carnegiehall.org/works/109666   \n",
      "2  Savoy Brown, Blues Rock Band  http://data.carnegiehall.org/works/109658   \n",
      "3                The Beach Boys   http://data.carnegiehall.org/works/16482   \n",
      "4                The Beach Boys   http://data.carnegiehall.org/works/16482   \n",
      "\n",
      "                                   composer  composerName  \\\n",
      "0  http://data.carnegiehall.org/names/10103   Carl Wilson   \n",
      "1  http://data.carnegiehall.org/names/10103   Carl Wilson   \n",
      "2  http://data.carnegiehall.org/names/25403   Chuck Berry   \n",
      "3  http://data.carnegiehall.org/names/68948  Brian Wilson   \n",
      "4  http://data.carnegiehall.org/names/68948  Brian Wilson   \n",
      "\n",
      "                         birthPlace                                    skos  \n",
      "0  http://sws.geonames.org/5355828/  http://www.wikidata.org/entity/Q504920  \n",
      "1  http://sws.geonames.org/5355828/  http://www.wikidata.org/entity/Q504920  \n",
      "2  http://sws.geonames.org/4407066/    http://www.wikidata.org/entity/Q5921  \n",
      "3  http://sws.geonames.org/5355828/  http://www.wikidata.org/entity/Q313013  \n",
      "4  http://sws.geonames.org/5355828/  http://www.wikidata.org/entity/Q313013  \n"
     ]
    }
   ],
   "source": [
    "print(df.head())"
   ],
   "metadata": {
    "collapsed": false,
    "ExecuteTime": {
     "end_time": "2023-12-11T20:06:28.744450Z",
     "start_time": "2023-12-11T20:06:28.739418Z"
    }
   },
   "id": "36f37cf3b72e81c8"
  },
  {
   "cell_type": "code",
   "execution_count": 35,
   "outputs": [
    {
     "name": "stdout",
     "output_type": "stream",
     "text": [
      "                                        event                 date  \\\n",
      "0   http://data.carnegiehall.org/events/27000  1971-09-24T19:30:00   \n",
      "1   http://data.carnegiehall.org/events/31673  1971-09-24T23:00:00   \n",
      "2   http://data.carnegiehall.org/events/18896  1971-09-14T20:00:00   \n",
      "3   http://data.carnegiehall.org/events/27000  1971-09-24T19:30:00   \n",
      "4   http://data.carnegiehall.org/events/31673  1971-09-24T23:00:00   \n",
      "..                                        ...                  ...   \n",
      "69  http://data.carnegiehall.org/events/29144  1971-09-26T19:30:00   \n",
      "70  http://data.carnegiehall.org/events/29144  1971-09-26T19:30:00   \n",
      "71  http://data.carnegiehall.org/events/27000  1971-09-24T19:30:00   \n",
      "72  http://data.carnegiehall.org/events/31673  1971-09-24T23:00:00   \n",
      "73  http://data.carnegiehall.org/events/29144  1971-09-26T19:30:00   \n",
      "\n",
      "                           title                              workperformed  \\\n",
      "0                 The Beach Boys  http://data.carnegiehall.org/works/109666   \n",
      "1                 The Beach Boys  http://data.carnegiehall.org/works/109666   \n",
      "2   Savoy Brown, Blues Rock Band  http://data.carnegiehall.org/works/109658   \n",
      "3                 The Beach Boys   http://data.carnegiehall.org/works/16482   \n",
      "4                 The Beach Boys   http://data.carnegiehall.org/works/16482   \n",
      "..                           ...                                        ...   \n",
      "69           Gino Caruso, Singer   http://data.carnegiehall.org/works/86331   \n",
      "70           Gino Caruso, Singer   http://data.carnegiehall.org/works/13110   \n",
      "71                The Beach Boys  http://data.carnegiehall.org/works/109575   \n",
      "72                The Beach Boys  http://data.carnegiehall.org/works/109575   \n",
      "73           Gino Caruso, Singer   http://data.carnegiehall.org/works/86330   \n",
      "\n",
      "                                      composer  composerName  \\\n",
      "0     http://data.carnegiehall.org/names/10103   Carl Wilson   \n",
      "1     http://data.carnegiehall.org/names/10103   Carl Wilson   \n",
      "2     http://data.carnegiehall.org/names/25403   Chuck Berry   \n",
      "3     http://data.carnegiehall.org/names/68948  Brian Wilson   \n",
      "4     http://data.carnegiehall.org/names/68948  Brian Wilson   \n",
      "..                                         ...           ...   \n",
      "69    http://data.carnegiehall.org/names/26011  Gino Mescoli   \n",
      "70  http://data.carnegiehall.org/names/1000545  Carlo Donida   \n",
      "71    http://data.carnegiehall.org/names/68948  Brian Wilson   \n",
      "72    http://data.carnegiehall.org/names/68948  Brian Wilson   \n",
      "73  http://data.carnegiehall.org/names/1016871      Les Reed   \n",
      "\n",
      "                          birthPlace                                     skos  \\\n",
      "0   http://sws.geonames.org/5355828/   http://www.wikidata.org/entity/Q504920   \n",
      "1   http://sws.geonames.org/5355828/   http://www.wikidata.org/entity/Q504920   \n",
      "2   http://sws.geonames.org/4407066/     http://www.wikidata.org/entity/Q5921   \n",
      "3   http://sws.geonames.org/5355828/   http://www.wikidata.org/entity/Q313013   \n",
      "4   http://sws.geonames.org/5355828/   http://www.wikidata.org/entity/Q313013   \n",
      "..                               ...                                      ...   \n",
      "69  http://sws.geonames.org/3168546/  http://www.wikidata.org/entity/Q3764672   \n",
      "70  http://sws.geonames.org/3173435/  http://www.wikidata.org/entity/Q3659289   \n",
      "71  http://sws.geonames.org/5355828/   http://www.wikidata.org/entity/Q313013   \n",
      "72  http://sws.geonames.org/5355828/   http://www.wikidata.org/entity/Q313013   \n",
      "73  http://sws.geonames.org/2633709/   http://www.wikidata.org/entity/Q443509   \n",
      "\n",
      "   nationalities  \n",
      "0            NaN  \n",
      "1            NaN  \n",
      "2            NaN  \n",
      "3            NaN  \n",
      "4            NaN  \n",
      "..           ...  \n",
      "69           NaN  \n",
      "70           NaN  \n",
      "71           NaN  \n",
      "72           NaN  \n",
      "73           NaN  \n",
      "\n",
      "[74 rows x 9 columns]\n"
     ]
    }
   ],
   "source": [
    "# makes a series for nationalities\n",
    "# nationalities = pd.Series(dtype=str)\n",
    "\n",
    "# function to create\n",
    "\n",
    "df.insert(8, \"nationalities\", pd.Series(dtype=str))\n",
    "\n",
    "print(df)"
   ],
   "metadata": {
    "collapsed": false,
    "ExecuteTime": {
     "end_time": "2023-12-11T20:06:29.365239Z",
     "start_time": "2023-12-11T20:06:29.361697Z"
    }
   },
   "id": "a8278a59a13ca55a"
  },
  {
   "cell_type": "code",
   "execution_count": 37,
   "outputs": [
    {
     "name": "stdout",
     "output_type": "stream",
     "text": [
      "                                        event                 date  \\\n",
      "0   http://data.carnegiehall.org/events/27000  1971-09-24T19:30:00   \n",
      "1   http://data.carnegiehall.org/events/31673  1971-09-24T23:00:00   \n",
      "2   http://data.carnegiehall.org/events/18896  1971-09-14T20:00:00   \n",
      "3   http://data.carnegiehall.org/events/27000  1971-09-24T19:30:00   \n",
      "4   http://data.carnegiehall.org/events/31673  1971-09-24T23:00:00   \n",
      "..                                        ...                  ...   \n",
      "69  http://data.carnegiehall.org/events/29144  1971-09-26T19:30:00   \n",
      "70  http://data.carnegiehall.org/events/29144  1971-09-26T19:30:00   \n",
      "71  http://data.carnegiehall.org/events/27000  1971-09-24T19:30:00   \n",
      "72  http://data.carnegiehall.org/events/31673  1971-09-24T23:00:00   \n",
      "73  http://data.carnegiehall.org/events/29144  1971-09-26T19:30:00   \n",
      "\n",
      "                           title                              workperformed  \\\n",
      "0                 The Beach Boys  http://data.carnegiehall.org/works/109666   \n",
      "1                 The Beach Boys  http://data.carnegiehall.org/works/109666   \n",
      "2   Savoy Brown, Blues Rock Band  http://data.carnegiehall.org/works/109658   \n",
      "3                 The Beach Boys   http://data.carnegiehall.org/works/16482   \n",
      "4                 The Beach Boys   http://data.carnegiehall.org/works/16482   \n",
      "..                           ...                                        ...   \n",
      "69           Gino Caruso, Singer   http://data.carnegiehall.org/works/86331   \n",
      "70           Gino Caruso, Singer   http://data.carnegiehall.org/works/13110   \n",
      "71                The Beach Boys  http://data.carnegiehall.org/works/109575   \n",
      "72                The Beach Boys  http://data.carnegiehall.org/works/109575   \n",
      "73           Gino Caruso, Singer   http://data.carnegiehall.org/works/86330   \n",
      "\n",
      "                                      composer  composerName  \\\n",
      "0     http://data.carnegiehall.org/names/10103   Carl Wilson   \n",
      "1     http://data.carnegiehall.org/names/10103   Carl Wilson   \n",
      "2     http://data.carnegiehall.org/names/25403   Chuck Berry   \n",
      "3     http://data.carnegiehall.org/names/68948  Brian Wilson   \n",
      "4     http://data.carnegiehall.org/names/68948  Brian Wilson   \n",
      "..                                         ...           ...   \n",
      "69    http://data.carnegiehall.org/names/26011  Gino Mescoli   \n",
      "70  http://data.carnegiehall.org/names/1000545  Carlo Donida   \n",
      "71    http://data.carnegiehall.org/names/68948  Brian Wilson   \n",
      "72    http://data.carnegiehall.org/names/68948  Brian Wilson   \n",
      "73  http://data.carnegiehall.org/names/1016871      Les Reed   \n",
      "\n",
      "                          birthPlace                                     skos  \\\n",
      "0   http://sws.geonames.org/5355828/   http://www.wikidata.org/entity/Q504920   \n",
      "1   http://sws.geonames.org/5355828/   http://www.wikidata.org/entity/Q504920   \n",
      "2   http://sws.geonames.org/4407066/     http://www.wikidata.org/entity/Q5921   \n",
      "3   http://sws.geonames.org/5355828/   http://www.wikidata.org/entity/Q313013   \n",
      "4   http://sws.geonames.org/5355828/   http://www.wikidata.org/entity/Q313013   \n",
      "..                               ...                                      ...   \n",
      "69  http://sws.geonames.org/3168546/  http://www.wikidata.org/entity/Q3764672   \n",
      "70  http://sws.geonames.org/3173435/  http://www.wikidata.org/entity/Q3659289   \n",
      "71  http://sws.geonames.org/5355828/   http://www.wikidata.org/entity/Q313013   \n",
      "72  http://sws.geonames.org/5355828/   http://www.wikidata.org/entity/Q313013   \n",
      "73  http://sws.geonames.org/2633709/   http://www.wikidata.org/entity/Q443509   \n",
      "\n",
      "   nationalities  \n",
      "0        Q504920  \n",
      "1        Q504920  \n",
      "2          Q5921  \n",
      "3        Q313013  \n",
      "4        Q313013  \n",
      "..           ...  \n",
      "69      Q3764672  \n",
      "70      Q3659289  \n",
      "71       Q313013  \n",
      "72       Q313013  \n",
      "73       Q443509  \n",
      "\n",
      "[74 rows x 9 columns]\n"
     ]
    }
   ],
   "source": [
    "for index in df.index:\n",
    "    df.loc[index, 'nationalities'] = df.loc[index, 'skos'][df.loc[index, 'skos'].index('Q'):]\n",
    "\n",
    "print(df)"
   ],
   "metadata": {
    "collapsed": false,
    "ExecuteTime": {
     "end_time": "2023-12-11T20:11:33.159676Z",
     "start_time": "2023-12-11T20:11:33.149748Z"
    }
   },
   "id": "3b451286af908389"
  },
  {
   "cell_type": "code",
   "execution_count": 67,
   "outputs": [
    {
     "name": "stdout",
     "output_type": "stream",
     "text": [
      "                                        event                 date  \\\n",
      "0   http://data.carnegiehall.org/events/27000  1971-09-24T19:30:00   \n",
      "1   http://data.carnegiehall.org/events/31673  1971-09-24T23:00:00   \n",
      "2   http://data.carnegiehall.org/events/18896  1971-09-14T20:00:00   \n",
      "3   http://data.carnegiehall.org/events/27000  1971-09-24T19:30:00   \n",
      "4   http://data.carnegiehall.org/events/31673  1971-09-24T23:00:00   \n",
      "..                                        ...                  ...   \n",
      "69  http://data.carnegiehall.org/events/29144  1971-09-26T19:30:00   \n",
      "70  http://data.carnegiehall.org/events/29144  1971-09-26T19:30:00   \n",
      "71  http://data.carnegiehall.org/events/27000  1971-09-24T19:30:00   \n",
      "72  http://data.carnegiehall.org/events/31673  1971-09-24T23:00:00   \n",
      "73  http://data.carnegiehall.org/events/29144  1971-09-26T19:30:00   \n",
      "\n",
      "                           title                              workperformed  \\\n",
      "0                 The Beach Boys  http://data.carnegiehall.org/works/109666   \n",
      "1                 The Beach Boys  http://data.carnegiehall.org/works/109666   \n",
      "2   Savoy Brown, Blues Rock Band  http://data.carnegiehall.org/works/109658   \n",
      "3                 The Beach Boys   http://data.carnegiehall.org/works/16482   \n",
      "4                 The Beach Boys   http://data.carnegiehall.org/works/16482   \n",
      "..                           ...                                        ...   \n",
      "69           Gino Caruso, Singer   http://data.carnegiehall.org/works/86331   \n",
      "70           Gino Caruso, Singer   http://data.carnegiehall.org/works/13110   \n",
      "71                The Beach Boys  http://data.carnegiehall.org/works/109575   \n",
      "72                The Beach Boys  http://data.carnegiehall.org/works/109575   \n",
      "73           Gino Caruso, Singer   http://data.carnegiehall.org/works/86330   \n",
      "\n",
      "                                      composer  composerName  \\\n",
      "0     http://data.carnegiehall.org/names/10103   Carl Wilson   \n",
      "1     http://data.carnegiehall.org/names/10103   Carl Wilson   \n",
      "2     http://data.carnegiehall.org/names/25403   Chuck Berry   \n",
      "3     http://data.carnegiehall.org/names/68948  Brian Wilson   \n",
      "4     http://data.carnegiehall.org/names/68948  Brian Wilson   \n",
      "..                                         ...           ...   \n",
      "69    http://data.carnegiehall.org/names/26011  Gino Mescoli   \n",
      "70  http://data.carnegiehall.org/names/1000545  Carlo Donida   \n",
      "71    http://data.carnegiehall.org/names/68948  Brian Wilson   \n",
      "72    http://data.carnegiehall.org/names/68948  Brian Wilson   \n",
      "73  http://data.carnegiehall.org/names/1016871      Les Reed   \n",
      "\n",
      "                          birthPlace                                     skos  \\\n",
      "0   http://sws.geonames.org/5355828/   http://www.wikidata.org/entity/Q504920   \n",
      "1   http://sws.geonames.org/5355828/   http://www.wikidata.org/entity/Q504920   \n",
      "2   http://sws.geonames.org/4407066/     http://www.wikidata.org/entity/Q5921   \n",
      "3   http://sws.geonames.org/5355828/   http://www.wikidata.org/entity/Q313013   \n",
      "4   http://sws.geonames.org/5355828/   http://www.wikidata.org/entity/Q313013   \n",
      "..                               ...                                      ...   \n",
      "69  http://sws.geonames.org/3168546/  http://www.wikidata.org/entity/Q3764672   \n",
      "70  http://sws.geonames.org/3173435/  http://www.wikidata.org/entity/Q3659289   \n",
      "71  http://sws.geonames.org/5355828/   http://www.wikidata.org/entity/Q313013   \n",
      "72  http://sws.geonames.org/5355828/   http://www.wikidata.org/entity/Q313013   \n",
      "73  http://sws.geonames.org/2633709/   http://www.wikidata.org/entity/Q443509   \n",
      "\n",
      "                                        nationalities  \n",
      "0         0    United States of America\n",
      "dtype: object  \n",
      "1         0    United States of America\n",
      "dtype: object  \n",
      "2         0    United States of America\n",
      "dtype: object  \n",
      "3         0    United States of America\n",
      "dtype: object  \n",
      "4         0    United States of America\n",
      "dtype: object  \n",
      "..                                                ...  \n",
      "69                           0    Italy\n",
      "dtype: object  \n",
      "70  0               Italy\n",
      "1    Kingdom of Italy\n",
      "dt...  \n",
      "71        0    United States of America\n",
      "dtype: object  \n",
      "72        0    United States of America\n",
      "dtype: object  \n",
      "73                  0    United Kingdom\n",
      "dtype: object  \n",
      "\n",
      "[74 rows x 9 columns]\n"
     ]
    }
   ],
   "source": [
    "df.insert(8, \"nationalities\", pd.Series(dtype=str))\n",
    "\n",
    "# Iterate through the dataframe, adding nationalities when possible\n",
    "for index in df.index:\n",
    "    # isolate the data in the 'skos' row\n",
    "    wikidata_id = df.loc[index, 'skos']\n",
    "    # isolate the unique wikidata item identifier beginning with 'Q'\n",
    "    wikidata_id = wikidata_id[wikidata_id.index('Q'):]\n",
    "    \n",
    "    # API call to wikidata to get the \"countries of citizenship\" for this item\n",
    "    request = requests.get(f'https://www.wikidata.org/w/rest.php/wikibase/v0/entities/items/{wikidata_id}/statements?property=P27')\n",
    "    \n",
    "    # create blank list to store nationalities\n",
    "    nationalities = pd.Series(dtype=str)\n",
    "    \n",
    "    # iterate through all countries of citizenship for the composer\n",
    "    for result in dict(request.json())['P27']:\n",
    "        #print(result['value']['content'])\n",
    "        #print(pd.Series([result['value']['content']]))\n",
    "        nationalities = nationalities.append(pd.Series([result['value']['content']]), ignore_index=True)\n",
    "    \n",
    "    for i in nationalities.index:\n",
    "        nationalities.loc[i] = requests.get(f'https://www.wikidata.org/w/rest.php/wikibase/v0/entities/items/{nationalities[i]}/labels/en').json()\n",
    "        #print(nationalities.loc[i])\n",
    "    \n",
    "    df.at[index, 'nationalities'] = nationalities.head()\n",
    "\n",
    "df"
   ],
   "metadata": {
    "collapsed": false,
    "ExecuteTime": {
     "end_time": "2023-12-11T20:38:08.642781Z",
     "start_time": "2023-12-11T20:37:53.981253Z"
    }
   },
   "id": "da5ed122064bdbc9"
  },
  {
   "cell_type": "code",
   "execution_count": 64,
   "outputs": [
    {
     "name": "stdout",
     "output_type": "stream",
     "text": [
      "0     old\n",
      "1    test\n",
      "dtype: object\n"
     ]
    }
   ],
   "source": [
    "a = pd.Series(['old'])\n",
    "b = a.append(pd.Series(['test']), ignore_index=True)\n",
    "print(b.head())"
   ],
   "metadata": {
    "collapsed": false,
    "ExecuteTime": {
     "end_time": "2023-12-11T20:36:15.782127Z",
     "start_time": "2023-12-11T20:36:15.772145Z"
    }
   },
   "id": "cec1a30ba340beee"
  },
  {
   "cell_type": "code",
   "execution_count": 69,
   "outputs": [
    {
     "data": {
      "text/plain": "                                        event                 date  \\\n0   http://data.carnegiehall.org/events/27000  1971-09-24T19:30:00   \n1   http://data.carnegiehall.org/events/31673  1971-09-24T23:00:00   \n2   http://data.carnegiehall.org/events/18896  1971-09-14T20:00:00   \n3   http://data.carnegiehall.org/events/27000  1971-09-24T19:30:00   \n4   http://data.carnegiehall.org/events/31673  1971-09-24T23:00:00   \n..                                        ...                  ...   \n69  http://data.carnegiehall.org/events/29144  1971-09-26T19:30:00   \n70  http://data.carnegiehall.org/events/29144  1971-09-26T19:30:00   \n71  http://data.carnegiehall.org/events/27000  1971-09-24T19:30:00   \n72  http://data.carnegiehall.org/events/31673  1971-09-24T23:00:00   \n73  http://data.carnegiehall.org/events/29144  1971-09-26T19:30:00   \n\n                           title                              workperformed  \\\n0                 The Beach Boys  http://data.carnegiehall.org/works/109666   \n1                 The Beach Boys  http://data.carnegiehall.org/works/109666   \n2   Savoy Brown, Blues Rock Band  http://data.carnegiehall.org/works/109658   \n3                 The Beach Boys   http://data.carnegiehall.org/works/16482   \n4                 The Beach Boys   http://data.carnegiehall.org/works/16482   \n..                           ...                                        ...   \n69           Gino Caruso, Singer   http://data.carnegiehall.org/works/86331   \n70           Gino Caruso, Singer   http://data.carnegiehall.org/works/13110   \n71                The Beach Boys  http://data.carnegiehall.org/works/109575   \n72                The Beach Boys  http://data.carnegiehall.org/works/109575   \n73           Gino Caruso, Singer   http://data.carnegiehall.org/works/86330   \n\n                                      composer  composerName  \\\n0     http://data.carnegiehall.org/names/10103   Carl Wilson   \n1     http://data.carnegiehall.org/names/10103   Carl Wilson   \n2     http://data.carnegiehall.org/names/25403   Chuck Berry   \n3     http://data.carnegiehall.org/names/68948  Brian Wilson   \n4     http://data.carnegiehall.org/names/68948  Brian Wilson   \n..                                         ...           ...   \n69    http://data.carnegiehall.org/names/26011  Gino Mescoli   \n70  http://data.carnegiehall.org/names/1000545  Carlo Donida   \n71    http://data.carnegiehall.org/names/68948  Brian Wilson   \n72    http://data.carnegiehall.org/names/68948  Brian Wilson   \n73  http://data.carnegiehall.org/names/1016871      Les Reed   \n\n                          birthPlace                                     skos  \\\n0   http://sws.geonames.org/5355828/   http://www.wikidata.org/entity/Q504920   \n1   http://sws.geonames.org/5355828/   http://www.wikidata.org/entity/Q504920   \n2   http://sws.geonames.org/4407066/     http://www.wikidata.org/entity/Q5921   \n3   http://sws.geonames.org/5355828/   http://www.wikidata.org/entity/Q313013   \n4   http://sws.geonames.org/5355828/   http://www.wikidata.org/entity/Q313013   \n..                               ...                                      ...   \n69  http://sws.geonames.org/3168546/  http://www.wikidata.org/entity/Q3764672   \n70  http://sws.geonames.org/3173435/  http://www.wikidata.org/entity/Q3659289   \n71  http://sws.geonames.org/5355828/   http://www.wikidata.org/entity/Q313013   \n72  http://sws.geonames.org/5355828/   http://www.wikidata.org/entity/Q313013   \n73  http://sws.geonames.org/2633709/   http://www.wikidata.org/entity/Q443509   \n\n                                        nationalities  \n0         0    United States of America\ndtype: object  \n1         0    United States of America\ndtype: object  \n2         0    United States of America\ndtype: object  \n3         0    United States of America\ndtype: object  \n4         0    United States of America\ndtype: object  \n..                                                ...  \n69                           0    Italy\ndtype: object  \n70  0               Italy\n1    Kingdom of Italy\ndt...  \n71        0    United States of America\ndtype: object  \n72        0    United States of America\ndtype: object  \n73                  0    United Kingdom\ndtype: object  \n\n[74 rows x 9 columns]",
      "text/html": "<div>\n<style scoped>\n    .dataframe tbody tr th:only-of-type {\n        vertical-align: middle;\n    }\n\n    .dataframe tbody tr th {\n        vertical-align: top;\n    }\n\n    .dataframe thead th {\n        text-align: right;\n    }\n</style>\n<table border=\"1\" class=\"dataframe\">\n  <thead>\n    <tr style=\"text-align: right;\">\n      <th></th>\n      <th>event</th>\n      <th>date</th>\n      <th>title</th>\n      <th>workperformed</th>\n      <th>composer</th>\n      <th>composerName</th>\n      <th>birthPlace</th>\n      <th>skos</th>\n      <th>nationalities</th>\n    </tr>\n  </thead>\n  <tbody>\n    <tr>\n      <th>0</th>\n      <td>http://data.carnegiehall.org/events/27000</td>\n      <td>1971-09-24T19:30:00</td>\n      <td>The Beach Boys</td>\n      <td>http://data.carnegiehall.org/works/109666</td>\n      <td>http://data.carnegiehall.org/names/10103</td>\n      <td>Carl Wilson</td>\n      <td>http://sws.geonames.org/5355828/</td>\n      <td>http://www.wikidata.org/entity/Q504920</td>\n      <td>0    United States of America\ndtype: object</td>\n    </tr>\n    <tr>\n      <th>1</th>\n      <td>http://data.carnegiehall.org/events/31673</td>\n      <td>1971-09-24T23:00:00</td>\n      <td>The Beach Boys</td>\n      <td>http://data.carnegiehall.org/works/109666</td>\n      <td>http://data.carnegiehall.org/names/10103</td>\n      <td>Carl Wilson</td>\n      <td>http://sws.geonames.org/5355828/</td>\n      <td>http://www.wikidata.org/entity/Q504920</td>\n      <td>0    United States of America\ndtype: object</td>\n    </tr>\n    <tr>\n      <th>2</th>\n      <td>http://data.carnegiehall.org/events/18896</td>\n      <td>1971-09-14T20:00:00</td>\n      <td>Savoy Brown, Blues Rock Band</td>\n      <td>http://data.carnegiehall.org/works/109658</td>\n      <td>http://data.carnegiehall.org/names/25403</td>\n      <td>Chuck Berry</td>\n      <td>http://sws.geonames.org/4407066/</td>\n      <td>http://www.wikidata.org/entity/Q5921</td>\n      <td>0    United States of America\ndtype: object</td>\n    </tr>\n    <tr>\n      <th>3</th>\n      <td>http://data.carnegiehall.org/events/27000</td>\n      <td>1971-09-24T19:30:00</td>\n      <td>The Beach Boys</td>\n      <td>http://data.carnegiehall.org/works/16482</td>\n      <td>http://data.carnegiehall.org/names/68948</td>\n      <td>Brian Wilson</td>\n      <td>http://sws.geonames.org/5355828/</td>\n      <td>http://www.wikidata.org/entity/Q313013</td>\n      <td>0    United States of America\ndtype: object</td>\n    </tr>\n    <tr>\n      <th>4</th>\n      <td>http://data.carnegiehall.org/events/31673</td>\n      <td>1971-09-24T23:00:00</td>\n      <td>The Beach Boys</td>\n      <td>http://data.carnegiehall.org/works/16482</td>\n      <td>http://data.carnegiehall.org/names/68948</td>\n      <td>Brian Wilson</td>\n      <td>http://sws.geonames.org/5355828/</td>\n      <td>http://www.wikidata.org/entity/Q313013</td>\n      <td>0    United States of America\ndtype: object</td>\n    </tr>\n    <tr>\n      <th>...</th>\n      <td>...</td>\n      <td>...</td>\n      <td>...</td>\n      <td>...</td>\n      <td>...</td>\n      <td>...</td>\n      <td>...</td>\n      <td>...</td>\n      <td>...</td>\n    </tr>\n    <tr>\n      <th>69</th>\n      <td>http://data.carnegiehall.org/events/29144</td>\n      <td>1971-09-26T19:30:00</td>\n      <td>Gino Caruso, Singer</td>\n      <td>http://data.carnegiehall.org/works/86331</td>\n      <td>http://data.carnegiehall.org/names/26011</td>\n      <td>Gino Mescoli</td>\n      <td>http://sws.geonames.org/3168546/</td>\n      <td>http://www.wikidata.org/entity/Q3764672</td>\n      <td>0    Italy\ndtype: object</td>\n    </tr>\n    <tr>\n      <th>70</th>\n      <td>http://data.carnegiehall.org/events/29144</td>\n      <td>1971-09-26T19:30:00</td>\n      <td>Gino Caruso, Singer</td>\n      <td>http://data.carnegiehall.org/works/13110</td>\n      <td>http://data.carnegiehall.org/names/1000545</td>\n      <td>Carlo Donida</td>\n      <td>http://sws.geonames.org/3173435/</td>\n      <td>http://www.wikidata.org/entity/Q3659289</td>\n      <td>0               Italy\n1    Kingdom of Italy\ndt...</td>\n    </tr>\n    <tr>\n      <th>71</th>\n      <td>http://data.carnegiehall.org/events/27000</td>\n      <td>1971-09-24T19:30:00</td>\n      <td>The Beach Boys</td>\n      <td>http://data.carnegiehall.org/works/109575</td>\n      <td>http://data.carnegiehall.org/names/68948</td>\n      <td>Brian Wilson</td>\n      <td>http://sws.geonames.org/5355828/</td>\n      <td>http://www.wikidata.org/entity/Q313013</td>\n      <td>0    United States of America\ndtype: object</td>\n    </tr>\n    <tr>\n      <th>72</th>\n      <td>http://data.carnegiehall.org/events/31673</td>\n      <td>1971-09-24T23:00:00</td>\n      <td>The Beach Boys</td>\n      <td>http://data.carnegiehall.org/works/109575</td>\n      <td>http://data.carnegiehall.org/names/68948</td>\n      <td>Brian Wilson</td>\n      <td>http://sws.geonames.org/5355828/</td>\n      <td>http://www.wikidata.org/entity/Q313013</td>\n      <td>0    United States of America\ndtype: object</td>\n    </tr>\n    <tr>\n      <th>73</th>\n      <td>http://data.carnegiehall.org/events/29144</td>\n      <td>1971-09-26T19:30:00</td>\n      <td>Gino Caruso, Singer</td>\n      <td>http://data.carnegiehall.org/works/86330</td>\n      <td>http://data.carnegiehall.org/names/1016871</td>\n      <td>Les Reed</td>\n      <td>http://sws.geonames.org/2633709/</td>\n      <td>http://www.wikidata.org/entity/Q443509</td>\n      <td>0    United Kingdom\ndtype: object</td>\n    </tr>\n  </tbody>\n</table>\n<p>74 rows × 9 columns</p>\n</div>"
     },
     "execution_count": 69,
     "metadata": {},
     "output_type": "execute_result"
    }
   ],
   "source": [
    "df"
   ],
   "metadata": {
    "collapsed": false,
    "ExecuteTime": {
     "end_time": "2023-12-11T20:39:17.346457Z",
     "start_time": "2023-12-11T20:39:17.340747Z"
    }
   },
   "id": "c89191e2751c7f67"
  },
  {
   "cell_type": "code",
   "execution_count": 1,
   "outputs": [
    {
     "ename": "NameError",
     "evalue": "name 'df' is not defined",
     "output_type": "error",
     "traceback": [
      "\u001B[0;31m---------------------------------------------------------------------------\u001B[0m",
      "\u001B[0;31mNameError\u001B[0m                                 Traceback (most recent call last)",
      "Cell \u001B[0;32mIn[1], line 1\u001B[0m\n\u001B[0;32m----> 1\u001B[0m \u001B[43mdf\u001B[49m[\u001B[38;5;241m0\u001B[39m, \u001B[38;5;124m'\u001B[39m\u001B[38;5;124mnationalities\u001B[39m\u001B[38;5;124m'\u001B[39m]\n",
      "\u001B[0;31mNameError\u001B[0m: name 'df' is not defined"
     ]
    }
   ],
   "source": [
    "df[0, 'nationalities']"
   ],
   "metadata": {
    "collapsed": false,
    "ExecuteTime": {
     "end_time": "2023-12-12T07:32:43.814003Z",
     "start_time": "2023-12-12T07:32:43.538512Z"
    }
   },
   "id": "1759f25fcfb95564"
  },
  {
   "cell_type": "code",
   "execution_count": 76,
   "outputs": [
    {
     "ename": "AttributeError",
     "evalue": "'list' object has no attribute 'at'",
     "output_type": "error",
     "traceback": [
      "\u001B[0;31m---------------------------------------------------------------------------\u001B[0m",
      "\u001B[0;31mAttributeError\u001B[0m                            Traceback (most recent call last)",
      "Cell \u001B[0;32mIn[76], line 1\u001B[0m\n\u001B[0;32m----> 1\u001B[0m \u001B[43mtest\u001B[49m\u001B[38;5;241;43m.\u001B[39;49m\u001B[43mat\u001B[49m(\u001B[38;5;241m4\u001B[39m)\n",
      "\u001B[0;31mAttributeError\u001B[0m: 'list' object has no attribute 'at'"
     ]
    }
   ],
   "source": [],
   "metadata": {
    "collapsed": false,
    "ExecuteTime": {
     "end_time": "2023-12-11T20:42:52.993151Z",
     "start_time": "2023-12-11T20:42:52.977344Z"
    }
   },
   "id": "bd3ab2649a53687e"
  },
  {
   "cell_type": "code",
   "execution_count": null,
   "outputs": [],
   "source": [],
   "metadata": {
    "collapsed": false
   },
   "id": "be9bf846ece7c9ea"
  }
 ],
 "metadata": {
  "kernelspec": {
   "display_name": "Python 3",
   "language": "python",
   "name": "python3"
  },
  "language_info": {
   "codemirror_mode": {
    "name": "ipython",
    "version": 2
   },
   "file_extension": ".py",
   "mimetype": "text/x-python",
   "name": "python",
   "nbconvert_exporter": "python",
   "pygments_lexer": "ipython2",
   "version": "2.7.6"
  }
 },
 "nbformat": 4,
 "nbformat_minor": 5
}
