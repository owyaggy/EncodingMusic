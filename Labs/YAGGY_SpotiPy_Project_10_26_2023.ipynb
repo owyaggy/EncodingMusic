{
 "cells": [
  {
   "cell_type": "markdown",
   "metadata": {
    "id": "JluHT0GaOfVe"
   },
   "source": [
    "# SpotiPy Project\n",
    "### Owen Yaggy, Luke Sheppard, Felicia Pursner\n",
    "#### Relating people by their musical choices"
   ]
  },
  {
   "cell_type": "markdown",
   "metadata": {
    "collapsed": false,
    "jupyter": {
     "outputs_hidden": false
    }
   },
   "source": [
    "## Importing libraries:\n",
    "All the libraries that could be needed. This is directly from the Encoding Music tutorial on Spotify functions on GitHub."
   ]
  },
  {
   "cell_type": "code",
   "execution_count": 194,
   "metadata": {
    "ExecuteTime": {
     "end_time": "2023-10-28T02:28:26.334649Z",
     "start_time": "2023-10-28T02:28:24.254653Z"
    },
    "collapsed": false,
    "jupyter": {
     "outputs_hidden": false
    }
   },
   "outputs": [],
   "source": [
    "!pip -q install spotipy"
   ]
  },
  {
   "cell_type": "code",
   "execution_count": 178,
   "metadata": {
    "ExecuteTime": {
     "end_time": "2023-10-28T01:58:23.033852Z",
     "start_time": "2023-10-28T01:58:23.025032Z"
    },
    "id": "Q2TBxEJHQLcF"
   },
   "outputs": [],
   "source": [
    "import pandas as pd\n",
    "import spotipy\n",
    "from spotipy.oauth2 import SpotifyClientCredentials\n",
    "from ipywidgets import interactive\n",
    "from IPython.display import display\n",
    "import plotly.express as px\n",
    "\n",
    "# The `analyze_playlists()` function from the Encoding Music GitHub uses pd.concat in a way that causes FutureWarnings to be thrown, warning about deprecation of a particular usage of pd.concat.\n",
    "# This workaround code tells Python to ignore those warnings and not display them.\n",
    "import warnings\n",
    "warnings.simplefilter(action='ignore', category=FutureWarning)"
   ]
  },
  {
   "cell_type": "markdown",
   "metadata": {
    "collapsed": false,
    "jupyter": {
     "outputs_hidden": false
    }
   },
   "source": [
    "## Configuring the Spotify API\n",
    "\n",
    "This code uses the Spotify API. It requires a client ID, a client secret, and a Spotify username. Those can be included in the code in the following two ways:\n",
    "\n",
    "* A file, config.py, with variables for `client_id`, `client_secret`, and `user` stored as strings. These correspond to your public and private Spotify API keys, and your Spotify username, respectively, OR:\n",
    "* Replace the usage of `config.client_id` with your private API key, and so on for the other variables. They are only used once, in the cell below.\n",
    "    * If this method is used, comment out the line `import config` - if there is no `config.py` file, this line will cause an error.\n",
    "\n",
    "This cell takes the API credentials and stores them with the client tool provided by the spotipy library."
   ]
  },
  {
   "cell_type": "code",
   "execution_count": 179,
   "metadata": {
    "ExecuteTime": {
     "end_time": "2023-10-28T01:58:23.039185Z",
     "start_time": "2023-10-28T01:58:23.033579Z"
    },
    "id": "i7CCZxnvQYUk"
   },
   "outputs": [],
   "source": [
    "# Comment this out if storing your API keys below!\n",
    "import config\n",
    "\n",
    "# storing the credentials:\n",
    "\n",
    "CLIENT_ID = config.client_id\n",
    "CLIENT_SECRET = config.client_secret\n",
    "my_username = config.user\n",
    "\n",
    "# instantiating the client.  This 'sp' version of the client is used repeatedly below\n",
    "# source: Max Hilsdorf (https://towardsdatascience.com/how-to-create-large-music-datasets-using-spotipy-40e7242cc6a6)\n",
    "client_credentials_manager = SpotifyClientCredentials(client_id=CLIENT_ID, client_secret=CLIENT_SECRET)\n",
    "sp = spotipy.Spotify(client_credentials_manager=client_credentials_manager)"
   ]
  },
  {
   "cell_type": "markdown",
   "metadata": {
    "collapsed": false,
    "jupyter": {
     "outputs_hidden": false
    }
   },
   "source": [
    "## Get music feature data\n",
    "#### This is needed to analyze the songs and determine similarity.\n",
    "\n",
    "*This code is taken from the EncodingMusic GitHub, in spotify_tools.py, but MODIFIED as follows:*\n",
    "\n",
    "* Previously, the index of every song in the dataframe was sequential (0, 1, 2, etc.)\n",
    "* This made it hard for me to query a specific audio feature for a track\n",
    "* So, the code was changed so that the index becomes the track_id for a song\n",
    "* This means you can query based on track_id, which makes it easier to find specific data for a song\n",
    "* If a playlist contains several copies of the same song, duplicate copies are now ignored\n",
    "* All song IDs needed are now collected PRIOR to making an API call, so only one call is made rather than 10 to collect audio feature data."
   ]
  },
  {
   "cell_type": "code",
   "execution_count": 180,
   "metadata": {
    "ExecuteTime": {
     "end_time": "2023-10-28T01:58:23.066836Z",
     "start_time": "2023-10-28T01:58:23.044146Z"
    },
    "collapsed": false,
    "jupyter": {
     "outputs_hidden": false
    }
   },
   "outputs": [],
   "source": [
    "def analyze_playlist(creator, playlist_id, spotipy_client):\n",
    "    playlist_features_list = [\"artist\", \"album\", \"track_name\",\n",
    "                              \"danceability\", \"energy\", \"key\", \"loudness\", \"mode\", \"speechiness\",\n",
    "                              \"instrumentalness\", \"liveness\", \"valence\", \"tempo\", \"duration_ms\", \"time_signature\"] # removed track_id\n",
    "    playlist_df = pd.DataFrame(columns=playlist_features_list)\n",
    "\n",
    "    playlist_features = {}\n",
    "\n",
    "    playlist = spotipy_client.user_playlist_tracks(creator, playlist_id)[\"items\"]\n",
    "    \n",
    "    ### Modification from original code to reduce API calls by 90%:\n",
    "    # First gather all the tracks in the playlist, and make one batch API call to get audio features for all those tracks\n",
    "    # Instead of making a new API call for each track\n",
    "    \n",
    "    tracks = []                                 # List to contain all track IDs\n",
    "    for track in playlist:                      # Iterate thru tracks in playlist\n",
    "        tracks.append(track['track']['id'])     # Store track ID in list\n",
    "    \n",
    "    audio_features = spotipy_client.audio_features(tracks)\n",
    "    \n",
    "    for track in playlist:\n",
    "        playlist_features[\"artist\"] = track[\"track\"][\"album\"][\"artists\"][0][\"name\"]\n",
    "        playlist_features[\"album\"] = track[\"track\"][\"album\"][\"name\"]\n",
    "        playlist_features[\"track_name\"] = track[\"track\"][\"name\"]\n",
    "        playlist_features[\"track_id\"] = track[\"track\"][\"id\"]\n",
    "\n",
    "        for feature in playlist_features_list[3:]: # changed from 4 to 3 to fix error caused by removing track_id from list of features\n",
    "            # modified to also select the specific audio feature data needed based on current track, since now `audio_features` contains data for 10 songs\n",
    "            playlist_features[feature] = audio_features[tracks.index(playlist_features['track_id'])][feature]\n",
    "\n",
    "        track_df = pd.DataFrame(playlist_features, index=[playlist_features['track_id']]) # changed index from automatically being 0 to being the track_id\n",
    "        \n",
    "        try:                                                        # attempts to query the current song in the resultant dataframe\n",
    "            playlist_df.loc[playlist_features['track_id']]          # only if the song is not already in the df (which throws KeyError) will it be added\n",
    "        except KeyError:\n",
    "            playlist_df = pd.concat([playlist_df, track_df], ignore_index=False) # changed ignore_index from True to False\n",
    "\n",
    "    return playlist_df"
   ]
  },
  {
   "cell_type": "markdown",
   "metadata": {
    "collapsed": false,
    "jupyter": {
     "outputs_hidden": false
    }
   },
   "source": [
    "The variables below will be used for some examples later on:"
   ]
  },
  {
   "cell_type": "code",
   "execution_count": 181,
   "metadata": {
    "ExecuteTime": {
     "end_time": "2023-10-28T01:58:23.068227Z",
     "start_time": "2023-10-28T01:58:23.052158Z"
    },
    "collapsed": false,
    "jupyter": {
     "outputs_hidden": false
    }
   },
   "outputs": [],
   "source": [
    "creator_id_1 = \"owenyyyyy\"                  # Owen Yaggy\n",
    "playlist_id_1 = \"7IQjZlOVWHRryiAe5Bmb3F\"    # Playlist: \"Pandemic Indie Phase\"\n",
    "track_id_1 = \"2c62Xf5Po1YSa1N6LOjPHy\"       # Song: Hello My Old Heart by The Oh Hellos\n",
    "\n",
    "creator_id_2 = \"lzsfootball\"                # Luke Sheppard\n",
    "playlist_id_2 = \"2C4SW8Xfa1WxaO6b2dabOA\"    # Playlist: \"Oranges\"\n",
    "track_id_2 = \"5VGEgFZfWBoEOGb3Vlo3rU\"       # Song: Tangerine by Glass Animals"
   ]
  },
  {
   "cell_type": "markdown",
   "metadata": {
    "collapsed": false,
    "jupyter": {
     "outputs_hidden": false
    }
   },
   "source": [
    "# Fundamental Comparison: Song <-> Song\n",
    "\n",
    "While we ultimately aim to relate people, the fundamental comparison is a scalar indicating the similarity of two songs.\n",
    "\n",
    "The main function is `similarity_scalar(...)`:\n",
    " `similarity_scalar(song_id_1, playlist_dataframe_2, song_id_2, playlist_dataframe_2)`\n",
    " \n",
    "`similarity_scalar(...)` takes two song IDs and their respective dataframes and generates a scalar from 0-1. 1 indicates complete similarity, and 0 indicates complete difference. This value is based on the average difference of audio feature data for the two tracks.\n",
    "\n",
    "Those differences in audio feature data are easy to compute for quantities that are already scalar, such as `valence` and `energy`. However, some audio features require interpretative methods of comparison. One notable example is `key`. When comparing two keys, we take into account the `mode` as well. Using `key` and `mode`, we locate each track on the circle of fifths. The difference between the keys of two tracks is the distance between their relative positions on the circle of fifths, converted to a scalar from 0 to 1.\n",
    "\n",
    "A separate function is written for this computation:"
   ]
  },
  {
   "cell_type": "code",
   "execution_count": 182,
   "metadata": {
    "ExecuteTime": {
     "end_time": "2023-10-28T01:58:23.069270Z",
     "start_time": "2023-10-28T01:58:23.060504Z"
    },
    "collapsed": false,
    "jupyter": {
     "outputs_hidden": false
    }
   },
   "outputs": [],
   "source": [
    "def compare_keys(key1: int, mode1: int, key2: int, mode2: int) -> float:\n",
    "    \"\"\"\n",
    "    Returns how similar the key of 2 tracks is based on their relative positions in the circle of fifths.\n",
    "    \n",
    "    For example, C major and A minor both occupy the same position on the circle of fifths (position 0). G maj/E min is position 2. D maj/B min is position 3,\n",
    "    and so on up to F maj/D min at position 11.\n",
    "    \n",
    "    This function uses key and mode information provided by Spotify to calculate the position of each track on the circle of fifths.\n",
    "    The circle has 12 positions, so the minimum distance between two points is 0, and the maximum distance is 6, because the circle is bidirectional.\n",
    "    The function returns a scalar from 0-1, where 1 represents the maximum distance and 0 the minimum. Thus, the result is 1/6 of the distance on the circle.\n",
    "    :param key1: Key of the first track\n",
    "    :param mode1: Mode of the first track\n",
    "    :param key2: Key of the second track\n",
    "    :param mode2: Mode of the second track\n",
    "    :return: A float from 0-1, with 1 indicating far apart keys, and 0 indicating identical keys\n",
    "    \"\"\"\n",
    "    # Similar means similar audio feature values. Thus returning 0 means very similar, and 1 means very different.\n",
    "        \n",
    "    circle_pos_1 = (7 * key1) % 12      # increase of 1 on the Spotify scale = up a half step\n",
    "                                        # but increase of a half step on the circle of fifths = up 7 positions (but max position is 11)\n",
    "    \n",
    "    if mode1 == 0:                                  # however, if the key is actually a minor key, need to shift back 3 positions (equivalent to up 9)\n",
    "        circle_pos_1 = (circle_pos_1 + 9) % 12      # because, for example, C maj has position 0, but C min has position 9, on the circle of fifths\n",
    "    \n",
    "    circle_pos_2 = (7 * key2) % 12      # calculate the position on the circle of fifths for the other song in the same way\n",
    "    if mode2 == 0:\n",
    "        circle_pos_2 = (circle_pos_2 + 9) % 12\n",
    "        \n",
    "    circle_dist = abs(circle_pos_1 - circle_pos_2)      # calculate the distance between the 2 positions on the circle\n",
    "    if circle_dist > 6:                                 # because circle is bidirectional, differences greater than 6 are actually closer than 6\n",
    "        circle_dist = 12 - circle_dist\n",
    "        \n",
    "    return circle_dist / 6      # convert to 0-1 scalar"
   ]
  },
  {
   "cell_type": "markdown",
   "metadata": {
    "collapsed": false,
    "jupyter": {
     "outputs_hidden": false
    }
   },
   "source": [
    "## Finding Audio Feature Difference\n",
    "\n",
    "The first step is a function that takes the data from two songs and finds the difference in audio features for the two tracks. This is accomplished in `similarity_dict(...)`.\n",
    "\n",
    "In `similarity_dict(...)`:\n",
    "    * Audio feature data is stored in a dictionary for each track\n",
    "    * The difference between the values for each feature is computed\n",
    "        * So, a small number for `valence` indicates 2 tracks have very similar valence, while a large number indicates very different valence\n",
    "        * For scalar features (those measured from 1-0), this is a simple process\n",
    "        * Some features just need to be translated to a different scale (e.g. `loudness` can be transposed from a -60 to 0 scale to a 0 to 1 scale) (see the code for step-by-step comments)\n",
    "        * For comparing keys, a more complicated algorithm is needed to account for similar keys (see `compare_keys(...)`)\n",
    "    * The output is a dictionary where each entry is measures how similar a feature is, for example `'valence': 0.03` indicates similar valence\n",
    "\n",
    "##### An important note\n",
    "\n",
    "When comparing two songs, audio features play differently sized roles in determining how similar they sound. Our code accounts for this by allowing the weight of each audio feature to be selected. We also set default values to account for the usefulness of some of the audio feature comparisons.\n",
    "\n",
    "For instance, loudness is measured on a logarithmic scale. Comparisons on this scale aren't very useful, and loudness as a feature is somewhat arbitrary because the same recording could be mixed with a higher or lower decibel level. By default, we ignore loudness, setting its weight to 0, when we compare playlists. However, we leave the code intact, both for future modification and in case the user decides a comparison of loudness could be useful. We also give mode very little weight, for example, because whether a track is in a major or minor key is likely an insignificant factor in determining similarity. In recognition of the subjective nature of these weights, we allow the user to select the weights they would like to use through sliders. This is discussed later.\n",
    "\n",
    "For more information on audio feature weighting, see the `set_weights()` function."
   ]
  },
  {
   "cell_type": "code",
   "execution_count": 183,
   "metadata": {
    "ExecuteTime": {
     "end_time": "2023-10-28T01:58:23.878979Z",
     "start_time": "2023-10-28T01:58:23.076300Z"
    },
    "collapsed": false,
    "jupyter": {
     "outputs_hidden": false
    }
   },
   "outputs": [
    {
     "data": {
      "text/plain": [
       "{'danceability': 0.2879999999999999,\n",
       " 'energy': 0.284,\n",
       " 'instrumentalness': 0.030264,\n",
       " 'liveness': 0.00860000000000001,\n",
       " 'valence': 0.5449999999999999,\n",
       " 'loudness': 0.0781,\n",
       " 'tempo': 0.37412500000000004,\n",
       " 'key': 0.0,\n",
       " 'mode': 1.0}"
      ]
     },
     "execution_count": 183,
     "metadata": {},
     "output_type": "execute_result"
    }
   ],
   "source": [
    "def similarity_dict(id1: str, playlist_df_1_param: pd.DataFrame, id2: str=\"\", playlist_df_2_param: pd.DataFrame=pd.DataFrame()) -> dict:\n",
    "    \"\"\"\n",
    "    Returns a dictionary with the similarity of each audio feature for the tracks in the given playlists. Smaller numbers mean more similar. If both songs are from the same playlist, only one playlist dataframe is needed.\n",
    "    :param id1: The Spotify ID of the first song\n",
    "    :param playlist_df_1_param: The dataframe for the first playlist\n",
    "    :param id2: (Optional) The Spotify ID of the second song\n",
    "    :param playlist_df_2_param: (Optional) The dataframe for the second playlist\n",
    "    :return: A dictionary with keys indicating audio features and values indicating the difference between the values for those features from the respective tracks. Values closer to 0 indicate similarity, and values closer to 1 indicate difference.\n",
    "    \"\"\"\n",
    "    \n",
    "    if playlist_df_2_param.empty:                   # if only one playlist given\n",
    "        playlist_df_2_param = playlist_df_1_param   # use the first playlist as the second playlist\n",
    "    \n",
    "    # A list of features to compare:\n",
    "    features = ['danceability', 'energy', 'instrumentalness', 'liveness', 'valence', 'loudness', 'tempo', 'key', 'mode']\n",
    "    \n",
    "    track1 = playlist_df_1_param.loc[id1] # variable containing all feature data from track 1\n",
    "    track2 = playlist_df_2_param.loc[id2] # variable containing all feature data from track 2\n",
    "    \n",
    "    # Store all music feature data in dictionary form:\n",
    "    # The important part of this code is converting everything to a number (not a string) that can be manipulated\n",
    "    track1_features = {}\n",
    "    track2_features = {}\n",
    "    for feature in features:\n",
    "        track1_features[feature] = track1.get(feature)\n",
    "        track2_features[feature] = track2.get(feature)\n",
    "    \n",
    "    feature_similarities = {}\n",
    "    for feature in features:\n",
    "        if feature not in ['loudness', 'tempo', 'mode', 'key']:     # these features aren't stored as scalars, meaning their comparisons need to be handled differently\n",
    "            # Compute the difference between the feature data for each track\n",
    "            feature_similarities[feature] = abs(track1_features[feature] - track2_features[feature])\n",
    "            \n",
    "        if feature == 'loudness':\n",
    "            feature_similarities[feature] = abs(track1_features[feature] - track2_features[feature]) * (1/60)  # loudness is stored -60 to 0, this converts the difference to a positive scalar\n",
    "            # In rare cases, loudness falls outside the -60 to 0 range. If so, the code to scale down the difference between loudness to a scalar might result in a value over 1.\n",
    "            # This code caps the maximum amount of difference at 1 - in other words, tracks that have over 60 dB of loudness difference are treated as having 60 dB of loudness difference.\n",
    "            if feature_similarities[feature] > 1:\n",
    "                feature_similarities[feature] = 1\n",
    "                \n",
    "        if feature == 'tempo':\n",
    "            # Tempo is measured in BPM. This could be any positive integer, but most are within a range of 40-200 BPM.\n",
    "            # For the purpose of comparison, tracks under 40 BPM are treated as having a BPM of 40. Tracks over 200 are treated as having a BPM of 200.\n",
    "            # Thus, the maximum difference is 160, and the minimum is 0.\n",
    "            # So to convert to a scalar, the difference between BPM is divided by 160.\n",
    "            if track1_features[feature] < 40:\n",
    "                track1_features[feature] = 40\n",
    "            if track1_features[feature] > 200:\n",
    "                track1_features[feature] = 200\n",
    "            if track2_features[feature] < 40:\n",
    "                track2_features[feature] = 40\n",
    "            if track2_features[feature] > 200:\n",
    "                track2_features[feature] = 200\n",
    "            \n",
    "            feature_similarities[feature] = abs(track1_features[feature] - track2_features[feature]) * (1/160)\n",
    "            \n",
    "        if feature == 'key':\n",
    "            feature_similarities[feature] = compare_keys(track1_features['key'], track1_features['mode'], track2_features['key'], track2_features['mode'])\n",
    "        \n",
    "        if feature == 'mode':\n",
    "            feature_similarities[feature] = float(abs(track1_features[feature] - track2_features[feature]))     # converted to float (from int) for uniformity, no practical effect\n",
    "    \n",
    "    return feature_similarities\n",
    "\n",
    "playlist_df_1 = analyze_playlist(creator_id_1, playlist_id_1, sp)\n",
    "playlist_df_2 = analyze_playlist(creator_id_2, playlist_id_2, sp)\n",
    "similarity_dict(track_id_1, playlist_df_1, track_id_2, playlist_df_2)"
   ]
  },
  {
   "cell_type": "markdown",
   "metadata": {
    "collapsed": false,
    "jupyter": {
     "outputs_hidden": false
    }
   },
   "source": [
    "## Create a Radar Plot\n",
    "\n",
    "We can visualize the results of `similarity_dict(...)` using a radar plot:"
   ]
  },
  {
   "cell_type": "code",
   "execution_count": 201,
   "metadata": {
    "ExecuteTime": {
     "end_time": "2023-10-28T03:42:42.448382Z",
     "start_time": "2023-10-28T03:42:42.356046Z"
    },
    "collapsed": false,
    "jupyter": {
     "outputs_hidden": false
    }
   },
   "outputs": [
    {
     "data": {
      "application/vnd.plotly.v1+json": {
       "config": {
        "plotlyServerURL": "https://plot.ly"
       },
       "data": [
        {
         "hovertemplate": "r=%{r}<br>theta=%{theta}<extra></extra>",
         "legendgroup": "",
         "line": {
          "color": "#636efa",
          "dash": "solid"
         },
         "marker": {
          "symbol": "circle"
         },
         "mode": "lines",
         "name": "",
         "r": [
          0.2879999999999999,
          0.284,
          0.030264,
          0.00860000000000001,
          0.5449999999999999,
          0.0781,
          0.37412500000000004,
          0,
          1,
          0.2879999999999999
         ],
         "showlegend": false,
         "subplot": "polar",
         "theta": [
          "danceability",
          "energy",
          "instrumentalness",
          "liveness",
          "valence",
          "loudness",
          "tempo",
          "key",
          "mode",
          "danceability"
         ],
         "type": "scatterpolar"
        }
       ],
       "layout": {
        "autosize": true,
        "legend": {
         "tracegroupgap": 0
        },
        "margin": {
         "t": 60
        },
        "polar": {
         "angularaxis": {
          "direction": "clockwise",
          "rotation": 90,
          "type": "category"
         },
         "domain": {
          "x": [
           0,
           1
          ],
          "y": [
           0,
           1
          ]
         },
         "radialaxis": {
          "autorange": true,
          "range": [
           0,
           1
          ],
          "type": "linear"
         }
        },
        "template": {
         "data": {
          "bar": [
           {
            "error_x": {
             "color": "#f2f5fa"
            },
            "error_y": {
             "color": "#f2f5fa"
            },
            "marker": {
             "line": {
              "color": "rgb(17,17,17)",
              "width": 0.5
             },
             "pattern": {
              "fillmode": "overlay",
              "size": 10,
              "solidity": 0.2
             }
            },
            "type": "bar"
           }
          ],
          "barpolar": [
           {
            "marker": {
             "line": {
              "color": "rgb(17,17,17)",
              "width": 0.5
             },
             "pattern": {
              "fillmode": "overlay",
              "size": 10,
              "solidity": 0.2
             }
            },
            "type": "barpolar"
           }
          ],
          "carpet": [
           {
            "aaxis": {
             "endlinecolor": "#A2B1C6",
             "gridcolor": "#506784",
             "linecolor": "#506784",
             "minorgridcolor": "#506784",
             "startlinecolor": "#A2B1C6"
            },
            "baxis": {
             "endlinecolor": "#A2B1C6",
             "gridcolor": "#506784",
             "linecolor": "#506784",
             "minorgridcolor": "#506784",
             "startlinecolor": "#A2B1C6"
            },
            "type": "carpet"
           }
          ],
          "choropleth": [
           {
            "colorbar": {
             "outlinewidth": 0,
             "ticks": ""
            },
            "type": "choropleth"
           }
          ],
          "contour": [
           {
            "colorbar": {
             "outlinewidth": 0,
             "ticks": ""
            },
            "colorscale": [
             [
              0,
              "#0d0887"
             ],
             [
              0.1111111111111111,
              "#46039f"
             ],
             [
              0.2222222222222222,
              "#7201a8"
             ],
             [
              0.3333333333333333,
              "#9c179e"
             ],
             [
              0.4444444444444444,
              "#bd3786"
             ],
             [
              0.5555555555555556,
              "#d8576b"
             ],
             [
              0.6666666666666666,
              "#ed7953"
             ],
             [
              0.7777777777777778,
              "#fb9f3a"
             ],
             [
              0.8888888888888888,
              "#fdca26"
             ],
             [
              1,
              "#f0f921"
             ]
            ],
            "type": "contour"
           }
          ],
          "contourcarpet": [
           {
            "colorbar": {
             "outlinewidth": 0,
             "ticks": ""
            },
            "type": "contourcarpet"
           }
          ],
          "heatmap": [
           {
            "colorbar": {
             "outlinewidth": 0,
             "ticks": ""
            },
            "colorscale": [
             [
              0,
              "#0d0887"
             ],
             [
              0.1111111111111111,
              "#46039f"
             ],
             [
              0.2222222222222222,
              "#7201a8"
             ],
             [
              0.3333333333333333,
              "#9c179e"
             ],
             [
              0.4444444444444444,
              "#bd3786"
             ],
             [
              0.5555555555555556,
              "#d8576b"
             ],
             [
              0.6666666666666666,
              "#ed7953"
             ],
             [
              0.7777777777777778,
              "#fb9f3a"
             ],
             [
              0.8888888888888888,
              "#fdca26"
             ],
             [
              1,
              "#f0f921"
             ]
            ],
            "type": "heatmap"
           }
          ],
          "heatmapgl": [
           {
            "colorbar": {
             "outlinewidth": 0,
             "ticks": ""
            },
            "colorscale": [
             [
              0,
              "#0d0887"
             ],
             [
              0.1111111111111111,
              "#46039f"
             ],
             [
              0.2222222222222222,
              "#7201a8"
             ],
             [
              0.3333333333333333,
              "#9c179e"
             ],
             [
              0.4444444444444444,
              "#bd3786"
             ],
             [
              0.5555555555555556,
              "#d8576b"
             ],
             [
              0.6666666666666666,
              "#ed7953"
             ],
             [
              0.7777777777777778,
              "#fb9f3a"
             ],
             [
              0.8888888888888888,
              "#fdca26"
             ],
             [
              1,
              "#f0f921"
             ]
            ],
            "type": "heatmapgl"
           }
          ],
          "histogram": [
           {
            "marker": {
             "pattern": {
              "fillmode": "overlay",
              "size": 10,
              "solidity": 0.2
             }
            },
            "type": "histogram"
           }
          ],
          "histogram2d": [
           {
            "colorbar": {
             "outlinewidth": 0,
             "ticks": ""
            },
            "colorscale": [
             [
              0,
              "#0d0887"
             ],
             [
              0.1111111111111111,
              "#46039f"
             ],
             [
              0.2222222222222222,
              "#7201a8"
             ],
             [
              0.3333333333333333,
              "#9c179e"
             ],
             [
              0.4444444444444444,
              "#bd3786"
             ],
             [
              0.5555555555555556,
              "#d8576b"
             ],
             [
              0.6666666666666666,
              "#ed7953"
             ],
             [
              0.7777777777777778,
              "#fb9f3a"
             ],
             [
              0.8888888888888888,
              "#fdca26"
             ],
             [
              1,
              "#f0f921"
             ]
            ],
            "type": "histogram2d"
           }
          ],
          "histogram2dcontour": [
           {
            "colorbar": {
             "outlinewidth": 0,
             "ticks": ""
            },
            "colorscale": [
             [
              0,
              "#0d0887"
             ],
             [
              0.1111111111111111,
              "#46039f"
             ],
             [
              0.2222222222222222,
              "#7201a8"
             ],
             [
              0.3333333333333333,
              "#9c179e"
             ],
             [
              0.4444444444444444,
              "#bd3786"
             ],
             [
              0.5555555555555556,
              "#d8576b"
             ],
             [
              0.6666666666666666,
              "#ed7953"
             ],
             [
              0.7777777777777778,
              "#fb9f3a"
             ],
             [
              0.8888888888888888,
              "#fdca26"
             ],
             [
              1,
              "#f0f921"
             ]
            ],
            "type": "histogram2dcontour"
           }
          ],
          "mesh3d": [
           {
            "colorbar": {
             "outlinewidth": 0,
             "ticks": ""
            },
            "type": "mesh3d"
           }
          ],
          "parcoords": [
           {
            "line": {
             "colorbar": {
              "outlinewidth": 0,
              "ticks": ""
             }
            },
            "type": "parcoords"
           }
          ],
          "pie": [
           {
            "automargin": true,
            "type": "pie"
           }
          ],
          "scatter": [
           {
            "marker": {
             "line": {
              "color": "#283442"
             }
            },
            "type": "scatter"
           }
          ],
          "scatter3d": [
           {
            "line": {
             "colorbar": {
              "outlinewidth": 0,
              "ticks": ""
             }
            },
            "marker": {
             "colorbar": {
              "outlinewidth": 0,
              "ticks": ""
             }
            },
            "type": "scatter3d"
           }
          ],
          "scattercarpet": [
           {
            "marker": {
             "colorbar": {
              "outlinewidth": 0,
              "ticks": ""
             }
            },
            "type": "scattercarpet"
           }
          ],
          "scattergeo": [
           {
            "marker": {
             "colorbar": {
              "outlinewidth": 0,
              "ticks": ""
             }
            },
            "type": "scattergeo"
           }
          ],
          "scattergl": [
           {
            "marker": {
             "line": {
              "color": "#283442"
             }
            },
            "type": "scattergl"
           }
          ],
          "scattermapbox": [
           {
            "marker": {
             "colorbar": {
              "outlinewidth": 0,
              "ticks": ""
             }
            },
            "type": "scattermapbox"
           }
          ],
          "scatterpolar": [
           {
            "marker": {
             "colorbar": {
              "outlinewidth": 0,
              "ticks": ""
             }
            },
            "type": "scatterpolar"
           }
          ],
          "scatterpolargl": [
           {
            "marker": {
             "colorbar": {
              "outlinewidth": 0,
              "ticks": ""
             }
            },
            "type": "scatterpolargl"
           }
          ],
          "scatterternary": [
           {
            "marker": {
             "colorbar": {
              "outlinewidth": 0,
              "ticks": ""
             }
            },
            "type": "scatterternary"
           }
          ],
          "surface": [
           {
            "colorbar": {
             "outlinewidth": 0,
             "ticks": ""
            },
            "colorscale": [
             [
              0,
              "#0d0887"
             ],
             [
              0.1111111111111111,
              "#46039f"
             ],
             [
              0.2222222222222222,
              "#7201a8"
             ],
             [
              0.3333333333333333,
              "#9c179e"
             ],
             [
              0.4444444444444444,
              "#bd3786"
             ],
             [
              0.5555555555555556,
              "#d8576b"
             ],
             [
              0.6666666666666666,
              "#ed7953"
             ],
             [
              0.7777777777777778,
              "#fb9f3a"
             ],
             [
              0.8888888888888888,
              "#fdca26"
             ],
             [
              1,
              "#f0f921"
             ]
            ],
            "type": "surface"
           }
          ],
          "table": [
           {
            "cells": {
             "fill": {
              "color": "#506784"
             },
             "line": {
              "color": "rgb(17,17,17)"
             }
            },
            "header": {
             "fill": {
              "color": "#2a3f5f"
             },
             "line": {
              "color": "rgb(17,17,17)"
             }
            },
            "type": "table"
           }
          ]
         },
         "layout": {
          "annotationdefaults": {
           "arrowcolor": "#f2f5fa",
           "arrowhead": 0,
           "arrowwidth": 1
          },
          "autotypenumbers": "strict",
          "coloraxis": {
           "colorbar": {
            "outlinewidth": 0,
            "ticks": ""
           }
          },
          "colorscale": {
           "diverging": [
            [
             0,
             "#8e0152"
            ],
            [
             0.1,
             "#c51b7d"
            ],
            [
             0.2,
             "#de77ae"
            ],
            [
             0.3,
             "#f1b6da"
            ],
            [
             0.4,
             "#fde0ef"
            ],
            [
             0.5,
             "#f7f7f7"
            ],
            [
             0.6,
             "#e6f5d0"
            ],
            [
             0.7,
             "#b8e186"
            ],
            [
             0.8,
             "#7fbc41"
            ],
            [
             0.9,
             "#4d9221"
            ],
            [
             1,
             "#276419"
            ]
           ],
           "sequential": [
            [
             0,
             "#0d0887"
            ],
            [
             0.1111111111111111,
             "#46039f"
            ],
            [
             0.2222222222222222,
             "#7201a8"
            ],
            [
             0.3333333333333333,
             "#9c179e"
            ],
            [
             0.4444444444444444,
             "#bd3786"
            ],
            [
             0.5555555555555556,
             "#d8576b"
            ],
            [
             0.6666666666666666,
             "#ed7953"
            ],
            [
             0.7777777777777778,
             "#fb9f3a"
            ],
            [
             0.8888888888888888,
             "#fdca26"
            ],
            [
             1,
             "#f0f921"
            ]
           ],
           "sequentialminus": [
            [
             0,
             "#0d0887"
            ],
            [
             0.1111111111111111,
             "#46039f"
            ],
            [
             0.2222222222222222,
             "#7201a8"
            ],
            [
             0.3333333333333333,
             "#9c179e"
            ],
            [
             0.4444444444444444,
             "#bd3786"
            ],
            [
             0.5555555555555556,
             "#d8576b"
            ],
            [
             0.6666666666666666,
             "#ed7953"
            ],
            [
             0.7777777777777778,
             "#fb9f3a"
            ],
            [
             0.8888888888888888,
             "#fdca26"
            ],
            [
             1,
             "#f0f921"
            ]
           ]
          },
          "colorway": [
           "#636efa",
           "#EF553B",
           "#00cc96",
           "#ab63fa",
           "#FFA15A",
           "#19d3f3",
           "#FF6692",
           "#B6E880",
           "#FF97FF",
           "#FECB52"
          ],
          "font": {
           "color": "#f2f5fa"
          },
          "geo": {
           "bgcolor": "rgb(17,17,17)",
           "lakecolor": "rgb(17,17,17)",
           "landcolor": "rgb(17,17,17)",
           "showlakes": true,
           "showland": true,
           "subunitcolor": "#506784"
          },
          "hoverlabel": {
           "align": "left"
          },
          "hovermode": "closest",
          "mapbox": {
           "style": "dark"
          },
          "paper_bgcolor": "rgb(17,17,17)",
          "plot_bgcolor": "rgb(17,17,17)",
          "polar": {
           "angularaxis": {
            "gridcolor": "#506784",
            "linecolor": "#506784",
            "ticks": ""
           },
           "bgcolor": "rgb(17,17,17)",
           "radialaxis": {
            "gridcolor": "#506784",
            "linecolor": "#506784",
            "ticks": ""
           }
          },
          "scene": {
           "xaxis": {
            "backgroundcolor": "rgb(17,17,17)",
            "gridcolor": "#506784",
            "gridwidth": 2,
            "linecolor": "#506784",
            "showbackground": true,
            "ticks": "",
            "zerolinecolor": "#C8D4E3"
           },
           "yaxis": {
            "backgroundcolor": "rgb(17,17,17)",
            "gridcolor": "#506784",
            "gridwidth": 2,
            "linecolor": "#506784",
            "showbackground": true,
            "ticks": "",
            "zerolinecolor": "#C8D4E3"
           },
           "zaxis": {
            "backgroundcolor": "rgb(17,17,17)",
            "gridcolor": "#506784",
            "gridwidth": 2,
            "linecolor": "#506784",
            "showbackground": true,
            "ticks": "",
            "zerolinecolor": "#C8D4E3"
           }
          },
          "shapedefaults": {
           "line": {
            "color": "#f2f5fa"
           }
          },
          "sliderdefaults": {
           "bgcolor": "#C8D4E3",
           "bordercolor": "rgb(17,17,17)",
           "borderwidth": 1,
           "tickwidth": 0
          },
          "ternary": {
           "aaxis": {
            "gridcolor": "#506784",
            "linecolor": "#506784",
            "ticks": ""
           },
           "baxis": {
            "gridcolor": "#506784",
            "linecolor": "#506784",
            "ticks": ""
           },
           "bgcolor": "rgb(17,17,17)",
           "caxis": {
            "gridcolor": "#506784",
            "linecolor": "#506784",
            "ticks": ""
           }
          },
          "title": {
           "x": 0.05
          },
          "updatemenudefaults": {
           "bgcolor": "#506784",
           "borderwidth": 0
          },
          "xaxis": {
           "automargin": true,
           "gridcolor": "#283442",
           "linecolor": "#506784",
           "ticks": "",
           "title": {
            "standoff": 15
           },
           "zerolinecolor": "#283442",
           "zerolinewidth": 2
          },
          "yaxis": {
           "automargin": true,
           "gridcolor": "#283442",
           "linecolor": "#506784",
           "ticks": "",
           "title": {
            "standoff": 15
           },
           "zerolinecolor": "#283442",
           "zerolinewidth": 2
          }
         }
        }
       }
      },
      "image/png": "[encoded data removed]",
      "text/html": [
       "<div>                            <div id=\"6ce39f5b-3663-4bd0-b953-8e97ff6f980d\" class=\"plotly-graph-div\" style=\"height:525px; width:100%;\"></div>            <script type=\"text/javascript\">                require([\"plotly\"], function(Plotly) {                    window.PLOTLYENV=window.PLOTLYENV || {};                                    if (document.getElementById(\"6ce39f5b-3663-4bd0-b953-8e97ff6f980d\")) {                    Plotly.newPlot(                        \"6ce39f5b-3663-4bd0-b953-8e97ff6f980d\",                        [{\"hovertemplate\":\"r=%{r}\\u003cbr\\u003etheta=%{theta}\\u003cextra\\u003e\\u003c\\u002fextra\\u003e\",\"legendgroup\":\"\",\"line\":{\"color\":\"#636efa\",\"dash\":\"solid\"},\"marker\":{\"symbol\":\"circle\"},\"mode\":\"lines\",\"name\":\"\",\"r\":[0.2879999999999999,0.284,0.030264,0.00860000000000001,0.5449999999999999,0.0781,0.37412500000000004,0.0,1.0,0.2879999999999999],\"showlegend\":false,\"subplot\":\"polar\",\"theta\":[\"danceability\",\"energy\",\"instrumentalness\",\"liveness\",\"valence\",\"loudness\",\"tempo\",\"key\",\"mode\",\"danceability\"],\"type\":\"scatterpolar\"}],                        {\"template\":{\"data\":{\"histogram2dcontour\":[{\"type\":\"histogram2dcontour\",\"colorbar\":{\"outlinewidth\":0,\"ticks\":\"\"},\"colorscale\":[[0.0,\"#0d0887\"],[0.1111111111111111,\"#46039f\"],[0.2222222222222222,\"#7201a8\"],[0.3333333333333333,\"#9c179e\"],[0.4444444444444444,\"#bd3786\"],[0.5555555555555556,\"#d8576b\"],[0.6666666666666666,\"#ed7953\"],[0.7777777777777778,\"#fb9f3a\"],[0.8888888888888888,\"#fdca26\"],[1.0,\"#f0f921\"]]}],\"choropleth\":[{\"type\":\"choropleth\",\"colorbar\":{\"outlinewidth\":0,\"ticks\":\"\"}}],\"histogram2d\":[{\"type\":\"histogram2d\",\"colorbar\":{\"outlinewidth\":0,\"ticks\":\"\"},\"colorscale\":[[0.0,\"#0d0887\"],[0.1111111111111111,\"#46039f\"],[0.2222222222222222,\"#7201a8\"],[0.3333333333333333,\"#9c179e\"],[0.4444444444444444,\"#bd3786\"],[0.5555555555555556,\"#d8576b\"],[0.6666666666666666,\"#ed7953\"],[0.7777777777777778,\"#fb9f3a\"],[0.8888888888888888,\"#fdca26\"],[1.0,\"#f0f921\"]]}],\"heatmap\":[{\"type\":\"heatmap\",\"colorbar\":{\"outlinewidth\":0,\"ticks\":\"\"},\"colorscale\":[[0.0,\"#0d0887\"],[0.1111111111111111,\"#46039f\"],[0.2222222222222222,\"#7201a8\"],[0.3333333333333333,\"#9c179e\"],[0.4444444444444444,\"#bd3786\"],[0.5555555555555556,\"#d8576b\"],[0.6666666666666666,\"#ed7953\"],[0.7777777777777778,\"#fb9f3a\"],[0.8888888888888888,\"#fdca26\"],[1.0,\"#f0f921\"]]}],\"heatmapgl\":[{\"type\":\"heatmapgl\",\"colorbar\":{\"outlinewidth\":0,\"ticks\":\"\"},\"colorscale\":[[0.0,\"#0d0887\"],[0.1111111111111111,\"#46039f\"],[0.2222222222222222,\"#7201a8\"],[0.3333333333333333,\"#9c179e\"],[0.4444444444444444,\"#bd3786\"],[0.5555555555555556,\"#d8576b\"],[0.6666666666666666,\"#ed7953\"],[0.7777777777777778,\"#fb9f3a\"],[0.8888888888888888,\"#fdca26\"],[1.0,\"#f0f921\"]]}],\"contourcarpet\":[{\"type\":\"contourcarpet\",\"colorbar\":{\"outlinewidth\":0,\"ticks\":\"\"}}],\"contour\":[{\"type\":\"contour\",\"colorbar\":{\"outlinewidth\":0,\"ticks\":\"\"},\"colorscale\":[[0.0,\"#0d0887\"],[0.1111111111111111,\"#46039f\"],[0.2222222222222222,\"#7201a8\"],[0.3333333333333333,\"#9c179e\"],[0.4444444444444444,\"#bd3786\"],[0.5555555555555556,\"#d8576b\"],[0.6666666666666666,\"#ed7953\"],[0.7777777777777778,\"#fb9f3a\"],[0.8888888888888888,\"#fdca26\"],[1.0,\"#f0f921\"]]}],\"surface\":[{\"type\":\"surface\",\"colorbar\":{\"outlinewidth\":0,\"ticks\":\"\"},\"colorscale\":[[0.0,\"#0d0887\"],[0.1111111111111111,\"#46039f\"],[0.2222222222222222,\"#7201a8\"],[0.3333333333333333,\"#9c179e\"],[0.4444444444444444,\"#bd3786\"],[0.5555555555555556,\"#d8576b\"],[0.6666666666666666,\"#ed7953\"],[0.7777777777777778,\"#fb9f3a\"],[0.8888888888888888,\"#fdca26\"],[1.0,\"#f0f921\"]]}],\"mesh3d\":[{\"type\":\"mesh3d\",\"colorbar\":{\"outlinewidth\":0,\"ticks\":\"\"}}],\"scatter\":[{\"marker\":{\"line\":{\"color\":\"#283442\"}},\"type\":\"scatter\"}],\"parcoords\":[{\"type\":\"parcoords\",\"line\":{\"colorbar\":{\"outlinewidth\":0,\"ticks\":\"\"}}}],\"scatterpolargl\":[{\"type\":\"scatterpolargl\",\"marker\":{\"colorbar\":{\"outlinewidth\":0,\"ticks\":\"\"}}}],\"bar\":[{\"error_x\":{\"color\":\"#f2f5fa\"},\"error_y\":{\"color\":\"#f2f5fa\"},\"marker\":{\"line\":{\"color\":\"rgb(17,17,17)\",\"width\":0.5},\"pattern\":{\"fillmode\":\"overlay\",\"size\":10,\"solidity\":0.2}},\"type\":\"bar\"}],\"scattergeo\":[{\"type\":\"scattergeo\",\"marker\":{\"colorbar\":{\"outlinewidth\":0,\"ticks\":\"\"}}}],\"scatterpolar\":[{\"type\":\"scatterpolar\",\"marker\":{\"colorbar\":{\"outlinewidth\":0,\"ticks\":\"\"}}}],\"histogram\":[{\"marker\":{\"pattern\":{\"fillmode\":\"overlay\",\"size\":10,\"solidity\":0.2}},\"type\":\"histogram\"}],\"scattergl\":[{\"marker\":{\"line\":{\"color\":\"#283442\"}},\"type\":\"scattergl\"}],\"scatter3d\":[{\"type\":\"scatter3d\",\"line\":{\"colorbar\":{\"outlinewidth\":0,\"ticks\":\"\"}},\"marker\":{\"colorbar\":{\"outlinewidth\":0,\"ticks\":\"\"}}}],\"scattermapbox\":[{\"type\":\"scattermapbox\",\"marker\":{\"colorbar\":{\"outlinewidth\":0,\"ticks\":\"\"}}}],\"scatterternary\":[{\"type\":\"scatterternary\",\"marker\":{\"colorbar\":{\"outlinewidth\":0,\"ticks\":\"\"}}}],\"scattercarpet\":[{\"type\":\"scattercarpet\",\"marker\":{\"colorbar\":{\"outlinewidth\":0,\"ticks\":\"\"}}}],\"carpet\":[{\"aaxis\":{\"endlinecolor\":\"#A2B1C6\",\"gridcolor\":\"#506784\",\"linecolor\":\"#506784\",\"minorgridcolor\":\"#506784\",\"startlinecolor\":\"#A2B1C6\"},\"baxis\":{\"endlinecolor\":\"#A2B1C6\",\"gridcolor\":\"#506784\",\"linecolor\":\"#506784\",\"minorgridcolor\":\"#506784\",\"startlinecolor\":\"#A2B1C6\"},\"type\":\"carpet\"}],\"table\":[{\"cells\":{\"fill\":{\"color\":\"#506784\"},\"line\":{\"color\":\"rgb(17,17,17)\"}},\"header\":{\"fill\":{\"color\":\"#2a3f5f\"},\"line\":{\"color\":\"rgb(17,17,17)\"}},\"type\":\"table\"}],\"barpolar\":[{\"marker\":{\"line\":{\"color\":\"rgb(17,17,17)\",\"width\":0.5},\"pattern\":{\"fillmode\":\"overlay\",\"size\":10,\"solidity\":0.2}},\"type\":\"barpolar\"}],\"pie\":[{\"automargin\":true,\"type\":\"pie\"}]},\"layout\":{\"autotypenumbers\":\"strict\",\"colorway\":[\"#636efa\",\"#EF553B\",\"#00cc96\",\"#ab63fa\",\"#FFA15A\",\"#19d3f3\",\"#FF6692\",\"#B6E880\",\"#FF97FF\",\"#FECB52\"],\"font\":{\"color\":\"#f2f5fa\"},\"hovermode\":\"closest\",\"hoverlabel\":{\"align\":\"left\"},\"paper_bgcolor\":\"rgb(17,17,17)\",\"plot_bgcolor\":\"rgb(17,17,17)\",\"polar\":{\"bgcolor\":\"rgb(17,17,17)\",\"angularaxis\":{\"gridcolor\":\"#506784\",\"linecolor\":\"#506784\",\"ticks\":\"\"},\"radialaxis\":{\"gridcolor\":\"#506784\",\"linecolor\":\"#506784\",\"ticks\":\"\"}},\"ternary\":{\"bgcolor\":\"rgb(17,17,17)\",\"aaxis\":{\"gridcolor\":\"#506784\",\"linecolor\":\"#506784\",\"ticks\":\"\"},\"baxis\":{\"gridcolor\":\"#506784\",\"linecolor\":\"#506784\",\"ticks\":\"\"},\"caxis\":{\"gridcolor\":\"#506784\",\"linecolor\":\"#506784\",\"ticks\":\"\"}},\"coloraxis\":{\"colorbar\":{\"outlinewidth\":0,\"ticks\":\"\"}},\"colorscale\":{\"sequential\":[[0.0,\"#0d0887\"],[0.1111111111111111,\"#46039f\"],[0.2222222222222222,\"#7201a8\"],[0.3333333333333333,\"#9c179e\"],[0.4444444444444444,\"#bd3786\"],[0.5555555555555556,\"#d8576b\"],[0.6666666666666666,\"#ed7953\"],[0.7777777777777778,\"#fb9f3a\"],[0.8888888888888888,\"#fdca26\"],[1.0,\"#f0f921\"]],\"sequentialminus\":[[0.0,\"#0d0887\"],[0.1111111111111111,\"#46039f\"],[0.2222222222222222,\"#7201a8\"],[0.3333333333333333,\"#9c179e\"],[0.4444444444444444,\"#bd3786\"],[0.5555555555555556,\"#d8576b\"],[0.6666666666666666,\"#ed7953\"],[0.7777777777777778,\"#fb9f3a\"],[0.8888888888888888,\"#fdca26\"],[1.0,\"#f0f921\"]],\"diverging\":[[0,\"#8e0152\"],[0.1,\"#c51b7d\"],[0.2,\"#de77ae\"],[0.3,\"#f1b6da\"],[0.4,\"#fde0ef\"],[0.5,\"#f7f7f7\"],[0.6,\"#e6f5d0\"],[0.7,\"#b8e186\"],[0.8,\"#7fbc41\"],[0.9,\"#4d9221\"],[1,\"#276419\"]]},\"xaxis\":{\"gridcolor\":\"#283442\",\"linecolor\":\"#506784\",\"ticks\":\"\",\"title\":{\"standoff\":15},\"zerolinecolor\":\"#283442\",\"automargin\":true,\"zerolinewidth\":2},\"yaxis\":{\"gridcolor\":\"#283442\",\"linecolor\":\"#506784\",\"ticks\":\"\",\"title\":{\"standoff\":15},\"zerolinecolor\":\"#283442\",\"automargin\":true,\"zerolinewidth\":2},\"scene\":{\"xaxis\":{\"backgroundcolor\":\"rgb(17,17,17)\",\"gridcolor\":\"#506784\",\"linecolor\":\"#506784\",\"showbackground\":true,\"ticks\":\"\",\"zerolinecolor\":\"#C8D4E3\",\"gridwidth\":2},\"yaxis\":{\"backgroundcolor\":\"rgb(17,17,17)\",\"gridcolor\":\"#506784\",\"linecolor\":\"#506784\",\"showbackground\":true,\"ticks\":\"\",\"zerolinecolor\":\"#C8D4E3\",\"gridwidth\":2},\"zaxis\":{\"backgroundcolor\":\"rgb(17,17,17)\",\"gridcolor\":\"#506784\",\"linecolor\":\"#506784\",\"showbackground\":true,\"ticks\":\"\",\"zerolinecolor\":\"#C8D4E3\",\"gridwidth\":2}},\"shapedefaults\":{\"line\":{\"color\":\"#f2f5fa\"}},\"annotationdefaults\":{\"arrowcolor\":\"#f2f5fa\",\"arrowhead\":0,\"arrowwidth\":1},\"geo\":{\"bgcolor\":\"rgb(17,17,17)\",\"landcolor\":\"rgb(17,17,17)\",\"subunitcolor\":\"#506784\",\"showland\":true,\"showlakes\":true,\"lakecolor\":\"rgb(17,17,17)\"},\"title\":{\"x\":0.05},\"updatemenudefaults\":{\"bgcolor\":\"#506784\",\"borderwidth\":0},\"sliderdefaults\":{\"bgcolor\":\"#C8D4E3\",\"borderwidth\":1,\"bordercolor\":\"rgb(17,17,17)\",\"tickwidth\":0},\"mapbox\":{\"style\":\"dark\"}}},\"polar\":{\"domain\":{\"x\":[0.0,1.0],\"y\":[0.0,1.0]},\"angularaxis\":{\"direction\":\"clockwise\",\"rotation\":90}},\"legend\":{\"tracegroupgap\":0},\"margin\":{\"t\":60}},                        {\"responsive\": true}                    ).then(function(){\n",
       "                            \n",
       "var gd = document.getElementById('6ce39f5b-3663-4bd0-b953-8e97ff6f980d');\n",
       "var x = new MutationObserver(function (mutations, observer) {{\n",
       "        var display = window.getComputedStyle(gd).display;\n",
       "        if (!display || display === 'none') {{\n",
       "            console.log([gd, 'removed!']);\n",
       "            Plotly.purge(gd);\n",
       "            observer.disconnect();\n",
       "        }}\n",
       "}});\n",
       "\n",
       "// Listen for the removal of the full notebook cells\n",
       "var notebookContainer = gd.closest('#notebook-container');\n",
       "if (notebookContainer) {{\n",
       "    x.observe(notebookContainer, {childList: true});\n",
       "}}\n",
       "\n",
       "// Listen for the clearing of the current output cell\n",
       "var outputEl = gd.closest('.output');\n",
       "if (outputEl) {{\n",
       "    x.observe(outputEl, {childList: true});\n",
       "}}\n",
       "\n",
       "                        })                };                });            </script>        </div>"
      ]
     },
     "metadata": {},
     "output_type": "display_data"
    }
   ],
   "source": [
    "def dict_to_list(dictionary):\n",
    "    \"\"\"Separate the audio features and their values into distinct lists\"\"\"\n",
    "    keys = []\n",
    "    values = []\n",
    "    \n",
    "    for key in dictionary:\n",
    "        keys.append(key)\n",
    "        values.append(dictionary[key])\n",
    "    return keys, values\n",
    "\n",
    "def make_radar(tuple_keys_val):\n",
    "    \"\"\"Create a radar plot based on the results of the similarity_dict() function\"\"\"\n",
    "    df = pd.DataFrame(dict(\n",
    "        r=tuple_keys_val[1],\n",
    "        theta=tuple_keys_val[0]))\n",
    "    fig = px.line_polar(df, r='r', theta='theta', line_close=True)\n",
    "    fig.show()\n",
    "\n",
    "comp_1 = similarity_dict(track_id_1, playlist_df_1, track_id_2, playlist_df_2)\n",
    "radar_val = dict_to_list(comp_1)\n",
    "make_radar(radar_val)"
   ]
  },
  {
   "cell_type": "markdown",
   "metadata": {
    "collapsed": false,
    "jupyter": {
     "outputs_hidden": false
    }
   },
   "source": [
    "## Find Average Difference (Similarity) from `similarity_scalar_from_dict(...)`\n",
    "\n",
    "The next step is finding the average difference in audio features. This is accomplished in `similarity_scalar_from_dict(...)`:\n",
    "    * The dictionary resulting from `similarity_dict(...)` is taken as an input\n",
    "    * Every difference between similarities is summed\n",
    "    * This number is divided by the total number of audio features (we use 9)\n",
    "    * The result is a number between 0-1, where 0 represents identical, and 1 represents completely different\n",
    "    * However, we want 1 to represent identical, and 0 to represent completely different, so we invert this scale (subtracting the number we got before from 1)"
   ]
  },
  {
   "cell_type": "code",
   "execution_count": 184,
   "metadata": {
    "ExecuteTime": {
     "end_time": "2023-10-28T01:58:23.884181Z",
     "start_time": "2023-10-28T01:58:23.877011Z"
    },
    "collapsed": false,
    "jupyter": {
     "outputs_hidden": false
    }
   },
   "outputs": [],
   "source": [
    "def similarity_scalar_from_dict(feature_similarities: dict, **weights) -> float:\n",
    "    \"\"\"\n",
    "    Returns a scalar from 0-1 that tells you how similar two songs are based on a mash-up of their audio features.\n",
    "    By default, each audio feature is weighted equally in comparison (weight = 1). However, you can include a parameter for any audio feature you want.\n",
    "    Setting this value to 0, for example, will give that feature no weight. Setting it to 4 will make that feature 4x as important as every other feature.\n",
    "    Example usages:\n",
    "        * `similarity_scalar_from_dict(feature_similarities)`\n",
    "        * `similarity_scalar_from_dict(feature_similarities, valence=4)`\n",
    "        * `similarity_scalar_from_dict(feature_similarities, valence=4, mode=0, key=10)`\n",
    "    :param feature_similarities: A dictionary returned by `similarity_dict(...)`\n",
    "    :param weights: Keyword arguments for each audio feature are allowed. Their values should be floats in the range [0, ∞). Allowable audio features are `danceability`, `energy`, `instrumentalness`, `liveness`, `valence`, `loudness`, `tempo`, `key`, and `mode`.\n",
    "    :return: A scalar from 0-1 indicating song similarity. Values closer to 1 indicate similarity, and values closer to 0 indicate difference.\n",
    "    \"\"\"\n",
    "    \n",
    "    # The scalar is computed as an average of all the similarities.\n",
    "    total = 0                                                           # Stores the current sum of similarity differences\n",
    "    total_weight = len(feature_similarities)                            # Stores the current sum of weights, by default = number of features * 1\n",
    "    for similarity in feature_similarities.items():                     # Iterate through all audio features given (.items() iterates a tuple: (feature, similarity))\n",
    "        try:                                                            # Act as if there's a given weight for this feature. Try to compute that.\n",
    "            total += similarity[1] * weights[similarity[0]]             # Add this similarity times its special weight to the sum of similarities.\n",
    "            total_weight += weights[similarity[0]]                      # Add the weight to the total weight. The sum of similarities is divided by this number.\n",
    "        except KeyError:                                                # Base case: no weight was given for this feature\n",
    "            total += similarity[1]                                      # Add the similarity for this feature to the total similarity variable\n",
    "    \n",
    "    # Divide the total similarity variable by the number of features\n",
    "    # Changing weights of features essentially changes the number of features\n",
    "    # In the data, 2 identical songs have a similarity average of 0.\n",
    "    # However, it makes intuitive sense for similarity to be measured as 1 = identical, and 0 = completely different.\n",
    "    # Hence, the value is inverted:\n",
    "    return 1 - (total / total_weight)"
   ]
  },
  {
   "cell_type": "markdown",
   "metadata": {
    "collapsed": false,
    "jupyter": {
     "outputs_hidden": false
    }
   },
   "source": [
    "## Find Similarity Given Two Tracks\n",
    "\n",
    "To complete our fundamental comparison, we have `similarity_scalar(...)`, wherein:\n",
    "    * This function is the exact same as `similarity_scalar_from_dict(...)`, it just takes song IDs and the playlist dataframe as inputs (instead of a dictionary)\n",
    "    * This means you only need to use one function to get the data you want\n",
    "    * It inputs the parameters into `similarity_dict(...)` and `similarity_scalar_from_dict(...)`, and returns the result\n"
   ]
  },
  {
   "cell_type": "code",
   "execution_count": 185,
   "metadata": {
    "ExecuteTime": {
     "end_time": "2023-10-28T01:58:23.900003Z",
     "start_time": "2023-10-28T01:58:23.887149Z"
    },
    "collapsed": false,
    "jupyter": {
     "outputs_hidden": false
    }
   },
   "outputs": [],
   "source": [
    "def similarity_scalar(id1: str, playlist_df_1: pd.DataFrame, id2: str, playlist_df_2: pd.DataFrame=pd.DataFrame(), **weights) -> float:\n",
    "    \"\"\"\n",
    "    Returns a scalar from 0-1 that tells you how similar two songs are based on a mash-up of their audio features.\n",
    "    By default, each audio feature is weighted equally in comparison (weight = 1). However, you can include a parameter for any audio feature you want.\n",
    "    Setting this value to 0, for example, will give that feature no weight. Setting it to 4 will make that feature 4x as important as every other feature.\n",
    "    Overloads the `similarity_scalar_from_dict(...)` function to just take song ids and optional feature weights as parameters. But since function overloading isn't possible in Python, they're actually different functions.\n",
    "    If both songs are from the same playlist, only one playlist dataframe is needed.\n",
    "    :param id1: The Spotify ID of the first song\n",
    "    :param playlist_df_1: The dataframe for the first playlist\n",
    "    :param id2: (Optional) The Spotify ID of the second song\n",
    "    :param playlist_df_2: (Optional) The dataframe for the second playlist\n",
    "    :param weights: Keyword arguments for each audio feature are allowed. Their values should be floats in the range [0, ∞). Allowable audio features are `danceability`, `energy`, `instrumentalness`, `liveness`, `valence`, `loudness`, `tempo`, `key`, and `mode`.\n",
    "    :return: A scalar from 0-1 indicating song similarity. Values closer to 1 indicate similarity, and values closer to 0 indicate difference.\n",
    "    \"\"\"\n",
    "    return similarity_scalar_from_dict(similarity_dict(id1, playlist_df_1, id2, playlist_df_2), **weights)"
   ]
  },
  {
   "cell_type": "markdown",
   "metadata": {
    "collapsed": false,
    "jupyter": {
     "outputs_hidden": false
    }
   },
   "source": [
    "The functions `similarity_scalar_from_dict(...)` and `similarity_scalar(...)` have one more important characteristic:\n",
    "\n",
    "## AUDIO FEATURE WEIGHTING\n",
    "\n",
    "For various reasons, we might decide that not every Spotify audio feature should be weighted equally when comparing tracks. For example, is `instrumentalness` really as important as `valence`?\n",
    "\n",
    "While the `similarity_scalar` methods by default treat all audio features equally, you can use optional parameters to customize the weighting of each audio feature. The default weight is 1. So if you wanted to prioritize `valence`, and de-emphasize `mode`, you could write:\n",
    "`similarity_scalar(song_id_1, song_id_2, playlist_dataframe, valence=3, mode=0)`\n",
    "This would weight valence 3 times as much as every other audio feature. This can be a float, like 0.5, or even 0."
   ]
  },
  {
   "cell_type": "code",
   "execution_count": 198,
   "metadata": {
    "ExecuteTime": {
     "end_time": "2023-10-28T02:57:23.775602Z",
     "start_time": "2023-10-28T02:57:23.750034Z"
    },
    "collapsed": false,
    "jupyter": {
     "outputs_hidden": false
    }
   },
   "outputs": [
    {
     "name": "stdout",
     "output_type": "stream",
     "text": [
      "Original:  0.7102123333333334\n",
      "Emphasize similarity: 0.8271599245283019\n",
      "Emphasize difference: 0.6814799245283019\n"
     ]
    }
   ],
   "source": [
    "# Compare two songs with equal weights\n",
    "print('Original: ', similarity_scalar(track_id_1, playlist_df_1, track_id_2, playlist_df_2))\n",
    "\n",
    "# Emphasize a similar feature, de-emphasize a differentiating feature\n",
    "print('Emphasize similarity:', similarity_scalar(track_id_1, playlist_df_1, track_id_2, playlist_df_2, valence=0.25, instrumentalness=4))\n",
    "\n",
    "# De-emphasize a similar feature, emphasize a differentiating feature\n",
    "print('Emphasize difference:', similarity_scalar(track_id_1, playlist_df_1, track_id_2, playlist_df_2, valence=4, instrumentalness=0.25))"
   ]
  },
  {
   "cell_type": "markdown",
   "metadata": {
    "collapsed": false,
    "jupyter": {
     "outputs_hidden": false
    }
   },
   "source": [
    "## User Selection of Weights\n",
    "\n",
    "Each time this program is run, the user can select the weights they want to use. We set some default weights in the function definition for `set_weights()`, but these are highly subjective and arbitrary, and you are encouraged to change them. Statistical analysis of how similar people consider songs and their variance in audio features would be necessary to create more \"accurate\" default weights."
   ]
  },
  {
   "cell_type": "code",
   "execution_count": 199,
   "metadata": {
    "ExecuteTime": {
     "end_time": "2023-10-28T03:22:33.573118Z",
     "start_time": "2023-10-28T03:22:33.501810Z"
    },
    "collapsed": false,
    "jupyter": {
     "outputs_hidden": false
    }
   },
   "outputs": [
    {
     "data": {
      "application/vnd.jupyter.widget-view+json": {
       "model_id": "8d62349e9a4a44adbbfee5b06889b36e",
       "version_major": 2,
       "version_minor": 0
      },
      "text/plain": [
       "interactive(children=(FloatSlider(value=2.0, description='danceability', max=10.0, step=0.05), FloatSlider(val…"
      ]
     },
     "metadata": {},
     "output_type": "display_data"
    },
    {
     "name": "stdout",
     "output_type": "stream",
     "text": [
      "w.result:\n",
      " {'danceability': 2.0, 'energy': 3.0, 'instrumentalness': 1.0, 'liveness': 1.0, 'valence': 4.0, 'loudness': 0.0, 'tempo': 1.75, 'key': 2.5, 'mode': 0.15}\n"
     ]
    }
   ],
   "source": [
    "# This function is used by the interactive widget. The default values of weights are set in the parameters of this function. The result is stored in a dictionary format.\n",
    "def set_weights(\n",
    "        danceability=2,\n",
    "        energy=3,\n",
    "        instrumentalness=1,\n",
    "        liveness=1,\n",
    "        valence=4,\n",
    "        loudness=0,\n",
    "        tempo=1.75,\n",
    "        key=2.5,\n",
    "        mode=0.15\n",
    "):\n",
    "    return {\n",
    "        'danceability': danceability,\n",
    "        'energy': energy,\n",
    "        'instrumentalness': instrumentalness,\n",
    "        'liveness': liveness,\n",
    "        'valence': valence,\n",
    "        'loudness': loudness,\n",
    "        'tempo': tempo,\n",
    "        'key': key,\n",
    "        'mode': mode\n",
    "    }\n",
    "\n",
    "# Create the interactive widget. Each weight has a min value of 0, a max value of 10, and the slider moves in increments of 0.05.\n",
    "w = interactive(\n",
    "    set_weights,\n",
    "    danceability=(0.0,10,0.05),\n",
    "    energy=(0,10,0.05),\n",
    "    instrumentalness = (0,10,0.05),\n",
    "    liveness = (0,10,0.05),\n",
    "    valence = (0,10,0.05),\n",
    "    loudness = (0,10,0.05),\n",
    "    tempo = (0,10,0.05),\n",
    "    key = (0,10,0.05),\n",
    "    mode = (0,10,0.05)\n",
    ")\n",
    "\n",
    "# Display the interactive widget\n",
    "default_weights = display(w)\n",
    "\n",
    "# The result of this widget is stored in the variable `w.result`:\n",
    "print('w.result:\\n', w.result)"
   ]
  },
  {
   "cell_type": "markdown",
   "metadata": {
    "collapsed": false,
    "jupyter": {
     "outputs_hidden": false
    }
   },
   "source": [
    "#### Note\n",
    "\n",
    "The print output shown for w.result will not change as the sliders are adjusted; nevertheless, w.result changes instantaneously as the sliders are moved. Any new results computed after these sliders have been adjusted, whether in an interactive panel or a code cell, will reflect the new values of these sliders."
   ]
  },
  {
   "cell_type": "markdown",
   "metadata": {
    "collapsed": false,
    "jupyter": {
     "outputs_hidden": false
    }
   },
   "source": [
    "## Compare Two Playlists\n",
    "\n",
    "The next step is a function that compares two playlists by creating song-to-song comparisons for every pairing of songs between the playlists."
   ]
  },
  {
   "cell_type": "code",
   "execution_count": 187,
   "metadata": {
    "ExecuteTime": {
     "end_time": "2023-10-28T01:58:24.853443Z",
     "start_time": "2023-10-28T01:58:23.966643Z"
    },
    "collapsed": false,
    "jupyter": {
     "outputs_hidden": false
    }
   },
   "outputs": [
    {
     "data": {
      "text/plain": [
       "{'6AYFKOPbmd12rUP5DalRwB/4Aocy7YAyOYf5YHj18Vfj3': {'track1_title': '3 Rounds and a Sound',\n",
       "  'track1_artist': 'Blind Pilot',\n",
       "  'track2_title': 'Charmander',\n",
       "  'track2_artist': 'Aminé',\n",
       "  'similarity': 0.8094614241803278},\n",
       " '6AYFKOPbmd12rUP5DalRwB/2B9PMGUgEBMLubAS7Ilpue': {'track1_title': '3 Rounds and a Sound',\n",
       "  'track1_artist': 'Blind Pilot',\n",
       "  'track2_title': 'Vitamin C',\n",
       "  'track2_artist': 'Various Artists',\n",
       "  'similarity': 0.7478621115095628},\n",
       " '6AYFKOPbmd12rUP5DalRwB/3HFmU4ed2MToZ65f4MQOg8': {'track1_title': '3 Rounds and a Sound',\n",
       "  'track1_artist': 'Blind Pilot',\n",
       "  'track2_title': 'Slim Skit',\n",
       "  'track2_artist': 'Wiz Khalifa',\n",
       "  'similarity': 0.8145269550887978},\n",
       " '6AYFKOPbmd12rUP5DalRwB/6PhZwZ7QaJa79y7AVrHHHr': {'track1_title': '3 Rounds and a Sound',\n",
       "  'track1_artist': 'Blind Pilot',\n",
       "  'track2_title': 'Yuca',\n",
       "  'track2_artist': 'Warner Meadows',\n",
       "  'similarity': 0.8098011270491803},\n",
       " '6AYFKOPbmd12rUP5DalRwB/5VGEgFZfWBoEOGb3Vlo3rU': {'track1_title': '3 Rounds and a Sound',\n",
       "  'track1_artist': 'Blind Pilot',\n",
       "  'track2_title': 'Tangerine',\n",
       "  'track2_artist': 'Glass Animals',\n",
       "  'similarity': 0.6870912721994535},\n",
       " '6AYFKOPbmd12rUP5DalRwB/3AM2ihc5RFzbC47eCpTg2I': {'track1_title': '3 Rounds and a Sound',\n",
       "  'track1_artist': 'Blind Pilot',\n",
       "  'track2_title': 'Waves',\n",
       "  'track2_artist': 'Joey Bada$$',\n",
       "  'similarity': 0.7236752219945355},\n",
       " '6AYFKOPbmd12rUP5DalRwB/4paJ10JPNCyOaLtz2cY928': {'track1_title': '3 Rounds and a Sound',\n",
       "  'track1_artist': 'Blind Pilot',\n",
       "  'track2_title': 'Badfish',\n",
       "  'track2_artist': 'Sublime',\n",
       "  'similarity': 0.746057681010929},\n",
       " '6AYFKOPbmd12rUP5DalRwB/5dIcC2RTD2BOHTC1F0jrIN': {'track1_title': '3 Rounds and a Sound',\n",
       "  'track1_artist': 'Blind Pilot',\n",
       "  'track2_title': 'The Visit (She Was Here)',\n",
       "  'track2_artist': 'The Cyrkle',\n",
       "  'similarity': 0.7519703369877049},\n",
       " '6AYFKOPbmd12rUP5DalRwB/3JeDm203MFpRlzSFaoNEv2': {'track1_title': '3 Rounds and a Sound',\n",
       "  'track1_artist': 'Blind Pilot',\n",
       "  'track2_title': 'Stormy',\n",
       "  'track2_artist': 'Gábor Szabó',\n",
       "  'similarity': 0.7602569415983607},\n",
       " '6AYFKOPbmd12rUP5DalRwB/34zWZOSpU2V1ab0PiZCcv4': {'track1_title': '3 Rounds and a Sound',\n",
       "  'track1_artist': 'Blind Pilot',\n",
       "  'track2_title': 'Uptown Top Ranking - Remastered 2001',\n",
       "  'track2_artist': 'Althea And Donna',\n",
       "  'similarity': 0.7163609631147541},\n",
       " '1UD3yDrUp0KjjSPrrtZnrm/4Aocy7YAyOYf5YHj18Vfj3': {'track1_title': 'Farmers Road',\n",
       "  'track1_artist': 'Telekinesis',\n",
       "  'track2_title': 'Charmander',\n",
       "  'track2_artist': 'Aminé',\n",
       "  'similarity': 0.8176015334699454},\n",
       " '1UD3yDrUp0KjjSPrrtZnrm/2B9PMGUgEBMLubAS7Ilpue': {'track1_title': 'Farmers Road',\n",
       "  'track1_artist': 'Telekinesis',\n",
       "  'track2_title': 'Vitamin C',\n",
       "  'track2_artist': 'Various Artists',\n",
       "  'similarity': 0.725165600239071},\n",
       " '1UD3yDrUp0KjjSPrrtZnrm/3HFmU4ed2MToZ65f4MQOg8': {'track1_title': 'Farmers Road',\n",
       "  'track1_artist': 'Telekinesis',\n",
       "  'track2_title': 'Slim Skit',\n",
       "  'track2_artist': 'Wiz Khalifa',\n",
       "  'similarity': 0.7754219807035518},\n",
       " '1UD3yDrUp0KjjSPrrtZnrm/6PhZwZ7QaJa79y7AVrHHHr': {'track1_title': 'Farmers Road',\n",
       "  'track1_artist': 'Telekinesis',\n",
       "  'track2_title': 'Yuca',\n",
       "  'track2_artist': 'Warner Meadows',\n",
       "  'similarity': 0.7159724863387977},\n",
       " '1UD3yDrUp0KjjSPrrtZnrm/5VGEgFZfWBoEOGb3Vlo3rU': {'track1_title': 'Farmers Road',\n",
       "  'track1_artist': 'Telekinesis',\n",
       "  'track2_title': 'Tangerine',\n",
       "  'track2_artist': 'Glass Animals',\n",
       "  'similarity': 0.8154150461065574},\n",
       " '1UD3yDrUp0KjjSPrrtZnrm/3AM2ihc5RFzbC47eCpTg2I': {'track1_title': 'Farmers Road',\n",
       "  'track1_artist': 'Telekinesis',\n",
       "  'track2_title': 'Waves',\n",
       "  'track2_artist': 'Joey Bada$$',\n",
       "  'similarity': 0.6670931728142077},\n",
       " '1UD3yDrUp0KjjSPrrtZnrm/4paJ10JPNCyOaLtz2cY928': {'track1_title': 'Farmers Road',\n",
       "  'track1_artist': 'Telekinesis',\n",
       "  'track2_title': 'Badfish',\n",
       "  'track2_artist': 'Sublime',\n",
       "  'similarity': 0.7938280908469946},\n",
       " '1UD3yDrUp0KjjSPrrtZnrm/5dIcC2RTD2BOHTC1F0jrIN': {'track1_title': 'Farmers Road',\n",
       "  'track1_artist': 'Telekinesis',\n",
       "  'track2_title': 'The Visit (She Was Here)',\n",
       "  'track2_artist': 'The Cyrkle',\n",
       "  'similarity': 0.7917496692964481},\n",
       " '1UD3yDrUp0KjjSPrrtZnrm/3JeDm203MFpRlzSFaoNEv2': {'track1_title': 'Farmers Road',\n",
       "  'track1_artist': 'Telekinesis',\n",
       "  'track2_title': 'Stormy',\n",
       "  'track2_artist': 'Gábor Szabó',\n",
       "  'similarity': 0.8146013712431693},\n",
       " '1UD3yDrUp0KjjSPrrtZnrm/34zWZOSpU2V1ab0PiZCcv4': {'track1_title': 'Farmers Road',\n",
       "  'track1_artist': 'Telekinesis',\n",
       "  'track2_title': 'Uptown Top Ranking - Remastered 2001',\n",
       "  'track2_artist': 'Althea And Donna',\n",
       "  'similarity': 0.7886399726775957},\n",
       " '6pmrBvaDR1EmGS77OUdvnf/4Aocy7YAyOYf5YHj18Vfj3': {'track1_title': 'Generator ^ First Floor',\n",
       "  'track1_artist': 'Freelance Whales',\n",
       "  'track2_title': 'Charmander',\n",
       "  'track2_artist': 'Aminé',\n",
       "  'similarity': 0.8077790599385246},\n",
       " '6pmrBvaDR1EmGS77OUdvnf/2B9PMGUgEBMLubAS7Ilpue': {'track1_title': 'Generator ^ First Floor',\n",
       "  'track1_artist': 'Freelance Whales',\n",
       "  'track2_title': 'Vitamin C',\n",
       "  'track2_artist': 'Various Artists',\n",
       "  'similarity': 0.8198183487021857},\n",
       " '6pmrBvaDR1EmGS77OUdvnf/3HFmU4ed2MToZ65f4MQOg8': {'track1_title': 'Generator ^ First Floor',\n",
       "  'track1_artist': 'Freelance Whales',\n",
       "  'track2_title': 'Slim Skit',\n",
       "  'track2_artist': 'Wiz Khalifa',\n",
       "  'similarity': 0.8228159791666667},\n",
       " '6pmrBvaDR1EmGS77OUdvnf/6PhZwZ7QaJa79y7AVrHHHr': {'track1_title': 'Generator ^ First Floor',\n",
       "  'track1_artist': 'Freelance Whales',\n",
       "  'track2_title': 'Yuca',\n",
       "  'track2_artist': 'Warner Meadows',\n",
       "  'similarity': 0.8273721183401639},\n",
       " '6pmrBvaDR1EmGS77OUdvnf/5VGEgFZfWBoEOGb3Vlo3rU': {'track1_title': 'Generator ^ First Floor',\n",
       "  'track1_artist': 'Freelance Whales',\n",
       "  'track2_title': 'Tangerine',\n",
       "  'track2_artist': 'Glass Animals',\n",
       "  'similarity': 0.6971016077527321},\n",
       " '6pmrBvaDR1EmGS77OUdvnf/3AM2ihc5RFzbC47eCpTg2I': {'track1_title': 'Generator ^ First Floor',\n",
       "  'track1_artist': 'Freelance Whales',\n",
       "  'track2_title': 'Waves',\n",
       "  'track2_artist': 'Joey Bada$$',\n",
       "  'similarity': 0.733680562670765},\n",
       " '6pmrBvaDR1EmGS77OUdvnf/4paJ10JPNCyOaLtz2cY928': {'track1_title': 'Generator ^ First Floor',\n",
       "  'track1_artist': 'Freelance Whales',\n",
       "  'track2_title': 'Badfish',\n",
       "  'track2_artist': 'Sublime',\n",
       "  'similarity': 0.7458221149248634},\n",
       " '6pmrBvaDR1EmGS77OUdvnf/5dIcC2RTD2BOHTC1F0jrIN': {'track1_title': 'Generator ^ First Floor',\n",
       "  'track1_artist': 'Freelance Whales',\n",
       "  'track2_title': 'The Visit (She Was Here)',\n",
       "  'track2_artist': 'The Cyrkle',\n",
       "  'similarity': 0.6886200168032787},\n",
       " '6pmrBvaDR1EmGS77OUdvnf/3JeDm203MFpRlzSFaoNEv2': {'track1_title': 'Generator ^ First Floor',\n",
       "  'track1_artist': 'Freelance Whales',\n",
       "  'track2_title': 'Stormy',\n",
       "  'track2_artist': 'Gábor Szabó',\n",
       "  'similarity': 0.7705738345286884},\n",
       " '6pmrBvaDR1EmGS77OUdvnf/34zWZOSpU2V1ab0PiZCcv4': {'track1_title': 'Generator ^ First Floor',\n",
       "  'track1_artist': 'Freelance Whales',\n",
       "  'track2_title': 'Uptown Top Ranking - Remastered 2001',\n",
       "  'track2_artist': 'Althea And Donna',\n",
       "  'similarity': 0.7029139472336066},\n",
       " '5OiaAaIMYlCZONyDBxqk4G/4Aocy7YAyOYf5YHj18Vfj3': {'track1_title': 'First Day Of My Life',\n",
       "  'track1_artist': 'Bright Eyes',\n",
       "  'track2_title': 'Charmander',\n",
       "  'track2_artist': 'Aminé',\n",
       "  'similarity': 0.8040316465163935},\n",
       " '5OiaAaIMYlCZONyDBxqk4G/2B9PMGUgEBMLubAS7Ilpue': {'track1_title': 'First Day Of My Life',\n",
       "  'track1_artist': 'Bright Eyes',\n",
       "  'track2_title': 'Vitamin C',\n",
       "  'track2_artist': 'Various Artists',\n",
       "  'similarity': 0.7513782867144809},\n",
       " '5OiaAaIMYlCZONyDBxqk4G/3HFmU4ed2MToZ65f4MQOg8': {'track1_title': 'First Day Of My Life',\n",
       "  'track1_artist': 'Bright Eyes',\n",
       "  'track2_title': 'Slim Skit',\n",
       "  'track2_artist': 'Wiz Khalifa',\n",
       "  'similarity': 0.8676751412226775},\n",
       " '5OiaAaIMYlCZONyDBxqk4G/6PhZwZ7QaJa79y7AVrHHHr': {'track1_title': 'First Day Of My Life',\n",
       "  'track1_artist': 'Bright Eyes',\n",
       "  'track2_title': 'Yuca',\n",
       "  'track2_artist': 'Warner Meadows',\n",
       "  'similarity': 0.808714074795082},\n",
       " '5OiaAaIMYlCZONyDBxqk4G/5VGEgFZfWBoEOGb3Vlo3rU': {'track1_title': 'First Day Of My Life',\n",
       "  'track1_artist': 'Bright Eyes',\n",
       "  'track2_title': 'Tangerine',\n",
       "  'track2_artist': 'Glass Animals',\n",
       "  'similarity': 0.7590547698087432},\n",
       " '5OiaAaIMYlCZONyDBxqk4G/3AM2ihc5RFzbC47eCpTg2I': {'track1_title': 'First Day Of My Life',\n",
       "  'track1_artist': 'Bright Eyes',\n",
       "  'track2_title': 'Waves',\n",
       "  'track2_artist': 'Joey Bada$$',\n",
       "  'similarity': 0.7891971273907104},\n",
       " '5OiaAaIMYlCZONyDBxqk4G/4paJ10JPNCyOaLtz2cY928': {'track1_title': 'First Day Of My Life',\n",
       "  'track1_artist': 'Bright Eyes',\n",
       "  'track2_title': 'Badfish',\n",
       "  'track2_artist': 'Sublime',\n",
       "  'similarity': 0.8476138049863388},\n",
       " '5OiaAaIMYlCZONyDBxqk4G/5dIcC2RTD2BOHTC1F0jrIN': {'track1_title': 'First Day Of My Life',\n",
       "  'track1_artist': 'Bright Eyes',\n",
       "  'track2_title': 'The Visit (She Was Here)',\n",
       "  'track2_artist': 'The Cyrkle',\n",
       "  'similarity': 0.8786977580942623},\n",
       " '5OiaAaIMYlCZONyDBxqk4G/3JeDm203MFpRlzSFaoNEv2': {'track1_title': 'First Day Of My Life',\n",
       "  'track1_artist': 'Bright Eyes',\n",
       "  'track2_title': 'Stormy',\n",
       "  'track2_artist': 'Gábor Szabó',\n",
       "  'similarity': 0.8501665594262295},\n",
       " '5OiaAaIMYlCZONyDBxqk4G/34zWZOSpU2V1ab0PiZCcv4': {'track1_title': 'First Day Of My Life',\n",
       "  'track1_artist': 'Bright Eyes',\n",
       "  'track2_title': 'Uptown Top Ranking - Remastered 2001',\n",
       "  'track2_artist': 'Althea And Donna',\n",
       "  'similarity': 0.8092230911885245},\n",
       " '2c62Xf5Po1YSa1N6LOjPHy/4Aocy7YAyOYf5YHj18Vfj3': {'track1_title': 'Hello My Old Heart',\n",
       "  'track1_artist': 'The Oh Hellos',\n",
       "  'track2_title': 'Charmander',\n",
       "  'track2_artist': 'Aminé',\n",
       "  'similarity': 0.8675193049863388},\n",
       " '2c62Xf5Po1YSa1N6LOjPHy/2B9PMGUgEBMLubAS7Ilpue': {'track1_title': 'Hello My Old Heart',\n",
       "  'track1_artist': 'The Oh Hellos',\n",
       "  'track2_title': 'Vitamin C',\n",
       "  'track2_artist': 'Various Artists',\n",
       "  'similarity': 0.7440562457308743},\n",
       " '2c62Xf5Po1YSa1N6LOjPHy/3HFmU4ed2MToZ65f4MQOg8': {'track1_title': 'Hello My Old Heart',\n",
       "  'track1_artist': 'The Oh Hellos',\n",
       "  'track2_title': 'Slim Skit',\n",
       "  'track2_artist': 'Wiz Khalifa',\n",
       "  'similarity': 0.7969063352117486},\n",
       " '2c62Xf5Po1YSa1N6LOjPHy/6PhZwZ7QaJa79y7AVrHHHr': {'track1_title': 'Hello My Old Heart',\n",
       "  'track1_artist': 'The Oh Hellos',\n",
       "  'track2_title': 'Yuca',\n",
       "  'track2_artist': 'Warner Meadows',\n",
       "  'similarity': 0.7702029115437159},\n",
       " '2c62Xf5Po1YSa1N6LOjPHy/5VGEgFZfWBoEOGb3Vlo3rU': {'track1_title': 'Hello My Old Heart',\n",
       "  'track1_artist': 'The Oh Hellos',\n",
       "  'track2_title': 'Tangerine',\n",
       "  'track2_artist': 'Glass Animals',\n",
       "  'similarity': 0.8175580840163934},\n",
       " '2c62Xf5Po1YSa1N6LOjPHy/3AM2ihc5RFzbC47eCpTg2I': {'track1_title': 'Hello My Old Heart',\n",
       "  'track1_artist': 'The Oh Hellos',\n",
       "  'track2_title': 'Waves',\n",
       "  'track2_artist': 'Joey Bada$$',\n",
       "  'similarity': 0.7157705344945355},\n",
       " '2c62Xf5Po1YSa1N6LOjPHy/4paJ10JPNCyOaLtz2cY928': {'track1_title': 'Hello My Old Heart',\n",
       "  'track1_artist': 'The Oh Hellos',\n",
       "  'track2_title': 'Badfish',\n",
       "  'track2_artist': 'Sublime',\n",
       "  'similarity': 0.8407321431010929},\n",
       " '2c62Xf5Po1YSa1N6LOjPHy/5dIcC2RTD2BOHTC1F0jrIN': {'track1_title': 'Hello My Old Heart',\n",
       "  'track1_artist': 'The Oh Hellos',\n",
       "  'track2_title': 'The Visit (She Was Here)',\n",
       "  'track2_artist': 'The Cyrkle',\n",
       "  'similarity': 0.8789125586407104},\n",
       " '2c62Xf5Po1YSa1N6LOjPHy/3JeDm203MFpRlzSFaoNEv2': {'track1_title': 'Hello My Old Heart',\n",
       "  'track1_artist': 'The Oh Hellos',\n",
       "  'track2_title': 'Stormy',\n",
       "  'track2_artist': 'Gábor Szabó',\n",
       "  'similarity': 0.8843745730874317},\n",
       " '2c62Xf5Po1YSa1N6LOjPHy/34zWZOSpU2V1ab0PiZCcv4': {'track1_title': 'Hello My Old Heart',\n",
       "  'track1_artist': 'The Oh Hellos',\n",
       "  'track2_title': 'Uptown Top Ranking - Remastered 2001',\n",
       "  'track2_artist': 'Althea And Donna',\n",
       "  'similarity': 0.8383372523907103},\n",
       " '3tchJ8gDgMdaSxpaLxlr1F/4Aocy7YAyOYf5YHj18Vfj3': {'track1_title': 'To Be Alone With You',\n",
       "  'track1_artist': 'Sufjan Stevens',\n",
       "  'track2_title': 'Charmander',\n",
       "  'track2_artist': 'Aminé',\n",
       "  'similarity': 0.8164100367144809},\n",
       " '3tchJ8gDgMdaSxpaLxlr1F/2B9PMGUgEBMLubAS7Ilpue': {'track1_title': 'To Be Alone With You',\n",
       "  'track1_artist': 'Sufjan Stevens',\n",
       "  'track2_title': 'Vitamin C',\n",
       "  'track2_artist': 'Various Artists',\n",
       "  'similarity': 0.8365885843579235},\n",
       " '3tchJ8gDgMdaSxpaLxlr1F/3HFmU4ed2MToZ65f4MQOg8': {'track1_title': 'To Be Alone With You',\n",
       "  'track1_artist': 'Sufjan Stevens',\n",
       "  'track2_title': 'Slim Skit',\n",
       "  'track2_artist': 'Wiz Khalifa',\n",
       "  'similarity': 0.7721704019808743},\n",
       " '3tchJ8gDgMdaSxpaLxlr1F/6PhZwZ7QaJa79y7AVrHHHr': {'track1_title': 'To Be Alone With You',\n",
       "  'track1_artist': 'Sufjan Stevens',\n",
       "  'track2_title': 'Yuca',\n",
       "  'track2_artist': 'Warner Meadows',\n",
       "  'similarity': 0.7724364540642077},\n",
       " '3tchJ8gDgMdaSxpaLxlr1F/5VGEgFZfWBoEOGb3Vlo3rU': {'track1_title': 'To Be Alone With You',\n",
       "  'track1_artist': 'Sufjan Stevens',\n",
       "  'track2_title': 'Tangerine',\n",
       "  'track2_artist': 'Glass Animals',\n",
       "  'similarity': 0.7558586091188525},\n",
       " '3tchJ8gDgMdaSxpaLxlr1F/3AM2ihc5RFzbC47eCpTg2I': {'track1_title': 'To Be Alone With You',\n",
       "  'track1_artist': 'Sufjan Stevens',\n",
       "  'track2_title': 'Waves',\n",
       "  'track2_artist': 'Joey Bada$$',\n",
       "  'similarity': 0.6769563481898907},\n",
       " '3tchJ8gDgMdaSxpaLxlr1F/4paJ10JPNCyOaLtz2cY928': {'track1_title': 'To Be Alone With You',\n",
       "  'track1_artist': 'Sufjan Stevens',\n",
       "  'track2_title': 'Badfish',\n",
       "  'track2_artist': 'Sublime',\n",
       "  'similarity': 0.7353852552937158},\n",
       " '3tchJ8gDgMdaSxpaLxlr1F/5dIcC2RTD2BOHTC1F0jrIN': {'track1_title': 'To Be Alone With You',\n",
       "  'track1_artist': 'Sufjan Stevens',\n",
       "  'track2_title': 'The Visit (She Was Here)',\n",
       "  'track2_artist': 'The Cyrkle',\n",
       "  'similarity': 0.8161756862021857},\n",
       " '3tchJ8gDgMdaSxpaLxlr1F/3JeDm203MFpRlzSFaoNEv2': {'track1_title': 'To Be Alone With You',\n",
       "  'track1_artist': 'Sufjan Stevens',\n",
       "  'track2_title': 'Stormy',\n",
       "  'track2_artist': 'Gábor Szabó',\n",
       "  'similarity': 0.8661882897882514},\n",
       " '3tchJ8gDgMdaSxpaLxlr1F/34zWZOSpU2V1ab0PiZCcv4': {'track1_title': 'To Be Alone With You',\n",
       "  'track1_artist': 'Sufjan Stevens',\n",
       "  'track2_title': 'Uptown Top Ranking - Remastered 2001',\n",
       "  'track2_artist': 'Althea And Donna',\n",
       "  'similarity': 0.7189219731898906},\n",
       " '3G9ETaH55bMQx8hwNhAgbU/4Aocy7YAyOYf5YHj18Vfj3': {'track1_title': 'The Stable Song',\n",
       "  'track1_artist': 'Gregory Alan Isakov',\n",
       "  'track2_title': 'Charmander',\n",
       "  'track2_artist': 'Aminé',\n",
       "  'similarity': 0.8469278389685793},\n",
       " '3G9ETaH55bMQx8hwNhAgbU/2B9PMGUgEBMLubAS7Ilpue': {'track1_title': 'The Stable Song',\n",
       "  'track1_artist': 'Gregory Alan Isakov',\n",
       "  'track2_title': 'Vitamin C',\n",
       "  'track2_artist': 'Various Artists',\n",
       "  'similarity': 0.7584263319672131},\n",
       " '3G9ETaH55bMQx8hwNhAgbU/3HFmU4ed2MToZ65f4MQOg8': {'track1_title': 'The Stable Song',\n",
       "  'track1_artist': 'Gregory Alan Isakov',\n",
       "  'track2_title': 'Slim Skit',\n",
       "  'track2_artist': 'Wiz Khalifa',\n",
       "  'similarity': 0.8535663463114753},\n",
       " '3G9ETaH55bMQx8hwNhAgbU/6PhZwZ7QaJa79y7AVrHHHr': {'track1_title': 'The Stable Song',\n",
       "  'track1_artist': 'Gregory Alan Isakov',\n",
       "  'track2_title': 'Yuca',\n",
       "  'track2_artist': 'Warner Meadows',\n",
       "  'similarity': 0.7833042563183059},\n",
       " '3G9ETaH55bMQx8hwNhAgbU/5VGEgFZfWBoEOGb3Vlo3rU': {'track1_title': 'The Stable Song',\n",
       "  'track1_artist': 'Gregory Alan Isakov',\n",
       "  'track2_title': 'Tangerine',\n",
       "  'track2_artist': 'Glass Animals',\n",
       "  'similarity': 0.83776403090847},\n",
       " '3G9ETaH55bMQx8hwNhAgbU/3AM2ihc5RFzbC47eCpTg2I': {'track1_title': 'The Stable Song',\n",
       "  'track1_artist': 'Gregory Alan Isakov',\n",
       "  'track2_title': 'Waves',\n",
       "  'track2_artist': 'Joey Bada$$',\n",
       "  'similarity': 0.763598194159836},\n",
       " '3G9ETaH55bMQx8hwNhAgbU/4paJ10JPNCyOaLtz2cY928': {'track1_title': 'The Stable Song',\n",
       "  'track1_artist': 'Gregory Alan Isakov',\n",
       "  'track2_title': 'Badfish',\n",
       "  'track2_artist': 'Sublime',\n",
       "  'similarity': 0.8903331121926229},\n",
       " '3G9ETaH55bMQx8hwNhAgbU/5dIcC2RTD2BOHTC1F0jrIN': {'track1_title': 'The Stable Song',\n",
       "  'track1_artist': 'Gregory Alan Isakov',\n",
       "  'track2_title': 'The Visit (She Was Here)',\n",
       "  'track2_artist': 'The Cyrkle',\n",
       "  'similarity': 0.8821344720628416},\n",
       " '3G9ETaH55bMQx8hwNhAgbU/3JeDm203MFpRlzSFaoNEv2': {'track1_title': 'The Stable Song',\n",
       "  'track1_artist': 'Gregory Alan Isakov',\n",
       "  'track2_title': 'Stormy',\n",
       "  'track2_artist': 'Gábor Szabó',\n",
       "  'similarity': 0.8867692067964481},\n",
       " '3G9ETaH55bMQx8hwNhAgbU/34zWZOSpU2V1ab0PiZCcv4': {'track1_title': 'The Stable Song',\n",
       "  'track1_artist': 'Gregory Alan Isakov',\n",
       "  'track2_title': 'Uptown Top Ranking - Remastered 2001',\n",
       "  'track2_artist': 'Althea And Donna',\n",
       "  'similarity': 0.85201190659153},\n",
       " '1lUdXbhl6u6QMQZRTAhlWW/4Aocy7YAyOYf5YHj18Vfj3': {'track1_title': 'Naked as We Came',\n",
       "  'track1_artist': 'Iron & Wine',\n",
       "  'track2_title': 'Charmander',\n",
       "  'track2_artist': 'Aminé',\n",
       "  'similarity': 0.7731876152663933},\n",
       " '1lUdXbhl6u6QMQZRTAhlWW/2B9PMGUgEBMLubAS7Ilpue': {'track1_title': 'Naked as We Came',\n",
       "  'track1_artist': 'Iron & Wine',\n",
       "  'track2_title': 'Vitamin C',\n",
       "  'track2_artist': 'Various Artists',\n",
       "  'similarity': 0.7481339224726775},\n",
       " '1lUdXbhl6u6QMQZRTAhlWW/3HFmU4ed2MToZ65f4MQOg8': {'track1_title': 'Naked as We Came',\n",
       "  'track1_artist': 'Iron & Wine',\n",
       "  'track2_title': 'Slim Skit',\n",
       "  'track2_artist': 'Wiz Khalifa',\n",
       "  'similarity': 0.8534288548497267},\n",
       " '1lUdXbhl6u6QMQZRTAhlWW/6PhZwZ7QaJa79y7AVrHHHr': {'track1_title': 'Naked as We Came',\n",
       "  'track1_artist': 'Iron & Wine',\n",
       "  'track2_title': 'Yuca',\n",
       "  'track2_artist': 'Warner Meadows',\n",
       "  'similarity': 0.7693233222336066},\n",
       " '1lUdXbhl6u6QMQZRTAhlWW/5VGEgFZfWBoEOGb3Vlo3rU': {'track1_title': 'Naked as We Came',\n",
       "  'track1_artist': 'Iron & Wine',\n",
       "  'track2_title': 'Tangerine',\n",
       "  'track2_artist': 'Glass Animals',\n",
       "  'similarity': 0.7977115377390711},\n",
       " '1lUdXbhl6u6QMQZRTAhlWW/3AM2ihc5RFzbC47eCpTg2I': {'track1_title': 'Naked as We Came',\n",
       "  'track1_artist': 'Iron & Wine',\n",
       "  'track2_title': 'Waves',\n",
       "  'track2_artist': 'Joey Bada$$',\n",
       "  'similarity': 0.7793623420423497},\n",
       " '1lUdXbhl6u6QMQZRTAhlWW/4paJ10JPNCyOaLtz2cY928': {'track1_title': 'Naked as We Came',\n",
       "  'track1_artist': 'Iron & Wine',\n",
       "  'track2_title': 'Badfish',\n",
       "  'track2_artist': 'Sublime',\n",
       "  'similarity': 0.8266437081625683},\n",
       " '1lUdXbhl6u6QMQZRTAhlWW/5dIcC2RTD2BOHTC1F0jrIN': {'track1_title': 'Naked as We Came',\n",
       "  'track1_artist': 'Iron & Wine',\n",
       "  'track2_title': 'The Visit (She Was Here)',\n",
       "  'track2_artist': 'The Cyrkle',\n",
       "  'similarity': 0.8834450680327869},\n",
       " '1lUdXbhl6u6QMQZRTAhlWW/3JeDm203MFpRlzSFaoNEv2': {'track1_title': 'Naked as We Came',\n",
       "  'track1_artist': 'Iron & Wine',\n",
       "  'track2_title': 'Stormy',\n",
       "  'track2_artist': 'Gábor Szabó',\n",
       "  'similarity': 0.82677734375},\n",
       " '1lUdXbhl6u6QMQZRTAhlWW/34zWZOSpU2V1ab0PiZCcv4': {'track1_title': 'Naked as We Came',\n",
       "  'track1_artist': 'Iron & Wine',\n",
       "  'track2_title': 'Uptown Top Ranking - Remastered 2001',\n",
       "  'track2_artist': 'Althea And Donna',\n",
       "  'similarity': 0.7994700435450819},\n",
       " '41yIvlFgvGwxq8qTqAR7eG/4Aocy7YAyOYf5YHj18Vfj3': {'track1_title': 'Bloom - Bonus Track',\n",
       "  'track1_artist': 'The Paper Kites',\n",
       "  'track2_title': 'Charmander',\n",
       "  'track2_artist': 'Aminé',\n",
       "  'similarity': 0.8865364523565573},\n",
       " '41yIvlFgvGwxq8qTqAR7eG/2B9PMGUgEBMLubAS7Ilpue': {'track1_title': 'Bloom - Bonus Track',\n",
       "  'track1_artist': 'The Paper Kites',\n",
       "  'track2_title': 'Vitamin C',\n",
       "  'track2_artist': 'Various Artists',\n",
       "  'similarity': 0.8334884972677595},\n",
       " '41yIvlFgvGwxq8qTqAR7eG/3HFmU4ed2MToZ65f4MQOg8': {'track1_title': 'Bloom - Bonus Track',\n",
       "  'track1_artist': 'The Paper Kites',\n",
       "  'track2_title': 'Slim Skit',\n",
       "  'track2_artist': 'Wiz Khalifa',\n",
       "  'similarity': 0.8840610457650273},\n",
       " '41yIvlFgvGwxq8qTqAR7eG/6PhZwZ7QaJa79y7AVrHHHr': {'track1_title': 'Bloom - Bonus Track',\n",
       "  'track1_artist': 'The Paper Kites',\n",
       "  'track2_title': 'Yuca',\n",
       "  'track2_artist': 'Warner Meadows',\n",
       "  'similarity': 0.8912188806352459},\n",
       " '41yIvlFgvGwxq8qTqAR7eG/5VGEgFZfWBoEOGb3Vlo3rU': {'track1_title': 'Bloom - Bonus Track',\n",
       "  'track1_artist': 'The Paper Kites',\n",
       "  'track2_title': 'Tangerine',\n",
       "  'track2_artist': 'Glass Animals',\n",
       "  'similarity': 0.7728548710724044},\n",
       " '41yIvlFgvGwxq8qTqAR7eG/3AM2ihc5RFzbC47eCpTg2I': {'track1_title': 'Bloom - Bonus Track',\n",
       "  'track1_artist': 'The Paper Kites',\n",
       "  'track2_title': 'Waves',\n",
       "  'track2_artist': 'Joey Bada$$',\n",
       "  'similarity': 0.8033546764002732},\n",
       " '41yIvlFgvGwxq8qTqAR7eG/4paJ10JPNCyOaLtz2cY928': {'track1_title': 'Bloom - Bonus Track',\n",
       "  'track1_artist': 'The Paper Kites',\n",
       "  'track2_title': 'Badfish',\n",
       "  'track2_artist': 'Sublime',\n",
       "  'similarity': 0.8276305780396175},\n",
       " '41yIvlFgvGwxq8qTqAR7eG/5dIcC2RTD2BOHTC1F0jrIN': {'track1_title': 'Bloom - Bonus Track',\n",
       "  'track1_artist': 'The Paper Kites',\n",
       "  'track2_title': 'The Visit (She Was Here)',\n",
       "  'track2_artist': 'The Cyrkle',\n",
       "  'similarity': 0.8062585260245901},\n",
       " '41yIvlFgvGwxq8qTqAR7eG/3JeDm203MFpRlzSFaoNEv2': {'track1_title': 'Bloom - Bonus Track',\n",
       "  'track1_artist': 'The Paper Kites',\n",
       "  'track2_title': 'Stormy',\n",
       "  'track2_artist': 'Gábor Szabó',\n",
       "  'similarity': 0.8152275896516393},\n",
       " '41yIvlFgvGwxq8qTqAR7eG/34zWZOSpU2V1ab0PiZCcv4': {'track1_title': 'Bloom - Bonus Track',\n",
       "  'track1_artist': 'The Paper Kites',\n",
       "  'track2_title': 'Uptown Top Ranking - Remastered 2001',\n",
       "  'track2_artist': 'Althea And Donna',\n",
       "  'similarity': 0.7892688806352459},\n",
       " '5YqpHuXpFjDVZ7tY1ClFll/4Aocy7YAyOYf5YHj18Vfj3': {'track1_title': 'Heartbeats',\n",
       "  'track1_artist': 'José González',\n",
       "  'track2_title': 'Charmander',\n",
       "  'track2_artist': 'Aminé',\n",
       "  'similarity': 0.8474436560792349},\n",
       " '5YqpHuXpFjDVZ7tY1ClFll/2B9PMGUgEBMLubAS7Ilpue': {'track1_title': 'Heartbeats',\n",
       "  'track1_artist': 'José González',\n",
       "  'track2_title': 'Vitamin C',\n",
       "  'track2_artist': 'Various Artists',\n",
       "  'similarity': 0.8126346268784153},\n",
       " '5YqpHuXpFjDVZ7tY1ClFll/3HFmU4ed2MToZ65f4MQOg8': {'track1_title': 'Heartbeats',\n",
       "  'track1_artist': 'José González',\n",
       "  'track2_title': 'Slim Skit',\n",
       "  'track2_artist': 'Wiz Khalifa',\n",
       "  'similarity': 0.7700858092554644},\n",
       " '5YqpHuXpFjDVZ7tY1ClFll/6PhZwZ7QaJa79y7AVrHHHr': {'track1_title': 'Heartbeats',\n",
       "  'track1_artist': 'José González',\n",
       "  'track2_title': 'Yuca',\n",
       "  'track2_artist': 'Warner Meadows',\n",
       "  'similarity': 0.7879206369535519},\n",
       " '5YqpHuXpFjDVZ7tY1ClFll/5VGEgFZfWBoEOGb3Vlo3rU': {'track1_title': 'Heartbeats',\n",
       "  'track1_artist': 'José González',\n",
       "  'track2_title': 'Tangerine',\n",
       "  'track2_artist': 'Glass Animals',\n",
       "  'similarity': 0.7276774487704918},\n",
       " '5YqpHuXpFjDVZ7tY1ClFll/3AM2ihc5RFzbC47eCpTg2I': {'track1_title': 'Heartbeats',\n",
       "  'track1_artist': 'José González',\n",
       "  'track2_title': 'Waves',\n",
       "  'track2_artist': 'Joey Bada$$',\n",
       "  'similarity': 0.694316043374317},\n",
       " '5YqpHuXpFjDVZ7tY1ClFll/4paJ10JPNCyOaLtz2cY928': {'track1_title': 'Heartbeats',\n",
       "  'track1_artist': 'José González',\n",
       "  'track2_title': 'Badfish',\n",
       "  'track2_artist': 'Sublime',\n",
       "  'similarity': 0.7508515078551912},\n",
       " '5YqpHuXpFjDVZ7tY1ClFll/5dIcC2RTD2BOHTC1F0jrIN': {'track1_title': 'Heartbeats',\n",
       "  'track1_artist': 'José González',\n",
       "  'track2_title': 'The Visit (She Was Here)',\n",
       "  'track2_artist': 'The Cyrkle',\n",
       "  'similarity': 0.8190319233948087},\n",
       " '5YqpHuXpFjDVZ7tY1ClFll/3JeDm203MFpRlzSFaoNEv2': {'track1_title': 'Heartbeats',\n",
       "  'track1_artist': 'José González',\n",
       "  'track2_title': 'Stormy',\n",
       "  'track2_artist': 'Gábor Szabó',\n",
       "  'similarity': 0.8452480362021858},\n",
       " '5YqpHuXpFjDVZ7tY1ClFll/34zWZOSpU2V1ab0PiZCcv4': {'track1_title': 'Heartbeats',\n",
       "  'track1_artist': 'José González',\n",
       "  'track2_title': 'Uptown Top Ranking - Remastered 2001',\n",
       "  'track2_artist': 'Althea And Donna',\n",
       "  'similarity': 0.7499555925546447}}"
      ]
     },
     "execution_count": 187,
     "metadata": {},
     "output_type": "execute_result"
    }
   ],
   "source": [
    "def compare_playlist_dict(creator_id_1: str, playlist_id_1: str, creator_id_2: str, playlist_id_2: str, sp: spotipy.Spotify) -> dict:\n",
    "    \"\"\"\n",
    "    Compares two playlists by comparing every song in the first playlist with every song in the second playlist. Each of these comparisons is stored as an entry in a dictionary, where the key is labeled as {song_id_1}/{song_id_2}, and the value is another dictionary containing the name and artist of each track, as well as the similarity scalar for those two tracks.\n",
    "    :param creator_id_1: The Spotify ID of the first playlist creator\n",
    "    :param playlist_id_1: The Spotify ID of the first playlist\n",
    "    :param creator_id_2: The Spotify ID of the second playlist creator\n",
    "    :param playlist_id_2: The Spotify ID of the second playlist\n",
    "    :param sp: The Spotify API credentials\n",
    "    :return: A dictionary with entries for each song-to-song comparison containing the similarity scalar for those two songs, as well as artist and track name information.\n",
    "    \"\"\"    \n",
    "    pl1_df = analyze_playlist(creator_id_1, playlist_id_1, sp)  # Create dataframe for first playlist\n",
    "    pl2_df = analyze_playlist(creator_id_2, playlist_id_2, sp)  # Create dataframe for second playlist\n",
    "    \n",
    "    indices_1 = []      # List to keep track of song IDs for first playlist\n",
    "    indices_2 = []      # List to keep track of song IDs for second playlist\n",
    "    \n",
    "    results = {}        # Dictionary to store results\n",
    "    \n",
    "    for index, row in pl1_df.iterrows():        # Iterate through first dataframe\n",
    "        indices_1.append(index)                 # Add song ID for each song to list\n",
    "    \n",
    "    for index, row in pl2_df.iterrows():        # Iterate through second dataframe\n",
    "        indices_2.append(index)                 # Add song ID for each song to list\n",
    "    \n",
    "    for i in indices_1:                         # Iterate through each song in first playlist\n",
    "        for j in indices_2:                     # Iterate through each song in second playlist\n",
    "            # Store the results of the comparison in the results dictionary\n",
    "            # Use the user-defined default weights when making the comparison\n",
    "            results[f'{i}/{j}'] = {\n",
    "                'track1_title': pl1_df.at[i, \"track_name\"],\n",
    "                'track1_artist': pl1_df.at[i, \"artist\"],\n",
    "                'track2_title': pl2_df.at[j, \"track_name\"],\n",
    "                'track2_artist': pl2_df.at[j, \"artist\"],\n",
    "                'similarity': similarity_scalar(i, pl1_df, j, pl2_df,\n",
    "                                                danceability=w.result['danceability'],\n",
    "                                                energy=w.result['energy'],\n",
    "                                                instrumentalness=w.result['instrumentalness'],\n",
    "                                                liveness=w.result['liveness'],\n",
    "                                                valence=w.result['valence'],\n",
    "                                                loudness=w.result['loudness'],\n",
    "                                                tempo=w.result['tempo'],\n",
    "                                                key=w.result['key'],\n",
    "                                                mode=w.result['mode']\n",
    "                                                )\n",
    "            }\n",
    "            \n",
    "    return results\n",
    "\n",
    "# Comparing 2 playlists\n",
    "# Note: when comparing a playlist to itself, the result measures homogeneity\n",
    "\n",
    "compare_playlist_dict(creator_id_1, playlist_id_1, creator_id_2, playlist_id_2, sp)"
   ]
  },
  {
   "cell_type": "markdown",
   "metadata": {
    "collapsed": false,
    "jupyter": {
     "outputs_hidden": false
    }
   },
   "source": [
    "## Analyze Playlist Similarity\n",
    "\n",
    "Given the set of song-to-song comparisons, we can now make more interesting observations that compare the playlists as a whole. In particular, we make the following comparisons:\n",
    "* A scalar measuring playlist similarity, computed as the average of all the song-to-song comparisons between the playlist\n",
    "* The two most similar songs in the playlists\n",
    "* The two least similar songs in the playlists"
   ]
  },
  {
   "cell_type": "code",
   "execution_count": 188,
   "metadata": {
    "ExecuteTime": {
     "end_time": "2023-10-28T01:58:25.548959Z",
     "start_time": "2023-10-28T01:58:24.858984Z"
    },
    "collapsed": false,
    "jupyter": {
     "outputs_hidden": false
    }
   },
   "outputs": [
    {
     "data": {
      "text/plain": [
       "{'avg_similarity': 0.7950364912431693,\n",
       " 'top_songs': {'track1': {'artist': 'The Paper Kites',\n",
       "   'title': 'Bloom - Bonus Track'},\n",
       "  'track2': {'artist': 'Warner Meadows', 'title': 'Yuca'},\n",
       "  'similarity': 0.8912188806352459},\n",
       " 'worst_songs': {'track1': {'artist': 'Telekinesis', 'title': 'Farmers Road'},\n",
       "  'track2': {'artist': 'Joey Bada$$', 'title': 'Waves'},\n",
       "  'similarity': 0.6670931728142077}}"
      ]
     },
     "execution_count": 188,
     "metadata": {},
     "output_type": "execute_result"
    }
   ],
   "source": [
    "def playlist_similarity(creator_id_1: str, playlist_id_1: str, creator_id_2: str, playlist_id_2: str, sp: spotipy.Spotify) -> dict:\n",
    "    \"\"\"\n",
    "    Compares two playlists and finds:\n",
    "        * A scalar measuring playlist similarity, computed as the average of all the song-to-song comparisons between the playlist\n",
    "        * The two most similar songs in the playlists\n",
    "        * The two least similar songs in the playlists\n",
    "    :param creator_id_1: The Spotify ID of the first playlist creator\n",
    "    :param playlist_id_1: The Spotify ID of the first playlist\n",
    "    :param creator_id_2: The Spotify ID of the second playlist creator\n",
    "    :param playlist_id_2: The Spotify ID of the second playlist\n",
    "    :param sp: The Spotify API credentials\n",
    "    :return: A dictionary containing a scalar measuring playlist similarity, and dictionaries with information on the two most similar songs in the playlists, and the two least similar songs in the playlists.\n",
    "    \"\"\"\n",
    "    # Compute all the song-to-song similarities\n",
    "    similarities = compare_playlist_dict(creator_id_1, playlist_id_1, creator_id_2, playlist_id_2, sp)\n",
    "    \n",
    "    # Dictionary to store information on the two most similar songs\n",
    "    top_songs = {\n",
    "        'track1': {\n",
    "            'artist': None,\n",
    "            'title': None,\n",
    "        },\n",
    "        'track2': {\n",
    "            'artist': None,\n",
    "            'title': None,\n",
    "        },\n",
    "        'similarity': 0\n",
    "    }\n",
    "    \n",
    "    # Dictionary to store information on the two least similar songs\n",
    "    worst_songs = {\n",
    "        'track1': {\n",
    "            'artist': None,\n",
    "            'title': None,\n",
    "        },\n",
    "        'track2': {\n",
    "            'artist': None,\n",
    "            'title': None,\n",
    "        },\n",
    "        'similarity': 1\n",
    "    }\n",
    "    \n",
    "    # Variable to keep track of average similarity\n",
    "    sum_similarities = 0\n",
    "    \n",
    "    # Iterate through all the song-to-song comparisons\n",
    "    for key, value in similarities.items():\n",
    "        # Check if this song-to-song comparison is the most similar\n",
    "        if value['similarity'] > top_songs['similarity']:\n",
    "            top_songs['track1']['artist'] = value['track1_artist']\n",
    "            top_songs['track1']['title'] = value['track1_title']\n",
    "            top_songs['track2']['artist'] = value['track2_artist']\n",
    "            top_songs['track2']['title'] = value['track2_title']\n",
    "            top_songs['similarity'] = value['similarity']\n",
    "        \n",
    "        # Check if this song-to-song comparison is the least similar\n",
    "        if value['similarity'] < worst_songs['similarity']:\n",
    "            worst_songs['track1']['artist'] = value['track1_artist']\n",
    "            worst_songs['track1']['title'] = value['track1_title']\n",
    "            worst_songs['track2']['artist'] = value['track2_artist']\n",
    "            worst_songs['track2']['title'] = value['track2_title']\n",
    "            worst_songs['similarity'] = value['similarity']\n",
    "        \n",
    "        # Keep track of the average similarity\n",
    "        sum_similarities += value['similarity']\n",
    "    \n",
    "    return {\n",
    "        'avg_similarity': sum_similarities / len(similarities),\n",
    "        'top_songs': top_songs,\n",
    "        'worst_songs': worst_songs\n",
    "    }\n",
    "\n",
    "playlist_similarity(creator_id_1, playlist_id_1, creator_id_2, playlist_id_2, sp)"
   ]
  },
  {
   "cell_type": "markdown",
   "metadata": {
    "collapsed": false,
    "jupyter": {
     "outputs_hidden": false
    }
   },
   "source": [
    "## Our Playlists\n",
    "\n",
    "To allow us to compare people in our Encoding Music class, we import the spreadsheet associating our names with the playlists we created, and store it as a Pandas dataframe."
   ]
  },
  {
   "cell_type": "code",
   "execution_count": 189,
   "metadata": {
    "ExecuteTime": {
     "end_time": "2023-10-28T01:58:27.039356Z",
     "start_time": "2023-10-28T01:58:25.547163Z"
    },
    "collapsed": false,
    "jupyter": {
     "outputs_hidden": false
    }
   },
   "outputs": [],
   "source": [
    "spreadsheet = 'https://docs.google.com/spreadsheets/d/1VejQgsP0XpZmJO_cOBdSHbdpY37v5ohbXaICUJ5Hy58/pub?output=csv'\n",
    "our_playlists = pd.read_csv(spreadsheet)"
   ]
  },
  {
   "cell_type": "markdown",
   "metadata": {
    "collapsed": false,
    "jupyter": {
     "outputs_hidden": false
    }
   },
   "source": [
    "## Compare Playlists for Two People\n",
    "\n",
    "To determine how similar two people are, we compare each playlist for one person to each playlist for the other person. The result is a dictionary with each entry representing a playlist-to-playlist comparison, which contains information about the scalar similarity between the playlists, the most similar songs between them, and the most different songs between them."
   ]
  },
  {
   "cell_type": "code",
   "execution_count": 190,
   "metadata": {
    "ExecuteTime": {
     "end_time": "2023-10-28T01:58:34.861162Z",
     "start_time": "2023-10-28T01:58:27.052566Z"
    },
    "collapsed": false,
    "jupyter": {
     "outputs_hidden": false
    }
   },
   "outputs": [
    {
     "data": {
      "text/plain": [
       "{'Ice Cream Shop compared to Insults': {'playlist_comparison': {'avg_similarity': 0.84526029912037,\n",
       "   'top_songs': {'track1': {'artist': 'Arctic Monkeys', 'title': '505'},\n",
       "    'track2': {'artist': 'Oliver Tree', 'title': 'Jerk'},\n",
       "    'similarity': 0.9514958268442623},\n",
       "   'worst_songs': {'track1': {'artist': 'Arctic Monkeys', 'title': '505'},\n",
       "    'track2': {'artist': 'Nirvana', 'title': 'Dumb'},\n",
       "    'similarity': 0.6807294308401639}}},\n",
       " 'Ice Cream Shop compared to Oranges': {'playlist_comparison': {'avg_similarity': 0.8319256452751216,\n",
       "   'top_songs': {'track1': {'artist': 'Daft Punk',\n",
       "     'title': 'Instant Crush (feat. Julian Casablancas)'},\n",
       "    'track2': {'artist': 'Warner Meadows', 'title': 'Yuca'},\n",
       "    'similarity': 0.9242904072745901},\n",
       "   'worst_songs': {'track1': {'artist': 'Young the Giant',\n",
       "     'title': 'Mind Over Matter (Reprise)'},\n",
       "    'track2': {'artist': 'Joey Bada$$', 'title': 'Waves'},\n",
       "    'similarity': 0.7009598915642077}}},\n",
       " 'Ice Cream Shop compared to Herbs': {'playlist_comparison': {'avg_similarity': 0.8462019656105797,\n",
       "   'top_songs': {'track1': {'artist': 'The Neighbourhood',\n",
       "     'title': \"Devil's Advocate\"},\n",
       "    'track2': {'artist': 'Rick James', 'title': 'Mary Jane'},\n",
       "    'similarity': 0.9594631298155738},\n",
       "   'worst_songs': {'track1': {'artist': 'The Neighbourhood',\n",
       "     'title': \"Devil's Advocate\"},\n",
       "    'track2': {'artist': 'Ray Charles', 'title': \"Let's Go Get Stoned\"},\n",
       "    'similarity': 0.7128836236338798}}},\n",
       " 'Pandemic Indie Phase compared to Insults': {'playlist_comparison': {'avg_similarity': 0.8098660242452183,\n",
       "   'top_songs': {'track1': {'artist': 'The Oh Hellos',\n",
       "     'title': 'Hello My Old Heart'},\n",
       "    'track2': {'artist': 'Radiohead', 'title': 'Creep'},\n",
       "    'similarity': 0.9281468656079235},\n",
       "   'worst_songs': {'track1': {'artist': 'Telekinesis',\n",
       "     'title': 'Farmers Road'},\n",
       "    'track2': {'artist': 'Nirvana', 'title': 'Dumb'},\n",
       "    'similarity': 0.6765272592213114}}},\n",
       " 'Pandemic Indie Phase compared to Oranges': {'playlist_comparison': {'avg_similarity': 0.7950364912431693,\n",
       "   'top_songs': {'track1': {'artist': 'The Paper Kites',\n",
       "     'title': 'Bloom - Bonus Track'},\n",
       "    'track2': {'artist': 'Warner Meadows', 'title': 'Yuca'},\n",
       "    'similarity': 0.8912188806352459},\n",
       "   'worst_songs': {'track1': {'artist': 'Telekinesis',\n",
       "     'title': 'Farmers Road'},\n",
       "    'track2': {'artist': 'Joey Bada$$', 'title': 'Waves'},\n",
       "    'similarity': 0.6670931728142077}}},\n",
       " 'Pandemic Indie Phase compared to Herbs': {'playlist_comparison': {'avg_similarity': 0.8065202959767759,\n",
       "   'top_songs': {'track1': {'artist': 'The Paper Kites',\n",
       "     'title': 'Bloom - Bonus Track'},\n",
       "    'track2': {'artist': 'Ray Charles', 'title': \"Let's Go Get Stoned\"},\n",
       "    'similarity': 0.9353774948770492},\n",
       "   'worst_songs': {'track1': {'artist': 'Sufjan Stevens',\n",
       "     'title': 'To Be Alone With You'},\n",
       "    'track2': {'artist': 'Rick James', 'title': 'Mary Jane'},\n",
       "    'similarity': 0.681151312875683}}},\n",
       " 'Jolene compared to Insults': {'playlist_comparison': {'avg_similarity': 0.8411885617923506,\n",
       "   'top_songs': {'track1': {'artist': 'The White Stripes', 'title': 'Jolene'},\n",
       "    'track2': {'artist': 'The Brian Jonestown Massacre', 'title': 'Fucker'},\n",
       "    'similarity': 0.9536882950819672},\n",
       "   'worst_songs': {'track1': {'artist': 'The White Stripes',\n",
       "     'title': 'Jolene'},\n",
       "    'track2': {'artist': 'Nirvana', 'title': 'Dumb'},\n",
       "    'similarity': 0.7054822991803278}}},\n",
       " 'Jolene compared to Oranges': {'playlist_comparison': {'avg_similarity': 0.8360994920355189,\n",
       "   'top_songs': {'track1': {'artist': 'Ray LaMontagne', 'title': 'Jolene'},\n",
       "    'track2': {'artist': 'The Cyrkle', 'title': 'The Visit (She Was Here)'},\n",
       "    'similarity': 0.9281617893442623},\n",
       "   'worst_songs': {'track1': {'artist': 'Ray LaMontagne', 'title': 'Jolene'},\n",
       "    'track2': {'artist': 'Joey Bada$$', 'title': 'Waves'},\n",
       "    'similarity': 0.702767587943989}}},\n",
       " 'Jolene compared to Herbs': {'playlist_comparison': {'avg_similarity': 0.8401518868183061,\n",
       "   'top_songs': {'track1': {'artist': 'Victony', 'title': 'Jolene'},\n",
       "    'track2': {'artist': 'Outkast', 'title': \"Crumblin' Erb\"},\n",
       "    'similarity': 0.913413550204918},\n",
       "   'worst_songs': {'track1': {'artist': 'Miley Cyrus',\n",
       "     'title': 'Jolene - Live'},\n",
       "    'track2': {'artist': 'Kid Cudi', 'title': 'Marijuana'},\n",
       "    'similarity': 0.7496459827527322}}}}"
      ]
     },
     "execution_count": 190,
     "metadata": {},
     "output_type": "execute_result"
    }
   ],
   "source": [
    "def compare_user_playlists(person1: str, person2: str, df: pd.DataFrame=our_playlists) -> dict:\n",
    "    \"\"\"\n",
    "    Create playlist-to-playlist comparisons for each pairing of playlists made by two people. If comparing a person to themselves, the result just compares a person's playlists to the other playlists they created.\n",
    "    :param person1: A person's name\n",
    "    :param person2: A person's name\n",
    "    :param df: (Optional) The dataframe associating everyone's name with their Spotify ID and their playlist IDS. This is set by default to the dataframe defined in the previous cell.\n",
    "    :return: A dictionary of playlist-to-playlist comparisons containing, for each pairing, an overall similarity scalar, the two most similar songs, and the two least similar songs\n",
    "    \"\"\"\n",
    "    playlists1 = [] # A list of all the playlists created by person1\n",
    "    playlists2 = [] # A list of all the playlists created by person2\n",
    "    \n",
    "    comparison = {} # A dictionary to store all playlist-to-playlist comparisons\n",
    "    \n",
    "    # Iterate through the dataframe associating people's names with their playlists, extracting the correct playlists for person1 and person2 and storing them in playlists1 and playlists2, respectively\n",
    "    for i, values in df.iterrows():\n",
    "        if values['your_name'] == person1:\n",
    "            playlists1.append(df.iloc[i])\n",
    "        if values['your_name'] == person2:\n",
    "            playlists2.append(df.iloc[i])\n",
    "    \n",
    "    for playlist in playlists1:             # Iterate through each playlist by person1\n",
    "        for p2 in playlists2:               # Iterate through each playlist by person2\n",
    "            # Create an entry for the playlist-to-playlist comparison using the playlist_similarity() function\n",
    "            comparison[f'{playlist[\"playlist_short_title\"]} compared to {p2[\"playlist_short_title\"]}'] = {\n",
    "                'playlist_comparison': playlist_similarity(\n",
    "                    playlist['your_spotify_user_id'],\n",
    "                    playlist['playlist_id'],\n",
    "                    p2['your_spotify_user_id'],\n",
    "                    p2['playlist_id'],\n",
    "                    sp\n",
    "                )\n",
    "            }\n",
    "    \n",
    "    return comparison\n",
    "\n",
    "compare_user_playlists('Owen Yaggy', 'Luke Sheppard')"
   ]
  },
  {
   "cell_type": "markdown",
   "metadata": {
    "collapsed": false,
    "jupyter": {
     "outputs_hidden": false
    }
   },
   "source": [
    "## Create Person-to-Person Similarity Analysis\n",
    "\n",
    "Now that we've collected substantial data comparing two people to each other, we can analyze the results and present that information to the user with the `person_similarity(...)` function."
   ]
  },
  {
   "cell_type": "code",
   "execution_count": 191,
   "metadata": {
    "ExecuteTime": {
     "end_time": "2023-10-28T01:58:41.693648Z",
     "start_time": "2023-10-28T01:58:34.874813Z"
    },
    "collapsed": false,
    "jupyter": {
     "outputs_hidden": false
    }
   },
   "outputs": [
    {
     "name": "stdout",
     "output_type": "stream",
     "text": [
      "Comparing: Owen Yaggy and Luke Sheppard\n",
      "#####################################\n",
      "Overall average similarity:\n",
      "On average, Owen Yaggy and Luke Sheppard's playlists have a similarity rating of 0.828.\n",
      "#####################################\n",
      "Two most similar playlists:\n",
      "Owen Yaggy's playlist Ice Cream Shop and Luke Sheppard's playlist Herbs are their two most similar, with a similarity rating of 0.846.\n",
      "#####################################\n",
      "Two least similar playlists:\n",
      "Owen Yaggy's playlist Pandemic Indie Phase and Luke Sheppard's playlist Oranges are their two least similar, with a similarity rating of 0.795.\n",
      "#####################################\n",
      "Two most similar songs:\n",
      "Owen Yaggy's song Devil's Advocate, by The Neighbourhood, and Luke Sheppard's song Mary Jane, by Rick James, are their two most similar, with a similarity rating of 0.959.\n",
      "#####################################\n",
      "Two least similar songs:\n",
      "Owen Yaggy's song Farmers Road, by Telekinesis, and Luke Sheppard's song Waves, by Joey Bada$$, are their two least similar, with a similarity rating of 0.667.\n"
     ]
    }
   ],
   "source": [
    "def person_similarity(person1: str, person2: str):\n",
    "    \"\"\"\n",
    "    Analyzes the similarity of two people. This function does not return any information - it prints it to the console. The following analyses are made:\n",
    "        * Overall scalar similarity of the two people\n",
    "        * Two most similar playlists, and their scalar similarity\n",
    "        * Two least similar playlists, and their scalar similarity\n",
    "        * Two most similar songs, and their scalar similarity\n",
    "        * Two least similar songs, and their scalar similarity\n",
    "    :param person1: A person's name\n",
    "    :param person2: A person's name\n",
    "    \"\"\"\n",
    "    # Store playlist-to-playlist comparisons\n",
    "    comparison = compare_user_playlists(person1, person2)\n",
    "    \n",
    "    # Variables to keep track of best and worst playlist matches\n",
    "    highest_match_amount = 0\n",
    "    highest_match = None\n",
    "    lowest_match_amount = 1\n",
    "    lowest_match = None\n",
    "    \n",
    "    # Variables to keep track of best and worst song matches\n",
    "    top_songs_scalar = 0\n",
    "    top_songs = {\n",
    "        'track1': {\n",
    "            'artist': None,\n",
    "            'title': None\n",
    "        },\n",
    "        'track2': {\n",
    "            'artist': None,\n",
    "            'title': None\n",
    "        }\n",
    "    }\n",
    "    worst_songs_scalar = 1\n",
    "    worst_songs = {\n",
    "        'track1': {\n",
    "            'artist': None,\n",
    "            'title': None\n",
    "        },\n",
    "        'track2': {\n",
    "            'artist': None,\n",
    "            'title': None\n",
    "        }\n",
    "    }\n",
    "    \n",
    "    # Variable to keep track of average playlist-to-playlist similarity\n",
    "    sum_similarities = 0\n",
    "    \n",
    "    # Iterate through each playlist-to-playlist comparison, extracting relevant data\n",
    "    for key, value in comparison.items():\n",
    "        if value['playlist_comparison']['avg_similarity'] > highest_match_amount:\n",
    "            highest_match_amount = value['playlist_comparison']['avg_similarity']\n",
    "            highest_match = key\n",
    "        if value['playlist_comparison']['avg_similarity'] < lowest_match_amount:\n",
    "            lowest_match_amount = value['playlist_comparison']['avg_similarity']\n",
    "            lowest_match = key\n",
    "        if value['playlist_comparison']['top_songs']['similarity'] > top_songs_scalar:\n",
    "            top_songs['track1']['artist'] = value['playlist_comparison']['top_songs']['track1']['artist']\n",
    "            top_songs['track1']['title'] = value['playlist_comparison']['top_songs']['track1']['title']\n",
    "            top_songs['track2']['artist'] = value['playlist_comparison']['top_songs']['track2']['artist']\n",
    "            top_songs['track2']['title'] = value['playlist_comparison']['top_songs']['track2']['title']\n",
    "            top_songs_scalar = value['playlist_comparison']['top_songs']['similarity']\n",
    "        if value['playlist_comparison']['worst_songs']['similarity'] < worst_songs_scalar:\n",
    "            worst_songs['track1']['artist'] = value['playlist_comparison']['worst_songs']['track1']['artist']\n",
    "            worst_songs['track1']['title'] = value['playlist_comparison']['worst_songs']['track1']['title']\n",
    "            worst_songs['track2']['artist'] = value['playlist_comparison']['worst_songs']['track2']['artist']\n",
    "            worst_songs['track2']['title'] = value['playlist_comparison']['worst_songs']['track2']['title']\n",
    "            worst_songs_scalar = value['playlist_comparison']['worst_songs']['similarity']\n",
    "        sum_similarities += value['playlist_comparison']['avg_similarity']\n",
    "    \n",
    "    avg_similarity = sum_similarities / len(comparison)\n",
    "    \n",
    "    print(f'Comparing: {person1} and {person2}')\n",
    "    print('#####################################')\n",
    "    \n",
    "    print('Overall average similarity:')\n",
    "    print(f'On average, {person1} and {person2}\\'s playlists have a similarity rating of {avg_similarity.round(3)}.')\n",
    "    print('#####################################')\n",
    "    \n",
    "    # Each playlist-to-playlist comparison is stored as an entry in a dictionary\n",
    "    # The key name is '{playlist_name} compared to {playlist_name}'\n",
    "    # So complicated string splicing is used to extract the playlist names\n",
    "    print('Two most similar playlists:')\n",
    "    print(f'{person1}\\'s playlist {highest_match[:(highest_match.index(\" compared to \"))]} and {person2}\\'s playlist {highest_match[(highest_match.index(\" compared to \") + 13):]} are their two most similar, with a similarity rating of {highest_match_amount.round(3)}.')\n",
    "    print('#####################################')\n",
    "    \n",
    "    print('Two least similar playlists:')\n",
    "    print(f'{person1}\\'s playlist {lowest_match[:(lowest_match.index(\" compared to \"))]} and {person2}\\'s playlist {lowest_match[(lowest_match.index(\" compared to \") + 13):]} are their two least similar, with a similarity rating of {lowest_match_amount.round(3)}.')\n",
    "    print('#####################################')\n",
    "    \n",
    "    print('Two most similar songs:')\n",
    "    print(f\"{person1}'s song {top_songs['track1']['title']}, by {top_songs['track1']['artist']}, and {person2}'s song {top_songs['track2']['title']}, by {top_songs['track2']['artist']}, are their two most similar, with a similarity rating of {top_songs_scalar.round(3)}.\")\n",
    "    print('#####################################')\n",
    "    \n",
    "    print('Two least similar songs:')\n",
    "    print(f\"{person1}'s song {worst_songs['track1']['title']}, by {worst_songs['track1']['artist']}, and {person2}'s song {worst_songs['track2']['title']}, by {worst_songs['track2']['artist']}, are their two least similar, with a similarity rating of {worst_songs_scalar.round(3)}.\")\n",
    "    \n",
    "\n",
    "person_similarity('Owen Yaggy', 'Luke Sheppard')"
   ]
  },
  {
   "cell_type": "markdown",
   "metadata": {
    "collapsed": false,
    "jupyter": {
     "outputs_hidden": false
    }
   },
   "source": [
    "## Storing People\n",
    "\n",
    "To make it easier to compare people, we first create a Python set containing everyone's name."
   ]
  },
  {
   "cell_type": "code",
   "execution_count": 192,
   "metadata": {
    "ExecuteTime": {
     "end_time": "2023-10-28T01:58:41.708645Z",
     "start_time": "2023-10-28T01:58:41.691121Z"
    },
    "collapsed": false,
    "jupyter": {
     "outputs_hidden": false
    }
   },
   "outputs": [],
   "source": [
    "people = set()\n",
    "\n",
    "for index, row in our_playlists.iterrows():     # Iterate through our dataframe of people and playlists\n",
    "    people.add(row.at['your_name'])"
   ]
  },
  {
   "cell_type": "markdown",
   "metadata": {
    "collapsed": false,
    "jupyter": {
     "outputs_hidden": false
    }
   },
   "source": [
    "## User Choice: Comparing People\n",
    "\n",
    "Users can use an interactive dropdown menu to select two people from the class to compare.\n",
    "\n",
    "* The interface for dropdown menus can sometimes be frustrating, depending on the IDE. Any browser-based IDE works well because it tends to use built-in browser dropdown elements.\n",
    "* Click `Run Interact` to confirm your selection and compare two people. This can be done several times without re-running any Jupyter cells. However, please note that it will take several seconds to run."
   ]
  },
  {
   "cell_type": "code",
   "execution_count": 193,
   "metadata": {
    "ExecuteTime": {
     "end_time": "2023-10-28T01:58:41.748491Z",
     "start_time": "2023-10-28T01:58:41.703642Z"
    },
    "collapsed": false,
    "jupyter": {
     "outputs_hidden": false
    }
   },
   "outputs": [
    {
     "data": {
      "application/vnd.jupyter.widget-view+json": {
       "model_id": "bcbcb97996c54402a7fc9db84e9ae557",
       "version_major": 2,
       "version_minor": 0
      },
      "text/plain": [
       "interactive(children=(Dropdown(description='person1', options=('Grace Swenson Hollis', 'Fejiro Anigboro', 'Sho…"
      ]
     },
     "metadata": {},
     "output_type": "display_data"
    }
   ],
   "source": [
    "def pick_people(person1: str, person2: str):\n",
    "    \"\"\"\n",
    "    A helper function for the interactive name-selection widget\n",
    "    :param person1: A person's name\n",
    "    :param person2: A person's name\n",
    "    \"\"\"\n",
    "    person_similarity(person1, person2)\n",
    "\n",
    "# Interactive widget with dropdown menus to select people, and input those people into `pick_people()`\n",
    "v = interactive(\n",
    "    pick_people,\n",
    "    {'manual': True},\n",
    "    person1 = people,\n",
    "    person2 = people\n",
    ")\n",
    "\n",
    "# Display the interactive widget\n",
    "display(v)"
   ]
  },
  {
   "cell_type": "markdown",
   "metadata": {
    "collapsed": false,
    "jupyter": {
     "outputs_hidden": false
    }
   },
   "source": [
    "## That's it!\n",
    "\n",
    "Thanks for using our project!"
   ]
  }
 ],
 "metadata": {
  "colab": {
   "provenance": []
  },
  "kernelspec": {
   "display_name": "Python 3 (ipykernel)",
   "language": "python",
   "name": "python3"
  },
  "language_info": {
   "codemirror_mode": {
    "name": "ipython",
    "version": 3
   },
   "file_extension": ".py",
   "mimetype": "text/x-python",
   "name": "python",
   "nbconvert_exporter": "python",
   "pygments_lexer": "ipython3",
   "version": "3.10.8"
  }
 },
 "nbformat": 4,
 "nbformat_minor": 4
}
