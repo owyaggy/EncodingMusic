{
 "cells": [
  {
   "cell_type": "markdown",
   "metadata": {
    "id": "JluHT0GaOfVe"
   },
   "source": [
    "# Interim Notebook (Labs 4 + 5)\n",
    "### Owen Yaggy\n",
    "### 10/13/23\n",
    "### MUSC H255"
   ]
  },
  {
   "cell_type": "markdown",
   "metadata": {
    "collapsed": false
   },
   "source": [
    "## Importing libraries:\n",
    "All the libraries that could be needed. This is directly from the Encoding Music tutorial on Spotify functions on GitHub. As a result, not all of these libraries are currently being used. In addition, I was having issues with the community library, but since it isn't currently necessary, I removed that import statement for the time being.\n",
    "\n",
    "Finally, I added my own input statement, `import config`. On my local machine, I have a file called config.py. Since I store all my code for this class in a GitHub repository, I want to avoid any unnecessary personal data in the code. My config.py file is on my .gitignore list, so my credentials stay private.\n",
    "\n",
    "Unusual dependencies:\n",
    "* Download spotify_tools.py from the Encoding Music GitHub\n",
    "* A file, config.py, with variables for `client_id`, `client_secret`, and `user` stored as strings. These correspond to your public and private Spotify API keys, and your Spotify username, respectively, OR:\n",
    "* Replace the usage of `config.client_id` with your private API key, and so on for the other variables. They are only used once, in the code block following the import statements code block."
   ]
  },
  {
   "cell_type": "code",
   "execution_count": 11,
   "metadata": {
    "id": "Q2TBxEJHQLcF",
    "ExecuteTime": {
     "end_time": "2023-10-14T07:17:37.629704Z",
     "start_time": "2023-10-14T07:17:37.555923Z"
    }
   },
   "outputs": [],
   "source": [
    "import pandas as pd\n",
    "import numpy as np\n",
    "import random\n",
    "import altair as alt\n",
    "import plotly.graph_objects as go\n",
    "import requests\n",
    "import inspect\n",
    "import spotipy\n",
    "from spotipy.oauth2 import SpotifyClientCredentials\n",
    "import spotify_tools\n",
    "import networkx as nx\n",
    "import networkx.algorithms.community as nx_comm\n",
    "import matplotlib.cm as cm\n",
    "import matplotlib.pyplot as plt\n",
    "import plotly.express as px\n",
    "import pyvis\n",
    "from pyvis import network as net\n",
    "from itertools import combinations\n",
    "# from community import community_louvain\n",
    "from copy import deepcopy\n",
    "import time\n",
    "\n",
    "import config   # A file I store on my local device containing my Spotify API credentials"
   ]
  },
  {
   "cell_type": "markdown",
   "metadata": {
    "collapsed": false
   },
   "source": [
    "Store the credentials based on the config.py and set up the spotipy library with those credentials.\n",
    "\n",
    "**This is where you can replace the variable usage with your own API keys and username.** "
   ]
  },
  {
   "cell_type": "code",
   "execution_count": 12,
   "metadata": {
    "id": "i7CCZxnvQYUk",
    "ExecuteTime": {
     "end_time": "2023-10-14T07:17:37.631334Z",
     "start_time": "2023-10-14T07:17:37.564731Z"
    }
   },
   "outputs": [],
   "source": [
    "# storing the credentials:\n",
    "#\n",
    "CLIENT_ID = config.client_id\n",
    "CLIENT_SECRET = config.client_secret\n",
    "my_username = config.user\n",
    "\n",
    "# instantiating the client.  This 'sp' version of the client is used repeatedly below\n",
    "# source: Max Hilsdorf (https://towardsdatascience.com/how-to-create-large-music-datasets-using-spotipy-40e7242cc6a6)\n",
    "client_credentials_manager = SpotifyClientCredentials(client_id=CLIENT_ID, client_secret=CLIENT_SECRET)\n",
    "sp = spotipy.Spotify(client_credentials_manager=client_credentials_manager)"
   ]
  },
  {
   "cell_type": "markdown",
   "metadata": {
    "collapsed": false
   },
   "source": [
    "Take a specific playlist, store it in a dataframe, and show the result."
   ]
  },
  {
   "cell_type": "code",
   "execution_count": 13,
   "metadata": {
    "colab": {
     "base_uri": "https://localhost:8080/",
     "height": 359
    },
    "id": "j0SAEDWaQzpy",
    "outputId": "6af179ad-e787-4220-d453-9c6ec3428d08",
    "ExecuteTime": {
     "end_time": "2023-10-14T07:17:37.896635Z",
     "start_time": "2023-10-14T07:17:37.570569Z"
    }
   },
   "outputs": [
    {
     "data": {
      "text/plain": "                                                href  \\\n0  https://api.spotify.com/v1/playlists/1hTUFxr38...   \n1  https://api.spotify.com/v1/playlists/1hTUFxr38...   \n2  https://api.spotify.com/v1/playlists/1hTUFxr38...   \n3  https://api.spotify.com/v1/playlists/1hTUFxr38...   \n4  https://api.spotify.com/v1/playlists/1hTUFxr38...   \n5  https://api.spotify.com/v1/playlists/1hTUFxr38...   \n6  https://api.spotify.com/v1/playlists/1hTUFxr38...   \n7  https://api.spotify.com/v1/playlists/1hTUFxr38...   \n8  https://api.spotify.com/v1/playlists/1hTUFxr38...   \n9  https://api.spotify.com/v1/playlists/1hTUFxr38...   \n\n                                               items  limit  next  offset  \\\n0  {'added_at': '2023-10-06T17:42:39Z', 'added_by...    100  None       0   \n1  {'added_at': '2023-10-06T17:42:42Z', 'added_by...    100  None       0   \n2  {'added_at': '2023-10-06T17:43:22Z', 'added_by...    100  None       0   \n3  {'added_at': '2023-10-06T17:44:56Z', 'added_by...    100  None       0   \n4  {'added_at': '2023-10-06T17:45:31Z', 'added_by...    100  None       0   \n5  {'added_at': '2023-10-06T17:46:20Z', 'added_by...    100  None       0   \n6  {'added_at': '2023-10-06T17:47:14Z', 'added_by...    100  None       0   \n7  {'added_at': '2023-10-06T17:48:01Z', 'added_by...    100  None       0   \n8  {'added_at': '2023-10-06T17:50:00Z', 'added_by...    100  None       0   \n9  {'added_at': '2023-10-06T17:51:32Z', 'added_by...    100  None       0   \n\n  previous  total  \n0     None     10  \n1     None     10  \n2     None     10  \n3     None     10  \n4     None     10  \n5     None     10  \n6     None     10  \n7     None     10  \n8     None     10  \n9     None     10  ",
      "text/html": "<div>\n<style scoped>\n    .dataframe tbody tr th:only-of-type {\n        vertical-align: middle;\n    }\n\n    .dataframe tbody tr th {\n        vertical-align: top;\n    }\n\n    .dataframe thead th {\n        text-align: right;\n    }\n</style>\n<table border=\"1\" class=\"dataframe\">\n  <thead>\n    <tr style=\"text-align: right;\">\n      <th></th>\n      <th>href</th>\n      <th>items</th>\n      <th>limit</th>\n      <th>next</th>\n      <th>offset</th>\n      <th>previous</th>\n      <th>total</th>\n    </tr>\n  </thead>\n  <tbody>\n    <tr>\n      <th>0</th>\n      <td>https://api.spotify.com/v1/playlists/1hTUFxr38...</td>\n      <td>{'added_at': '2023-10-06T17:42:39Z', 'added_by...</td>\n      <td>100</td>\n      <td>None</td>\n      <td>0</td>\n      <td>None</td>\n      <td>10</td>\n    </tr>\n    <tr>\n      <th>1</th>\n      <td>https://api.spotify.com/v1/playlists/1hTUFxr38...</td>\n      <td>{'added_at': '2023-10-06T17:42:42Z', 'added_by...</td>\n      <td>100</td>\n      <td>None</td>\n      <td>0</td>\n      <td>None</td>\n      <td>10</td>\n    </tr>\n    <tr>\n      <th>2</th>\n      <td>https://api.spotify.com/v1/playlists/1hTUFxr38...</td>\n      <td>{'added_at': '2023-10-06T17:43:22Z', 'added_by...</td>\n      <td>100</td>\n      <td>None</td>\n      <td>0</td>\n      <td>None</td>\n      <td>10</td>\n    </tr>\n    <tr>\n      <th>3</th>\n      <td>https://api.spotify.com/v1/playlists/1hTUFxr38...</td>\n      <td>{'added_at': '2023-10-06T17:44:56Z', 'added_by...</td>\n      <td>100</td>\n      <td>None</td>\n      <td>0</td>\n      <td>None</td>\n      <td>10</td>\n    </tr>\n    <tr>\n      <th>4</th>\n      <td>https://api.spotify.com/v1/playlists/1hTUFxr38...</td>\n      <td>{'added_at': '2023-10-06T17:45:31Z', 'added_by...</td>\n      <td>100</td>\n      <td>None</td>\n      <td>0</td>\n      <td>None</td>\n      <td>10</td>\n    </tr>\n    <tr>\n      <th>5</th>\n      <td>https://api.spotify.com/v1/playlists/1hTUFxr38...</td>\n      <td>{'added_at': '2023-10-06T17:46:20Z', 'added_by...</td>\n      <td>100</td>\n      <td>None</td>\n      <td>0</td>\n      <td>None</td>\n      <td>10</td>\n    </tr>\n    <tr>\n      <th>6</th>\n      <td>https://api.spotify.com/v1/playlists/1hTUFxr38...</td>\n      <td>{'added_at': '2023-10-06T17:47:14Z', 'added_by...</td>\n      <td>100</td>\n      <td>None</td>\n      <td>0</td>\n      <td>None</td>\n      <td>10</td>\n    </tr>\n    <tr>\n      <th>7</th>\n      <td>https://api.spotify.com/v1/playlists/1hTUFxr38...</td>\n      <td>{'added_at': '2023-10-06T17:48:01Z', 'added_by...</td>\n      <td>100</td>\n      <td>None</td>\n      <td>0</td>\n      <td>None</td>\n      <td>10</td>\n    </tr>\n    <tr>\n      <th>8</th>\n      <td>https://api.spotify.com/v1/playlists/1hTUFxr38...</td>\n      <td>{'added_at': '2023-10-06T17:50:00Z', 'added_by...</td>\n      <td>100</td>\n      <td>None</td>\n      <td>0</td>\n      <td>None</td>\n      <td>10</td>\n    </tr>\n    <tr>\n      <th>9</th>\n      <td>https://api.spotify.com/v1/playlists/1hTUFxr38...</td>\n      <td>{'added_at': '2023-10-06T17:51:32Z', 'added_by...</td>\n      <td>100</td>\n      <td>None</td>\n      <td>0</td>\n      <td>None</td>\n      <td>10</td>\n    </tr>\n  </tbody>\n</table>\n</div>"
     },
     "execution_count": 13,
     "metadata": {},
     "output_type": "execute_result"
    }
   ],
   "source": [
    "creator_id = \"lzsfootball\"\n",
    "playlist_id = \"1hTUFxr380FuNNYHpynyzy\"\n",
    "\n",
    "# playlist_tracks(user_id: String, playlist_id: String): json_dict\n",
    "playlist_tracks = pd.DataFrame(sp.user_playlist_tracks(creator_id, playlist_id))\n",
    "playlist_tracks"
   ]
  },
  {
   "cell_type": "markdown",
   "metadata": {
    "collapsed": false
   },
   "source": [
    "Experiment: show a single song's name.\n",
    "*Challenge:* Because the data returned by Spotify's API is so voluminous and complex, it's actually quite difficult to find out how to query a very specific piece of data."
   ]
  },
  {
   "cell_type": "code",
   "execution_count": 14,
   "metadata": {
    "colab": {
     "base_uri": "https://localhost:8080/",
     "height": 35
    },
    "id": "8nyrRWLiRqdU",
    "outputId": "8c0f4d06-fa9a-4658-a58e-803cf9867821",
    "ExecuteTime": {
     "end_time": "2023-10-14T07:17:37.902259Z",
     "start_time": "2023-10-14T07:17:37.899191Z"
    }
   },
   "outputs": [
    {
     "data": {
      "text/plain": "'Dumb'"
     },
     "execution_count": 14,
     "metadata": {},
     "output_type": "execute_result"
    }
   ],
   "source": [
    "sample_track = playlist_tracks.iloc[0][\"items\"][\"track\"]['name']\n",
    "sample_track"
   ]
  },
  {
   "cell_type": "markdown",
   "metadata": {
    "collapsed": false
   },
   "source": [
    "Show what one row in data looks like."
   ]
  },
  {
   "cell_type": "code",
   "execution_count": 15,
   "metadata": {
    "collapsed": false,
    "ExecuteTime": {
     "end_time": "2023-10-14T07:17:37.913743Z",
     "start_time": "2023-10-14T07:17:37.910552Z"
    }
   },
   "outputs": [
    {
     "data": {
      "text/plain": "{'added_at': '2023-10-06T17:42:39Z',\n 'added_by': {'external_urls': {'spotify': 'https://open.spotify.com/user/lzsfootball'},\n  'href': 'https://api.spotify.com/v1/users/lzsfootball',\n  'id': 'lzsfootball',\n  'type': 'user',\n  'uri': 'spotify:user:lzsfootball'},\n 'is_local': False,\n 'primary_color': None,\n 'track': {'album': {'album_type': 'album',\n   'artists': [{'external_urls': {'spotify': 'https://open.spotify.com/artist/6olE6TJLqED3rqDCT0FyPh'},\n     'href': 'https://api.spotify.com/v1/artists/6olE6TJLqED3rqDCT0FyPh',\n     'id': '6olE6TJLqED3rqDCT0FyPh',\n     'name': 'Nirvana',\n     'type': 'artist',\n     'uri': 'spotify:artist:6olE6TJLqED3rqDCT0FyPh'}],\n   'available_markets': ['AR',\n    'AU',\n    'AT',\n    'BE',\n    'BO',\n    'BR',\n    'BG',\n    'CA',\n    'CL',\n    'CO',\n    'CR',\n    'CY',\n    'CZ',\n    'DK',\n    'DO',\n    'DE',\n    'EC',\n    'EE',\n    'SV',\n    'FI',\n    'FR',\n    'GR',\n    'GT',\n    'HN',\n    'HK',\n    'HU',\n    'IS',\n    'IE',\n    'IT',\n    'LV',\n    'LT',\n    'LU',\n    'MY',\n    'MT',\n    'MX',\n    'NL',\n    'NZ',\n    'NI',\n    'NO',\n    'PA',\n    'PY',\n    'PE',\n    'PH',\n    'PL',\n    'PT',\n    'SG',\n    'SK',\n    'ES',\n    'SE',\n    'CH',\n    'TW',\n    'TR',\n    'UY',\n    'US',\n    'GB',\n    'AD',\n    'LI',\n    'MC',\n    'ID',\n    'JP',\n    'TH',\n    'VN',\n    'RO',\n    'IL',\n    'ZA',\n    'SA',\n    'AE',\n    'BH',\n    'QA',\n    'OM',\n    'KW',\n    'EG',\n    'MA',\n    'DZ',\n    'TN',\n    'LB',\n    'JO',\n    'PS',\n    'IN',\n    'BY',\n    'KZ',\n    'MD',\n    'UA',\n    'AL',\n    'BA',\n    'HR',\n    'ME',\n    'MK',\n    'RS',\n    'SI',\n    'KR',\n    'BD',\n    'PK',\n    'LK',\n    'GH',\n    'KE',\n    'NG',\n    'TZ',\n    'UG',\n    'AG',\n    'AM',\n    'BS',\n    'BB',\n    'BZ',\n    'BT',\n    'BW',\n    'BF',\n    'CV',\n    'CW',\n    'DM',\n    'FJ',\n    'GM',\n    'GE',\n    'GD',\n    'GW',\n    'GY',\n    'HT',\n    'JM',\n    'KI',\n    'LS',\n    'LR',\n    'MW',\n    'MV',\n    'ML',\n    'MH',\n    'FM',\n    'NA',\n    'NR',\n    'NE',\n    'PW',\n    'PG',\n    'WS',\n    'SM',\n    'ST',\n    'SN',\n    'SC',\n    'SL',\n    'SB',\n    'KN',\n    'LC',\n    'VC',\n    'SR',\n    'TL',\n    'TO',\n    'TT',\n    'TV',\n    'VU',\n    'AZ',\n    'BN',\n    'BI',\n    'KH',\n    'CM',\n    'TD',\n    'KM',\n    'GQ',\n    'SZ',\n    'GA',\n    'GN',\n    'KG',\n    'LA',\n    'MO',\n    'MR',\n    'MN',\n    'NP',\n    'RW',\n    'TG',\n    'UZ',\n    'ZW',\n    'BJ',\n    'MG',\n    'MU',\n    'MZ',\n    'AO',\n    'CI',\n    'DJ',\n    'ZM',\n    'CD',\n    'CG',\n    'IQ',\n    'LY',\n    'TJ',\n    'VE',\n    'ET',\n    'XK'],\n   'external_urls': {'spotify': 'https://open.spotify.com/album/7wOOA7l306K8HfBKfPoafr'},\n   'href': 'https://api.spotify.com/v1/albums/7wOOA7l306K8HfBKfPoafr',\n   'id': '7wOOA7l306K8HfBKfPoafr',\n   'images': [{'height': 640,\n     'url': 'https://i.scdn.co/image/ab67616d0000b273c4f52ef8782f0e8ede4c1aaf',\n     'width': 640},\n    {'height': 300,\n     'url': 'https://i.scdn.co/image/ab67616d00001e02c4f52ef8782f0e8ede4c1aaf',\n     'width': 300},\n    {'height': 64,\n     'url': 'https://i.scdn.co/image/ab67616d00004851c4f52ef8782f0e8ede4c1aaf',\n     'width': 64}],\n   'name': 'In Utero',\n   'release_date': '1993-09-21',\n   'release_date_precision': 'day',\n   'total_tracks': 12,\n   'type': 'album',\n   'uri': 'spotify:album:7wOOA7l306K8HfBKfPoafr'},\n  'artists': [{'external_urls': {'spotify': 'https://open.spotify.com/artist/6olE6TJLqED3rqDCT0FyPh'},\n    'href': 'https://api.spotify.com/v1/artists/6olE6TJLqED3rqDCT0FyPh',\n    'id': '6olE6TJLqED3rqDCT0FyPh',\n    'name': 'Nirvana',\n    'type': 'artist',\n    'uri': 'spotify:artist:6olE6TJLqED3rqDCT0FyPh'}],\n  'available_markets': ['AR',\n   'AU',\n   'AT',\n   'BE',\n   'BO',\n   'BR',\n   'BG',\n   'CA',\n   'CL',\n   'CO',\n   'CR',\n   'CY',\n   'CZ',\n   'DK',\n   'DO',\n   'DE',\n   'EC',\n   'EE',\n   'SV',\n   'FI',\n   'FR',\n   'GR',\n   'GT',\n   'HN',\n   'HK',\n   'HU',\n   'IS',\n   'IE',\n   'IT',\n   'LV',\n   'LT',\n   'LU',\n   'MY',\n   'MT',\n   'MX',\n   'NL',\n   'NZ',\n   'NI',\n   'NO',\n   'PA',\n   'PY',\n   'PE',\n   'PH',\n   'PL',\n   'PT',\n   'SG',\n   'SK',\n   'ES',\n   'SE',\n   'CH',\n   'TW',\n   'TR',\n   'UY',\n   'US',\n   'GB',\n   'AD',\n   'LI',\n   'MC',\n   'ID',\n   'JP',\n   'TH',\n   'VN',\n   'RO',\n   'IL',\n   'ZA',\n   'SA',\n   'AE',\n   'BH',\n   'QA',\n   'OM',\n   'KW',\n   'EG',\n   'MA',\n   'DZ',\n   'TN',\n   'LB',\n   'JO',\n   'PS',\n   'IN',\n   'BY',\n   'KZ',\n   'MD',\n   'UA',\n   'AL',\n   'BA',\n   'HR',\n   'ME',\n   'MK',\n   'RS',\n   'SI',\n   'KR',\n   'BD',\n   'PK',\n   'LK',\n   'GH',\n   'KE',\n   'NG',\n   'TZ',\n   'UG',\n   'AG',\n   'AM',\n   'BS',\n   'BB',\n   'BZ',\n   'BT',\n   'BW',\n   'BF',\n   'CV',\n   'CW',\n   'DM',\n   'FJ',\n   'GM',\n   'GE',\n   'GD',\n   'GW',\n   'GY',\n   'HT',\n   'JM',\n   'KI',\n   'LS',\n   'LR',\n   'MW',\n   'MV',\n   'ML',\n   'MH',\n   'FM',\n   'NA',\n   'NR',\n   'NE',\n   'PW',\n   'PG',\n   'WS',\n   'SM',\n   'ST',\n   'SN',\n   'SC',\n   'SL',\n   'SB',\n   'KN',\n   'LC',\n   'VC',\n   'SR',\n   'TL',\n   'TO',\n   'TT',\n   'TV',\n   'VU',\n   'AZ',\n   'BN',\n   'BI',\n   'KH',\n   'CM',\n   'TD',\n   'KM',\n   'GQ',\n   'SZ',\n   'GA',\n   'GN',\n   'KG',\n   'LA',\n   'MO',\n   'MR',\n   'MN',\n   'NP',\n   'RW',\n   'TG',\n   'UZ',\n   'ZW',\n   'BJ',\n   'MG',\n   'MU',\n   'MZ',\n   'AO',\n   'CI',\n   'DJ',\n   'ZM',\n   'CD',\n   'CG',\n   'IQ',\n   'LY',\n   'TJ',\n   'VE',\n   'ET',\n   'XK'],\n  'disc_number': 1,\n  'duration_ms': 151893,\n  'episode': False,\n  'explicit': False,\n  'external_ids': {'isrc': 'USGF19960706'},\n  'external_urls': {'spotify': 'https://open.spotify.com/track/5gRcv46AMTrosmTOqrOV3Q'},\n  'href': 'https://api.spotify.com/v1/tracks/5gRcv46AMTrosmTOqrOV3Q',\n  'id': '5gRcv46AMTrosmTOqrOV3Q',\n  'is_local': False,\n  'name': 'Dumb',\n  'popularity': 77,\n  'preview_url': None,\n  'track': True,\n  'track_number': 6,\n  'type': 'track',\n  'uri': 'spotify:track:5gRcv46AMTrosmTOqrOV3Q'},\n 'video_thumbnail': {'url': None}}"
     },
     "execution_count": 15,
     "metadata": {},
     "output_type": "execute_result"
    }
   ],
   "source": [
    "playlist_tracks.iloc[0]['items']"
   ]
  },
  {
   "cell_type": "markdown",
   "metadata": {
    "collapsed": false
   },
   "source": [
    "**First function:** Given the dataframe of tracks, return the Spotify song IDs.\n",
    "It seems like this wasn't truly necessary, after discovering the function I was trying to build with this data already existed on the Encoding Music GitHub, but it was a useful experiment to try and get specific information from the dataframe.\n",
    "However, this can now be used to query the results of the `analyze_playlist` function based on specific song ids."
   ]
  },
  {
   "cell_type": "code",
   "execution_count": 16,
   "metadata": {
    "collapsed": false,
    "ExecuteTime": {
     "end_time": "2023-10-14T07:17:37.983438Z",
     "start_time": "2023-10-14T07:17:37.917268Z"
    }
   },
   "outputs": [
    {
     "name": "stdout",
     "output_type": "stream",
     "text": [
      "{'Dumb': '5gRcv46AMTrosmTOqrOV3Q', 'Creep': '70LcF31zb1H0PyJoS1Sx1r', 'Jerk': '065bY5WrLvI3NN9VCK0QLe', 'Son of a Bitch': '6Al4oITGudbYvcBzO65ah6', 'Dickhead': '25aNJcqUnZmEKBmPhW9I82', 'Snitch': '3sXaTInkrXe5YEaa6ZYr1S', 'Moron': '3OmhbyRDJDm1zhfVEV7d0w', 'Heartbreaker': '22ML0MuFKfw16WejbxsLOy', 'Jackass': '2UiUTpQkTCmE1OX6senl6j', 'Fucker': '2khc6kEG4eBvYN1GvR6R97'}\n"
     ]
    }
   ],
   "source": [
    "def get_song_ids(tracks: pd.DataFrame) -> dict:     # Parameter is a dataframe, output is a dict\n",
    "    \"\"\"Returns the Spotify song IDs contained in the playlist dataframe, matched with the song titles to make them easy to identify\"\"\"\n",
    "    song_ids = {}       # Empty dict to contain all outputted song ids\n",
    "    for track in tracks['items']:           # Iterate through tracks in dataframe\n",
    "        song_ids[track['track']['name']] = track['track']['id']          # add song id to list\n",
    "    return song_ids    # return song ids\n",
    "\n",
    "print(get_song_ids(playlist_tracks))"
   ]
  },
  {
   "cell_type": "markdown",
   "metadata": {
    "collapsed": false
   },
   "source": [
    "**Get music feature data!** This is needed to analyze the songs and determine similarity.\n",
    "\n",
    "*This code is taken from the EncodingMusic GitHub, in spotify_tools.py, but MODIFIED as follows:*\n",
    "\n",
    "* Previously, the index of every song in the dataframe was sequential (0, 1, 2, etc.)\n",
    "* This made it hard for me to query a specific audio feature for a track\n",
    "* So, I changed the code so that it the index becomes the track_id for a song\n",
    "* This means you can query based on track_id, which makes it easier to find specific data for a song\n",
    "* HOWEVER, I did not consider that playlists could contain several copies of the exact same song\n",
    "* I believe this now might pose errors if creating a dataframe for a playlist that contains the same song more than once\n",
    "* I'm not sure how I would want to resolve that\n",
    "\n",
    "**Problems Encountered**\n",
    "\n",
    "Ultimately, the difficult part of this lab has been figuring out how to work with Pandas. While ultimately the tasks are not overly complex, there are so many ways of retrieving data that the syntax for doing so is rather convoluted. I've encountered countless error messages so far related to querying data in the wrong way, which I did forget to record as I was encountering them. "
   ]
  },
  {
   "cell_type": "code",
   "execution_count": 17,
   "metadata": {
    "collapsed": false,
    "ExecuteTime": {
     "end_time": "2023-10-14T07:17:37.984049Z",
     "start_time": "2023-10-14T07:17:37.925937Z"
    }
   },
   "outputs": [],
   "source": [
    "def analyze_playlist(creator, playlist_id, spotipy_client):\n",
    "    playlist_features_list = [\"artist\", \"album\", \"track_name\",\n",
    "                              \"danceability\", \"energy\", \"key\", \"loudness\", \"mode\", \"speechiness\",\n",
    "                              \"instrumentalness\", \"liveness\", \"valence\", \"tempo\", \"duration_ms\", \"time_signature\"] # removed track_id\n",
    "    playlist_df = pd.DataFrame(columns=playlist_features_list)\n",
    "\n",
    "    playlist_features = {}\n",
    "\n",
    "    playlist = spotipy_client.user_playlist_tracks(creator, playlist_id)[\"items\"]\n",
    "    for track in playlist:\n",
    "        playlist_features[\"artist\"] = track[\"track\"][\"album\"][\"artists\"][0][\"name\"]\n",
    "        playlist_features[\"album\"] = track[\"track\"][\"album\"][\"name\"]\n",
    "        playlist_features[\"track_name\"] = track[\"track\"][\"name\"]\n",
    "        playlist_features[\"track_id\"] = track[\"track\"][\"id\"]\n",
    "\n",
    "        audio_features = spotipy_client.audio_features(playlist_features[\"track_id\"])[0]\n",
    "        for feature in playlist_features_list[3:]: # changed from 4 to 3 to fix error caused by removing track_id from list of features\n",
    "            playlist_features[feature] = audio_features[feature]\n",
    "\n",
    "        track_df = pd.DataFrame(playlist_features, index=[playlist_features['track_id']]) # changed index from automatically being 0 to being the track_id\n",
    "        playlist_df = pd.concat([playlist_df, track_df], ignore_index=False) # changed ignore_index from True to False\n",
    "\n",
    "    return playlist_df"
   ]
  },
  {
   "cell_type": "markdown",
   "metadata": {
    "collapsed": false
   },
   "source": [
    "I needed to test what how I could query the data returned from this function:"
   ]
  },
  {
   "cell_type": "code",
   "execution_count": 18,
   "metadata": {
    "collapsed": false,
    "ExecuteTime": {
     "end_time": "2023-10-14T07:17:39.108155Z",
     "start_time": "2023-10-14T07:17:37.931704Z"
    }
   },
   "outputs": [
    {
     "name": "stderr",
     "output_type": "stream",
     "text": [
      "/var/folders/24/qxr9c06j19gcvdhrn3t51m000000gn/T/ipykernel_88185/3211627563.py:21: FutureWarning: The behavior of DataFrame concatenation with empty or all-NA entries is deprecated. In a future version, this will no longer exclude empty or all-NA columns when determining the result dtypes. To retain the old behavior, exclude the relevant entries before the concat operation.\n",
      "  playlist_df = pd.concat([playlist_df, track_df], ignore_index=False) # changed ignore_index from True to False\n"
     ]
    },
    {
     "name": "stdout",
     "output_type": "stream",
     "text": [
      "                                              artist  \\\n",
      "5gRcv46AMTrosmTOqrOV3Q                       Nirvana   \n",
      "70LcF31zb1H0PyJoS1Sx1r                     Radiohead   \n",
      "065bY5WrLvI3NN9VCK0QLe                   Oliver Tree   \n",
      "6Al4oITGudbYvcBzO65ah6                         Kyuss   \n",
      "25aNJcqUnZmEKBmPhW9I82                     Kate Nash   \n",
      "3sXaTInkrXe5YEaa6ZYr1S                     Lil Wayne   \n",
      "3OmhbyRDJDm1zhfVEV7d0w             The Murderburgers   \n",
      "22ML0MuFKfw16WejbxsLOy                   Pat Benatar   \n",
      "2UiUTpQkTCmE1OX6senl6j                     Green Day   \n",
      "2khc6kEG4eBvYN1GvR6R97  The Brian Jonestown Massacre   \n",
      "\n",
      "                                           album      track_name  \\\n",
      "5gRcv46AMTrosmTOqrOV3Q                  In Utero            Dumb   \n",
      "70LcF31zb1H0PyJoS1Sx1r               Pablo Honey           Creep   \n",
      "065bY5WrLvI3NN9VCK0QLe         Ugly is Beautiful            Jerk   \n",
      "6Al4oITGudbYvcBzO65ah6                    Wretch  Son of a Bitch   \n",
      "25aNJcqUnZmEKBmPhW9I82            Made of Bricks        Dickhead   \n",
      "3sXaTInkrXe5YEaa6ZYr1S                Tha Carter          Snitch   \n",
      "3OmhbyRDJDm1zhfVEV7d0w     How to Ruin Your Life           Moron   \n",
      "22ML0MuFKfw16WejbxsLOy  In The Heat Of The Night    Heartbreaker   \n",
      "2UiUTpQkTCmE1OX6senl6j                   Warning         Jackass   \n",
      "2khc6kEG4eBvYN1GvR6R97      Take It From The Man          Fucker   \n",
      "\n",
      "                        danceability  energy key  loudness mode  speechiness  \\\n",
      "5gRcv46AMTrosmTOqrOV3Q         0.697   0.395   6   -13.580    1       0.0281   \n",
      "70LcF31zb1H0PyJoS1Sx1r         0.515   0.430   7    -9.935    1       0.0372   \n",
      "065bY5WrLvI3NN9VCK0QLe         0.521   0.707   9    -4.101    0       0.0428   \n",
      "6Al4oITGudbYvcBzO65ah6         0.456   0.700   5   -13.014    1       0.0464   \n",
      "25aNJcqUnZmEKBmPhW9I82         0.735   0.508  11    -8.129    0       0.1400   \n",
      "3sXaTInkrXe5YEaa6ZYr1S         0.844   0.723   6    -4.114    0       0.2830   \n",
      "3OmhbyRDJDm1zhfVEV7d0w         0.530   0.978   0    -4.324    1       0.0629   \n",
      "22ML0MuFKfw16WejbxsLOy         0.466   0.588   5   -10.666    0       0.0812   \n",
      "2UiUTpQkTCmE1OX6senl6j         0.509   0.954   7    -2.903    1       0.0348   \n",
      "2khc6kEG4eBvYN1GvR6R97         0.242   0.653   0    -6.012    1       0.0332   \n",
      "\n",
      "                        instrumentalness  liveness  valence    tempo  \\\n",
      "5gRcv46AMTrosmTOqrOV3Q          0.653000    0.1730    0.876  113.589   \n",
      "70LcF31zb1H0PyJoS1Sx1r          0.000133    0.1290    0.104   91.844   \n",
      "065bY5WrLvI3NN9VCK0QLe          0.000164    0.2270    0.298  159.824   \n",
      "6Al4oITGudbYvcBzO65ah6          0.046900    0.1820    0.471  101.023   \n",
      "25aNJcqUnZmEKBmPhW9I82          0.000002    0.1140    0.518   84.931   \n",
      "3sXaTInkrXe5YEaa6ZYr1S          0.000000    0.2260    0.625  102.907   \n",
      "3OmhbyRDJDm1zhfVEV7d0w          0.000000    0.3270    0.537  125.961   \n",
      "22ML0MuFKfw16WejbxsLOy          0.000010    0.0535    0.882  156.131   \n",
      "2UiUTpQkTCmE1OX6senl6j          0.000000    0.0888    0.575   94.481   \n",
      "2khc6kEG4eBvYN1GvR6R97          0.000000    0.5390    0.373   78.733   \n",
      "\n",
      "                       duration_ms time_signature                track_id  \n",
      "5gRcv46AMTrosmTOqrOV3Q      151893              4  5gRcv46AMTrosmTOqrOV3Q  \n",
      "70LcF31zb1H0PyJoS1Sx1r      238640              4  70LcF31zb1H0PyJoS1Sx1r  \n",
      "065bY5WrLvI3NN9VCK0QLe      135021              4  065bY5WrLvI3NN9VCK0QLe  \n",
      "6Al4oITGudbYvcBzO65ah6      363307              4  6Al4oITGudbYvcBzO65ah6  \n",
      "25aNJcqUnZmEKBmPhW9I82      223000              4  25aNJcqUnZmEKBmPhW9I82  \n",
      "3sXaTInkrXe5YEaa6ZYr1S      235973              4  3sXaTInkrXe5YEaa6ZYr1S  \n",
      "3OmhbyRDJDm1zhfVEV7d0w      104450              4  3OmhbyRDJDm1zhfVEV7d0w  \n",
      "22ML0MuFKfw16WejbxsLOy      209360              4  22ML0MuFKfw16WejbxsLOy  \n",
      "2UiUTpQkTCmE1OX6senl6j      163040              4  2UiUTpQkTCmE1OX6senl6j  \n",
      "2khc6kEG4eBvYN1GvR6R97      132400              4  2khc6kEG4eBvYN1GvR6R97  \n",
      "0.173\n",
      "<class 'numpy.float64'>\n",
      "0.173\n"
     ]
    }
   ],
   "source": [
    "df = analyze_playlist(creator_id, playlist_id, sp)\n",
    "print(df)\n",
    "print(df.at['5gRcv46AMTrosmTOqrOV3Q', 'liveness'])\n",
    "print(type(df.at['5gRcv46AMTrosmTOqrOV3Q', 'liveness']))\n",
    "x = df.loc['5gRcv46AMTrosmTOqrOV3Q']\n",
    "got = x.get('liveness')\n",
    "print(got)"
   ]
  },
  {
   "cell_type": "markdown",
   "metadata": {
    "collapsed": false
   },
   "source": [
    "# THE BIG ONE #\n",
    "\n",
    "This is work towards my SpotiPy project.\n",
    "\n",
    "While we ultimately aim to relate people, this code ultimately outputs a scalar telling you how similar 2 songs are.\n",
    "The main function is `similarity_scalar(...)`:\n",
    " `similarity_scalar(song_id_1, song_id_2, playlist_dataframe)`\n",
    " \n",
    "To explain how the value is computed, I can walk through the code:\n",
    "1. First, in `similarity_dict(...)`:\n",
    "    * Audio feature data is stored in a dictionary for each track\n",
    "    * The difference between the values for each feature is computed\n",
    "        * So, a small number for `valence` indicates 2 tracks have very similar valence, while a large number indicates very different valence\n",
    "        * For scalar features (those measured from 1-0), this is a simple process\n",
    "        * Some features just need to be translated to a different scale (e.g. `loudness` can be transposed from a -60 to 0 scale to a 0 to 1 scale)\n",
    "        * For comparing keys, a more complicated algorithm is needed to account for similar keys (see `compare_keys(...)`)\n",
    "    * The output is a dictionary where each entry is measures how similar a feature is, for example `'valence': 0.03` indicates similar valence\n",
    "2. Then, in `similarity_scalar_from_dict(...)`:\n",
    "    * The dictionary resulting from `similarity_dict(...)` is taken as an input\n",
    "    * Every difference between similarities is summed\n",
    "    * This number is divided by the total number of audio features (we use 9)\n",
    "    * The result is a number between 0-1, where 0 represents identical, and 1 represents completely different\n",
    "    * However, we want 1 to represent identical, and 0 to represent completely different, so we invert this scale (subtracting the number we got before from 1)\n",
    "3. Finally, in `similarity_scalar(...)`:\n",
    "    * This function is the exact same as `similarity_scalar_from_dict(...)`, it just takes song IDs and the playlist dataframe as inputs\n",
    "    * This means you only need to use one function to get the data you want\n",
    "    * It inputs the parameters into `similarity_dict(...)` and `similarity_scalar_from_dict(...)`, and returns the result\n",
    "\n",
    "The functions `similarity_scalar_from_dict(...)` and `similarity_scalar(...)` have one more important characteristic:\n",
    "\n",
    "### AUDIO FEATURE WEIGHTING ###\n",
    "\n",
    "For various reasons, we might decide that not all every Spotify audio feature should be weighted equally when comparing tracks. For example, is `instrumentalness` really as important as `valence`?\n",
    "\n",
    "While the `similarity_scalar` methods by default treat all audio features equally, you can use optional parameters to customize the weighting of each audio feature. The default weight is 1. So if you wanted to prioritize `valence`, and de-emphasize `mode`, you could write:\n",
    "`similarity_scalar(song_id_1, song_id_2, playlist_dataframe, valence=3, mode=0)`\n",
    "This would weight valence 3 times as much as every other audio feature. This can be a float, like 0.5, or even 0.\n",
    "\n",
    "The code for this is somewhat unclean, because it uses error handling. Partially because I wanted to experiment with it, this method uses **kwargs. The code assumes the user has given a custom parameter for every audio feature, and handles the KeyError that occurs whenever they haven't. It works by multiplying the similarity difference for a feature by its weight before adding it to the total similarity difference for 2 tracks. The resulting sum is then divided by the sum of all the weights combined.\n",
    "\n",
    "The better way to do this would be to include an optional, default parameter in the method definition for each possible audio feature. This is better because it eliminates the need for error handling, and, makes it possible to set type hints for weights, and gives more useful errors (if you try to set an audio feature that doesn't exist, you'll get an error, and if you set it to an invalid value, you'll know more easily).\n",
    "\n",
    "#### Next Steps ####\n",
    "The natural next step is writing a function to compare all the songs in a playlist to each other. However, since this increases the amount of data crunching by an order of magnitude, I am curious (if not concerned) about how long this might take, especially since our initial plan is comparing every song to each other in order to relate people. With 72 playlists * 10 songs = 720 songs, that's (720(720 + 1))/2 = 259,560 song comparisons, each of which has at least O(n^2) runtime. I'm curious how long that might take.\n",
    "\n",
    "Since each playlist is a dataframe, we would also need to create a dataframe containing each playlist dataframe."
   ]
  },
  {
   "cell_type": "code",
   "execution_count": 19,
   "metadata": {
    "collapsed": false,
    "ExecuteTime": {
     "end_time": "2023-10-14T07:17:40.278162Z",
     "start_time": "2023-10-14T07:17:39.121732Z"
    }
   },
   "outputs": [
    {
     "name": "stderr",
     "output_type": "stream",
     "text": [
      "/var/folders/24/qxr9c06j19gcvdhrn3t51m000000gn/T/ipykernel_88185/3211627563.py:21: FutureWarning: The behavior of DataFrame concatenation with empty or all-NA entries is deprecated. In a future version, this will no longer exclude empty or all-NA columns when determining the result dtypes. To retain the old behavior, exclude the relevant entries before the concat operation.\n",
      "  playlist_df = pd.concat([playlist_df, track_df], ignore_index=False) # changed ignore_index from True to False\n"
     ]
    },
    {
     "name": "stdout",
     "output_type": "stream",
     "text": [
      "{'danceability': 0.279, 'energy': 0.05399999999999994, 'instrumentalness': 0.000164, 'liveness': 0.31200000000000006, 'valence': 0.07500000000000001, 'loudness': 0.03184999999999999, 'tempo': 0.5792214285714287, 'key': 0.0, 'mode': 1.0}\n",
      "{'danceability': 0.0, 'energy': 0.0, 'instrumentalness': 0.0, 'liveness': 0.0, 'valence': 0.0, 'loudness': 0.0, 'tempo': 0.0, 'key': 0.0, 'mode': 0.0}\n",
      "0.7409738412698412\n",
      "0.9986764203939416\n",
      "1.0\n"
     ]
    }
   ],
   "source": [
    "def compare_keys(key1: int, mode1: int, key2: int, mode2: int) -> float:\n",
    "    \"\"\"Returns whether the key of 2 tracks is similar based on the circle of fifths\"\"\"\n",
    "    # Similar means similar audio feature values. Thus returning 0 means very similar, and 1 means very different.\n",
    "    if key1 == key2 and mode1 == mode2:\n",
    "        return 0.0\n",
    "    if mode1 == 0 and key2 == (key1 + 3) % 12 and mode2 == 1:      # The modulo by 12 accounts for cases where key + 3 > 11\n",
    "        return 0.0\n",
    "    if mode1 == 1 and key2 == (key1 - 3) % 12 and mode2 == 0:      # The modulo by 12 accounts for cases where key - 3 < 0\n",
    "        return 0.0\n",
    "    return 1.0\n",
    "\n",
    "\n",
    "def similarity_dict(id1: str, id2: str, playlist_df: pd.DataFrame) -> dict:\n",
    "    \"\"\"Returns a dictionary with the similarity of each audio feature for the 2 given tracks. Smaller numbers mean more similar.\"\"\"\n",
    "    similarities = {}\n",
    "    \n",
    "    # A list of features to compare:\n",
    "    features = ['danceability', 'energy', 'instrumentalness', 'liveness', 'valence', 'loudness', 'tempo', 'key', 'mode']\n",
    "    \n",
    "    track1 = playlist_df.loc[id1] # variable containing all feature data from track 1\n",
    "    track2 = playlist_df.loc[id2] # variable containing all feature data from track 2\n",
    "    \n",
    "    # Store all music feature data in dictionary form:\n",
    "    # The important part of this code is converting everything to a number (not a string) that can be manipulated\n",
    "    track1_features = {}\n",
    "    track2_features = {}\n",
    "    for feature in features:\n",
    "        track1_features[feature] = track1.get(feature)\n",
    "        track2_features[feature] = track2.get(feature)\n",
    "    \n",
    "    feature_similarities = {}\n",
    "    for feature in features:\n",
    "        if feature not in ['loudness', 'tempo', 'mode', 'key']:     # these features aren't stored as scalars, meaning their comparisons need to be handled differently\n",
    "            # Compute the difference between the feature data for each track\n",
    "            feature_similarities[feature] = abs(track1_features[feature] - track2_features[feature])\n",
    "            \n",
    "        if feature == 'loudness':\n",
    "            feature_similarities[feature] = abs(track1_features[feature] - track2_features[feature]) * (1/60)  # loudness is stored -60 to 0, this converts the difference to a positive scalar\n",
    "            # In rare cases, loudness falls outside the -60 to 0 range. If so, the code to scale down the difference between loudness to a scalar might result in a value over 1.\n",
    "            # This code caps the maximum amount of difference at 1 - in other words, tracks that have over 60 dB of loudness difference are treated as having 60 dB of loudness difference.\n",
    "            if feature_similarities[feature] > 1:\n",
    "                feature_similarities[feature] = 1\n",
    "                \n",
    "        if feature == 'tempo':\n",
    "            # Tempo is measured in BPM. This could be any positive integer, but most are within a range of 40-200 BPM.\n",
    "            # For the purpose of comparison, tracks under 40 BPM are treated as having a BPM of 40. Tracks over 200 are treated as having a BPM of 200.\n",
    "            # Thus, the maximum difference is 160, and the minimum is 0.\n",
    "            # So to convert to a scalar, the difference between BPM is divided by 160.\n",
    "            if track1_features[feature] < 40:\n",
    "                track1_features[feature] = 40\n",
    "            if track1_features[feature] > 200:\n",
    "                track1_features[feature] = 200\n",
    "            if track2_features[feature] < 40:\n",
    "                track2_features[feature] = 40\n",
    "            if track2_features[feature] > 200:\n",
    "                track2_features[feature] = 200\n",
    "            \n",
    "            feature_similarities[feature] = abs(track1_features[feature] - track2_features[feature]) * (1/140)\n",
    "            \n",
    "        if feature == 'key':\n",
    "            feature_similarities[feature] = compare_keys(track1_features['key'], track1_features['mode'], track2_features['key'], track2_features['mode'])\n",
    "        \n",
    "        if feature == 'mode':\n",
    "            feature_similarities[feature] = float(abs(track1_features[feature] - track2_features[feature]))     # converted to float (from int) for uniformity, no practical effect\n",
    "    \n",
    "    return feature_similarities\n",
    "\n",
    "\n",
    "def similarity_scalar_from_dict(feature_similarities: dict, **weights) -> float:\n",
    "    \"\"\"\n",
    "    Returns a scalar from 0-1 that tells you how similar 2 songs are based on a mash-up of their audio features.\n",
    "    By default, each audio feature is weighted equally in comparison (weight = 1). However, you can include a parameter for any audio feature you want.\n",
    "    Setting this value to 0, for example, will give that feature no weight. Setting it to 4 will make that feature 4x as important as every other feature.\n",
    "    Example usages:\n",
    "        similarity_scalar(feature_similarities)\n",
    "        similarity_scalar(feature_similarities, valence=4)\n",
    "        similarity_scalar(feature_similarities, valence=4, mode=0, key=10)\n",
    "    \"\"\"\n",
    "    \n",
    "    # The scalar is computed as an average of all the similarities.\n",
    "    total = 0                                                           # Stores the current sum of similarity differences\n",
    "    total_weight = len(feature_similarities)                            # Stores the current sum of weights, by default = number of features * 1\n",
    "    for similarity in feature_similarities.items():                     # Iterate through all audio features given (.items() iterates a tuple: (feature, similarity))\n",
    "        try:                                                            # Act as if there's a given weight for this feature. Try to compute that.\n",
    "            total += similarity[1] * weights[similarity[0]]             # Add this similarity times its special weight to the sum of similarities.\n",
    "            total_weight += weights[similarity[0]]                      # Add the weight to the total weight. The sum of similarities is divided by this number.\n",
    "        except KeyError:                                                # Base case: no weight was given for this feature\n",
    "            total += similarity[1]                                      # Add the similarity for this feature to the total similarity variable\n",
    "    \n",
    "    # Divide the total similarity variable by the number of features\n",
    "    # Changing weights of features essentially changes the number of features\n",
    "    # In the data, 2 identical songs have a similarity average of 0.\n",
    "    # However, it makes intuitive sense for similarity to be measured as 1 = identical, and 0 = completely different.\n",
    "    # Hence, the value is inverted:\n",
    "    return 1 - (total / total_weight)\n",
    "\n",
    "\n",
    "def similarity_scalar(id1: str, id2: str, playlist_df: pd.DataFrame, **weights) -> float:\n",
    "    \"\"\"\n",
    "    Overloads the similarity_scalar function to just take song ids and optional feature weights\n",
    "    But since function overloading isn't a thing in Python (why???) they're actually different functions.\n",
    "    \"\"\"\n",
    "    return similarity_scalar_from_dict(similarity_dict(id1, id2, playlist_df), **weights)\n",
    "\n",
    "# Since we already wrote a function that returns a dictionary associating a song title with its ID, we'll use that\n",
    "song_ids = get_song_ids(playlist_tracks)\n",
    "# We need to analyze the playlist:\n",
    "playlist_df = analyze_playlist(creator_id, playlist_id, sp)\n",
    "# Compare 2 songs with matching keys based on circle of fifths:\n",
    "comp1 = similarity_dict(song_ids['Fucker'], song_ids['Jerk'], playlist_df)\n",
    "# Compare a song to itself:\n",
    "comp2 = similarity_dict(song_ids['Dumb'], song_ids['Dumb'], playlist_df)\n",
    "\n",
    "# See comparison breakdowns:\n",
    "print(comp1)\n",
    "print(comp2)\n",
    "\n",
    "# See similarity scalars:\n",
    "print(similarity_scalar(song_ids['Fucker'], song_ids['Jerk'], playlist_df))     # A scalar for comp1 from before\n",
    "print(similarity_scalar(song_ids['Fucker'], song_ids['Jerk'], playlist_df, instrumentalness=2000))      # Weight instrumentalness 2000x more important than everything else.\n",
    "print(similarity_scalar(song_ids['Dumb'], song_ids['Dumb'], playlist_df))       # A scalar for comp2 from before"
   ]
  },
  {
   "cell_type": "markdown",
   "metadata": {
    "collapsed": false
   },
   "source": [
    "## What does any of this mean?\n",
    "\n",
    "To get a sense of how this working so far, I want to compare songs that I think are similar. For example, Green Day's Jackass and Pat Benatar's Heartbreaker seem like they would be ~fairly~ similar based on cursory listens. What does the function say?"
   ]
  },
  {
   "cell_type": "code",
   "execution_count": 20,
   "metadata": {
    "collapsed": false,
    "ExecuteTime": {
     "end_time": "2023-10-14T07:17:40.281756Z",
     "start_time": "2023-10-14T07:17:40.273753Z"
    }
   },
   "outputs": [
    {
     "data": {
      "text/plain": "0.6309943982010582"
     },
     "execution_count": 20,
     "metadata": {},
     "output_type": "execute_result"
    }
   ],
   "source": [
    "similarity_scalar(song_ids['Jackass'], song_ids['Heartbreaker'], playlist_df)"
   ]
  },
  {
   "cell_type": "markdown",
   "metadata": {
    "collapsed": false
   },
   "source": [
    "0.63! That seems to makes sense - they might be correlated, but not too strongly. What if I de-emphasize some of the features I think might be causing them to be more different, and emphasize more similar ones?"
   ]
  },
  {
   "cell_type": "code",
   "execution_count": 21,
   "metadata": {
    "collapsed": false,
    "ExecuteTime": {
     "end_time": "2023-10-14T07:17:40.292919Z",
     "start_time": "2023-10-14T07:17:40.286240Z"
    }
   },
   "outputs": [
    {
     "data": {
      "text/plain": "0.861699469540518"
     },
     "execution_count": 21,
     "metadata": {},
     "output_type": "execute_result"
    }
   ],
   "source": [
    "similarity_scalar(song_ids['Jackass'], song_ids['Heartbreaker'], playlist_df, energy=2, tempo=0.25, key=0, mode=0, valence=3)"
   ]
  },
  {
   "cell_type": "markdown",
   "metadata": {
    "collapsed": false
   },
   "source": [
    "Again, that seems to make sense - the songs are more similar when we focus on their subjectively similar characteristics.\n",
    "\n",
    "What about two songs that have very different styles, Lil Wayne's Snitch and The Bryan Jonestown Massacre's F**ker?"
   ]
  },
  {
   "cell_type": "code",
   "execution_count": 22,
   "metadata": {
    "collapsed": false,
    "ExecuteTime": {
     "end_time": "2023-10-14T07:17:40.350808Z",
     "start_time": "2023-10-14T07:17:40.298558Z"
    }
   },
   "outputs": [
    {
     "data": {
      "text/plain": "0.6176328042328042"
     },
     "execution_count": 22,
     "metadata": {},
     "output_type": "execute_result"
    }
   ],
   "source": [
    "similarity_scalar(song_ids['Snitch'], song_ids['Fucker'], playlist_df)"
   ]
  },
  {
   "cell_type": "markdown",
   "metadata": {
    "collapsed": false
   },
   "source": [
    "I wouldn't have considered these two songs as similar as Jackass and Heartbreaker, yet they return a similar value. So either the default weighting needs to be adjusted (because the weights should be the same for every comparison!), or this isn't a very effective way to compare songs...\n",
    "\n",
    "More to do!"
   ]
  },
  {
   "cell_type": "markdown",
   "metadata": {
    "collapsed": false
   },
   "source": [
    "## Things I still want to explore:\n",
    "* Visualizing data that is collected\n",
    "* Using numpy to analyze data\n",
    "* Merging dataframes with Pandas, and the other powers of Pandas\n",
    "* What are Louvain communities, and how can they be used?\n",
    "* Using the NetworkX library\n",
    "* Become more comfortable using Pandas directly - I felt it was necessary to translate the data into a dictionary to work with it efficiently"
   ]
  }
 ],
 "metadata": {
  "colab": {
   "provenance": []
  },
  "kernelspec": {
   "display_name": "Python 3 (ipykernel)",
   "language": "python",
   "name": "python3"
  },
  "language_info": {
   "codemirror_mode": {
    "name": "ipython",
    "version": 3
   },
   "file_extension": ".py",
   "mimetype": "text/x-python",
   "name": "python",
   "nbconvert_exporter": "python",
   "pygments_lexer": "ipython3",
   "version": "3.10.8"
  }
 },
 "nbformat": 4,
 "nbformat_minor": 4
}
