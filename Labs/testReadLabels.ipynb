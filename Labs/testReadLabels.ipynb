{
 "cells": [
  {
   "cell_type": "code",
   "execution_count": 5,
   "id": "initial_id",
   "metadata": {
    "collapsed": true,
    "ExecuteTime": {
     "end_time": "2023-12-20T03:38:10.495272Z",
     "start_time": "2023-12-20T03:38:10.490110Z"
    }
   },
   "outputs": [
    {
     "name": "stdout",
     "output_type": "stream",
     "text": [
      "Jazz\n",
      "World Music\n",
      "Dance\n",
      "Pop Music\n",
      "Rhythm And Blues\n",
      "Soul Music\n",
      "Theater\n",
      "Comedy\n",
      "Opera\n",
      "Cabaret\n",
      "Rock Music\n",
      "Folk Music\n",
      "Politics\n",
      "Gospel Music\n",
      "Country Music\n",
      "Bossa Nova\n",
      "Jazz Fusion\n",
      "Blues\n",
      "Gaelic Music\n",
      "Country Rock Music\n",
      "Bluegrass\n",
      "Musical Theater\n",
      "Calypso Music\n",
      "New Age Music\n",
      "Spoken Word\n",
      "Afro-Cuban Jazz\n",
      "Rumba Music\n",
      "Latin Jazz\n",
      "Funk\n",
      "Flamenco Music\n",
      "Hip-Hop\n",
      "Disco Music\n",
      "Salsa Music\n",
      "Mambo Music\n",
      "Rap\n",
      "Fado\n",
      "Mbalax\n",
      "Vaudeville\n",
      "Afrobeat\n",
      "Klezmer Music\n",
      "Mariachi Music\n",
      "Actual Play\n",
      "Merengue Music\n",
      "Techno\n",
      "Cajun Music\n",
      "Champeta Criolla Music\n",
      "Son Music\n",
      "Kwaito\n",
      "Reggae\n",
      "Capoeira Music\n",
      "Candomblé Music\n",
      "Samba De Roda\n",
      "Bomba\n",
      "Plena\n",
      "Compas Music\n",
      "Champeta Music\n"
     ]
    }
   ],
   "source": [
    "import pandas as pd\n",
    "\n",
    "df = pd.read_csv('genreLabels_list.csv')\n",
    "\n",
    "for item in df['Genre']:\n",
    "    print(item)"
   ]
  },
  {
   "cell_type": "code",
   "execution_count": null,
   "outputs": [],
   "source": [],
   "metadata": {
    "collapsed": false
   },
   "id": "2c33f17fda8b60bc"
  }
 ],
 "metadata": {
  "kernelspec": {
   "display_name": "Python 3",
   "language": "python",
   "name": "python3"
  },
  "language_info": {
   "codemirror_mode": {
    "name": "ipython",
    "version": 2
   },
   "file_extension": ".py",
   "mimetype": "text/x-python",
   "name": "python",
   "nbconvert_exporter": "python",
   "pygments_lexer": "ipython2",
   "version": "2.7.6"
  }
 },
 "nbformat": 4,
 "nbformat_minor": 5
}
