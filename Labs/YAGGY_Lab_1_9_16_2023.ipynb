{
 "cells": [
  {
   "cell_type": "markdown",
   "source": [
    "# MyFirstNotebook\n",
    "### Owen Yaggy\n",
    "### 9/16/23\n",
    "### MUSC H255"
   ],
   "metadata": {
    "collapsed": false
   },
   "id": "cb7f301cc6afebdf"
  },
  {
   "cell_type": "markdown",
   "source": [
    "**Step 1:** Create a list of songs. Each song is stored as a dictionary with all of its metadata."
   ],
   "metadata": {
    "collapsed": false
   },
   "id": "7471f8e31de7c693"
  },
  {
   "cell_type": "code",
   "execution_count": 126,
   "outputs": [],
   "source": [
    "music = [\n",
    "    {\n",
    "        'title': 'Welcome Home, Son',\n",
    "        'length': 287,\n",
    "        'artists': ['Radical Face'],\n",
    "        'composers': ['Ben Cooper'],\n",
    "        'producers': ['Ben Cooper'],\n",
    "        'performers': ['Ben Cooper'],\n",
    "        'album': 'Ghost',\n",
    "        'album_pos': 2,\n",
    "        'album_track_count': 11,\n",
    "        'label': 'Bear Machine',\n",
    "        'spotify_link': 'https://open.spotify.com/track/6HTVZeVQ9J6Uiq6tHESxU9?si=3019ebc3ce7f444e',\n",
    "        'spotify_id': '3019ebc3ce7f444e',\n",
    "    },\n",
    "    {\n",
    "        'title': 'Australia',\n",
    "        'length': 236,\n",
    "        'artists': ['The Shins'],\n",
    "        'composers': ['James Mercer'],\n",
    "        'producers': ['Phil Ek', 'Joe Chiccarelli', 'James Mercer'],\n",
    "        'performers': ['James Mercer', 'Yuuki Matthews', 'Mark Watrous', 'Jon Sortland', 'Patti King'],\n",
    "        'album': 'Ghost',\n",
    "        'album_pos': 2,\n",
    "        'album_track_count': 11,\n",
    "        'label': 'Sub Pop Records',\n",
    "        'spotify_link': 'https://open.spotify.com/track/47TQjzeG4KI0XWWb0wkbri?si=d674fb28d7da497b',\n",
    "        'spotify_id': 'd674fb28d7da497b',\n",
    "    },\n",
    "    {\n",
    "        'title': \"A Children's Crusade on Acid\",\n",
    "        'length': 250,\n",
    "        'artists': ['Margot and the Nuclear So and So\\'s'],\n",
    "        'composers': ['Richard Edwards'],\n",
    "        'producers': ['Brian Deck'],\n",
    "        'performers': ['Richard Edwards', 'Tyler Watkins', 'Heidi Gluck', 'Kenny Chiders', 'Ronnie Kwasman'],\n",
    "        'album': 'Not Animal',\n",
    "        'album_pos': 1,\n",
    "        'album_track_count': 12,\n",
    "        'label': 'Sony BMG Music Entertainment',\n",
    "        'spotify_link': 'https://open.spotify.com/track/2bSRSDvVXgXrKU78seeIji?si=1bcf0c54e0ea489b',\n",
    "        'spotify_id': '1bcf0c54e0ea489b',\n",
    "    }\n",
    "]"
   ],
   "metadata": {
    "collapsed": false,
    "ExecuteTime": {
     "end_time": "2023-09-16T13:23:18.525488Z",
     "start_time": "2023-09-16T13:23:18.476703Z"
    }
   },
   "id": "d404254b3e8eb4de"
  },
  {
   "cell_type": "markdown",
   "source": [
    "**Step 2:** ***<span style=\"color:olive\">Functions!</span>*** We need to create a series of functions that each accomplish different tasks with the data given in the dictionary `music`. These functions just return data - you can write code to print what it returns, but without that, they just work in the background."
   ],
   "metadata": {
    "collapsed": false
   },
   "id": "64eaf6f604d441a8"
  },
  {
   "cell_type": "code",
   "execution_count": 127,
   "outputs": [],
   "source": [
    "def song_titles(data: list=music) -> list:                              # data: list=music allows user to use any list of music they'd like, and provides type hint\n",
    "    \"\"\"Returns all songs in the given list. The list defaults to the one previously created.\"\"\"\n",
    "    songs = []                          # List to contain all songs\n",
    "    for song in data:                   # Iterate through songs\n",
    "        songs.append(song['title'])     # Add song title to song list\n",
    "    return songs                        # Return list of song titles\n",
    "\n",
    "def find_songs_by_composer(composer: str, data: list=music) -> list:\n",
    "    \"\"\"Returns all songs written by the given composer.\"\"\"\n",
    "    songs = []                          # List to contain songs by given composer\n",
    "    for song in data:                   # Iterate through songs\n",
    "        if composer in song['composers']:       # If current song written by given composer\n",
    "            songs.append(song['title'])         # Add current song to output list\n",
    "    return songs                        # Return list of songs\n",
    "\n",
    "def find_avg_performers(data: list=music) -> float:\n",
    "    \"\"\"Returns the average number of performers per song.\"\"\"\n",
    "    performers = []         # List to contain number of performers per song\n",
    "    for song in data:       # Iterate through songs\n",
    "        performers.append(len(song['performers']))              # Add the number of performers in current song to list\n",
    "    return round(sum(performers) / len(performers), 1)          # Return rounded average of number of performers per song\n",
    "\n",
    "def order_songs_by_length(data: list=music) -> list:\n",
    "    \"\"\"Returns a list of songs sorted from longest to shortest.\"\"\"\n",
    "    lengths = []        # List of lengths for each song\n",
    "    output = []         # Output list containing songs in order\n",
    "    for song in data:   # Iterate through songs\n",
    "        lengths.append(song['length'])      # Add length of song to a list\n",
    "    lengths.sort(reverse=True)              # Sort list in descending order\n",
    "    for length in lengths:                  # Iterate through list of lengths\n",
    "        for song in data:                   # Iterate through songs\n",
    "            if song['length'] == length and song['title'] not in output:            # If song has matching length and not already in output\n",
    "                output.append(song['title'])                                        # Add song to the output list\n",
    "    return output                           # Return the output list\n",
    "            "
   ],
   "metadata": {
    "collapsed": false,
    "ExecuteTime": {
     "end_time": "2023-09-16T13:23:18.545376Z",
     "start_time": "2023-09-16T13:23:18.488572Z"
    }
   },
   "id": "74b6908c98b28efc"
  },
  {
   "cell_type": "markdown",
   "source": [
    "**Step 3:** Use the functions! Now that functions are written to use the data in different ways, we can call them and see what they return. Often the data is returned in a \"messy\" format, for example, a list. More code would need to be written to remove the brackets, quotation marks, etc. that come with that."
   ],
   "metadata": {
    "collapsed": false
   },
   "id": "f425e601d68ed0e2"
  },
  {
   "cell_type": "code",
   "execution_count": 128,
   "outputs": [
    {
     "name": "stdout",
     "output_type": "stream",
     "text": [
      "['Welcome Home, Son', 'Australia', \"A Children's Crusade on Acid\"]\n"
     ]
    }
   ],
   "source": [
    "# Print all the songs in the given list\n",
    "print(song_titles())"
   ],
   "metadata": {
    "collapsed": false,
    "ExecuteTime": {
     "end_time": "2023-09-16T13:23:18.545735Z",
     "start_time": "2023-09-16T13:23:18.493708Z"
    }
   },
   "id": "7fdbb21396f06fbd"
  },
  {
   "cell_type": "code",
   "execution_count": 129,
   "outputs": [
    {
     "name": "stdout",
     "output_type": "stream",
     "text": [
      "[\"A Children's Crusade on Acid\"]\n"
     ]
    }
   ],
   "source": [
    "# Print all the songs written by Richard Edwards\n",
    "print(find_songs_by_composer('Richard Edwards'))"
   ],
   "metadata": {
    "collapsed": false,
    "ExecuteTime": {
     "end_time": "2023-09-16T13:23:18.545945Z",
     "start_time": "2023-09-16T13:23:18.501356Z"
    }
   },
   "id": "4f41040ec3c4a1d2"
  },
  {
   "cell_type": "code",
   "execution_count": 130,
   "outputs": [
    {
     "name": "stdout",
     "output_type": "stream",
     "text": [
      "3.7\n"
     ]
    }
   ],
   "source": [
    "# Print the average number of performers per song\n",
    "print(find_avg_performers())"
   ],
   "metadata": {
    "collapsed": false,
    "ExecuteTime": {
     "end_time": "2023-09-16T13:23:18.550283Z",
     "start_time": "2023-09-16T13:23:18.506081Z"
    }
   },
   "id": "47e1723f9b49c892"
  },
  {
   "cell_type": "code",
   "execution_count": 131,
   "outputs": [
    {
     "name": "stdout",
     "output_type": "stream",
     "text": [
      "['Welcome Home, Son', \"A Children's Crusade on Acid\", 'Australia']\n"
     ]
    }
   ],
   "source": [
    "# Print the songs in the given list, ordered from longest to shortest\n",
    "print(order_songs_by_length())"
   ],
   "metadata": {
    "collapsed": false,
    "ExecuteTime": {
     "end_time": "2023-09-16T13:23:18.550550Z",
     "start_time": "2023-09-16T13:23:18.512866Z"
    }
   },
   "id": "465eace17fa1d3e7"
  },
  {
   "cell_type": "markdown",
   "source": [
    "## Reflections\n",
    "* When working with larger datasets of songs, it will probably become more important to find good ways to distinguish songs with the same name/artist/composer/etc. to avoid errors.\n",
    "* Spotify does give songs unique IDs, but presumably it would be hard to integrate that system with the system on Naxos, for example.\n",
    "* Relying on a dictionary in which the keys are manually written could cause errors where dictionaries that are meant to correspond have keys that don't match. For example, if one dictionary has an `artist` key, and one has an `artists` key, that could cause data errors.\n",
    "* The Spotify API seems fairly simple to use, though I didn't integrate it here."
   ],
   "metadata": {
    "collapsed": false
   },
   "id": "5bcc091a8be3a41a"
  }
 ],
 "metadata": {
  "kernelspec": {
   "display_name": "Python 3",
   "language": "python",
   "name": "python3"
  },
  "language_info": {
   "codemirror_mode": {
    "name": "ipython",
    "version": 2
   },
   "file_extension": ".py",
   "mimetype": "text/x-python",
   "name": "python",
   "nbconvert_exporter": "python",
   "pygments_lexer": "ipython2",
   "version": "2.7.6"
  }
 },
 "nbformat": 4,
 "nbformat_minor": 5
}
