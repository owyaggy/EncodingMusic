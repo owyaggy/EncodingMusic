{
 "cells": [
  {
   "cell_type": "markdown",
   "id": "9b09b72b0a423052",
   "metadata": {},
   "source": [
    "## A query with optional results ##\n",
    "This allows the query to return a result even if it has certain attributes missing.\n",
    "This returns all of the data we're looking for.\n",
    "\n",
    "```PREFIX schema: <http://schema.org/>\n",
    "PREFIX rdfs: <http://www.w3.org/2000/01/rdf-schema#>\n",
    "PREFIX dcterms: <http://purl.org/dc/terms/>\n",
    "PREFIX skos: <http://www.w3.org/2004/02/skos/core#>\n",
    "PREFIX mo: <http://purl.org/ontology/mo/>\n",
    "\n",
    "SELECT *\n",
    "WHERE {\n",
    "\t?event a schema:Event .\n",
    "  \tOPTIONAL {\n",
    "    \t?event schema:startDate ?date .\n",
    "  \t}\n",
    "    OPTIONAL { ?event rdfs:label ?title . }\n",
    "  \tOPTIONAL {\n",
    "    \t?event mo:genre ?genre .\n",
    "  \t\tFILTER contains(str(?genre), \"http://data.carnegiehall.org/genres/\")\n",
    "  \t\tOPTIONAL { ?genre rdfs:label ?genreLabel . }\n",
    "  \t}\n",
    "    OPTIONAL {\n",
    "    \t?event schema:subEvent/schema:workPerformed ?workperformed .\n",
    "    \tOPTIONAL { ?workperformed rdfs:label ?work . }\n",
    "  \t\tOPTIONAL {\n",
    "    \t\t?workperformed dcterms:creator ?composer .\n",
    "      \tOPTIONAL { ?composer schema:name ?composerName . }\n",
    "  \t\t\tOPTIONAL {\n",
    "    \t\t\t?composer skos:exactMatch ?skos .\n",
    "    \t\t\tFILTER contains(str(?skos), \"wiki\") \n",
    "  \t\t\t}\n",
    "  \t\t}\n",
    "  \t}\n",
    "    # An optional filter to let us select the years for which we query performances:\n",
    "    # FILTER (year(?date) >= 1970 && year(?date) < 1980)\n",
    "}"
   ]
  },
  {
   "cell_type": "markdown",
   "id": "329c1f83",
   "metadata": {
    "id": "329c1f83"
   },
   "source": [
    "# Run This"
   ]
  },
  {
   "cell_type": "code",
   "execution_count": 127,
   "id": "38b61b5d",
   "metadata": {
    "ExecuteTime": {
     "end_time": "2023-12-12T10:28:47.516499Z",
     "start_time": "2023-12-12T10:28:47.210160Z"
    },
    "id": "38b61b5d"
   },
   "outputs": [],
   "source": [
    "import pandas as pd\n",
    "import plotly.express as px\n",
    "import os\n",
    "\n",
    "# Also required:\n",
    "# • A csv with all the event data returned by the SPARQL query\n",
    "# • A csv with that matches the wikidata IDs for each composer to their nationality, from a previously-ran series of API calls"
   ]
  },
  {
   "cell_type": "markdown",
   "id": "60f08ee3",
   "metadata": {
    "id": "60f08ee3"
   },
   "source": [
    "# Run This"
   ]
  },
  {
   "cell_type": "code",
   "execution_count": 128,
   "id": "d6f36b50",
   "metadata": {
    "ExecuteTime": {
     "end_time": "2023-12-12T10:30:44.924024Z",
     "start_time": "2023-12-12T10:30:44.862577Z"
    },
    "id": "d6f36b50"
   },
   "outputs": [],
   "source": [
    "def add_to_event_info(column_name: str, item: str, event_df, base_df, row):\n",
    "    '''adds a particular attribute to the subdataframe'''\n",
    "\n",
    "    event_df[column_name] = base_df[base_df['event'] == row['event']][item]\n",
    "    return event_df\n",
    "\n",
    "def create_event_data(items_to_add, base_df, row):\n",
    "    event_data = pd.DataFrame()\n",
    "    for item in items_to_add:\n",
    "        event_data = add_to_event_info(item, item, event_data, base_df, row)\n",
    "    return event_data\n",
    "\n",
    "def cleaner(x, items_to_add):\n",
    "\n",
    "    x['event_data'] = [create_event_data(items_to_add, x, row) for index, row in x.iterrows()]\n",
    "\n",
    "    events = []\n",
    "    for index, row in x.iterrows():\n",
    "\n",
    "        # get rid of multiple rows for the same event\n",
    "        if row['event'] in events:\n",
    "            x = x.drop(index)\n",
    "        else:\n",
    "            events.append(row['event'])\n",
    "\n",
    "    # creates a year column\n",
    "    x['year'] = [int(date[:4]) for date in x['date']]\n",
    "\n",
    "    return x"
   ]
  },
  {
   "cell_type": "markdown",
   "id": "18e97636",
   "metadata": {
    "id": "18e97636"
   },
   "source": [
    "# Run This"
   ]
  },
  {
   "cell_type": "code",
   "execution_count": 216,
   "id": "eaea371c",
   "metadata": {
    "ExecuteTime": {
     "end_time": "2023-12-12T21:41:40.989846Z",
     "start_time": "2023-12-12T21:41:40.975076Z"
    },
    "id": "eaea371c"
   },
   "outputs": [],
   "source": [
    "def create_event_frequency_list(df, lookup_range, column, specific_value):\n",
    "    frequency_list = []\n",
    "    for year in lookup_range:\n",
    "\n",
    "        # if it has to do with works and not events (composer, nationality, etc)\n",
    "        if column in df['event_data'][0].columns:\n",
    "\n",
    "            # create smaller dataframe with events only in that year to simplify\n",
    "            sub_df = df[df['year'] == year].copy()\n",
    "            # print(sub_df['event_data'])\n",
    "\n",
    "            # create a boolean column for whether the specific value can be found in a work performed at that event\n",
    "            has_value = []\n",
    "            \n",
    "            # iterate through events in specific year\n",
    "            for index, row in sub_df.iterrows():\n",
    "                # isolate the entry in the column for the current event\n",
    "                important_column = sub_df['event_data'][index][column]\n",
    "                \n",
    "                # check if the desired value is present in the column entry\n",
    "                has_value.append(f\"{specific_value}\" in important_column.to_string())\n",
    "                if not True in has_value:\n",
    "                    print('column: ', type(important_column), important_column)\n",
    "                    print('search key: ', specific_value)\n",
    "                    print('#' * 50)\n",
    "            \n",
    "            sub_df[specific_value] = has_value\n",
    "#             sub_df[specific_value] = [specific_value in sub_df['event_data'][index][column].to_list() for index, row in sub_df.iterrows()]\n",
    "\n",
    "            # create the frequency list\n",
    "            try:    # if the desired event has occurred in this year, add the number of times it occured\n",
    "                frequency_list.append(sub_df.value_counts(specific_value).to_dict()[True])\n",
    "            except KeyError:    # if the desired event has not occurred in this year\n",
    "                frequency_list.append(0)\n",
    "\n",
    "#             # remove the extra column\n",
    "#             sub_df.drop(columns=[specific_value])\n",
    "\n",
    "        # if it has to do with events (genre, work, etc)\n",
    "        else:\n",
    "            attribute_counts = df[df['year'] == year].value_counts(column)\n",
    "                \n",
    "            # getting the count for the specific value\n",
    "            try:\n",
    "                frequency_list.append(attribute_counts[specific_value])\n",
    "            except KeyError:\n",
    "                frequency_list.append(0)\n",
    "\n",
    "    return frequency_list\n",
    "\n",
    "\n",
    "def make_bar_chart(df, column, specific_value, lookup_range=(0, 0)):\n",
    "    \"\"\"make a bar chart of the frequency of \"specific_value\", which is a value in \"column\" over \"lookup_range\" years\"\"\"\n",
    "    # Create a DataFrame for bar chart\n",
    "\n",
    "    # years is the x-axis\n",
    "    # this first if statement allows you to make the chart for a subset of the years\n",
    "    if lookup_range != (0, 0):\n",
    "        years = []\n",
    "        for year in range(lookup_range[0], lookup_range[1] + 1):\n",
    "            years.append(year)\n",
    "\n",
    "    else:\n",
    "        years = list(set(df['year'].to_list()))\n",
    "\n",
    "\n",
    "    # list of frequencies\n",
    "    frequency = create_event_frequency_list(df, years, column, specific_value)\n",
    "\n",
    "\n",
    "    bar_data = {'Years': years,\n",
    "                'frequency': frequency}\n",
    "    df_bar = pd.DataFrame(bar_data)\n",
    "\n",
    "    # The barchart with Plotly Express specifying the source df, the columns to use as x and y axes,\n",
    "    # labels to use for those axes, and an overall title for the figure\n",
    "\n",
    "    fig = px.bar(df_bar,\n",
    "                 x = 'Years', y= 'frequency',\n",
    "                 labels={'Years': 'Years', 'frequency': f'Performances of {column.title()}: {specific_value}'},\n",
    "                 title=f'Performances of {column.title()}: {specific_value} by Year',\n",
    "                )\n",
    "    # Set width and height in pixels\n",
    "    fig.update_layout(width=600, height=400)\n",
    "    fig.show()"
   ]
  },
  {
   "cell_type": "markdown",
   "id": "ce9db74f",
   "metadata": {
    "id": "ce9db74f"
   },
   "source": [
    "# Run this"
   ]
  },
  {
   "cell_type": "code",
   "execution_count": 178,
   "id": "83c9dda35fb9d7b6",
   "metadata": {
    "ExecuteTime": {
     "end_time": "2023-12-12T12:07:26.826516Z",
     "start_time": "2023-12-12T12:07:26.745729Z"
    }
   },
   "outputs": [],
   "source": [
    "def add_nationalities(input_df):\n",
    "    \"\"\"Combines nationality data csv and carnegie hall data csv together\"\"\"\n",
    "    input_df.insert(6, \"nationalities\", pd.Series(dtype=str))\n",
    "    \n",
    "    names_with_nationalities = pd.read_csv('CarnegieData/nationalities_new.csv')\n",
    "    \n",
    "    # Iterate through the dataframe, adding nationalities when possible\n",
    "    for index in input_df.index:\n",
    "        nationalities = names_with_nationalities.loc[names_with_nationalities['composer'] == input_df.loc[index, 'composer']]\n",
    "        nationalities = nationalities['nationalities']\n",
    "        nationalities = nationalities.get(nationalities.keys()[0])\n",
    "        try:\n",
    "            input_df.at[index, 'nationalities'] = nationalities\n",
    "        except KeyError:\n",
    "            print(input_df.loc[index])\n",
    "    \n",
    "    return input_df"
   ]
  },
  {
   "cell_type": "code",
   "execution_count": 205,
   "id": "5a2d5d24ffce91",
   "metadata": {
    "ExecuteTime": {
     "end_time": "2023-12-12T21:35:28.174870Z",
     "start_time": "2023-12-12T21:35:11.602196Z"
    }
   },
   "outputs": [],
   "source": [
    "df = pd.read_csv(\"CarnegieData/Events1900_2000_with_genre.csv\")\n",
    "# do this for whatever columns you want to add to the event dataframe (nationality, name or work performed, etc)\n",
    "# they just need to be the exact names\n",
    "items_to_add = ['workperformed', 'composerName', 'nationalities']\n",
    "\n",
    "df = add_nationalities(df)"
   ]
  },
  {
   "cell_type": "code",
   "execution_count": 206,
   "id": "e1fb4ef51c61741c",
   "metadata": {
    "ExecuteTime": {
     "end_time": "2023-12-12T21:38:04.700912Z",
     "start_time": "2023-12-12T21:35:29.763711Z"
    }
   },
   "outputs": [],
   "source": [
    "# This line of code is the most computationally intensive, and can take many minutes to run.\n",
    "data = cleaner(df, items_to_add)"
   ]
  },
  {
   "cell_type": "code",
   "execution_count": 217,
   "id": "3d4c4374",
   "metadata": {
    "ExecuteTime": {
     "end_time": "2023-12-12T21:41:50.423617Z",
     "start_time": "2023-12-12T21:41:50.277920Z"
    },
    "id": "3d4c4374"
   },
   "outputs": [
    {
     "data": {
      "application/vnd.plotly.v1+json": {
       "config": {
        "plotlyServerURL": "https://plot.ly"
       },
       "data": [
        {
         "alignmentgroup": "True",
         "hovertemplate": "Years=%{x}<br>Performances of Genrelabel: jazz=%{y}<extra></extra>",
         "legendgroup": "",
         "marker": {
          "color": "#636efa",
          "pattern": {
           "shape": ""
          }
         },
         "name": "",
         "offsetgroup": "",
         "orientation": "v",
         "showlegend": false,
         "textposition": "auto",
         "type": "bar",
         "x": [
          1900,
          1901,
          1902,
          1903,
          1904,
          1905,
          1906,
          1907,
          1908,
          1909,
          1910,
          1911,
          1912,
          1913,
          1914,
          1917,
          1918,
          1919,
          1920,
          1921,
          1922,
          1923,
          1924,
          1925,
          1926,
          1927,
          1928,
          1929,
          1930,
          1931,
          1932,
          1933,
          1934,
          1935,
          1936,
          1937,
          1938,
          1939,
          1940,
          1941,
          1942,
          1943,
          1944,
          1945,
          1946,
          1947,
          1948,
          1949,
          1950,
          1951,
          1952,
          1953,
          1954,
          1955,
          1956,
          1957,
          1958,
          1959,
          1960,
          1961,
          1962,
          1963,
          1964,
          1965,
          1966,
          1967,
          1968,
          1969,
          1970,
          1971,
          1972,
          1973,
          1974,
          1975,
          1976,
          1977,
          1978,
          1979,
          1980,
          1981,
          1982,
          1983,
          1984,
          1985,
          1986,
          1987,
          1988,
          1989,
          1990,
          1991,
          1992,
          1993,
          1994,
          1995,
          1996,
          1997,
          1998,
          1999,
          2000
         ],
         "xaxis": "x",
         "y": [
          0,
          0,
          0,
          0,
          0,
          0,
          0,
          0,
          0,
          0,
          0,
          0,
          1,
          1,
          0,
          0,
          0,
          4,
          0,
          0,
          1,
          0,
          2,
          1,
          0,
          0,
          2,
          0,
          0,
          0,
          0,
          0,
          0,
          0,
          0,
          0,
          2,
          2,
          0,
          1,
          1,
          3,
          2,
          2,
          4,
          10,
          5,
          7,
          7,
          4,
          5,
          3,
          3,
          2,
          4,
          5,
          4,
          7,
          1,
          4,
          2,
          3,
          8,
          2,
          4,
          3,
          4,
          1,
          3,
          2,
          23,
          16,
          35,
          22,
          12,
          13,
          12,
          10,
          14,
          21,
          4,
          4,
          8,
          9,
          2,
          16,
          9,
          6,
          11,
          11,
          9,
          11,
          3,
          4,
          9,
          10,
          9,
          10,
          7
         ],
         "yaxis": "y"
        }
       ],
       "layout": {
        "barmode": "relative",
        "height": 400,
        "legend": {
         "tracegroupgap": 0
        },
        "template": {
         "data": {
          "bar": [
           {
            "error_x": {
             "color": "#f2f5fa"
            },
            "error_y": {
             "color": "#f2f5fa"
            },
            "marker": {
             "line": {
              "color": "rgb(17,17,17)",
              "width": 0.5
             },
             "pattern": {
              "fillmode": "overlay",
              "size": 10,
              "solidity": 0.2
             }
            },
            "type": "bar"
           }
          ],
          "barpolar": [
           {
            "marker": {
             "line": {
              "color": "rgb(17,17,17)",
              "width": 0.5
             },
             "pattern": {
              "fillmode": "overlay",
              "size": 10,
              "solidity": 0.2
             }
            },
            "type": "barpolar"
           }
          ],
          "carpet": [
           {
            "aaxis": {
             "endlinecolor": "#A2B1C6",
             "gridcolor": "#506784",
             "linecolor": "#506784",
             "minorgridcolor": "#506784",
             "startlinecolor": "#A2B1C6"
            },
            "baxis": {
             "endlinecolor": "#A2B1C6",
             "gridcolor": "#506784",
             "linecolor": "#506784",
             "minorgridcolor": "#506784",
             "startlinecolor": "#A2B1C6"
            },
            "type": "carpet"
           }
          ],
          "choropleth": [
           {
            "colorbar": {
             "outlinewidth": 0,
             "ticks": ""
            },
            "type": "choropleth"
           }
          ],
          "contour": [
           {
            "colorbar": {
             "outlinewidth": 0,
             "ticks": ""
            },
            "colorscale": [
             [
              0,
              "#0d0887"
             ],
             [
              0.1111111111111111,
              "#46039f"
             ],
             [
              0.2222222222222222,
              "#7201a8"
             ],
             [
              0.3333333333333333,
              "#9c179e"
             ],
             [
              0.4444444444444444,
              "#bd3786"
             ],
             [
              0.5555555555555556,
              "#d8576b"
             ],
             [
              0.6666666666666666,
              "#ed7953"
             ],
             [
              0.7777777777777778,
              "#fb9f3a"
             ],
             [
              0.8888888888888888,
              "#fdca26"
             ],
             [
              1,
              "#f0f921"
             ]
            ],
            "type": "contour"
           }
          ],
          "contourcarpet": [
           {
            "colorbar": {
             "outlinewidth": 0,
             "ticks": ""
            },
            "type": "contourcarpet"
           }
          ],
          "heatmap": [
           {
            "colorbar": {
             "outlinewidth": 0,
             "ticks": ""
            },
            "colorscale": [
             [
              0,
              "#0d0887"
             ],
             [
              0.1111111111111111,
              "#46039f"
             ],
             [
              0.2222222222222222,
              "#7201a8"
             ],
             [
              0.3333333333333333,
              "#9c179e"
             ],
             [
              0.4444444444444444,
              "#bd3786"
             ],
             [
              0.5555555555555556,
              "#d8576b"
             ],
             [
              0.6666666666666666,
              "#ed7953"
             ],
             [
              0.7777777777777778,
              "#fb9f3a"
             ],
             [
              0.8888888888888888,
              "#fdca26"
             ],
             [
              1,
              "#f0f921"
             ]
            ],
            "type": "heatmap"
           }
          ],
          "heatmapgl": [
           {
            "colorbar": {
             "outlinewidth": 0,
             "ticks": ""
            },
            "colorscale": [
             [
              0,
              "#0d0887"
             ],
             [
              0.1111111111111111,
              "#46039f"
             ],
             [
              0.2222222222222222,
              "#7201a8"
             ],
             [
              0.3333333333333333,
              "#9c179e"
             ],
             [
              0.4444444444444444,
              "#bd3786"
             ],
             [
              0.5555555555555556,
              "#d8576b"
             ],
             [
              0.6666666666666666,
              "#ed7953"
             ],
             [
              0.7777777777777778,
              "#fb9f3a"
             ],
             [
              0.8888888888888888,
              "#fdca26"
             ],
             [
              1,
              "#f0f921"
             ]
            ],
            "type": "heatmapgl"
           }
          ],
          "histogram": [
           {
            "marker": {
             "pattern": {
              "fillmode": "overlay",
              "size": 10,
              "solidity": 0.2
             }
            },
            "type": "histogram"
           }
          ],
          "histogram2d": [
           {
            "colorbar": {
             "outlinewidth": 0,
             "ticks": ""
            },
            "colorscale": [
             [
              0,
              "#0d0887"
             ],
             [
              0.1111111111111111,
              "#46039f"
             ],
             [
              0.2222222222222222,
              "#7201a8"
             ],
             [
              0.3333333333333333,
              "#9c179e"
             ],
             [
              0.4444444444444444,
              "#bd3786"
             ],
             [
              0.5555555555555556,
              "#d8576b"
             ],
             [
              0.6666666666666666,
              "#ed7953"
             ],
             [
              0.7777777777777778,
              "#fb9f3a"
             ],
             [
              0.8888888888888888,
              "#fdca26"
             ],
             [
              1,
              "#f0f921"
             ]
            ],
            "type": "histogram2d"
           }
          ],
          "histogram2dcontour": [
           {
            "colorbar": {
             "outlinewidth": 0,
             "ticks": ""
            },
            "colorscale": [
             [
              0,
              "#0d0887"
             ],
             [
              0.1111111111111111,
              "#46039f"
             ],
             [
              0.2222222222222222,
              "#7201a8"
             ],
             [
              0.3333333333333333,
              "#9c179e"
             ],
             [
              0.4444444444444444,
              "#bd3786"
             ],
             [
              0.5555555555555556,
              "#d8576b"
             ],
             [
              0.6666666666666666,
              "#ed7953"
             ],
             [
              0.7777777777777778,
              "#fb9f3a"
             ],
             [
              0.8888888888888888,
              "#fdca26"
             ],
             [
              1,
              "#f0f921"
             ]
            ],
            "type": "histogram2dcontour"
           }
          ],
          "mesh3d": [
           {
            "colorbar": {
             "outlinewidth": 0,
             "ticks": ""
            },
            "type": "mesh3d"
           }
          ],
          "parcoords": [
           {
            "line": {
             "colorbar": {
              "outlinewidth": 0,
              "ticks": ""
             }
            },
            "type": "parcoords"
           }
          ],
          "pie": [
           {
            "automargin": true,
            "type": "pie"
           }
          ],
          "scatter": [
           {
            "marker": {
             "line": {
              "color": "#283442"
             }
            },
            "type": "scatter"
           }
          ],
          "scatter3d": [
           {
            "line": {
             "colorbar": {
              "outlinewidth": 0,
              "ticks": ""
             }
            },
            "marker": {
             "colorbar": {
              "outlinewidth": 0,
              "ticks": ""
             }
            },
            "type": "scatter3d"
           }
          ],
          "scattercarpet": [
           {
            "marker": {
             "colorbar": {
              "outlinewidth": 0,
              "ticks": ""
             }
            },
            "type": "scattercarpet"
           }
          ],
          "scattergeo": [
           {
            "marker": {
             "colorbar": {
              "outlinewidth": 0,
              "ticks": ""
             }
            },
            "type": "scattergeo"
           }
          ],
          "scattergl": [
           {
            "marker": {
             "line": {
              "color": "#283442"
             }
            },
            "type": "scattergl"
           }
          ],
          "scattermapbox": [
           {
            "marker": {
             "colorbar": {
              "outlinewidth": 0,
              "ticks": ""
             }
            },
            "type": "scattermapbox"
           }
          ],
          "scatterpolar": [
           {
            "marker": {
             "colorbar": {
              "outlinewidth": 0,
              "ticks": ""
             }
            },
            "type": "scatterpolar"
           }
          ],
          "scatterpolargl": [
           {
            "marker": {
             "colorbar": {
              "outlinewidth": 0,
              "ticks": ""
             }
            },
            "type": "scatterpolargl"
           }
          ],
          "scatterternary": [
           {
            "marker": {
             "colorbar": {
              "outlinewidth": 0,
              "ticks": ""
             }
            },
            "type": "scatterternary"
           }
          ],
          "surface": [
           {
            "colorbar": {
             "outlinewidth": 0,
             "ticks": ""
            },
            "colorscale": [
             [
              0,
              "#0d0887"
             ],
             [
              0.1111111111111111,
              "#46039f"
             ],
             [
              0.2222222222222222,
              "#7201a8"
             ],
             [
              0.3333333333333333,
              "#9c179e"
             ],
             [
              0.4444444444444444,
              "#bd3786"
             ],
             [
              0.5555555555555556,
              "#d8576b"
             ],
             [
              0.6666666666666666,
              "#ed7953"
             ],
             [
              0.7777777777777778,
              "#fb9f3a"
             ],
             [
              0.8888888888888888,
              "#fdca26"
             ],
             [
              1,
              "#f0f921"
             ]
            ],
            "type": "surface"
           }
          ],
          "table": [
           {
            "cells": {
             "fill": {
              "color": "#506784"
             },
             "line": {
              "color": "rgb(17,17,17)"
             }
            },
            "header": {
             "fill": {
              "color": "#2a3f5f"
             },
             "line": {
              "color": "rgb(17,17,17)"
             }
            },
            "type": "table"
           }
          ]
         },
         "layout": {
          "annotationdefaults": {
           "arrowcolor": "#f2f5fa",
           "arrowhead": 0,
           "arrowwidth": 1
          },
          "autotypenumbers": "strict",
          "coloraxis": {
           "colorbar": {
            "outlinewidth": 0,
            "ticks": ""
           }
          },
          "colorscale": {
           "diverging": [
            [
             0,
             "#8e0152"
            ],
            [
             0.1,
             "#c51b7d"
            ],
            [
             0.2,
             "#de77ae"
            ],
            [
             0.3,
             "#f1b6da"
            ],
            [
             0.4,
             "#fde0ef"
            ],
            [
             0.5,
             "#f7f7f7"
            ],
            [
             0.6,
             "#e6f5d0"
            ],
            [
             0.7,
             "#b8e186"
            ],
            [
             0.8,
             "#7fbc41"
            ],
            [
             0.9,
             "#4d9221"
            ],
            [
             1,
             "#276419"
            ]
           ],
           "sequential": [
            [
             0,
             "#0d0887"
            ],
            [
             0.1111111111111111,
             "#46039f"
            ],
            [
             0.2222222222222222,
             "#7201a8"
            ],
            [
             0.3333333333333333,
             "#9c179e"
            ],
            [
             0.4444444444444444,
             "#bd3786"
            ],
            [
             0.5555555555555556,
             "#d8576b"
            ],
            [
             0.6666666666666666,
             "#ed7953"
            ],
            [
             0.7777777777777778,
             "#fb9f3a"
            ],
            [
             0.8888888888888888,
             "#fdca26"
            ],
            [
             1,
             "#f0f921"
            ]
           ],
           "sequentialminus": [
            [
             0,
             "#0d0887"
            ],
            [
             0.1111111111111111,
             "#46039f"
            ],
            [
             0.2222222222222222,
             "#7201a8"
            ],
            [
             0.3333333333333333,
             "#9c179e"
            ],
            [
             0.4444444444444444,
             "#bd3786"
            ],
            [
             0.5555555555555556,
             "#d8576b"
            ],
            [
             0.6666666666666666,
             "#ed7953"
            ],
            [
             0.7777777777777778,
             "#fb9f3a"
            ],
            [
             0.8888888888888888,
             "#fdca26"
            ],
            [
             1,
             "#f0f921"
            ]
           ]
          },
          "colorway": [
           "#636efa",
           "#EF553B",
           "#00cc96",
           "#ab63fa",
           "#FFA15A",
           "#19d3f3",
           "#FF6692",
           "#B6E880",
           "#FF97FF",
           "#FECB52"
          ],
          "font": {
           "color": "#f2f5fa"
          },
          "geo": {
           "bgcolor": "rgb(17,17,17)",
           "lakecolor": "rgb(17,17,17)",
           "landcolor": "rgb(17,17,17)",
           "showlakes": true,
           "showland": true,
           "subunitcolor": "#506784"
          },
          "hoverlabel": {
           "align": "left"
          },
          "hovermode": "closest",
          "mapbox": {
           "style": "dark"
          },
          "paper_bgcolor": "rgb(17,17,17)",
          "plot_bgcolor": "rgb(17,17,17)",
          "polar": {
           "angularaxis": {
            "gridcolor": "#506784",
            "linecolor": "#506784",
            "ticks": ""
           },
           "bgcolor": "rgb(17,17,17)",
           "radialaxis": {
            "gridcolor": "#506784",
            "linecolor": "#506784",
            "ticks": ""
           }
          },
          "scene": {
           "xaxis": {
            "backgroundcolor": "rgb(17,17,17)",
            "gridcolor": "#506784",
            "gridwidth": 2,
            "linecolor": "#506784",
            "showbackground": true,
            "ticks": "",
            "zerolinecolor": "#C8D4E3"
           },
           "yaxis": {
            "backgroundcolor": "rgb(17,17,17)",
            "gridcolor": "#506784",
            "gridwidth": 2,
            "linecolor": "#506784",
            "showbackground": true,
            "ticks": "",
            "zerolinecolor": "#C8D4E3"
           },
           "zaxis": {
            "backgroundcolor": "rgb(17,17,17)",
            "gridcolor": "#506784",
            "gridwidth": 2,
            "linecolor": "#506784",
            "showbackground": true,
            "ticks": "",
            "zerolinecolor": "#C8D4E3"
           }
          },
          "shapedefaults": {
           "line": {
            "color": "#f2f5fa"
           }
          },
          "sliderdefaults": {
           "bgcolor": "#C8D4E3",
           "bordercolor": "rgb(17,17,17)",
           "borderwidth": 1,
           "tickwidth": 0
          },
          "ternary": {
           "aaxis": {
            "gridcolor": "#506784",
            "linecolor": "#506784",
            "ticks": ""
           },
           "baxis": {
            "gridcolor": "#506784",
            "linecolor": "#506784",
            "ticks": ""
           },
           "bgcolor": "rgb(17,17,17)",
           "caxis": {
            "gridcolor": "#506784",
            "linecolor": "#506784",
            "ticks": ""
           }
          },
          "title": {
           "x": 0.05
          },
          "updatemenudefaults": {
           "bgcolor": "#506784",
           "borderwidth": 0
          },
          "xaxis": {
           "automargin": true,
           "gridcolor": "#283442",
           "linecolor": "#506784",
           "ticks": "",
           "title": {
            "standoff": 15
           },
           "zerolinecolor": "#283442",
           "zerolinewidth": 2
          },
          "yaxis": {
           "automargin": true,
           "gridcolor": "#283442",
           "linecolor": "#506784",
           "ticks": "",
           "title": {
            "standoff": 15
           },
           "zerolinecolor": "#283442",
           "zerolinewidth": 2
          }
         }
        },
        "title": {
         "text": "Performances of Genrelabel: jazz by Year"
        },
        "width": 600,
        "xaxis": {
         "anchor": "y",
         "domain": [
          0,
          1
         ],
         "title": {
          "text": "Years"
         }
        },
        "yaxis": {
         "anchor": "x",
         "domain": [
          0,
          1
         ],
         "title": {
          "text": "Performances of Genrelabel: jazz"
         }
        }
       }
      },
      "text/html": [
       "<div>                            <div id=\"8285658c-3e6a-4729-a26a-9b4cebc78647\" class=\"plotly-graph-div\" style=\"height:400px; width:600px;\"></div>            <script type=\"text/javascript\">                require([\"plotly\"], function(Plotly) {                    window.PLOTLYENV=window.PLOTLYENV || {};                                    if (document.getElementById(\"8285658c-3e6a-4729-a26a-9b4cebc78647\")) {                    Plotly.newPlot(                        \"8285658c-3e6a-4729-a26a-9b4cebc78647\",                        [{\"alignmentgroup\":\"True\",\"hovertemplate\":\"Years=%{x}<br>Performances of Genrelabel: jazz=%{y}<extra></extra>\",\"legendgroup\":\"\",\"marker\":{\"color\":\"#636efa\",\"pattern\":{\"shape\":\"\"}},\"name\":\"\",\"offsetgroup\":\"\",\"orientation\":\"v\",\"showlegend\":false,\"textposition\":\"auto\",\"x\":[1900,1901,1902,1903,1904,1905,1906,1907,1908,1909,1910,1911,1912,1913,1914,1917,1918,1919,1920,1921,1922,1923,1924,1925,1926,1927,1928,1929,1930,1931,1932,1933,1934,1935,1936,1937,1938,1939,1940,1941,1942,1943,1944,1945,1946,1947,1948,1949,1950,1951,1952,1953,1954,1955,1956,1957,1958,1959,1960,1961,1962,1963,1964,1965,1966,1967,1968,1969,1970,1971,1972,1973,1974,1975,1976,1977,1978,1979,1980,1981,1982,1983,1984,1985,1986,1987,1988,1989,1990,1991,1992,1993,1994,1995,1996,1997,1998,1999,2000],\"xaxis\":\"x\",\"y\":[0,0,0,0,0,0,0,0,0,0,0,0,1,1,0,0,0,4,0,0,1,0,2,1,0,0,2,0,0,0,0,0,0,0,0,0,2,2,0,1,1,3,2,2,4,10,5,7,7,4,5,3,3,2,4,5,4,7,1,4,2,3,8,2,4,3,4,1,3,2,23,16,35,22,12,13,12,10,14,21,4,4,8,9,2,16,9,6,11,11,9,11,3,4,9,10,9,10,7],\"yaxis\":\"y\",\"type\":\"bar\"}],                        {\"template\":{\"data\":{\"histogram2dcontour\":[{\"type\":\"histogram2dcontour\",\"colorbar\":{\"outlinewidth\":0,\"ticks\":\"\"},\"colorscale\":[[0.0,\"#0d0887\"],[0.1111111111111111,\"#46039f\"],[0.2222222222222222,\"#7201a8\"],[0.3333333333333333,\"#9c179e\"],[0.4444444444444444,\"#bd3786\"],[0.5555555555555556,\"#d8576b\"],[0.6666666666666666,\"#ed7953\"],[0.7777777777777778,\"#fb9f3a\"],[0.8888888888888888,\"#fdca26\"],[1.0,\"#f0f921\"]]}],\"choropleth\":[{\"type\":\"choropleth\",\"colorbar\":{\"outlinewidth\":0,\"ticks\":\"\"}}],\"histogram2d\":[{\"type\":\"histogram2d\",\"colorbar\":{\"outlinewidth\":0,\"ticks\":\"\"},\"colorscale\":[[0.0,\"#0d0887\"],[0.1111111111111111,\"#46039f\"],[0.2222222222222222,\"#7201a8\"],[0.3333333333333333,\"#9c179e\"],[0.4444444444444444,\"#bd3786\"],[0.5555555555555556,\"#d8576b\"],[0.6666666666666666,\"#ed7953\"],[0.7777777777777778,\"#fb9f3a\"],[0.8888888888888888,\"#fdca26\"],[1.0,\"#f0f921\"]]}],\"heatmap\":[{\"type\":\"heatmap\",\"colorbar\":{\"outlinewidth\":0,\"ticks\":\"\"},\"colorscale\":[[0.0,\"#0d0887\"],[0.1111111111111111,\"#46039f\"],[0.2222222222222222,\"#7201a8\"],[0.3333333333333333,\"#9c179e\"],[0.4444444444444444,\"#bd3786\"],[0.5555555555555556,\"#d8576b\"],[0.6666666666666666,\"#ed7953\"],[0.7777777777777778,\"#fb9f3a\"],[0.8888888888888888,\"#fdca26\"],[1.0,\"#f0f921\"]]}],\"heatmapgl\":[{\"type\":\"heatmapgl\",\"colorbar\":{\"outlinewidth\":0,\"ticks\":\"\"},\"colorscale\":[[0.0,\"#0d0887\"],[0.1111111111111111,\"#46039f\"],[0.2222222222222222,\"#7201a8\"],[0.3333333333333333,\"#9c179e\"],[0.4444444444444444,\"#bd3786\"],[0.5555555555555556,\"#d8576b\"],[0.6666666666666666,\"#ed7953\"],[0.7777777777777778,\"#fb9f3a\"],[0.8888888888888888,\"#fdca26\"],[1.0,\"#f0f921\"]]}],\"contourcarpet\":[{\"type\":\"contourcarpet\",\"colorbar\":{\"outlinewidth\":0,\"ticks\":\"\"}}],\"contour\":[{\"type\":\"contour\",\"colorbar\":{\"outlinewidth\":0,\"ticks\":\"\"},\"colorscale\":[[0.0,\"#0d0887\"],[0.1111111111111111,\"#46039f\"],[0.2222222222222222,\"#7201a8\"],[0.3333333333333333,\"#9c179e\"],[0.4444444444444444,\"#bd3786\"],[0.5555555555555556,\"#d8576b\"],[0.6666666666666666,\"#ed7953\"],[0.7777777777777778,\"#fb9f3a\"],[0.8888888888888888,\"#fdca26\"],[1.0,\"#f0f921\"]]}],\"surface\":[{\"type\":\"surface\",\"colorbar\":{\"outlinewidth\":0,\"ticks\":\"\"},\"colorscale\":[[0.0,\"#0d0887\"],[0.1111111111111111,\"#46039f\"],[0.2222222222222222,\"#7201a8\"],[0.3333333333333333,\"#9c179e\"],[0.4444444444444444,\"#bd3786\"],[0.5555555555555556,\"#d8576b\"],[0.6666666666666666,\"#ed7953\"],[0.7777777777777778,\"#fb9f3a\"],[0.8888888888888888,\"#fdca26\"],[1.0,\"#f0f921\"]]}],\"mesh3d\":[{\"type\":\"mesh3d\",\"colorbar\":{\"outlinewidth\":0,\"ticks\":\"\"}}],\"scatter\":[{\"marker\":{\"line\":{\"color\":\"#283442\"}},\"type\":\"scatter\"}],\"parcoords\":[{\"type\":\"parcoords\",\"line\":{\"colorbar\":{\"outlinewidth\":0,\"ticks\":\"\"}}}],\"scatterpolargl\":[{\"type\":\"scatterpolargl\",\"marker\":{\"colorbar\":{\"outlinewidth\":0,\"ticks\":\"\"}}}],\"bar\":[{\"error_x\":{\"color\":\"#f2f5fa\"},\"error_y\":{\"color\":\"#f2f5fa\"},\"marker\":{\"line\":{\"color\":\"rgb(17,17,17)\",\"width\":0.5},\"pattern\":{\"fillmode\":\"overlay\",\"size\":10,\"solidity\":0.2}},\"type\":\"bar\"}],\"scattergeo\":[{\"type\":\"scattergeo\",\"marker\":{\"colorbar\":{\"outlinewidth\":0,\"ticks\":\"\"}}}],\"scatterpolar\":[{\"type\":\"scatterpolar\",\"marker\":{\"colorbar\":{\"outlinewidth\":0,\"ticks\":\"\"}}}],\"histogram\":[{\"marker\":{\"pattern\":{\"fillmode\":\"overlay\",\"size\":10,\"solidity\":0.2}},\"type\":\"histogram\"}],\"scattergl\":[{\"marker\":{\"line\":{\"color\":\"#283442\"}},\"type\":\"scattergl\"}],\"scatter3d\":[{\"type\":\"scatter3d\",\"line\":{\"colorbar\":{\"outlinewidth\":0,\"ticks\":\"\"}},\"marker\":{\"colorbar\":{\"outlinewidth\":0,\"ticks\":\"\"}}}],\"scattermapbox\":[{\"type\":\"scattermapbox\",\"marker\":{\"colorbar\":{\"outlinewidth\":0,\"ticks\":\"\"}}}],\"scatterternary\":[{\"type\":\"scatterternary\",\"marker\":{\"colorbar\":{\"outlinewidth\":0,\"ticks\":\"\"}}}],\"scattercarpet\":[{\"type\":\"scattercarpet\",\"marker\":{\"colorbar\":{\"outlinewidth\":0,\"ticks\":\"\"}}}],\"carpet\":[{\"aaxis\":{\"endlinecolor\":\"#A2B1C6\",\"gridcolor\":\"#506784\",\"linecolor\":\"#506784\",\"minorgridcolor\":\"#506784\",\"startlinecolor\":\"#A2B1C6\"},\"baxis\":{\"endlinecolor\":\"#A2B1C6\",\"gridcolor\":\"#506784\",\"linecolor\":\"#506784\",\"minorgridcolor\":\"#506784\",\"startlinecolor\":\"#A2B1C6\"},\"type\":\"carpet\"}],\"table\":[{\"cells\":{\"fill\":{\"color\":\"#506784\"},\"line\":{\"color\":\"rgb(17,17,17)\"}},\"header\":{\"fill\":{\"color\":\"#2a3f5f\"},\"line\":{\"color\":\"rgb(17,17,17)\"}},\"type\":\"table\"}],\"barpolar\":[{\"marker\":{\"line\":{\"color\":\"rgb(17,17,17)\",\"width\":0.5},\"pattern\":{\"fillmode\":\"overlay\",\"size\":10,\"solidity\":0.2}},\"type\":\"barpolar\"}],\"pie\":[{\"automargin\":true,\"type\":\"pie\"}]},\"layout\":{\"autotypenumbers\":\"strict\",\"colorway\":[\"#636efa\",\"#EF553B\",\"#00cc96\",\"#ab63fa\",\"#FFA15A\",\"#19d3f3\",\"#FF6692\",\"#B6E880\",\"#FF97FF\",\"#FECB52\"],\"font\":{\"color\":\"#f2f5fa\"},\"hovermode\":\"closest\",\"hoverlabel\":{\"align\":\"left\"},\"paper_bgcolor\":\"rgb(17,17,17)\",\"plot_bgcolor\":\"rgb(17,17,17)\",\"polar\":{\"bgcolor\":\"rgb(17,17,17)\",\"angularaxis\":{\"gridcolor\":\"#506784\",\"linecolor\":\"#506784\",\"ticks\":\"\"},\"radialaxis\":{\"gridcolor\":\"#506784\",\"linecolor\":\"#506784\",\"ticks\":\"\"}},\"ternary\":{\"bgcolor\":\"rgb(17,17,17)\",\"aaxis\":{\"gridcolor\":\"#506784\",\"linecolor\":\"#506784\",\"ticks\":\"\"},\"baxis\":{\"gridcolor\":\"#506784\",\"linecolor\":\"#506784\",\"ticks\":\"\"},\"caxis\":{\"gridcolor\":\"#506784\",\"linecolor\":\"#506784\",\"ticks\":\"\"}},\"coloraxis\":{\"colorbar\":{\"outlinewidth\":0,\"ticks\":\"\"}},\"colorscale\":{\"sequential\":[[0.0,\"#0d0887\"],[0.1111111111111111,\"#46039f\"],[0.2222222222222222,\"#7201a8\"],[0.3333333333333333,\"#9c179e\"],[0.4444444444444444,\"#bd3786\"],[0.5555555555555556,\"#d8576b\"],[0.6666666666666666,\"#ed7953\"],[0.7777777777777778,\"#fb9f3a\"],[0.8888888888888888,\"#fdca26\"],[1.0,\"#f0f921\"]],\"sequentialminus\":[[0.0,\"#0d0887\"],[0.1111111111111111,\"#46039f\"],[0.2222222222222222,\"#7201a8\"],[0.3333333333333333,\"#9c179e\"],[0.4444444444444444,\"#bd3786\"],[0.5555555555555556,\"#d8576b\"],[0.6666666666666666,\"#ed7953\"],[0.7777777777777778,\"#fb9f3a\"],[0.8888888888888888,\"#fdca26\"],[1.0,\"#f0f921\"]],\"diverging\":[[0,\"#8e0152\"],[0.1,\"#c51b7d\"],[0.2,\"#de77ae\"],[0.3,\"#f1b6da\"],[0.4,\"#fde0ef\"],[0.5,\"#f7f7f7\"],[0.6,\"#e6f5d0\"],[0.7,\"#b8e186\"],[0.8,\"#7fbc41\"],[0.9,\"#4d9221\"],[1,\"#276419\"]]},\"xaxis\":{\"gridcolor\":\"#283442\",\"linecolor\":\"#506784\",\"ticks\":\"\",\"title\":{\"standoff\":15},\"zerolinecolor\":\"#283442\",\"automargin\":true,\"zerolinewidth\":2},\"yaxis\":{\"gridcolor\":\"#283442\",\"linecolor\":\"#506784\",\"ticks\":\"\",\"title\":{\"standoff\":15},\"zerolinecolor\":\"#283442\",\"automargin\":true,\"zerolinewidth\":2},\"scene\":{\"xaxis\":{\"backgroundcolor\":\"rgb(17,17,17)\",\"gridcolor\":\"#506784\",\"linecolor\":\"#506784\",\"showbackground\":true,\"ticks\":\"\",\"zerolinecolor\":\"#C8D4E3\",\"gridwidth\":2},\"yaxis\":{\"backgroundcolor\":\"rgb(17,17,17)\",\"gridcolor\":\"#506784\",\"linecolor\":\"#506784\",\"showbackground\":true,\"ticks\":\"\",\"zerolinecolor\":\"#C8D4E3\",\"gridwidth\":2},\"zaxis\":{\"backgroundcolor\":\"rgb(17,17,17)\",\"gridcolor\":\"#506784\",\"linecolor\":\"#506784\",\"showbackground\":true,\"ticks\":\"\",\"zerolinecolor\":\"#C8D4E3\",\"gridwidth\":2}},\"shapedefaults\":{\"line\":{\"color\":\"#f2f5fa\"}},\"annotationdefaults\":{\"arrowcolor\":\"#f2f5fa\",\"arrowhead\":0,\"arrowwidth\":1},\"geo\":{\"bgcolor\":\"rgb(17,17,17)\",\"landcolor\":\"rgb(17,17,17)\",\"subunitcolor\":\"#506784\",\"showland\":true,\"showlakes\":true,\"lakecolor\":\"rgb(17,17,17)\"},\"title\":{\"x\":0.05},\"updatemenudefaults\":{\"bgcolor\":\"#506784\",\"borderwidth\":0},\"sliderdefaults\":{\"bgcolor\":\"#C8D4E3\",\"borderwidth\":1,\"bordercolor\":\"rgb(17,17,17)\",\"tickwidth\":0},\"mapbox\":{\"style\":\"dark\"}}},\"xaxis\":{\"anchor\":\"y\",\"domain\":[0.0,1.0],\"title\":{\"text\":\"Years\"}},\"yaxis\":{\"anchor\":\"x\",\"domain\":[0.0,1.0],\"title\":{\"text\":\"Performances of Genrelabel: jazz\"}},\"legend\":{\"tracegroupgap\":0},\"title\":{\"text\":\"Performances of Genrelabel: jazz by Year\"},\"barmode\":\"relative\",\"width\":600,\"height\":400},                        {\"responsive\": true}                    ).then(function(){\n",
       "                            \n",
       "var gd = document.getElementById('8285658c-3e6a-4729-a26a-9b4cebc78647');\n",
       "var x = new MutationObserver(function (mutations, observer) {{\n",
       "        var display = window.getComputedStyle(gd).display;\n",
       "        if (!display || display === 'none') {{\n",
       "            console.log([gd, 'removed!']);\n",
       "            Plotly.purge(gd);\n",
       "            observer.disconnect();\n",
       "        }}\n",
       "}});\n",
       "\n",
       "// Listen for the removal of the full notebook cells\n",
       "var notebookContainer = gd.closest('#notebook-container');\n",
       "if (notebookContainer) {{\n",
       "    x.observe(notebookContainer, {childList: true});\n",
       "}}\n",
       "\n",
       "// Listen for the clearing of the current output cell\n",
       "var outputEl = gd.closest('.output');\n",
       "if (outputEl) {{\n",
       "    x.observe(outputEl, {childList: true});\n",
       "}}\n",
       "\n",
       "                        })                };                });            </script>        </div>"
      ]
     },
     "metadata": {},
     "output_type": "display_data"
    }
   ],
   "source": [
    "# do this with the exact column name and specific value you want to create a graph for. see examples above\n",
    "make_bar_chart(data, 'genreLabel', 'jazz')"
   ]
  },
  {
   "cell_type": "code",
   "execution_count": null,
   "outputs": [],
   "source": [
    "def app(dataframe_source, column, value, items_to_add_param = ('workperformed', 'composerName', 'nationalities')):\n",
    "    inner_df = pd.read_csv(dataframe_source)\n",
    "    # do this for whatever columns you want to add to the event dataframe (nationality, name or work performed, etc)\n",
    "    # they just need to be the exact names\n",
    "\n",
    "    inner_df = add_nationalities(inner_df)\n",
    "    # This line of code is the most computationally intensive, and can take many minutes to run.\n",
    "    inner_data = cleaner(inner_df, list(items_to_add))\n",
    "    make_bar_chart(inner_data, column, value)\n",
    "    "
   ],
   "metadata": {
    "collapsed": false
   },
   "id": "641f11ef89170ff9"
  },
  {
   "cell_type": "markdown",
   "id": "43ab66a08e5a7ef2",
   "metadata": {},
   "source": [
    "## Combining datasets\n",
    "\n",
    "If SPARQL query limits mean that the necessary data is stored in many disparate csv files, this code will take the path to the folder containing all those csvs (and nothing else!!) and the desired file path of the resultant csv that will concatenate all of the smaller csvs."
   ]
  },
  {
   "cell_type": "code",
   "execution_count": 202,
   "id": "b0ce262da092ed65",
   "metadata": {
    "ExecuteTime": {
     "end_time": "2023-12-12T21:33:15.551290Z",
     "start_time": "2023-12-12T21:33:14.350974Z"
    }
   },
   "outputs": [],
   "source": [
    "# code to combine several downloaded sparql query results\n",
    "\n",
    "def combine_csvs(folder_path, file_name):\n",
    "    \"\"\"\n",
    "    Combines several csvs into one large one\n",
    "    :param folder_path: path to the folder containing all the csvs to be contained and NOTHING ELSE\n",
    "    :param file_name: path to the file that will store the combined csv, including .csv at the end!\n",
    "    :return: \n",
    "    \"\"\"\n",
    "    files = os.listdir(folder_path)\n",
    "    \n",
    "    df_list = []\n",
    "    for csv in files:\n",
    "        file_path = os.path.join(folder_path, csv)\n",
    "        csv_df = pd.read_csv(file_path)\n",
    "        df_list.append(csv_df)\n",
    "    \n",
    "    big_df = pd.concat(df_list, ignore_index=True)\n",
    "    big_df.to_csv(file_name)"
   ]
  }
 ],
 "metadata": {
  "colab": {
   "provenance": []
  },
  "kernelspec": {
   "display_name": "Python 3 (ipykernel)",
   "language": "python",
   "name": "python3"
  },
  "language_info": {
   "codemirror_mode": {
    "name": "ipython",
    "version": 3
   },
   "file_extension": ".py",
   "mimetype": "text/x-python",
   "name": "python",
   "nbconvert_exporter": "python",
   "pygments_lexer": "ipython3",
   "version": "3.10.8"
  }
 },
 "nbformat": 4,
 "nbformat_minor": 5
}
