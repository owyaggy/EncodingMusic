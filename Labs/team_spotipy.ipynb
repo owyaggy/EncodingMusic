{
 "cells": [
  {
   "cell_type": "code",
   "execution_count": 1,
   "id": "e27b23e3-9343-4e5f-a94f-08f1e8e2ef69",
   "metadata": {},
   "outputs": [],
   "source": [
    "import pandas as pd\n",
    "import numpy as np\n",
    "import random\n",
    "import altair as alt\n",
    "import plotly.graph_objects as go\n",
    "import requests\n",
    "import inspect\n",
    "import spotipy\n",
    "from spotipy.oauth2 import SpotifyClientCredentials\n",
    "import spotify_tools\n",
    "import networkx as nx\n",
    "import networkx.algorithms.community as nx_comm\n",
    "import matplotlib.cm as cm\n",
    "import matplotlib.pyplot as plt\n",
    "import plotly.express as px\n",
    "import pyvis\n",
    "from pyvis import network as net\n",
    "from itertools import combinations\n",
    "from community import community_louvain\n",
    "from copy import deepcopy\n",
    "import time"
   ]
  },
  {
   "cell_type": "code",
   "execution_count": 2,
   "id": "eb0d328a-8be0-412e-9d3c-fa5abfd5635d",
   "metadata": {},
   "outputs": [],
   "source": [
    "# storing the credentials:\n",
    "#\n",
    "CLIENT_ID = \"5c839bef0e594210be17d3124457bf3f\"\n",
    "CLIENT_SECRET = \"7cd66cba016842faba09cb55eaed8050\"\n",
    "my_username = \"lzsfootball\"\n",
    "\n",
    "# instantiating the client.  This 'sp' version of the client is used repeatedly below\n",
    "# source: Max Hilsdorf (https://towardsdatascience.com/how-to-create-large-music-datasets-using-spotipy-40e7242cc6a6)\n",
    "client_credentials_manager = SpotifyClientCredentials(client_id=CLIENT_ID, client_secret=CLIENT_SECRET)\n",
    "sp = spotipy.Spotify(client_credentials_manager=client_credentials_manager)"
   ]
  },
  {
   "cell_type": "markdown",
   "id": "a5165b99-216c-4c67-af2d-add36e5f4241",
   "metadata": {
    "tags": []
   },
   "source": [
    "## Using Spotify Query"
   ]
  },
  {
   "cell_type": "code",
   "execution_count": 3,
   "id": "bfa72376-e619-4a8c-9de7-a0063edfb532",
   "metadata": {},
   "outputs": [
    {
     "data": {
      "text/html": [
       "<div>\n",
       "<style scoped>\n",
       "    .dataframe tbody tr th:only-of-type {\n",
       "        vertical-align: middle;\n",
       "    }\n",
       "\n",
       "    .dataframe tbody tr th {\n",
       "        vertical-align: top;\n",
       "    }\n",
       "\n",
       "    .dataframe thead th {\n",
       "        text-align: right;\n",
       "    }\n",
       "</style>\n",
       "<table border=\"1\" class=\"dataframe\">\n",
       "  <thead>\n",
       "    <tr style=\"text-align: right;\">\n",
       "      <th></th>\n",
       "      <th>href</th>\n",
       "      <th>items</th>\n",
       "      <th>limit</th>\n",
       "      <th>next</th>\n",
       "      <th>offset</th>\n",
       "      <th>previous</th>\n",
       "      <th>total</th>\n",
       "    </tr>\n",
       "  </thead>\n",
       "  <tbody>\n",
       "    <tr>\n",
       "      <th>0</th>\n",
       "      <td>https://api.spotify.com/v1/playlists/1hTUFxr38...</td>\n",
       "      <td>{'added_at': '2023-10-06T17:42:39Z', 'added_by...</td>\n",
       "      <td>100</td>\n",
       "      <td>None</td>\n",
       "      <td>0</td>\n",
       "      <td>None</td>\n",
       "      <td>10</td>\n",
       "    </tr>\n",
       "    <tr>\n",
       "      <th>1</th>\n",
       "      <td>https://api.spotify.com/v1/playlists/1hTUFxr38...</td>\n",
       "      <td>{'added_at': '2023-10-06T17:42:42Z', 'added_by...</td>\n",
       "      <td>100</td>\n",
       "      <td>None</td>\n",
       "      <td>0</td>\n",
       "      <td>None</td>\n",
       "      <td>10</td>\n",
       "    </tr>\n",
       "    <tr>\n",
       "      <th>2</th>\n",
       "      <td>https://api.spotify.com/v1/playlists/1hTUFxr38...</td>\n",
       "      <td>{'added_at': '2023-10-06T17:43:22Z', 'added_by...</td>\n",
       "      <td>100</td>\n",
       "      <td>None</td>\n",
       "      <td>0</td>\n",
       "      <td>None</td>\n",
       "      <td>10</td>\n",
       "    </tr>\n",
       "    <tr>\n",
       "      <th>3</th>\n",
       "      <td>https://api.spotify.com/v1/playlists/1hTUFxr38...</td>\n",
       "      <td>{'added_at': '2023-10-06T17:44:56Z', 'added_by...</td>\n",
       "      <td>100</td>\n",
       "      <td>None</td>\n",
       "      <td>0</td>\n",
       "      <td>None</td>\n",
       "      <td>10</td>\n",
       "    </tr>\n",
       "    <tr>\n",
       "      <th>4</th>\n",
       "      <td>https://api.spotify.com/v1/playlists/1hTUFxr38...</td>\n",
       "      <td>{'added_at': '2023-10-06T17:45:31Z', 'added_by...</td>\n",
       "      <td>100</td>\n",
       "      <td>None</td>\n",
       "      <td>0</td>\n",
       "      <td>None</td>\n",
       "      <td>10</td>\n",
       "    </tr>\n",
       "    <tr>\n",
       "      <th>5</th>\n",
       "      <td>https://api.spotify.com/v1/playlists/1hTUFxr38...</td>\n",
       "      <td>{'added_at': '2023-10-06T17:46:20Z', 'added_by...</td>\n",
       "      <td>100</td>\n",
       "      <td>None</td>\n",
       "      <td>0</td>\n",
       "      <td>None</td>\n",
       "      <td>10</td>\n",
       "    </tr>\n",
       "    <tr>\n",
       "      <th>6</th>\n",
       "      <td>https://api.spotify.com/v1/playlists/1hTUFxr38...</td>\n",
       "      <td>{'added_at': '2023-10-06T17:47:14Z', 'added_by...</td>\n",
       "      <td>100</td>\n",
       "      <td>None</td>\n",
       "      <td>0</td>\n",
       "      <td>None</td>\n",
       "      <td>10</td>\n",
       "    </tr>\n",
       "    <tr>\n",
       "      <th>7</th>\n",
       "      <td>https://api.spotify.com/v1/playlists/1hTUFxr38...</td>\n",
       "      <td>{'added_at': '2023-10-06T17:48:01Z', 'added_by...</td>\n",
       "      <td>100</td>\n",
       "      <td>None</td>\n",
       "      <td>0</td>\n",
       "      <td>None</td>\n",
       "      <td>10</td>\n",
       "    </tr>\n",
       "    <tr>\n",
       "      <th>8</th>\n",
       "      <td>https://api.spotify.com/v1/playlists/1hTUFxr38...</td>\n",
       "      <td>{'added_at': '2023-10-06T17:50:00Z', 'added_by...</td>\n",
       "      <td>100</td>\n",
       "      <td>None</td>\n",
       "      <td>0</td>\n",
       "      <td>None</td>\n",
       "      <td>10</td>\n",
       "    </tr>\n",
       "    <tr>\n",
       "      <th>9</th>\n",
       "      <td>https://api.spotify.com/v1/playlists/1hTUFxr38...</td>\n",
       "      <td>{'added_at': '2023-10-06T17:51:32Z', 'added_by...</td>\n",
       "      <td>100</td>\n",
       "      <td>None</td>\n",
       "      <td>0</td>\n",
       "      <td>None</td>\n",
       "      <td>10</td>\n",
       "    </tr>\n",
       "  </tbody>\n",
       "</table>\n",
       "</div>"
      ],
      "text/plain": [
       "                                                href  \\\n",
       "0  https://api.spotify.com/v1/playlists/1hTUFxr38...   \n",
       "1  https://api.spotify.com/v1/playlists/1hTUFxr38...   \n",
       "2  https://api.spotify.com/v1/playlists/1hTUFxr38...   \n",
       "3  https://api.spotify.com/v1/playlists/1hTUFxr38...   \n",
       "4  https://api.spotify.com/v1/playlists/1hTUFxr38...   \n",
       "5  https://api.spotify.com/v1/playlists/1hTUFxr38...   \n",
       "6  https://api.spotify.com/v1/playlists/1hTUFxr38...   \n",
       "7  https://api.spotify.com/v1/playlists/1hTUFxr38...   \n",
       "8  https://api.spotify.com/v1/playlists/1hTUFxr38...   \n",
       "9  https://api.spotify.com/v1/playlists/1hTUFxr38...   \n",
       "\n",
       "                                               items  limit  next  offset  \\\n",
       "0  {'added_at': '2023-10-06T17:42:39Z', 'added_by...    100  None       0   \n",
       "1  {'added_at': '2023-10-06T17:42:42Z', 'added_by...    100  None       0   \n",
       "2  {'added_at': '2023-10-06T17:43:22Z', 'added_by...    100  None       0   \n",
       "3  {'added_at': '2023-10-06T17:44:56Z', 'added_by...    100  None       0   \n",
       "4  {'added_at': '2023-10-06T17:45:31Z', 'added_by...    100  None       0   \n",
       "5  {'added_at': '2023-10-06T17:46:20Z', 'added_by...    100  None       0   \n",
       "6  {'added_at': '2023-10-06T17:47:14Z', 'added_by...    100  None       0   \n",
       "7  {'added_at': '2023-10-06T17:48:01Z', 'added_by...    100  None       0   \n",
       "8  {'added_at': '2023-10-06T17:50:00Z', 'added_by...    100  None       0   \n",
       "9  {'added_at': '2023-10-06T17:51:32Z', 'added_by...    100  None       0   \n",
       "\n",
       "  previous  total  \n",
       "0     None     10  \n",
       "1     None     10  \n",
       "2     None     10  \n",
       "3     None     10  \n",
       "4     None     10  \n",
       "5     None     10  \n",
       "6     None     10  \n",
       "7     None     10  \n",
       "8     None     10  \n",
       "9     None     10  "
      ]
     },
     "execution_count": 3,
     "metadata": {},
     "output_type": "execute_result"
    }
   ],
   "source": [
    "creator_id = \"lzsfootball\"\n",
    "playlist_id = \"1hTUFxr380FuNNYHpynyzy\"\n",
    "\n",
    "# playlist_tracks(user_id: String, playlist_id: String): json_dict\n",
    "playlist_tracks = pd.DataFrame(sp.user_playlist_tracks(creator_id, playlist_id))\n",
    "playlist_tracks"
   ]
  },
  {
   "cell_type": "code",
   "execution_count": 4,
   "id": "e5e8e9f6-925c-41b9-b3dd-ebb882cf6839",
   "metadata": {},
   "outputs": [],
   "source": [
    "def analyze_playlist(creator, playlist_id, spotipy_client):\n",
    "    playlist_features_list = [\"artist\", \"album\", \"track_name\",\n",
    "                              \"danceability\", \"energy\", \"key\", \"loudness\", \"mode\", \"speechiness\",\n",
    "                              \"instrumentalness\", \"liveness\", \"valence\", \"tempo\", \"duration_ms\", \"time_signature\"] # removed track_id\n",
    "    playlist_df = pd.DataFrame(columns=playlist_features_list)\n",
    "\n",
    "    playlist_features = {}\n",
    "\n",
    "    playlist = spotipy_client.user_playlist_tracks(creator, playlist_id)[\"items\"]\n",
    "    for track in playlist:\n",
    "        playlist_features[\"artist\"] = track[\"track\"][\"album\"][\"artists\"][0][\"name\"]\n",
    "        playlist_features[\"album\"] = track[\"track\"][\"album\"][\"name\"]\n",
    "        playlist_features[\"track_name\"] = track[\"track\"][\"name\"]\n",
    "        playlist_features[\"track_id\"] = track[\"track\"][\"id\"]\n",
    "\n",
    "        audio_features = spotipy_client.audio_features(playlist_features[\"track_id\"])[0]\n",
    "        for feature in playlist_features_list[3:]: # changed from 4 to 3 to fix error caused by removing track_id from list of features\n",
    "            playlist_features[feature] = audio_features[feature]\n",
    "\n",
    "        track_df = pd.DataFrame(playlist_features, index=[playlist_features['track_id']]) # changed index from automatically being 0 to being the track_id\n",
    "        playlist_df = pd.concat([playlist_df, track_df], ignore_index=False) # changed ignore_index from True to False\n",
    "\n",
    "    return playlist_df"
   ]
  },
  {
   "cell_type": "code",
   "execution_count": 5,
   "id": "be7f327e-8214-4a88-b2da-68f9d21acfc7",
   "metadata": {},
   "outputs": [
    {
     "name": "stdout",
     "output_type": "stream",
     "text": [
      "                                              artist  \\\n",
      "5gRcv46AMTrosmTOqrOV3Q                       Nirvana   \n",
      "70LcF31zb1H0PyJoS1Sx1r                     Radiohead   \n",
      "065bY5WrLvI3NN9VCK0QLe                   Oliver Tree   \n",
      "6Al4oITGudbYvcBzO65ah6                         Kyuss   \n",
      "25aNJcqUnZmEKBmPhW9I82                     Kate Nash   \n",
      "3sXaTInkrXe5YEaa6ZYr1S                     Lil Wayne   \n",
      "3OmhbyRDJDm1zhfVEV7d0w             The Murderburgers   \n",
      "22ML0MuFKfw16WejbxsLOy                   Pat Benatar   \n",
      "2UiUTpQkTCmE1OX6senl6j                     Green Day   \n",
      "2khc6kEG4eBvYN1GvR6R97  The Brian Jonestown Massacre   \n",
      "\n",
      "                                           album      track_name  \\\n",
      "5gRcv46AMTrosmTOqrOV3Q                  In Utero            Dumb   \n",
      "70LcF31zb1H0PyJoS1Sx1r               Pablo Honey           Creep   \n",
      "065bY5WrLvI3NN9VCK0QLe         Ugly is Beautiful            Jerk   \n",
      "6Al4oITGudbYvcBzO65ah6                    Wretch  Son of a Bitch   \n",
      "25aNJcqUnZmEKBmPhW9I82            Made of Bricks        Dickhead   \n",
      "3sXaTInkrXe5YEaa6ZYr1S                Tha Carter          Snitch   \n",
      "3OmhbyRDJDm1zhfVEV7d0w     How to Ruin Your Life           Moron   \n",
      "22ML0MuFKfw16WejbxsLOy  In The Heat Of The Night    Heartbreaker   \n",
      "2UiUTpQkTCmE1OX6senl6j                   Warning         Jackass   \n",
      "2khc6kEG4eBvYN1GvR6R97      Take It From The Man          Fucker   \n",
      "\n",
      "                        danceability  energy key  loudness mode  speechiness  \\\n",
      "5gRcv46AMTrosmTOqrOV3Q         0.697   0.395   6   -13.580    1       0.0281   \n",
      "70LcF31zb1H0PyJoS1Sx1r         0.515   0.430   7    -9.935    1       0.0372   \n",
      "065bY5WrLvI3NN9VCK0QLe         0.521   0.707   9    -4.101    0       0.0428   \n",
      "6Al4oITGudbYvcBzO65ah6         0.456   0.700   5   -13.014    1       0.0464   \n",
      "25aNJcqUnZmEKBmPhW9I82         0.735   0.508  11    -8.129    0       0.1400   \n",
      "3sXaTInkrXe5YEaa6ZYr1S         0.844   0.723   6    -4.114    0       0.2830   \n",
      "3OmhbyRDJDm1zhfVEV7d0w         0.530   0.978   0    -4.324    1       0.0629   \n",
      "22ML0MuFKfw16WejbxsLOy         0.466   0.588   5   -10.666    0       0.0812   \n",
      "2UiUTpQkTCmE1OX6senl6j         0.509   0.954   7    -2.903    1       0.0348   \n",
      "2khc6kEG4eBvYN1GvR6R97         0.242   0.653   0    -6.012    1       0.0332   \n",
      "\n",
      "                        instrumentalness  liveness  valence    tempo  \\\n",
      "5gRcv46AMTrosmTOqrOV3Q          0.653000    0.1730    0.876  113.589   \n",
      "70LcF31zb1H0PyJoS1Sx1r          0.000133    0.1290    0.104   91.844   \n",
      "065bY5WrLvI3NN9VCK0QLe          0.000164    0.2270    0.298  159.824   \n",
      "6Al4oITGudbYvcBzO65ah6          0.046900    0.1820    0.471  101.023   \n",
      "25aNJcqUnZmEKBmPhW9I82          0.000002    0.1140    0.518   84.931   \n",
      "3sXaTInkrXe5YEaa6ZYr1S          0.000000    0.2260    0.625  102.907   \n",
      "3OmhbyRDJDm1zhfVEV7d0w          0.000000    0.3270    0.537  125.961   \n",
      "22ML0MuFKfw16WejbxsLOy          0.000010    0.0535    0.882  156.131   \n",
      "2UiUTpQkTCmE1OX6senl6j          0.000000    0.0888    0.575   94.481   \n",
      "2khc6kEG4eBvYN1GvR6R97          0.000000    0.5390    0.373   78.733   \n",
      "\n",
      "                       duration_ms time_signature                track_id  \n",
      "5gRcv46AMTrosmTOqrOV3Q      151893              4  5gRcv46AMTrosmTOqrOV3Q  \n",
      "70LcF31zb1H0PyJoS1Sx1r      238640              4  70LcF31zb1H0PyJoS1Sx1r  \n",
      "065bY5WrLvI3NN9VCK0QLe      135021              4  065bY5WrLvI3NN9VCK0QLe  \n",
      "6Al4oITGudbYvcBzO65ah6      363307              4  6Al4oITGudbYvcBzO65ah6  \n",
      "25aNJcqUnZmEKBmPhW9I82      223000              4  25aNJcqUnZmEKBmPhW9I82  \n",
      "3sXaTInkrXe5YEaa6ZYr1S      235973              4  3sXaTInkrXe5YEaa6ZYr1S  \n",
      "3OmhbyRDJDm1zhfVEV7d0w      104450              4  3OmhbyRDJDm1zhfVEV7d0w  \n",
      "22ML0MuFKfw16WejbxsLOy      209360              4  22ML0MuFKfw16WejbxsLOy  \n",
      "2UiUTpQkTCmE1OX6senl6j      163040              4  2UiUTpQkTCmE1OX6senl6j  \n",
      "2khc6kEG4eBvYN1GvR6R97      132400              4  2khc6kEG4eBvYN1GvR6R97  \n",
      "0.173\n",
      "<class 'numpy.float64'>\n",
      "0.173\n"
     ]
    }
   ],
   "source": [
    "df = analyze_playlist(creator_id, playlist_id, sp)\n",
    "print(df)\n",
    "print(df.at['5gRcv46AMTrosmTOqrOV3Q', 'liveness'])\n",
    "print(type(df.at['5gRcv46AMTrosmTOqrOV3Q', 'liveness']))\n",
    "x = df.loc['5gRcv46AMTrosmTOqrOV3Q']\n",
    "got = x.get('liveness')\n",
    "print(got)"
   ]
  },
  {
   "cell_type": "code",
   "execution_count": 6,
   "id": "f2535151-c636-4449-8fe8-00e8cb48d4e8",
   "metadata": {},
   "outputs": [
    {
     "name": "stdout",
     "output_type": "stream",
     "text": [
      "{'Dumb': '5gRcv46AMTrosmTOqrOV3Q', 'Creep': '70LcF31zb1H0PyJoS1Sx1r', 'Jerk': '065bY5WrLvI3NN9VCK0QLe', 'Son of a Bitch': '6Al4oITGudbYvcBzO65ah6', 'Dickhead': '25aNJcqUnZmEKBmPhW9I82', 'Snitch': '3sXaTInkrXe5YEaa6ZYr1S', 'Moron': '3OmhbyRDJDm1zhfVEV7d0w', 'Heartbreaker': '22ML0MuFKfw16WejbxsLOy', 'Jackass': '2UiUTpQkTCmE1OX6senl6j', 'Fucker': '2khc6kEG4eBvYN1GvR6R97'}\n"
     ]
    }
   ],
   "source": [
    "def get_song_ids(tracks: pd.DataFrame) -> dict:     # Parameter is a dataframe, output is a dict\n",
    "    \"\"\"Returns the Spotify song IDs contained in the playlist dataframe, matched with the song titles to make them easy to identify\"\"\"\n",
    "    song_ids = {}       # Empty dict to contain all outputted song ids\n",
    "    for track in tracks['items']:           # Iterate through tracks in dataframe\n",
    "        song_ids[track['track']['name']] = track['track']['id']          # add song id to list\n",
    "    return song_ids    # return song ids\n",
    "\n",
    "print(get_song_ids(playlist_tracks))"
   ]
  },
  {
   "cell_type": "code",
   "execution_count": 122,
   "id": "9fc12f71-2465-43e6-8a97-928158982522",
   "metadata": {},
   "outputs": [
    {
     "data": {
      "text/html": [
       "<div>\n",
       "<style scoped>\n",
       "    .dataframe tbody tr th:only-of-type {\n",
       "        vertical-align: middle;\n",
       "    }\n",
       "\n",
       "    .dataframe tbody tr th {\n",
       "        vertical-align: top;\n",
       "    }\n",
       "\n",
       "    .dataframe thead th {\n",
       "        text-align: right;\n",
       "    }\n",
       "</style>\n",
       "<table border=\"1\" class=\"dataframe\">\n",
       "  <thead>\n",
       "    <tr style=\"text-align: right;\">\n",
       "      <th></th>\n",
       "      <th>artist</th>\n",
       "      <th>album</th>\n",
       "      <th>track_name</th>\n",
       "      <th>danceability</th>\n",
       "      <th>energy</th>\n",
       "      <th>key</th>\n",
       "      <th>loudness</th>\n",
       "      <th>mode</th>\n",
       "      <th>speechiness</th>\n",
       "      <th>instrumentalness</th>\n",
       "      <th>liveness</th>\n",
       "      <th>valence</th>\n",
       "      <th>tempo</th>\n",
       "      <th>duration_ms</th>\n",
       "      <th>time_signature</th>\n",
       "      <th>track_id</th>\n",
       "    </tr>\n",
       "  </thead>\n",
       "  <tbody>\n",
       "    <tr>\n",
       "      <th>5gRcv46AMTrosmTOqrOV3Q</th>\n",
       "      <td>Nirvana</td>\n",
       "      <td>In Utero</td>\n",
       "      <td>Dumb</td>\n",
       "      <td>0.697</td>\n",
       "      <td>0.395</td>\n",
       "      <td>6</td>\n",
       "      <td>-13.580</td>\n",
       "      <td>1</td>\n",
       "      <td>0.0281</td>\n",
       "      <td>0.653000</td>\n",
       "      <td>0.1730</td>\n",
       "      <td>0.876</td>\n",
       "      <td>113.589</td>\n",
       "      <td>151893</td>\n",
       "      <td>4</td>\n",
       "      <td>5gRcv46AMTrosmTOqrOV3Q</td>\n",
       "    </tr>\n",
       "    <tr>\n",
       "      <th>70LcF31zb1H0PyJoS1Sx1r</th>\n",
       "      <td>Radiohead</td>\n",
       "      <td>Pablo Honey</td>\n",
       "      <td>Creep</td>\n",
       "      <td>0.515</td>\n",
       "      <td>0.430</td>\n",
       "      <td>7</td>\n",
       "      <td>-9.935</td>\n",
       "      <td>1</td>\n",
       "      <td>0.0372</td>\n",
       "      <td>0.000133</td>\n",
       "      <td>0.1290</td>\n",
       "      <td>0.104</td>\n",
       "      <td>91.844</td>\n",
       "      <td>238640</td>\n",
       "      <td>4</td>\n",
       "      <td>70LcF31zb1H0PyJoS1Sx1r</td>\n",
       "    </tr>\n",
       "    <tr>\n",
       "      <th>065bY5WrLvI3NN9VCK0QLe</th>\n",
       "      <td>Oliver Tree</td>\n",
       "      <td>Ugly is Beautiful</td>\n",
       "      <td>Jerk</td>\n",
       "      <td>0.521</td>\n",
       "      <td>0.707</td>\n",
       "      <td>9</td>\n",
       "      <td>-4.101</td>\n",
       "      <td>0</td>\n",
       "      <td>0.0428</td>\n",
       "      <td>0.000164</td>\n",
       "      <td>0.2270</td>\n",
       "      <td>0.298</td>\n",
       "      <td>159.824</td>\n",
       "      <td>135021</td>\n",
       "      <td>4</td>\n",
       "      <td>065bY5WrLvI3NN9VCK0QLe</td>\n",
       "    </tr>\n",
       "    <tr>\n",
       "      <th>6Al4oITGudbYvcBzO65ah6</th>\n",
       "      <td>Kyuss</td>\n",
       "      <td>Wretch</td>\n",
       "      <td>Son of a Bitch</td>\n",
       "      <td>0.456</td>\n",
       "      <td>0.700</td>\n",
       "      <td>5</td>\n",
       "      <td>-13.014</td>\n",
       "      <td>1</td>\n",
       "      <td>0.0464</td>\n",
       "      <td>0.046900</td>\n",
       "      <td>0.1820</td>\n",
       "      <td>0.471</td>\n",
       "      <td>101.023</td>\n",
       "      <td>363307</td>\n",
       "      <td>4</td>\n",
       "      <td>6Al4oITGudbYvcBzO65ah6</td>\n",
       "    </tr>\n",
       "    <tr>\n",
       "      <th>25aNJcqUnZmEKBmPhW9I82</th>\n",
       "      <td>Kate Nash</td>\n",
       "      <td>Made of Bricks</td>\n",
       "      <td>Dickhead</td>\n",
       "      <td>0.735</td>\n",
       "      <td>0.508</td>\n",
       "      <td>11</td>\n",
       "      <td>-8.129</td>\n",
       "      <td>0</td>\n",
       "      <td>0.1400</td>\n",
       "      <td>0.000002</td>\n",
       "      <td>0.1140</td>\n",
       "      <td>0.518</td>\n",
       "      <td>84.931</td>\n",
       "      <td>223000</td>\n",
       "      <td>4</td>\n",
       "      <td>25aNJcqUnZmEKBmPhW9I82</td>\n",
       "    </tr>\n",
       "    <tr>\n",
       "      <th>3sXaTInkrXe5YEaa6ZYr1S</th>\n",
       "      <td>Lil Wayne</td>\n",
       "      <td>Tha Carter</td>\n",
       "      <td>Snitch</td>\n",
       "      <td>0.844</td>\n",
       "      <td>0.723</td>\n",
       "      <td>6</td>\n",
       "      <td>-4.114</td>\n",
       "      <td>0</td>\n",
       "      <td>0.2830</td>\n",
       "      <td>0.000000</td>\n",
       "      <td>0.2260</td>\n",
       "      <td>0.625</td>\n",
       "      <td>102.907</td>\n",
       "      <td>235973</td>\n",
       "      <td>4</td>\n",
       "      <td>3sXaTInkrXe5YEaa6ZYr1S</td>\n",
       "    </tr>\n",
       "    <tr>\n",
       "      <th>3OmhbyRDJDm1zhfVEV7d0w</th>\n",
       "      <td>The Murderburgers</td>\n",
       "      <td>How to Ruin Your Life</td>\n",
       "      <td>Moron</td>\n",
       "      <td>0.530</td>\n",
       "      <td>0.978</td>\n",
       "      <td>0</td>\n",
       "      <td>-4.324</td>\n",
       "      <td>1</td>\n",
       "      <td>0.0629</td>\n",
       "      <td>0.000000</td>\n",
       "      <td>0.3270</td>\n",
       "      <td>0.537</td>\n",
       "      <td>125.961</td>\n",
       "      <td>104450</td>\n",
       "      <td>4</td>\n",
       "      <td>3OmhbyRDJDm1zhfVEV7d0w</td>\n",
       "    </tr>\n",
       "    <tr>\n",
       "      <th>22ML0MuFKfw16WejbxsLOy</th>\n",
       "      <td>Pat Benatar</td>\n",
       "      <td>In The Heat Of The Night</td>\n",
       "      <td>Heartbreaker</td>\n",
       "      <td>0.466</td>\n",
       "      <td>0.588</td>\n",
       "      <td>5</td>\n",
       "      <td>-10.666</td>\n",
       "      <td>0</td>\n",
       "      <td>0.0812</td>\n",
       "      <td>0.000010</td>\n",
       "      <td>0.0535</td>\n",
       "      <td>0.882</td>\n",
       "      <td>156.131</td>\n",
       "      <td>209360</td>\n",
       "      <td>4</td>\n",
       "      <td>22ML0MuFKfw16WejbxsLOy</td>\n",
       "    </tr>\n",
       "    <tr>\n",
       "      <th>2UiUTpQkTCmE1OX6senl6j</th>\n",
       "      <td>Green Day</td>\n",
       "      <td>Warning</td>\n",
       "      <td>Jackass</td>\n",
       "      <td>0.509</td>\n",
       "      <td>0.954</td>\n",
       "      <td>7</td>\n",
       "      <td>-2.903</td>\n",
       "      <td>1</td>\n",
       "      <td>0.0348</td>\n",
       "      <td>0.000000</td>\n",
       "      <td>0.0888</td>\n",
       "      <td>0.575</td>\n",
       "      <td>94.481</td>\n",
       "      <td>163040</td>\n",
       "      <td>4</td>\n",
       "      <td>2UiUTpQkTCmE1OX6senl6j</td>\n",
       "    </tr>\n",
       "    <tr>\n",
       "      <th>2khc6kEG4eBvYN1GvR6R97</th>\n",
       "      <td>The Brian Jonestown Massacre</td>\n",
       "      <td>Take It From The Man</td>\n",
       "      <td>Fucker</td>\n",
       "      <td>0.242</td>\n",
       "      <td>0.653</td>\n",
       "      <td>0</td>\n",
       "      <td>-6.012</td>\n",
       "      <td>1</td>\n",
       "      <td>0.0332</td>\n",
       "      <td>0.000000</td>\n",
       "      <td>0.5390</td>\n",
       "      <td>0.373</td>\n",
       "      <td>78.733</td>\n",
       "      <td>132400</td>\n",
       "      <td>4</td>\n",
       "      <td>2khc6kEG4eBvYN1GvR6R97</td>\n",
       "    </tr>\n",
       "  </tbody>\n",
       "</table>\n",
       "</div>"
      ],
      "text/plain": [
       "                                              artist  \\\n",
       "5gRcv46AMTrosmTOqrOV3Q                       Nirvana   \n",
       "70LcF31zb1H0PyJoS1Sx1r                     Radiohead   \n",
       "065bY5WrLvI3NN9VCK0QLe                   Oliver Tree   \n",
       "6Al4oITGudbYvcBzO65ah6                         Kyuss   \n",
       "25aNJcqUnZmEKBmPhW9I82                     Kate Nash   \n",
       "3sXaTInkrXe5YEaa6ZYr1S                     Lil Wayne   \n",
       "3OmhbyRDJDm1zhfVEV7d0w             The Murderburgers   \n",
       "22ML0MuFKfw16WejbxsLOy                   Pat Benatar   \n",
       "2UiUTpQkTCmE1OX6senl6j                     Green Day   \n",
       "2khc6kEG4eBvYN1GvR6R97  The Brian Jonestown Massacre   \n",
       "\n",
       "                                           album      track_name  \\\n",
       "5gRcv46AMTrosmTOqrOV3Q                  In Utero            Dumb   \n",
       "70LcF31zb1H0PyJoS1Sx1r               Pablo Honey           Creep   \n",
       "065bY5WrLvI3NN9VCK0QLe         Ugly is Beautiful            Jerk   \n",
       "6Al4oITGudbYvcBzO65ah6                    Wretch  Son of a Bitch   \n",
       "25aNJcqUnZmEKBmPhW9I82            Made of Bricks        Dickhead   \n",
       "3sXaTInkrXe5YEaa6ZYr1S                Tha Carter          Snitch   \n",
       "3OmhbyRDJDm1zhfVEV7d0w     How to Ruin Your Life           Moron   \n",
       "22ML0MuFKfw16WejbxsLOy  In The Heat Of The Night    Heartbreaker   \n",
       "2UiUTpQkTCmE1OX6senl6j                   Warning         Jackass   \n",
       "2khc6kEG4eBvYN1GvR6R97      Take It From The Man          Fucker   \n",
       "\n",
       "                        danceability  energy key  loudness mode  speechiness  \\\n",
       "5gRcv46AMTrosmTOqrOV3Q         0.697   0.395   6   -13.580    1       0.0281   \n",
       "70LcF31zb1H0PyJoS1Sx1r         0.515   0.430   7    -9.935    1       0.0372   \n",
       "065bY5WrLvI3NN9VCK0QLe         0.521   0.707   9    -4.101    0       0.0428   \n",
       "6Al4oITGudbYvcBzO65ah6         0.456   0.700   5   -13.014    1       0.0464   \n",
       "25aNJcqUnZmEKBmPhW9I82         0.735   0.508  11    -8.129    0       0.1400   \n",
       "3sXaTInkrXe5YEaa6ZYr1S         0.844   0.723   6    -4.114    0       0.2830   \n",
       "3OmhbyRDJDm1zhfVEV7d0w         0.530   0.978   0    -4.324    1       0.0629   \n",
       "22ML0MuFKfw16WejbxsLOy         0.466   0.588   5   -10.666    0       0.0812   \n",
       "2UiUTpQkTCmE1OX6senl6j         0.509   0.954   7    -2.903    1       0.0348   \n",
       "2khc6kEG4eBvYN1GvR6R97         0.242   0.653   0    -6.012    1       0.0332   \n",
       "\n",
       "                        instrumentalness  liveness  valence    tempo  \\\n",
       "5gRcv46AMTrosmTOqrOV3Q          0.653000    0.1730    0.876  113.589   \n",
       "70LcF31zb1H0PyJoS1Sx1r          0.000133    0.1290    0.104   91.844   \n",
       "065bY5WrLvI3NN9VCK0QLe          0.000164    0.2270    0.298  159.824   \n",
       "6Al4oITGudbYvcBzO65ah6          0.046900    0.1820    0.471  101.023   \n",
       "25aNJcqUnZmEKBmPhW9I82          0.000002    0.1140    0.518   84.931   \n",
       "3sXaTInkrXe5YEaa6ZYr1S          0.000000    0.2260    0.625  102.907   \n",
       "3OmhbyRDJDm1zhfVEV7d0w          0.000000    0.3270    0.537  125.961   \n",
       "22ML0MuFKfw16WejbxsLOy          0.000010    0.0535    0.882  156.131   \n",
       "2UiUTpQkTCmE1OX6senl6j          0.000000    0.0888    0.575   94.481   \n",
       "2khc6kEG4eBvYN1GvR6R97          0.000000    0.5390    0.373   78.733   \n",
       "\n",
       "                       duration_ms time_signature                track_id  \n",
       "5gRcv46AMTrosmTOqrOV3Q      151893              4  5gRcv46AMTrosmTOqrOV3Q  \n",
       "70LcF31zb1H0PyJoS1Sx1r      238640              4  70LcF31zb1H0PyJoS1Sx1r  \n",
       "065bY5WrLvI3NN9VCK0QLe      135021              4  065bY5WrLvI3NN9VCK0QLe  \n",
       "6Al4oITGudbYvcBzO65ah6      363307              4  6Al4oITGudbYvcBzO65ah6  \n",
       "25aNJcqUnZmEKBmPhW9I82      223000              4  25aNJcqUnZmEKBmPhW9I82  \n",
       "3sXaTInkrXe5YEaa6ZYr1S      235973              4  3sXaTInkrXe5YEaa6ZYr1S  \n",
       "3OmhbyRDJDm1zhfVEV7d0w      104450              4  3OmhbyRDJDm1zhfVEV7d0w  \n",
       "22ML0MuFKfw16WejbxsLOy      209360              4  22ML0MuFKfw16WejbxsLOy  \n",
       "2UiUTpQkTCmE1OX6senl6j      163040              4  2UiUTpQkTCmE1OX6senl6j  \n",
       "2khc6kEG4eBvYN1GvR6R97      132400              4  2khc6kEG4eBvYN1GvR6R97  "
      ]
     },
     "execution_count": 122,
     "metadata": {},
     "output_type": "execute_result"
    }
   ],
   "source": [
    "playlist_df"
   ]
  },
  {
   "cell_type": "code",
   "execution_count": 121,
   "id": "297e3ab7-3ab9-4794-8d2d-5c82aeeff297",
   "metadata": {},
   "outputs": [
    {
     "name": "stdout",
     "output_type": "stream",
     "text": [
      "{'danceability': 0.279, 'energy': 0.05399999999999994, 'instrumentalness': 0.000164, 'liveness': 0.31200000000000006, 'valence': 0.07500000000000001, 'loudness': 0.03184999999999999, 'tempo': 0.5792214285714287, 'key': 0.0, 'mode': 1.0}\n",
      "{'danceability': 0.0, 'energy': 0.0, 'instrumentalness': 0.0, 'liveness': 0.0, 'valence': 0.0, 'loudness': 0.0, 'tempo': 0.0, 'key': 0.0, 'mode': 0.0}\n",
      "0.7409738412698412\n",
      "0.9986764203939416\n",
      "1.0\n"
     ]
    }
   ],
   "source": [
    "def compare_keys(key1: int, mode1: int, key2: int, mode2: int) -> float:\n",
    "    \"\"\"\n",
    "    Returns how similar the key of 2 tracks is based on their relative positions in the circle of fifths.\n",
    "\n",
    "    For example, C major and A minor both occupy the same position on the circle of fifths (position 0). G maj/E min is position 2. D maj/B min is position 3,\n",
    "    and so on up to F maj/D min at position 11.\n",
    "\n",
    "    This function uses key and mode information provided by Spotify to calculate the position of each track on the circle of fifths.\n",
    "    The circle has 12 positions, so the minimum distance between two points is 0, and the maximum distance is 6, because the circle is bidirectional.\n",
    "    The function returns a scalar from 0-1, where 1 represents the maximum distance and 0 the minimum. Thus, the result is 1/6 of the distance on the circle.\n",
    "    \"\"\"\n",
    "    # Similar means similar audio feature values. Thus returning 0 means very similar, and 1 means very different.\n",
    "\n",
    "    circle_pos_1 = (7 * key1) % 12      # increase of 1 on the Spotify scale = up a half step\n",
    "                                        # but increase of a half step on the circle of fifths = up 7 positions (but max position is 11)\n",
    "\n",
    "    if mode1 == 0:                                  # however, if the key is actually a minor key, need to shift back 3 positions (equivalent to up 9)\n",
    "        circle_pos_1 = (circle_pos_1 + 9) % 12      # because, for example, C maj has position 0, but C min has position 9, on the circle of fifths\n",
    "\n",
    "    circle_pos_2 = (7 * key2) % 12      # calculate the position on the circle of fifths for the other song in the same way\n",
    "    if mode2 == 0:\n",
    "        circle_pos_2 = (circle_pos_2 + 9) % 12\n",
    "\n",
    "    circle_dist = abs(circle_pos_1 - circle_pos_2)      # calculate the distance between the 2 positions on the circle\n",
    "    if circle_dist > 6:                                 # because circle is bidirectional, differences greater than 6 are actually closer than 6\n",
    "        circle_dist = 12 - circle_dist\n",
    "\n",
    "    return circle_dist / 6      # convert to 0-1 scalar\n",
    "\n",
    "\n",
    "def similarity_dict(id1: str, id2: str, playlist_df: pd.DataFrame) -> dict:\n",
    "    \"\"\"Returns a dictionary with the similarity of each audio feature for the 2 given tracks. Smaller numbers mean more similar.\"\"\"\n",
    "    similarities = {}\n",
    "\n",
    "    # A list of features to compare:\n",
    "    features = ['danceability', 'energy', 'instrumentalness', 'liveness', 'valence', 'loudness', 'tempo', 'key', 'mode']\n",
    "\n",
    "    track1 = playlist_df.loc[id1] # variable containing all feature data from track 1\n",
    "    track2 = playlist_df.loc[id2] # variable containing all feature data from track 2\n",
    "\n",
    "    # Store all music feature data in dictionary form:\n",
    "    # The important part of this code is converting everything to a number (not a string) that can be manipulated\n",
    "    track1_features = {}\n",
    "    track2_features = {}\n",
    "    for feature in features:\n",
    "        track1_features[feature] = track1.get(feature)\n",
    "        track2_features[feature] = track2.get(feature)\n",
    "\n",
    "    feature_similarities = {}\n",
    "    for feature in features:\n",
    "        if feature not in ['loudness', 'tempo', 'mode', 'key']:     # these features aren't stored as scalars, meaning their comparisons need to be handled differently\n",
    "            # Compute the difference between the feature data for each track\n",
    "            feature_similarities[feature] = abs(track1_features[feature] - track2_features[feature])\n",
    "\n",
    "        if feature == 'loudness':\n",
    "            feature_similarities[feature] = abs(track1_features[feature] - track2_features[feature]) * (1/60)  # loudness is stored -60 to 0, this converts the difference to a positive scalar\n",
    "            # In rare cases, loudness falls outside the -60 to 0 range. If so, the code to scale down the difference between loudness to a scalar might result in a value over 1.\n",
    "            # This code caps the maximum amount of difference at 1 - in other words, tracks that have over 60 dB of loudness difference are treated as having 60 dB of loudness difference.\n",
    "            if feature_similarities[feature] > 1:\n",
    "                feature_similarities[feature] = 1\n",
    "\n",
    "        if feature == 'tempo':\n",
    "            # Tempo is measured in BPM. This could be any positive integer, but most are within a range of 40-200 BPM.\n",
    "            # For the purpose of comparison, tracks under 40 BPM are treated as having a BPM of 40. Tracks over 200 are treated as having a BPM of 200.\n",
    "            # Thus, the maximum difference is 160, and the minimum is 0.\n",
    "            # So to convert to a scalar, the difference between BPM is divided by 160.\n",
    "            if track1_features[feature] < 40:\n",
    "                track1_features[feature] = 40\n",
    "            if track1_features[feature] > 200:\n",
    "                track1_features[feature] = 200\n",
    "            if track2_features[feature] < 40:\n",
    "                track2_features[feature] = 40\n",
    "            if track2_features[feature] > 200:\n",
    "                track2_features[feature] = 200\n",
    "\n",
    "            feature_similarities[feature] = abs(track1_features[feature] - track2_features[feature]) * (1/140)\n",
    "\n",
    "        if feature == 'key':\n",
    "            feature_similarities[feature] = compare_keys(track1_features['key'], track1_features['mode'], track2_features['key'], track2_features['mode'])\n",
    "\n",
    "        if feature == 'mode':\n",
    "            feature_similarities[feature] = float(abs(track1_features[feature] - track2_features[feature]))     # converted to float (from int) for uniformity, no practical effect\n",
    "\n",
    "    return feature_similarities\n",
    "\n",
    "\n",
    "def similarity_scalar_from_dict(feature_similarities: dict, **weights) -> float:\n",
    "    \"\"\"\n",
    "    Returns a scalar from 0-1 that tells you how similar 2 songs are based on a mash-up of their audio features.\n",
    "    By default, each audio feature is weighted equally in comparison (weight = 1). However, you can include a parameter for any audio feature you want.\n",
    "    Setting this value to 0, for example, will give that feature no weight. Setting it to 4 will make that feature 4x as important as every other feature.\n",
    "    Example usages:\n",
    "        similarity_scalar(feature_similarities)\n",
    "        similarity_scalar(feature_similarities, valence=4)\n",
    "        similarity_scalar(feature_similarities, valence=4, mode=0, key=10)\n",
    "    \"\"\"\n",
    "\n",
    "    # The scalar is computed as an average of all the similarities.\n",
    "    total = 0                                                           # Stores the current sum of similarity differences\n",
    "    total_weight = len(feature_similarities)                            # Stores the current sum of weights, by default = number of features * 1\n",
    "    for similarity in feature_similarities.items():                     # Iterate through all audio features given (.items() iterates a tuple: (feature, similarity))\n",
    "        try:                                                            # Act as if there's a given weight for this feature. Try to compute that.\n",
    "            total += similarity[1] * weights[similarity[0]]             # Add this similarity times its special weight to the sum of similarities.\n",
    "            total_weight += weights[similarity[0]]                      # Add the weight to the total weight. The sum of similarities is divided by this number.\n",
    "        except KeyError:                                                # Base case: no weight was given for this feature\n",
    "            total += similarity[1]                                      # Add the similarity for this feature to the total similarity variable\n",
    "\n",
    "    # Divide the total similarity variable by the number of features\n",
    "    # Changing weights of features essentially changes the number of features\n",
    "    # In the data, 2 identical songs have a similarity average of 0.\n",
    "    # However, it makes intuitive sense for similarity to be measured as 1 = identical, and 0 = completely different.\n",
    "    # Hence, the value is inverted:\n",
    "    return 1 - (total / total_weight)\n",
    "\n",
    "\n",
    "def similarity_scalar(id1: str, id2: str, playlist_df: pd.DataFrame, **weights) -> float:\n",
    "    \"\"\"\n",
    "    Overloads the similarity_scalar function to just take song ids and optional feature weights\n",
    "    But since function overloading isn't a thing in Python (why???) they're actually different functions.\n",
    "    \"\"\"\n",
    "    return similarity_scalar_from_dict(similarity_dict(id1, id2, playlist_df), **weights)\n",
    "\n",
    "# Since we already wrote a function that returns a dictionary associating a song title with its ID, we'll use that\n",
    "song_ids = get_song_ids(playlist_tracks)\n",
    "# We need to analyze the playlist:\n",
    "playlist_df = analyze_playlist(creator_id, playlist_id, sp)\n",
    "# Compare 2 songs with matching keys based on circle of fifths:\n",
    "comp1 = similarity_dict(song_ids['Fucker'], song_ids['Jerk'], playlist_df)\n",
    "# Compare a song to itself:\n",
    "comp2 = similarity_dict(song_ids['Dumb'], song_ids['Dumb'], playlist_df)\n",
    "\n",
    "# See comparison breakdowns:\n",
    "print(comp1)\n",
    "print(comp2)\n",
    "\n",
    "# See similarity scalars:\n",
    "print(similarity_scalar(song_ids['Fucker'], song_ids['Jerk'], playlist_df))     # A scalar for comp1 from before\n",
    "print(similarity_scalar(song_ids['Fucker'], song_ids['Jerk'], playlist_df, instrumentalness=2000))      # Weight instrumentalness 2000x more important than everything else.\n",
    "print(similarity_scalar(song_ids['Dumb'], song_ids['Dumb'], playlist_df))       # A scalar for comp2 from before"
   ]
  },
  {
   "cell_type": "code",
   "execution_count": 123,
   "id": "20abfb71-e0be-4da2-80c0-df9b80608e16",
   "metadata": {},
   "outputs": [
    {
     "data": {
      "text/plain": [
       "{'danceability': 0.279,\n",
       " 'energy': 0.05399999999999994,\n",
       " 'instrumentalness': 0.000164,\n",
       " 'liveness': 0.31200000000000006,\n",
       " 'valence': 0.07500000000000001,\n",
       " 'loudness': 0.03184999999999999,\n",
       " 'tempo': 0.5792214285714287,\n",
       " 'key': 0.0,\n",
       " 'mode': 1.0}"
      ]
     },
     "execution_count": 123,
     "metadata": {},
     "output_type": "execute_result"
    }
   ],
   "source": [
    "similarity_dict(song_ids['Fucker'], song_ids['Jerk'], playlist_df)"
   ]
  },
  {
   "cell_type": "markdown",
   "id": "c23ff351-b99f-4075-b44f-5827689ef9b8",
   "metadata": {
    "tags": []
   },
   "source": [
    "## Class Data"
   ]
  },
  {
   "cell_type": "code",
   "execution_count": 8,
   "id": "d7ec2a54-d568-4720-a92a-70efabbac6ab",
   "metadata": {},
   "outputs": [],
   "source": [
    "class_playlists_csv = 'https://docs.google.com/spreadsheets/d/e/2PACX-1vQ4QCeBZ0m8k4829vHneGi50Vt9_cJTOJzlW87YqAK7DCKl4RMtjefztShCi_mf7Km4DmwLcCaKBp96/pub?output=csv'\n",
    "\n",
    "class_playlists = pd.read_csv(class_playlists_csv)"
   ]
  },
  {
   "cell_type": "code",
   "execution_count": 9,
   "id": "84fafd39-9f88-42ed-8a7c-7f2c38cc7d71",
   "metadata": {},
   "outputs": [
    {
     "data": {
      "text/html": [
       "<div>\n",
       "<style scoped>\n",
       "    .dataframe tbody tr th:only-of-type {\n",
       "        vertical-align: middle;\n",
       "    }\n",
       "\n",
       "    .dataframe tbody tr th {\n",
       "        vertical-align: top;\n",
       "    }\n",
       "\n",
       "    .dataframe thead th {\n",
       "        text-align: right;\n",
       "    }\n",
       "</style>\n",
       "<table border=\"1\" class=\"dataframe\">\n",
       "  <thead>\n",
       "    <tr style=\"text-align: right;\">\n",
       "      <th></th>\n",
       "      <th>your_name</th>\n",
       "      <th>playlist_short_title</th>\n",
       "      <th>playlist_theme_in_a_short_sentence</th>\n",
       "      <th>your_spotify_user_id</th>\n",
       "      <th>playlist_id</th>\n",
       "      <th>possible_point_of_inquiry_for_this_list</th>\n",
       "    </tr>\n",
       "  </thead>\n",
       "  <tbody>\n",
       "    <tr>\n",
       "      <th>0</th>\n",
       "      <td>Felicia Pursner</td>\n",
       "      <td>Rachel</td>\n",
       "      <td>Rachel is my friend that moved away and I am s...</td>\n",
       "      <td>31q5klg4ff7wfe2xydkj2qfbai3e</td>\n",
       "      <td>3G7quCcAFg2XoLfP67KAz0</td>\n",
       "      <td>I would be interested to see the most common w...</td>\n",
       "    </tr>\n",
       "    <tr>\n",
       "      <th>1</th>\n",
       "      <td>Felicia Pursner</td>\n",
       "      <td>21</td>\n",
       "      <td>About growing up and being a mess</td>\n",
       "      <td>31q5klg4ff7wfe2xydkj2qfbai3e</td>\n",
       "      <td>39HTY1maJNsZ38f0PxYTCn</td>\n",
       "      <td>Comparing the key to the tempo (does a minor k...</td>\n",
       "    </tr>\n",
       "    <tr>\n",
       "      <th>2</th>\n",
       "      <td>Felicia Pursner</td>\n",
       "      <td>RUTH Covers</td>\n",
       "      <td>Running up that hill 10x</td>\n",
       "      <td>31q5klg4ff7wfe2xydkj2qfbai3e</td>\n",
       "      <td>6LGNXpHmGXfuBfMP3xlkgd</td>\n",
       "      <td>Which is the most danceable</td>\n",
       "    </tr>\n",
       "    <tr>\n",
       "      <th>3</th>\n",
       "      <td>Logan Griffin</td>\n",
       "      <td>fall compressed</td>\n",
       "      <td>Songs that are becoming essential to this Fall...</td>\n",
       "      <td>si13w4vxra7rr13akrgyjqna1</td>\n",
       "      <td>5cYM4qJ240rXUpFkHtOOML</td>\n",
       "      <td>Similarities like acousticness and speechiness...</td>\n",
       "    </tr>\n",
       "    <tr>\n",
       "      <th>4</th>\n",
       "      <td>Logan Griffin</td>\n",
       "      <td>bright - dnd character</td>\n",
       "      <td>Base playlist for a DnD character I had last y...</td>\n",
       "      <td>si13w4vxra7rr13akrgyjqna1</td>\n",
       "      <td>2mhU6pRVXoBUV4NpPzwXG5</td>\n",
       "      <td>Common lyrics/themes. What is communicated abo...</td>\n",
       "    </tr>\n",
       "    <tr>\n",
       "      <th>...</th>\n",
       "      <td>...</td>\n",
       "      <td>...</td>\n",
       "      <td>...</td>\n",
       "      <td>...</td>\n",
       "      <td>...</td>\n",
       "      <td>...</td>\n",
       "    </tr>\n",
       "    <tr>\n",
       "      <th>67</th>\n",
       "      <td>Virginia Do</td>\n",
       "      <td>my superwoman girlfriend</td>\n",
       "      <td>title</td>\n",
       "      <td>31dgylwwt5xotlt3mvwdrlaoqzee</td>\n",
       "      <td>0W0aM5sxkXvE61zbKvPR3h</td>\n",
       "      <td>I'd be interested in the common words/lyrics a...</td>\n",
       "    </tr>\n",
       "    <tr>\n",
       "      <th>68</th>\n",
       "      <td>Virginia Do</td>\n",
       "      <td>me and my sib</td>\n",
       "      <td>me and my younger brother's shared asian gener...</td>\n",
       "      <td>31dgylwwt5xotlt3mvwdrlaoqzee</td>\n",
       "      <td>6g5nJwIKMvO5S6SDt6JeAB</td>\n",
       "      <td>The way piecing together non-narrative vibes i...</td>\n",
       "    </tr>\n",
       "    <tr>\n",
       "      <th>69</th>\n",
       "      <td>Amanda Edelmayer</td>\n",
       "      <td>Mental Breakdown Bops</td>\n",
       "      <td>songs that sound like mental breakdowns</td>\n",
       "      <td>MilkTeaHoneyy</td>\n",
       "      <td>72pOht0sjEPlgpCPbwUNfS</td>\n",
       "      <td>What makes these songs sound like mental break...</td>\n",
       "    </tr>\n",
       "    <tr>\n",
       "      <th>70</th>\n",
       "      <td>Amanda Edelmayer</td>\n",
       "      <td>The 2020's</td>\n",
       "      <td>a collection of ElectroSwing songs that I like</td>\n",
       "      <td>MilkTeaHoneyy</td>\n",
       "      <td>6tf3BsN0WB51IsU7PLxLgv</td>\n",
       "      <td>How do these songs blend the old and the new? ...</td>\n",
       "    </tr>\n",
       "    <tr>\n",
       "      <th>71</th>\n",
       "      <td>Amanda Edelmayer</td>\n",
       "      <td>Glitter on the Floor</td>\n",
       "      <td>2010's pop songs about living for tonight</td>\n",
       "      <td>MilkTeaHoneyy</td>\n",
       "      <td>1jOZ93WWedULxoFUt4TlZn</td>\n",
       "      <td></td>\n",
       "    </tr>\n",
       "  </tbody>\n",
       "</table>\n",
       "<p>72 rows × 6 columns</p>\n",
       "</div>"
      ],
      "text/plain": [
       "           your_name      playlist_short_title  \\\n",
       "0    Felicia Pursner                    Rachel   \n",
       "1    Felicia Pursner                        21   \n",
       "2    Felicia Pursner               RUTH Covers   \n",
       "3      Logan Griffin           fall compressed   \n",
       "4      Logan Griffin    bright - dnd character   \n",
       "..               ...                       ...   \n",
       "67       Virginia Do  my superwoman girlfriend   \n",
       "68       Virginia Do             me and my sib   \n",
       "69  Amanda Edelmayer     Mental Breakdown Bops   \n",
       "70  Amanda Edelmayer                The 2020's   \n",
       "71  Amanda Edelmayer      Glitter on the Floor   \n",
       "\n",
       "                   playlist_theme_in_a_short_sentence  \\\n",
       "0   Rachel is my friend that moved away and I am s...   \n",
       "1                   About growing up and being a mess   \n",
       "2                            Running up that hill 10x   \n",
       "3   Songs that are becoming essential to this Fall...   \n",
       "4   Base playlist for a DnD character I had last y...   \n",
       "..                                                ...   \n",
       "67                                              title   \n",
       "68  me and my younger brother's shared asian gener...   \n",
       "69            songs that sound like mental breakdowns   \n",
       "70     a collection of ElectroSwing songs that I like   \n",
       "71          2010's pop songs about living for tonight   \n",
       "\n",
       "            your_spotify_user_id             playlist_id  \\\n",
       "0   31q5klg4ff7wfe2xydkj2qfbai3e  3G7quCcAFg2XoLfP67KAz0   \n",
       "1   31q5klg4ff7wfe2xydkj2qfbai3e  39HTY1maJNsZ38f0PxYTCn   \n",
       "2   31q5klg4ff7wfe2xydkj2qfbai3e  6LGNXpHmGXfuBfMP3xlkgd   \n",
       "3      si13w4vxra7rr13akrgyjqna1  5cYM4qJ240rXUpFkHtOOML   \n",
       "4      si13w4vxra7rr13akrgyjqna1  2mhU6pRVXoBUV4NpPzwXG5   \n",
       "..                           ...                     ...   \n",
       "67  31dgylwwt5xotlt3mvwdrlaoqzee  0W0aM5sxkXvE61zbKvPR3h   \n",
       "68  31dgylwwt5xotlt3mvwdrlaoqzee  6g5nJwIKMvO5S6SDt6JeAB   \n",
       "69                 MilkTeaHoneyy  72pOht0sjEPlgpCPbwUNfS   \n",
       "70                 MilkTeaHoneyy  6tf3BsN0WB51IsU7PLxLgv   \n",
       "71                 MilkTeaHoneyy  1jOZ93WWedULxoFUt4TlZn   \n",
       "\n",
       "              possible_point_of_inquiry_for_this_list  \n",
       "0   I would be interested to see the most common w...  \n",
       "1   Comparing the key to the tempo (does a minor k...  \n",
       "2                         Which is the most danceable  \n",
       "3   Similarities like acousticness and speechiness...  \n",
       "4   Common lyrics/themes. What is communicated abo...  \n",
       "..                                                ...  \n",
       "67  I'd be interested in the common words/lyrics a...  \n",
       "68  The way piecing together non-narrative vibes i...  \n",
       "69  What makes these songs sound like mental break...  \n",
       "70  How do these songs blend the old and the new? ...  \n",
       "71                                                     \n",
       "\n",
       "[72 rows x 6 columns]"
      ]
     },
     "execution_count": 9,
     "metadata": {},
     "output_type": "execute_result"
    }
   ],
   "source": [
    "class_playlists"
   ]
  },
  {
   "cell_type": "code",
   "execution_count": 10,
   "id": "11d50f18-1c0a-4b71-a659-0b6310cd50aa",
   "metadata": {},
   "outputs": [],
   "source": [
    "class_audio_data = pd.read_csv('https://bit.ly/our_spotify_list_audio_data')"
   ]
  },
  {
   "cell_type": "code",
   "execution_count": 43,
   "id": "a51075b7-d15c-42ca-9215-28d9f95fbd91",
   "metadata": {},
   "outputs": [
    {
     "data": {
      "text/html": [
       "<div>\n",
       "<style scoped>\n",
       "    .dataframe tbody tr th:only-of-type {\n",
       "        vertical-align: middle;\n",
       "    }\n",
       "\n",
       "    .dataframe tbody tr th {\n",
       "        vertical-align: top;\n",
       "    }\n",
       "\n",
       "    .dataframe thead th {\n",
       "        text-align: right;\n",
       "    }\n",
       "</style>\n",
       "<table border=\"1\" class=\"dataframe\">\n",
       "  <thead>\n",
       "    <tr style=\"text-align: right;\">\n",
       "      <th></th>\n",
       "      <th>track_id</th>\n",
       "      <th>track_title</th>\n",
       "      <th>artist_name</th>\n",
       "      <th>danceability</th>\n",
       "      <th>energy</th>\n",
       "      <th>key</th>\n",
       "      <th>loudness</th>\n",
       "      <th>mode</th>\n",
       "      <th>speechiness</th>\n",
       "      <th>acousticness</th>\n",
       "      <th>...</th>\n",
       "      <th>valence</th>\n",
       "      <th>tempo</th>\n",
       "      <th>type</th>\n",
       "      <th>id</th>\n",
       "      <th>uri</th>\n",
       "      <th>track_href</th>\n",
       "      <th>analysis_url</th>\n",
       "      <th>duration_ms</th>\n",
       "      <th>time_signature</th>\n",
       "      <th>playlist_title</th>\n",
       "    </tr>\n",
       "  </thead>\n",
       "  <tbody>\n",
       "    <tr>\n",
       "      <th>0</th>\n",
       "      <td>2aDk1KkyB7ieSwwEDXCHJg</td>\n",
       "      <td>The Mind Electric</td>\n",
       "      <td>Miracle Musical</td>\n",
       "      <td>0.227</td>\n",
       "      <td>0.431</td>\n",
       "      <td>7</td>\n",
       "      <td>-9.527</td>\n",
       "      <td>0</td>\n",
       "      <td>0.0432</td>\n",
       "      <td>0.66600</td>\n",
       "      <td>...</td>\n",
       "      <td>0.575</td>\n",
       "      <td>76.986</td>\n",
       "      <td>audio_features</td>\n",
       "      <td>2aDk1KkyB7ieSwwEDXCHJg</td>\n",
       "      <td>spotify:track:2aDk1KkyB7ieSwwEDXCHJg</td>\n",
       "      <td>https://api.spotify.com/v1/tracks/2aDk1KkyB7ie...</td>\n",
       "      <td>https://api.spotify.com/v1/audio-analysis/2aDk...</td>\n",
       "      <td>373359</td>\n",
       "      <td>4</td>\n",
       "      <td>amanda_edelmayer_mental_breakdown_bops</td>\n",
       "    </tr>\n",
       "    <tr>\n",
       "      <th>1</th>\n",
       "      <td>7JTGwb6ug0z15F5roNLE0s</td>\n",
       "      <td>Two Time</td>\n",
       "      <td>Jack Stauber's Micropop</td>\n",
       "      <td>0.832</td>\n",
       "      <td>0.346</td>\n",
       "      <td>0</td>\n",
       "      <td>-9.640</td>\n",
       "      <td>1</td>\n",
       "      <td>0.0360</td>\n",
       "      <td>0.11200</td>\n",
       "      <td>...</td>\n",
       "      <td>0.688</td>\n",
       "      <td>98.512</td>\n",
       "      <td>audio_features</td>\n",
       "      <td>7JTGwb6ug0z15F5roNLE0s</td>\n",
       "      <td>spotify:track:7JTGwb6ug0z15F5roNLE0s</td>\n",
       "      <td>https://api.spotify.com/v1/tracks/7JTGwb6ug0z1...</td>\n",
       "      <td>https://api.spotify.com/v1/audio-analysis/7JTG...</td>\n",
       "      <td>139851</td>\n",
       "      <td>4</td>\n",
       "      <td>amanda_edelmayer_mental_breakdown_bops</td>\n",
       "    </tr>\n",
       "    <tr>\n",
       "      <th>2</th>\n",
       "      <td>1dXivQjVkgLUytJ7PGdlod</td>\n",
       "      <td>What's Gonna Happen</td>\n",
       "      <td>Sarah Stiles</td>\n",
       "      <td>0.689</td>\n",
       "      <td>0.676</td>\n",
       "      <td>11</td>\n",
       "      <td>-8.310</td>\n",
       "      <td>1</td>\n",
       "      <td>0.2880</td>\n",
       "      <td>0.67800</td>\n",
       "      <td>...</td>\n",
       "      <td>0.865</td>\n",
       "      <td>177.847</td>\n",
       "      <td>audio_features</td>\n",
       "      <td>1dXivQjVkgLUytJ7PGdlod</td>\n",
       "      <td>spotify:track:1dXivQjVkgLUytJ7PGdlod</td>\n",
       "      <td>https://api.spotify.com/v1/tracks/1dXivQjVkgLU...</td>\n",
       "      <td>https://api.spotify.com/v1/audio-analysis/1dXi...</td>\n",
       "      <td>187413</td>\n",
       "      <td>4</td>\n",
       "      <td>amanda_edelmayer_mental_breakdown_bops</td>\n",
       "    </tr>\n",
       "    <tr>\n",
       "      <th>3</th>\n",
       "      <td>67VxWciiaYZYy3NTlyCtp7</td>\n",
       "      <td>Cigarette Ahegao</td>\n",
       "      <td>Penelope Scott</td>\n",
       "      <td>0.654</td>\n",
       "      <td>0.285</td>\n",
       "      <td>5</td>\n",
       "      <td>-13.379</td>\n",
       "      <td>0</td>\n",
       "      <td>0.0375</td>\n",
       "      <td>0.09660</td>\n",
       "      <td>...</td>\n",
       "      <td>0.148</td>\n",
       "      <td>82.997</td>\n",
       "      <td>audio_features</td>\n",
       "      <td>67VxWciiaYZYy3NTlyCtp7</td>\n",
       "      <td>spotify:track:67VxWciiaYZYy3NTlyCtp7</td>\n",
       "      <td>https://api.spotify.com/v1/tracks/67VxWciiaYZY...</td>\n",
       "      <td>https://api.spotify.com/v1/audio-analysis/67Vx...</td>\n",
       "      <td>183992</td>\n",
       "      <td>4</td>\n",
       "      <td>amanda_edelmayer_mental_breakdown_bops</td>\n",
       "    </tr>\n",
       "    <tr>\n",
       "      <th>4</th>\n",
       "      <td>5YIyPIZseBVqumEiZfsv41</td>\n",
       "      <td>You Stupid Bitch (feat. Rachel Bloom)</td>\n",
       "      <td>Crazy Ex-Girlfriend Cast</td>\n",
       "      <td>0.442</td>\n",
       "      <td>0.527</td>\n",
       "      <td>7</td>\n",
       "      <td>-4.982</td>\n",
       "      <td>0</td>\n",
       "      <td>0.0314</td>\n",
       "      <td>0.62300</td>\n",
       "      <td>...</td>\n",
       "      <td>0.453</td>\n",
       "      <td>102.248</td>\n",
       "      <td>audio_features</td>\n",
       "      <td>5YIyPIZseBVqumEiZfsv41</td>\n",
       "      <td>spotify:track:5YIyPIZseBVqumEiZfsv41</td>\n",
       "      <td>https://api.spotify.com/v1/tracks/5YIyPIZseBVq...</td>\n",
       "      <td>https://api.spotify.com/v1/audio-analysis/5YIy...</td>\n",
       "      <td>142817</td>\n",
       "      <td>3</td>\n",
       "      <td>amanda_edelmayer_mental_breakdown_bops</td>\n",
       "    </tr>\n",
       "    <tr>\n",
       "      <th>...</th>\n",
       "      <td>...</td>\n",
       "      <td>...</td>\n",
       "      <td>...</td>\n",
       "      <td>...</td>\n",
       "      <td>...</td>\n",
       "      <td>...</td>\n",
       "      <td>...</td>\n",
       "      <td>...</td>\n",
       "      <td>...</td>\n",
       "      <td>...</td>\n",
       "      <td>...</td>\n",
       "      <td>...</td>\n",
       "      <td>...</td>\n",
       "      <td>...</td>\n",
       "      <td>...</td>\n",
       "      <td>...</td>\n",
       "      <td>...</td>\n",
       "      <td>...</td>\n",
       "      <td>...</td>\n",
       "      <td>...</td>\n",
       "      <td>...</td>\n",
       "    </tr>\n",
       "    <tr>\n",
       "      <th>699</th>\n",
       "      <td>4zQuwW24dweWcaX0fEJkP2</td>\n",
       "      <td>You Know I'm No Good</td>\n",
       "      <td>Amy Winehouse</td>\n",
       "      <td>0.705</td>\n",
       "      <td>0.806</td>\n",
       "      <td>9</td>\n",
       "      <td>-3.607</td>\n",
       "      <td>1</td>\n",
       "      <td>0.0309</td>\n",
       "      <td>0.01320</td>\n",
       "      <td>...</td>\n",
       "      <td>0.734</td>\n",
       "      <td>103.383</td>\n",
       "      <td>audio_features</td>\n",
       "      <td>4zQuwW24dweWcaX0fEJkP2</td>\n",
       "      <td>spotify:track:4zQuwW24dweWcaX0fEJkP2</td>\n",
       "      <td>https://api.spotify.com/v1/tracks/4zQuwW24dweW...</td>\n",
       "      <td>https://api.spotify.com/v1/audio-analysis/4zQu...</td>\n",
       "      <td>256947</td>\n",
       "      <td>4</td>\n",
       "      <td>owen_yaggy_ice_cream_shop</td>\n",
       "    </tr>\n",
       "    <tr>\n",
       "      <th>700</th>\n",
       "      <td>33X9miK4Xz7pNeVrc9RITG</td>\n",
       "      <td>Ready to Start</td>\n",
       "      <td>Arcade Fire</td>\n",
       "      <td>0.277</td>\n",
       "      <td>0.934</td>\n",
       "      <td>9</td>\n",
       "      <td>-4.672</td>\n",
       "      <td>1</td>\n",
       "      <td>0.0382</td>\n",
       "      <td>0.11700</td>\n",
       "      <td>...</td>\n",
       "      <td>0.519</td>\n",
       "      <td>188.797</td>\n",
       "      <td>audio_features</td>\n",
       "      <td>33X9miK4Xz7pNeVrc9RITG</td>\n",
       "      <td>spotify:track:33X9miK4Xz7pNeVrc9RITG</td>\n",
       "      <td>https://api.spotify.com/v1/tracks/33X9miK4Xz7p...</td>\n",
       "      <td>https://api.spotify.com/v1/audio-analysis/33X9...</td>\n",
       "      <td>255907</td>\n",
       "      <td>4</td>\n",
       "      <td>owen_yaggy_ice_cream_shop</td>\n",
       "    </tr>\n",
       "    <tr>\n",
       "      <th>701</th>\n",
       "      <td>2MLHyLy5z5l5YRp7momlgw</td>\n",
       "      <td>Island In The Sun</td>\n",
       "      <td>Weezer</td>\n",
       "      <td>0.654</td>\n",
       "      <td>0.810</td>\n",
       "      <td>4</td>\n",
       "      <td>-6.260</td>\n",
       "      <td>0</td>\n",
       "      <td>0.0288</td>\n",
       "      <td>0.00719</td>\n",
       "      <td>...</td>\n",
       "      <td>0.661</td>\n",
       "      <td>114.623</td>\n",
       "      <td>audio_features</td>\n",
       "      <td>2MLHyLy5z5l5YRp7momlgw</td>\n",
       "      <td>spotify:track:2MLHyLy5z5l5YRp7momlgw</td>\n",
       "      <td>https://api.spotify.com/v1/tracks/2MLHyLy5z5l5...</td>\n",
       "      <td>https://api.spotify.com/v1/audio-analysis/2MLH...</td>\n",
       "      <td>200307</td>\n",
       "      <td>4</td>\n",
       "      <td>owen_yaggy_ice_cream_shop</td>\n",
       "    </tr>\n",
       "    <tr>\n",
       "      <th>702</th>\n",
       "      <td>4sebUbjqbcgDSwG6PbSGI0</td>\n",
       "      <td>Come a Little Closer</td>\n",
       "      <td>Cage The Elephant</td>\n",
       "      <td>0.440</td>\n",
       "      <td>0.778</td>\n",
       "      <td>1</td>\n",
       "      <td>-1.786</td>\n",
       "      <td>0</td>\n",
       "      <td>0.0327</td>\n",
       "      <td>0.02650</td>\n",
       "      <td>...</td>\n",
       "      <td>0.304</td>\n",
       "      <td>148.038</td>\n",
       "      <td>audio_features</td>\n",
       "      <td>4sebUbjqbcgDSwG6PbSGI0</td>\n",
       "      <td>spotify:track:4sebUbjqbcgDSwG6PbSGI0</td>\n",
       "      <td>https://api.spotify.com/v1/tracks/4sebUbjqbcgD...</td>\n",
       "      <td>https://api.spotify.com/v1/audio-analysis/4seb...</td>\n",
       "      <td>229347</td>\n",
       "      <td>4</td>\n",
       "      <td>owen_yaggy_ice_cream_shop</td>\n",
       "    </tr>\n",
       "    <tr>\n",
       "      <th>703</th>\n",
       "      <td>4XfI7M5gLwEY84gYiH4RDD</td>\n",
       "      <td>Devil's Advocate</td>\n",
       "      <td>The Neighbourhood</td>\n",
       "      <td>0.662</td>\n",
       "      <td>0.681</td>\n",
       "      <td>11</td>\n",
       "      <td>-8.152</td>\n",
       "      <td>0</td>\n",
       "      <td>0.0315</td>\n",
       "      <td>0.03210</td>\n",
       "      <td>...</td>\n",
       "      <td>0.864</td>\n",
       "      <td>98.004</td>\n",
       "      <td>audio_features</td>\n",
       "      <td>4XfI7M5gLwEY84gYiH4RDD</td>\n",
       "      <td>spotify:track:4XfI7M5gLwEY84gYiH4RDD</td>\n",
       "      <td>https://api.spotify.com/v1/tracks/4XfI7M5gLwEY...</td>\n",
       "      <td>https://api.spotify.com/v1/audio-analysis/4XfI...</td>\n",
       "      <td>186307</td>\n",
       "      <td>4</td>\n",
       "      <td>owen_yaggy_ice_cream_shop</td>\n",
       "    </tr>\n",
       "  </tbody>\n",
       "</table>\n",
       "<p>704 rows × 22 columns</p>\n",
       "</div>"
      ],
      "text/plain": [
       "                   track_id                            track_title  \\\n",
       "0    2aDk1KkyB7ieSwwEDXCHJg                      The Mind Electric   \n",
       "1    7JTGwb6ug0z15F5roNLE0s                               Two Time   \n",
       "2    1dXivQjVkgLUytJ7PGdlod                    What's Gonna Happen   \n",
       "3    67VxWciiaYZYy3NTlyCtp7                       Cigarette Ahegao   \n",
       "4    5YIyPIZseBVqumEiZfsv41  You Stupid Bitch (feat. Rachel Bloom)   \n",
       "..                      ...                                    ...   \n",
       "699  4zQuwW24dweWcaX0fEJkP2                   You Know I'm No Good   \n",
       "700  33X9miK4Xz7pNeVrc9RITG                         Ready to Start   \n",
       "701  2MLHyLy5z5l5YRp7momlgw                      Island In The Sun   \n",
       "702  4sebUbjqbcgDSwG6PbSGI0                   Come a Little Closer   \n",
       "703  4XfI7M5gLwEY84gYiH4RDD                       Devil's Advocate   \n",
       "\n",
       "                  artist_name  danceability  energy  key  loudness  mode  \\\n",
       "0             Miracle Musical         0.227   0.431    7    -9.527     0   \n",
       "1     Jack Stauber's Micropop         0.832   0.346    0    -9.640     1   \n",
       "2                Sarah Stiles         0.689   0.676   11    -8.310     1   \n",
       "3              Penelope Scott         0.654   0.285    5   -13.379     0   \n",
       "4    Crazy Ex-Girlfriend Cast         0.442   0.527    7    -4.982     0   \n",
       "..                        ...           ...     ...  ...       ...   ...   \n",
       "699             Amy Winehouse         0.705   0.806    9    -3.607     1   \n",
       "700               Arcade Fire         0.277   0.934    9    -4.672     1   \n",
       "701                    Weezer         0.654   0.810    4    -6.260     0   \n",
       "702         Cage The Elephant         0.440   0.778    1    -1.786     0   \n",
       "703         The Neighbourhood         0.662   0.681   11    -8.152     0   \n",
       "\n",
       "     speechiness  acousticness  ...  valence    tempo            type  \\\n",
       "0         0.0432       0.66600  ...    0.575   76.986  audio_features   \n",
       "1         0.0360       0.11200  ...    0.688   98.512  audio_features   \n",
       "2         0.2880       0.67800  ...    0.865  177.847  audio_features   \n",
       "3         0.0375       0.09660  ...    0.148   82.997  audio_features   \n",
       "4         0.0314       0.62300  ...    0.453  102.248  audio_features   \n",
       "..           ...           ...  ...      ...      ...             ...   \n",
       "699       0.0309       0.01320  ...    0.734  103.383  audio_features   \n",
       "700       0.0382       0.11700  ...    0.519  188.797  audio_features   \n",
       "701       0.0288       0.00719  ...    0.661  114.623  audio_features   \n",
       "702       0.0327       0.02650  ...    0.304  148.038  audio_features   \n",
       "703       0.0315       0.03210  ...    0.864   98.004  audio_features   \n",
       "\n",
       "                         id                                   uri  \\\n",
       "0    2aDk1KkyB7ieSwwEDXCHJg  spotify:track:2aDk1KkyB7ieSwwEDXCHJg   \n",
       "1    7JTGwb6ug0z15F5roNLE0s  spotify:track:7JTGwb6ug0z15F5roNLE0s   \n",
       "2    1dXivQjVkgLUytJ7PGdlod  spotify:track:1dXivQjVkgLUytJ7PGdlod   \n",
       "3    67VxWciiaYZYy3NTlyCtp7  spotify:track:67VxWciiaYZYy3NTlyCtp7   \n",
       "4    5YIyPIZseBVqumEiZfsv41  spotify:track:5YIyPIZseBVqumEiZfsv41   \n",
       "..                      ...                                   ...   \n",
       "699  4zQuwW24dweWcaX0fEJkP2  spotify:track:4zQuwW24dweWcaX0fEJkP2   \n",
       "700  33X9miK4Xz7pNeVrc9RITG  spotify:track:33X9miK4Xz7pNeVrc9RITG   \n",
       "701  2MLHyLy5z5l5YRp7momlgw  spotify:track:2MLHyLy5z5l5YRp7momlgw   \n",
       "702  4sebUbjqbcgDSwG6PbSGI0  spotify:track:4sebUbjqbcgDSwG6PbSGI0   \n",
       "703  4XfI7M5gLwEY84gYiH4RDD  spotify:track:4XfI7M5gLwEY84gYiH4RDD   \n",
       "\n",
       "                                            track_href  \\\n",
       "0    https://api.spotify.com/v1/tracks/2aDk1KkyB7ie...   \n",
       "1    https://api.spotify.com/v1/tracks/7JTGwb6ug0z1...   \n",
       "2    https://api.spotify.com/v1/tracks/1dXivQjVkgLU...   \n",
       "3    https://api.spotify.com/v1/tracks/67VxWciiaYZY...   \n",
       "4    https://api.spotify.com/v1/tracks/5YIyPIZseBVq...   \n",
       "..                                                 ...   \n",
       "699  https://api.spotify.com/v1/tracks/4zQuwW24dweW...   \n",
       "700  https://api.spotify.com/v1/tracks/33X9miK4Xz7p...   \n",
       "701  https://api.spotify.com/v1/tracks/2MLHyLy5z5l5...   \n",
       "702  https://api.spotify.com/v1/tracks/4sebUbjqbcgD...   \n",
       "703  https://api.spotify.com/v1/tracks/4XfI7M5gLwEY...   \n",
       "\n",
       "                                          analysis_url duration_ms  \\\n",
       "0    https://api.spotify.com/v1/audio-analysis/2aDk...      373359   \n",
       "1    https://api.spotify.com/v1/audio-analysis/7JTG...      139851   \n",
       "2    https://api.spotify.com/v1/audio-analysis/1dXi...      187413   \n",
       "3    https://api.spotify.com/v1/audio-analysis/67Vx...      183992   \n",
       "4    https://api.spotify.com/v1/audio-analysis/5YIy...      142817   \n",
       "..                                                 ...         ...   \n",
       "699  https://api.spotify.com/v1/audio-analysis/4zQu...      256947   \n",
       "700  https://api.spotify.com/v1/audio-analysis/33X9...      255907   \n",
       "701  https://api.spotify.com/v1/audio-analysis/2MLH...      200307   \n",
       "702  https://api.spotify.com/v1/audio-analysis/4seb...      229347   \n",
       "703  https://api.spotify.com/v1/audio-analysis/4XfI...      186307   \n",
       "\n",
       "    time_signature                          playlist_title  \n",
       "0                4  amanda_edelmayer_mental_breakdown_bops  \n",
       "1                4  amanda_edelmayer_mental_breakdown_bops  \n",
       "2                4  amanda_edelmayer_mental_breakdown_bops  \n",
       "3                4  amanda_edelmayer_mental_breakdown_bops  \n",
       "4                3  amanda_edelmayer_mental_breakdown_bops  \n",
       "..             ...                                     ...  \n",
       "699              4               owen_yaggy_ice_cream_shop  \n",
       "700              4               owen_yaggy_ice_cream_shop  \n",
       "701              4               owen_yaggy_ice_cream_shop  \n",
       "702              4               owen_yaggy_ice_cream_shop  \n",
       "703              4               owen_yaggy_ice_cream_shop  \n",
       "\n",
       "[704 rows x 22 columns]"
      ]
     },
     "execution_count": 43,
     "metadata": {},
     "output_type": "execute_result"
    }
   ],
   "source": [
    "class_audio_data"
   ]
  },
  {
   "cell_type": "code",
   "execution_count": 62,
   "id": "2379cf7e-8f69-4694-b3eb-b2eb748a22a5",
   "metadata": {},
   "outputs": [
    {
     "data": {
      "text/html": [
       "<div>\n",
       "<style scoped>\n",
       "    .dataframe tbody tr th:only-of-type {\n",
       "        vertical-align: middle;\n",
       "    }\n",
       "\n",
       "    .dataframe tbody tr th {\n",
       "        vertical-align: top;\n",
       "    }\n",
       "\n",
       "    .dataframe thead th {\n",
       "        text-align: right;\n",
       "    }\n",
       "</style>\n",
       "<table border=\"1\" class=\"dataframe\">\n",
       "  <thead>\n",
       "    <tr style=\"text-align: right;\">\n",
       "      <th></th>\n",
       "      <th>track_id</th>\n",
       "      <th>track_title</th>\n",
       "      <th>artist_name</th>\n",
       "      <th>danceability</th>\n",
       "      <th>energy</th>\n",
       "      <th>key</th>\n",
       "      <th>loudness</th>\n",
       "      <th>mode</th>\n",
       "      <th>instrumentalness</th>\n",
       "      <th>speechiness</th>\n",
       "      <th>acousticness</th>\n",
       "      <th>liveness</th>\n",
       "      <th>valence</th>\n",
       "      <th>tempo</th>\n",
       "      <th>playlist_title</th>\n",
       "    </tr>\n",
       "  </thead>\n",
       "  <tbody>\n",
       "    <tr>\n",
       "      <th>0</th>\n",
       "      <td>2aDk1KkyB7ieSwwEDXCHJg</td>\n",
       "      <td>The Mind Electric</td>\n",
       "      <td>Miracle Musical</td>\n",
       "      <td>0.227</td>\n",
       "      <td>0.431</td>\n",
       "      <td>7</td>\n",
       "      <td>-9.527</td>\n",
       "      <td>0</td>\n",
       "      <td>0.023900</td>\n",
       "      <td>0.0432</td>\n",
       "      <td>0.66600</td>\n",
       "      <td>0.1260</td>\n",
       "      <td>0.575</td>\n",
       "      <td>76.986</td>\n",
       "      <td>amanda_edelmayer_mental_breakdown_bops</td>\n",
       "    </tr>\n",
       "    <tr>\n",
       "      <th>1</th>\n",
       "      <td>7JTGwb6ug0z15F5roNLE0s</td>\n",
       "      <td>Two Time</td>\n",
       "      <td>Jack Stauber's Micropop</td>\n",
       "      <td>0.832</td>\n",
       "      <td>0.346</td>\n",
       "      <td>0</td>\n",
       "      <td>-9.640</td>\n",
       "      <td>1</td>\n",
       "      <td>0.000013</td>\n",
       "      <td>0.0360</td>\n",
       "      <td>0.11200</td>\n",
       "      <td>0.0945</td>\n",
       "      <td>0.688</td>\n",
       "      <td>98.512</td>\n",
       "      <td>amanda_edelmayer_mental_breakdown_bops</td>\n",
       "    </tr>\n",
       "    <tr>\n",
       "      <th>2</th>\n",
       "      <td>1dXivQjVkgLUytJ7PGdlod</td>\n",
       "      <td>What's Gonna Happen</td>\n",
       "      <td>Sarah Stiles</td>\n",
       "      <td>0.689</td>\n",
       "      <td>0.676</td>\n",
       "      <td>11</td>\n",
       "      <td>-8.310</td>\n",
       "      <td>1</td>\n",
       "      <td>0.000027</td>\n",
       "      <td>0.2880</td>\n",
       "      <td>0.67800</td>\n",
       "      <td>0.0481</td>\n",
       "      <td>0.865</td>\n",
       "      <td>177.847</td>\n",
       "      <td>amanda_edelmayer_mental_breakdown_bops</td>\n",
       "    </tr>\n",
       "    <tr>\n",
       "      <th>3</th>\n",
       "      <td>67VxWciiaYZYy3NTlyCtp7</td>\n",
       "      <td>Cigarette Ahegao</td>\n",
       "      <td>Penelope Scott</td>\n",
       "      <td>0.654</td>\n",
       "      <td>0.285</td>\n",
       "      <td>5</td>\n",
       "      <td>-13.379</td>\n",
       "      <td>0</td>\n",
       "      <td>0.021600</td>\n",
       "      <td>0.0375</td>\n",
       "      <td>0.09660</td>\n",
       "      <td>0.1050</td>\n",
       "      <td>0.148</td>\n",
       "      <td>82.997</td>\n",
       "      <td>amanda_edelmayer_mental_breakdown_bops</td>\n",
       "    </tr>\n",
       "    <tr>\n",
       "      <th>4</th>\n",
       "      <td>5YIyPIZseBVqumEiZfsv41</td>\n",
       "      <td>You Stupid Bitch (feat. Rachel Bloom)</td>\n",
       "      <td>Crazy Ex-Girlfriend Cast</td>\n",
       "      <td>0.442</td>\n",
       "      <td>0.527</td>\n",
       "      <td>7</td>\n",
       "      <td>-4.982</td>\n",
       "      <td>0</td>\n",
       "      <td>0.000000</td>\n",
       "      <td>0.0314</td>\n",
       "      <td>0.62300</td>\n",
       "      <td>0.2970</td>\n",
       "      <td>0.453</td>\n",
       "      <td>102.248</td>\n",
       "      <td>amanda_edelmayer_mental_breakdown_bops</td>\n",
       "    </tr>\n",
       "    <tr>\n",
       "      <th>...</th>\n",
       "      <td>...</td>\n",
       "      <td>...</td>\n",
       "      <td>...</td>\n",
       "      <td>...</td>\n",
       "      <td>...</td>\n",
       "      <td>...</td>\n",
       "      <td>...</td>\n",
       "      <td>...</td>\n",
       "      <td>...</td>\n",
       "      <td>...</td>\n",
       "      <td>...</td>\n",
       "      <td>...</td>\n",
       "      <td>...</td>\n",
       "      <td>...</td>\n",
       "      <td>...</td>\n",
       "    </tr>\n",
       "    <tr>\n",
       "      <th>699</th>\n",
       "      <td>4zQuwW24dweWcaX0fEJkP2</td>\n",
       "      <td>You Know I'm No Good</td>\n",
       "      <td>Amy Winehouse</td>\n",
       "      <td>0.705</td>\n",
       "      <td>0.806</td>\n",
       "      <td>9</td>\n",
       "      <td>-3.607</td>\n",
       "      <td>1</td>\n",
       "      <td>0.004280</td>\n",
       "      <td>0.0309</td>\n",
       "      <td>0.01320</td>\n",
       "      <td>0.0701</td>\n",
       "      <td>0.734</td>\n",
       "      <td>103.383</td>\n",
       "      <td>owen_yaggy_ice_cream_shop</td>\n",
       "    </tr>\n",
       "    <tr>\n",
       "      <th>700</th>\n",
       "      <td>33X9miK4Xz7pNeVrc9RITG</td>\n",
       "      <td>Ready to Start</td>\n",
       "      <td>Arcade Fire</td>\n",
       "      <td>0.277</td>\n",
       "      <td>0.934</td>\n",
       "      <td>9</td>\n",
       "      <td>-4.672</td>\n",
       "      <td>1</td>\n",
       "      <td>0.024200</td>\n",
       "      <td>0.0382</td>\n",
       "      <td>0.11700</td>\n",
       "      <td>0.0692</td>\n",
       "      <td>0.519</td>\n",
       "      <td>188.797</td>\n",
       "      <td>owen_yaggy_ice_cream_shop</td>\n",
       "    </tr>\n",
       "    <tr>\n",
       "      <th>701</th>\n",
       "      <td>2MLHyLy5z5l5YRp7momlgw</td>\n",
       "      <td>Island In The Sun</td>\n",
       "      <td>Weezer</td>\n",
       "      <td>0.654</td>\n",
       "      <td>0.810</td>\n",
       "      <td>4</td>\n",
       "      <td>-6.260</td>\n",
       "      <td>0</td>\n",
       "      <td>0.002510</td>\n",
       "      <td>0.0288</td>\n",
       "      <td>0.00719</td>\n",
       "      <td>0.1650</td>\n",
       "      <td>0.661</td>\n",
       "      <td>114.623</td>\n",
       "      <td>owen_yaggy_ice_cream_shop</td>\n",
       "    </tr>\n",
       "    <tr>\n",
       "      <th>702</th>\n",
       "      <td>4sebUbjqbcgDSwG6PbSGI0</td>\n",
       "      <td>Come a Little Closer</td>\n",
       "      <td>Cage The Elephant</td>\n",
       "      <td>0.440</td>\n",
       "      <td>0.778</td>\n",
       "      <td>1</td>\n",
       "      <td>-1.786</td>\n",
       "      <td>0</td>\n",
       "      <td>0.000001</td>\n",
       "      <td>0.0327</td>\n",
       "      <td>0.02650</td>\n",
       "      <td>0.1510</td>\n",
       "      <td>0.304</td>\n",
       "      <td>148.038</td>\n",
       "      <td>owen_yaggy_ice_cream_shop</td>\n",
       "    </tr>\n",
       "    <tr>\n",
       "      <th>703</th>\n",
       "      <td>4XfI7M5gLwEY84gYiH4RDD</td>\n",
       "      <td>Devil's Advocate</td>\n",
       "      <td>The Neighbourhood</td>\n",
       "      <td>0.662</td>\n",
       "      <td>0.681</td>\n",
       "      <td>11</td>\n",
       "      <td>-8.152</td>\n",
       "      <td>0</td>\n",
       "      <td>0.139000</td>\n",
       "      <td>0.0315</td>\n",
       "      <td>0.03210</td>\n",
       "      <td>0.5080</td>\n",
       "      <td>0.864</td>\n",
       "      <td>98.004</td>\n",
       "      <td>owen_yaggy_ice_cream_shop</td>\n",
       "    </tr>\n",
       "  </tbody>\n",
       "</table>\n",
       "<p>704 rows × 15 columns</p>\n",
       "</div>"
      ],
      "text/plain": [
       "                   track_id                            track_title  \\\n",
       "0    2aDk1KkyB7ieSwwEDXCHJg                      The Mind Electric   \n",
       "1    7JTGwb6ug0z15F5roNLE0s                               Two Time   \n",
       "2    1dXivQjVkgLUytJ7PGdlod                    What's Gonna Happen   \n",
       "3    67VxWciiaYZYy3NTlyCtp7                       Cigarette Ahegao   \n",
       "4    5YIyPIZseBVqumEiZfsv41  You Stupid Bitch (feat. Rachel Bloom)   \n",
       "..                      ...                                    ...   \n",
       "699  4zQuwW24dweWcaX0fEJkP2                   You Know I'm No Good   \n",
       "700  33X9miK4Xz7pNeVrc9RITG                         Ready to Start   \n",
       "701  2MLHyLy5z5l5YRp7momlgw                      Island In The Sun   \n",
       "702  4sebUbjqbcgDSwG6PbSGI0                   Come a Little Closer   \n",
       "703  4XfI7M5gLwEY84gYiH4RDD                       Devil's Advocate   \n",
       "\n",
       "                  artist_name  danceability  energy  key  loudness  mode  \\\n",
       "0             Miracle Musical         0.227   0.431    7    -9.527     0   \n",
       "1     Jack Stauber's Micropop         0.832   0.346    0    -9.640     1   \n",
       "2                Sarah Stiles         0.689   0.676   11    -8.310     1   \n",
       "3              Penelope Scott         0.654   0.285    5   -13.379     0   \n",
       "4    Crazy Ex-Girlfriend Cast         0.442   0.527    7    -4.982     0   \n",
       "..                        ...           ...     ...  ...       ...   ...   \n",
       "699             Amy Winehouse         0.705   0.806    9    -3.607     1   \n",
       "700               Arcade Fire         0.277   0.934    9    -4.672     1   \n",
       "701                    Weezer         0.654   0.810    4    -6.260     0   \n",
       "702         Cage The Elephant         0.440   0.778    1    -1.786     0   \n",
       "703         The Neighbourhood         0.662   0.681   11    -8.152     0   \n",
       "\n",
       "     instrumentalness  speechiness  acousticness  liveness  valence    tempo  \\\n",
       "0            0.023900       0.0432       0.66600    0.1260    0.575   76.986   \n",
       "1            0.000013       0.0360       0.11200    0.0945    0.688   98.512   \n",
       "2            0.000027       0.2880       0.67800    0.0481    0.865  177.847   \n",
       "3            0.021600       0.0375       0.09660    0.1050    0.148   82.997   \n",
       "4            0.000000       0.0314       0.62300    0.2970    0.453  102.248   \n",
       "..                ...          ...           ...       ...      ...      ...   \n",
       "699          0.004280       0.0309       0.01320    0.0701    0.734  103.383   \n",
       "700          0.024200       0.0382       0.11700    0.0692    0.519  188.797   \n",
       "701          0.002510       0.0288       0.00719    0.1650    0.661  114.623   \n",
       "702          0.000001       0.0327       0.02650    0.1510    0.304  148.038   \n",
       "703          0.139000       0.0315       0.03210    0.5080    0.864   98.004   \n",
       "\n",
       "                             playlist_title  \n",
       "0    amanda_edelmayer_mental_breakdown_bops  \n",
       "1    amanda_edelmayer_mental_breakdown_bops  \n",
       "2    amanda_edelmayer_mental_breakdown_bops  \n",
       "3    amanda_edelmayer_mental_breakdown_bops  \n",
       "4    amanda_edelmayer_mental_breakdown_bops  \n",
       "..                                      ...  \n",
       "699               owen_yaggy_ice_cream_shop  \n",
       "700               owen_yaggy_ice_cream_shop  \n",
       "701               owen_yaggy_ice_cream_shop  \n",
       "702               owen_yaggy_ice_cream_shop  \n",
       "703               owen_yaggy_ice_cream_shop  \n",
       "\n",
       "[704 rows x 15 columns]"
      ]
     },
     "execution_count": 62,
     "metadata": {},
     "output_type": "execute_result"
    }
   ],
   "source": [
    "column_list = ['track_id', 'track_title', 'artist_name', 'danceability','energy', 'key','loudness','mode', 'instrumentalness', 'speechiness','acousticness', 'liveness', 'valence','tempo','playlist_title']\n",
    "class_audio_short = class_audio_data[column_list]\n",
    "class_audio_short"
   ]
  },
  {
   "cell_type": "code",
   "execution_count": 129,
   "id": "b431950c-1a33-46a4-91db-8027d0467628",
   "metadata": {},
   "outputs": [
    {
     "data": {
      "text/html": [
       "<div>\n",
       "<style scoped>\n",
       "    .dataframe tbody tr th:only-of-type {\n",
       "        vertical-align: middle;\n",
       "    }\n",
       "\n",
       "    .dataframe tbody tr th {\n",
       "        vertical-align: top;\n",
       "    }\n",
       "\n",
       "    .dataframe thead th {\n",
       "        text-align: right;\n",
       "    }\n",
       "</style>\n",
       "<table border=\"1\" class=\"dataframe\">\n",
       "  <thead>\n",
       "    <tr style=\"text-align: right;\">\n",
       "      <th></th>\n",
       "      <th>track_id</th>\n",
       "      <th>track_title</th>\n",
       "      <th>artist_name</th>\n",
       "      <th>danceability</th>\n",
       "      <th>energy</th>\n",
       "      <th>key</th>\n",
       "      <th>loudness</th>\n",
       "      <th>mode</th>\n",
       "      <th>instrumentalness</th>\n",
       "      <th>speechiness</th>\n",
       "      <th>acousticness</th>\n",
       "      <th>liveness</th>\n",
       "      <th>valence</th>\n",
       "      <th>tempo</th>\n",
       "      <th>playlist_title</th>\n",
       "    </tr>\n",
       "  </thead>\n",
       "  <tbody>\n",
       "    <tr>\n",
       "      <th>215</th>\n",
       "      <td>065bY5WrLvI3NN9VCK0QLe</td>\n",
       "      <td>Jerk</td>\n",
       "      <td>Oliver Tree</td>\n",
       "      <td>0.521</td>\n",
       "      <td>0.707</td>\n",
       "      <td>9</td>\n",
       "      <td>-4.101</td>\n",
       "      <td>0</td>\n",
       "      <td>0.000164</td>\n",
       "      <td>0.0428</td>\n",
       "      <td>0.0327</td>\n",
       "      <td>0.227</td>\n",
       "      <td>0.298</td>\n",
       "      <td>159.824</td>\n",
       "      <td>luke_sheppard_insults</td>\n",
       "    </tr>\n",
       "  </tbody>\n",
       "</table>\n",
       "</div>"
      ],
      "text/plain": [
       "                   track_id track_title  artist_name  danceability  energy  \\\n",
       "215  065bY5WrLvI3NN9VCK0QLe        Jerk  Oliver Tree         0.521   0.707   \n",
       "\n",
       "     key  loudness  mode  instrumentalness  speechiness  acousticness  \\\n",
       "215    9    -4.101     0          0.000164       0.0428        0.0327   \n",
       "\n",
       "     liveness  valence    tempo         playlist_title  \n",
       "215     0.227    0.298  159.824  luke_sheppard_insults  "
      ]
     },
     "execution_count": 129,
     "metadata": {},
     "output_type": "execute_result"
    }
   ],
   "source": [
    "class_audio_short.loc['Jerk' == class_audio_short['track_title']]"
   ]
  },
  {
   "cell_type": "code",
   "execution_count": 13,
   "id": "47ccb4bc-f0af-4a8f-89c5-9e6cc818ecd9",
   "metadata": {},
   "outputs": [
    {
     "data": {
      "text/plain": [
       "7"
      ]
     },
     "execution_count": 13,
     "metadata": {},
     "output_type": "execute_result"
    }
   ],
   "source": [
    "class_audio_short['key'][0]"
   ]
  },
  {
   "cell_type": "code",
   "execution_count": 14,
   "id": "c55e9172-2a9c-40d6-b908-ed61181fa710",
   "metadata": {},
   "outputs": [],
   "source": [
    "def compare_keys(key1: int, mode1: int, key2: int, mode2: int) -> float:\n",
    "    \"\"\"\n",
    "    Returns how similar the key of 2 tracks is based on their relative positions in the circle of fifths.\n",
    "\n",
    "    For example, C major and A minor both occupy the same position on the circle of fifths (position 0). G maj/E min is position 2. D maj/B min is position 3,\n",
    "    and so on up to F maj/D min at position 11.\n",
    "\n",
    "    This function uses key and mode information provided by Spotify to calculate the position of each track on the circle of fifths.\n",
    "    The circle has 12 positions, so the minimum distance between two points is 0, and the maximum distance is 6, because the circle is bidirectional.\n",
    "    The function returns a scalar from 0-1, where 1 represents the maximum distance and 0 the minimum. Thus, the result is 1/6 of the distance on the circle.\n",
    "    \"\"\"\n",
    "    # Similar means similar audio feature values. Thus returning 0 means very similar, and 1 means very different\n",
    "\n",
    "    circle_pos_1 = (7 * key1) % 12      # increase of 1 on the Spotify scale = up a half step\n",
    "                                        # but increase of a half step on the circle of fifths = up 7 positions (but max position is 11)\n",
    "\n",
    "    if mode1 == 0:                                  # however, if the key is actually a minor key, need to shift back 3 positions (equivalent to up 9)\n",
    "        circle_pos_1 = (circle_pos_1 + 9) % 12      # because, for example, C maj has position 0, but C min has position 9, on the circle of fifths\n",
    "\n",
    "    circle_pos_2 = (7 * key2) % 12      # calculate the position on the circle of fifths for the other song in the same way\n",
    "    if mode2 == 0:\n",
    "        circle_pos_2 = (circle_pos_2 + 9) % 12\n",
    "\n",
    "    circle_dist = abs(circle_pos_1 - circle_pos_2)      # calculate the distance between the 2 positions on the circle\n",
    "    if circle_dist > 6:                                 # because circle is bidirectional, differences greater than 6 are actually closer than 6\n",
    "        circle_dist = 12 - circle_dist\n",
    "\n",
    "    return circle_dist / 6      # convert to 0-1 scalar"
   ]
  },
  {
   "cell_type": "code",
   "execution_count": 18,
   "id": "5d69b561-5b8d-4373-b2df-0d35c8bb7766",
   "metadata": {},
   "outputs": [],
   "source": [
    "def compare_keys_track(track_id_1, track_id_2, df_input):\n",
    "    first_track = df_input.loc[df_input[\"track_id\"] == track_id_1]\n",
    "    second_track = df_input.loc[df_input[\"track_id\"] == track_id_2]\n",
    "    print(first_track)\n",
    "    return compare_keys(int(first_track[\"key\"]), int(first_track[\"mode\"]), int(second_track[\"key\"]), int(second_track[\"mode\"]))\n",
    "    "
   ]
  },
  {
   "cell_type": "code",
   "execution_count": 19,
   "id": "521c5316-d93f-43bd-a4a8-ad0e9eb6068c",
   "metadata": {},
   "outputs": [
    {
     "name": "stdout",
     "output_type": "stream",
     "text": [
      "                   track_id       track_title        artist_name  \\\n",
      "703  4XfI7M5gLwEY84gYiH4RDD  Devil's Advocate  The Neighbourhood   \n",
      "\n",
      "     danceability  energy  key  loudness  mode  speechiness  acousticness  \\\n",
      "703         0.662   0.681   11    -8.152     0       0.0315        0.0321   \n",
      "\n",
      "     valence   tempo             playlist_title  \n",
      "703    0.864  98.004  owen_yaggy_ice_cream_shop  \n"
     ]
    },
    {
     "data": {
      "text/plain": [
       "0.16666666666666666"
      ]
     },
     "execution_count": 19,
     "metadata": {},
     "output_type": "execute_result"
    }
   ],
   "source": [
    "compare_keys_track('4XfI7M5gLwEY84gYiH4RDD','33X9miK4Xz7pNeVrc9RITG', class_audio_short)"
   ]
  },
  {
   "cell_type": "code",
   "execution_count": 21,
   "id": "674b75b3-7dcc-4e90-b9b0-caff49d5323a",
   "metadata": {},
   "outputs": [
    {
     "data": {
      "text/plain": [
       "0      2aDk1KkyB7ieSwwEDXCHJg\n",
       "1      7JTGwb6ug0z15F5roNLE0s\n",
       "2      1dXivQjVkgLUytJ7PGdlod\n",
       "3      67VxWciiaYZYy3NTlyCtp7\n",
       "4      5YIyPIZseBVqumEiZfsv41\n",
       "                ...          \n",
       "699    4zQuwW24dweWcaX0fEJkP2\n",
       "700    33X9miK4Xz7pNeVrc9RITG\n",
       "701    2MLHyLy5z5l5YRp7momlgw\n",
       "702    4sebUbjqbcgDSwG6PbSGI0\n",
       "703    4XfI7M5gLwEY84gYiH4RDD\n",
       "Name: track_id, Length: 704, dtype: object"
      ]
     },
     "execution_count": 21,
     "metadata": {},
     "output_type": "execute_result"
    }
   ],
   "source": [
    "class_audio_short.get('track_id')"
   ]
  },
  {
   "cell_type": "code",
   "execution_count": 162,
   "id": "8e705bdd-d155-492e-8816-a0423c614606",
   "metadata": {},
   "outputs": [
    {
     "data": {
      "text/plain": [
       "\"Devil's Advocate\""
      ]
     },
     "execution_count": 162,
     "metadata": {},
     "output_type": "execute_result"
    }
   ],
   "source": [
    "class_audio_short.loc[703, 'track_title']"
   ]
  },
  {
   "cell_type": "code",
   "execution_count": 194,
   "id": "106327c2-79ab-41cd-84d1-99a4180a203b",
   "metadata": {},
   "outputs": [
    {
     "data": {
      "text/plain": [
       "0      amanda_edelmayer_mental_breakdown_bops\n",
       "1      amanda_edelmayer_mental_breakdown_bops\n",
       "2      amanda_edelmayer_mental_breakdown_bops\n",
       "3      amanda_edelmayer_mental_breakdown_bops\n",
       "4      amanda_edelmayer_mental_breakdown_bops\n",
       "                        ...                  \n",
       "699                 owen_yaggy_ice_cream_shop\n",
       "700                 owen_yaggy_ice_cream_shop\n",
       "701                 owen_yaggy_ice_cream_shop\n",
       "702                 owen_yaggy_ice_cream_shop\n",
       "703                 owen_yaggy_ice_cream_shop\n",
       "Name: playlist_title, Length: 704, dtype: object"
      ]
     },
     "execution_count": 194,
     "metadata": {},
     "output_type": "execute_result"
    }
   ],
   "source": [
    "class_audio_short.get('playlist_title')"
   ]
  },
  {
   "cell_type": "code",
   "execution_count": 191,
   "id": "03978e99-57d0-4fbb-813e-73e79337809c",
   "metadata": {},
   "outputs": [],
   "source": [
    "def similarity_dict(track_id_1: str, track_id_2: str, df_input) -> dict:\n",
    "    \"\"\"Returns a dictionary with the similarity of each audio feature for the 2 given tracks. Smaller numbers mean more similar.\"\"\"\n",
    "\n",
    "    # A list of features to compare:\n",
    "    features = ['track_title', 'danceability', 'energy', 'loudness','instrumentalness', 'liveness', 'valence', 'tempo']\n",
    "    first_track = df_input.loc[df_input[\"track_id\"] == track_id_1] # variable containing all feature data from track 1\n",
    "    second_track = df_input.loc[df_input[\"track_id\"] == track_id_2] # variable containing all feature data from track 2\n",
    "    # Store all music feature data in dictionary form:\n",
    "    # The important part of this code is converting everything to a number (not a string) that can be manipulated\n",
    "    first_track_features = {}\n",
    "    second_track_features = {}\n",
    "    for feature in features:\n",
    "        first_track_features[feature] = first_track.get(feature)\n",
    "        second_track_features[feature] = second_track.get(feature)\n",
    "    \n",
    "\n",
    "    feature_similarities = {}\n",
    "    for feature in features:\n",
    "        if feature in ['danceability', 'energy', 'instrumentalness', 'liveness', 'valence']:     # these features aren't stored as scalars, meaning their comparisons need to be handled differently\n",
    "            # Compute the difference between the feature data for each track\n",
    "            feature_similarities[feature] = abs(float(first_track_features[feature]) - float(second_track_features[feature]))\n",
    "            \n",
    "        if feature == 'loudness':\n",
    "            feature_similarities[feature] = abs(float(first_track_features[feature]) - float(second_track_features[feature])) * (1/60)  # loudness is stored -60 to 0, this converts the difference to a positive scalar\n",
    "            # In rare cases, loudness falls outside the -60 to 0 range. If so, the code to scale down the difference between loudness to a scalar might result in a value over 1.\n",
    "            # This code caps the maximum amount of difference at 1 - in other words, tracks that have over 60 dB of loudness difference are treated as having 60 dB of loudness difference.\n",
    "            if feature_similarities[feature] > 1:\n",
    "                feature_similarities[feature] = 1\n",
    "\n",
    "        if feature == 'tempo':\n",
    "            # Tempo is measured in BPM. This could be any positive integer, but most are within a range of 40-200 BPM.\n",
    "            # For the purpose of comparison, tracks under 40 BPM are treated as having a BPM of 40. Tracks over 200 are treated as having a BPM of 200.\n",
    "            # Thus, the maximum difference is 160, and the minimum is 0.\n",
    "            # So to convert to a scalar, the difference between BPM is divided by 160.\n",
    "            first_track_features[feature] = float(first_track.get(feature))\n",
    "            second_track_features[feature] = float(second_track.get(feature))\n",
    "            \n",
    "            if first_track_features[feature] < 40:\n",
    "                first_track_features[feature] = 40\n",
    "            if first_track_features[feature] > 200:\n",
    "                first_track_features[feature] = 200\n",
    "            if second_track_features[feature] < 40:\n",
    "                second_track_features[feature] = 40\n",
    "            if second_track_features[feature] > 200:\n",
    "                second_track_features[feature] = 200\n",
    "\n",
    "            feature_similarities[feature] = abs(first_track_features[feature] - second_track_features[feature]) * (1/140)\n",
    "\n",
    "    return feature_similarities\n"
   ]
  },
  {
   "cell_type": "code",
   "execution_count": 183,
   "id": "2a1656ef-4747-4d7f-87b3-ea72d8dae5e4",
   "metadata": {},
   "outputs": [],
   "source": [
    "comp_1 = similarity_dict('2khc6kEG4eBvYN1GvR6R97', '065bY5WrLvI3NN9VCK0QLe', class_audio_short)"
   ]
  },
  {
   "cell_type": "code",
   "execution_count": 192,
   "id": "0595eaba-38cf-4248-8a4e-665c7c20125b",
   "metadata": {},
   "outputs": [
    {
     "data": {
      "text/plain": [
       "{'danceability': 0.279,\n",
       " 'energy': 0.05399999999999994,\n",
       " 'loudness': 0.03184999999999999,\n",
       " 'instrumentalness': 0.000164,\n",
       " 'liveness': 0.31200000000000006,\n",
       " 'valence': 0.07500000000000001,\n",
       " 'tempo': 0.5792214285714287}"
      ]
     },
     "execution_count": 192,
     "metadata": {},
     "output_type": "execute_result"
    }
   ],
   "source": [
    "comp_1"
   ]
  },
  {
   "cell_type": "markdown",
   "id": "37e131d7-6668-490a-88f3-7b0e831df6de",
   "metadata": {},
   "source": []
  },
  {
   "cell_type": "code",
   "execution_count": 187,
   "id": "b9045cc3-f30f-47d9-ba7c-396153818201",
   "metadata": {},
   "outputs": [],
   "source": [
    "def dict_to_list(dictionary):\n",
    "    keys = []\n",
    "    values = []\n",
    "    \n",
    "    for key in dictionary:\n",
    "        keys.append(key)\n",
    "        values.append(dictionary[key])\n",
    "    return keys, values\n",
    "radar_val = dict_to_list(comp_1)"
   ]
  },
  {
   "cell_type": "code",
   "execution_count": 190,
   "id": "54790e9f-b551-4b4a-93d9-e82f6e736fbf",
   "metadata": {},
   "outputs": [
    {
     "data": {
      "application/vnd.plotly.v1+json": {
       "config": {
        "plotlyServerURL": "https://plot.ly"
       },
       "data": [
        {
         "hovertemplate": "r=%{r}<br>theta=%{theta}<extra></extra>",
         "legendgroup": "",
         "line": {
          "color": "#636efa",
          "dash": "solid"
         },
         "marker": {
          "symbol": "circle"
         },
         "mode": "lines",
         "name": "",
         "r": [
          0.279,
          0.05399999999999994,
          0.03184999999999999,
          1.64E-4,
          0.31200000000000006,
          0.07500000000000001,
          0.5792214285714287,
          0.279
         ],
         "showlegend": false,
         "subplot": "polar",
         "theta": [
          "danceability",
          "energy",
          "loudness",
          "instrumentalness",
          "liveness",
          "valence",
          "tempo",
          "danceability"
         ],
         "type": "scatterpolar"
        }
       ],
       "layout": {
        "autosize": true,
        "legend": {
         "tracegroupgap": 0
        },
        "margin": {
         "t": 60
        },
        "polar": {
         "angularaxis": {
          "direction": "clockwise",
          "rotation": 90,
          "type": "category"
         },
         "domain": {
          "x": [
           0,
           1
          ],
          "y": [
           0,
           1
          ]
         },
         "radialaxis": {
          "autorange": true,
          "range": [
           0,
           0.5792214285714287
          ],
          "type": "linear"
         }
        },
        "template": {
         "data": {
          "bar": [
           {
            "error_x": {
             "color": "#2a3f5f"
            },
            "error_y": {
             "color": "#2a3f5f"
            },
            "marker": {
             "line": {
              "color": "#E5ECF6",
              "width": 0.5
             },
             "pattern": {
              "fillmode": "overlay",
              "size": 10,
              "solidity": 0.2
             }
            },
            "type": "bar"
           }
          ],
          "barpolar": [
           {
            "marker": {
             "line": {
              "color": "#E5ECF6",
              "width": 0.5
             },
             "pattern": {
              "fillmode": "overlay",
              "size": 10,
              "solidity": 0.2
             }
            },
            "type": "barpolar"
           }
          ],
          "carpet": [
           {
            "aaxis": {
             "endlinecolor": "#2a3f5f",
             "gridcolor": "white",
             "linecolor": "white",
             "minorgridcolor": "white",
             "startlinecolor": "#2a3f5f"
            },
            "baxis": {
             "endlinecolor": "#2a3f5f",
             "gridcolor": "white",
             "linecolor": "white",
             "minorgridcolor": "white",
             "startlinecolor": "#2a3f5f"
            },
            "type": "carpet"
           }
          ],
          "choropleth": [
           {
            "colorbar": {
             "outlinewidth": 0,
             "ticks": ""
            },
            "type": "choropleth"
           }
          ],
          "contour": [
           {
            "colorbar": {
             "outlinewidth": 0,
             "ticks": ""
            },
            "colorscale": [
             [
              0,
              "#0d0887"
             ],
             [
              0.1111111111111111,
              "#46039f"
             ],
             [
              0.2222222222222222,
              "#7201a8"
             ],
             [
              0.3333333333333333,
              "#9c179e"
             ],
             [
              0.4444444444444444,
              "#bd3786"
             ],
             [
              0.5555555555555556,
              "#d8576b"
             ],
             [
              0.6666666666666666,
              "#ed7953"
             ],
             [
              0.7777777777777778,
              "#fb9f3a"
             ],
             [
              0.8888888888888888,
              "#fdca26"
             ],
             [
              1,
              "#f0f921"
             ]
            ],
            "type": "contour"
           }
          ],
          "contourcarpet": [
           {
            "colorbar": {
             "outlinewidth": 0,
             "ticks": ""
            },
            "type": "contourcarpet"
           }
          ],
          "heatmap": [
           {
            "colorbar": {
             "outlinewidth": 0,
             "ticks": ""
            },
            "colorscale": [
             [
              0,
              "#0d0887"
             ],
             [
              0.1111111111111111,
              "#46039f"
             ],
             [
              0.2222222222222222,
              "#7201a8"
             ],
             [
              0.3333333333333333,
              "#9c179e"
             ],
             [
              0.4444444444444444,
              "#bd3786"
             ],
             [
              0.5555555555555556,
              "#d8576b"
             ],
             [
              0.6666666666666666,
              "#ed7953"
             ],
             [
              0.7777777777777778,
              "#fb9f3a"
             ],
             [
              0.8888888888888888,
              "#fdca26"
             ],
             [
              1,
              "#f0f921"
             ]
            ],
            "type": "heatmap"
           }
          ],
          "heatmapgl": [
           {
            "colorbar": {
             "outlinewidth": 0,
             "ticks": ""
            },
            "colorscale": [
             [
              0,
              "#0d0887"
             ],
             [
              0.1111111111111111,
              "#46039f"
             ],
             [
              0.2222222222222222,
              "#7201a8"
             ],
             [
              0.3333333333333333,
              "#9c179e"
             ],
             [
              0.4444444444444444,
              "#bd3786"
             ],
             [
              0.5555555555555556,
              "#d8576b"
             ],
             [
              0.6666666666666666,
              "#ed7953"
             ],
             [
              0.7777777777777778,
              "#fb9f3a"
             ],
             [
              0.8888888888888888,
              "#fdca26"
             ],
             [
              1,
              "#f0f921"
             ]
            ],
            "type": "heatmapgl"
           }
          ],
          "histogram": [
           {
            "marker": {
             "pattern": {
              "fillmode": "overlay",
              "size": 10,
              "solidity": 0.2
             }
            },
            "type": "histogram"
           }
          ],
          "histogram2d": [
           {
            "colorbar": {
             "outlinewidth": 0,
             "ticks": ""
            },
            "colorscale": [
             [
              0,
              "#0d0887"
             ],
             [
              0.1111111111111111,
              "#46039f"
             ],
             [
              0.2222222222222222,
              "#7201a8"
             ],
             [
              0.3333333333333333,
              "#9c179e"
             ],
             [
              0.4444444444444444,
              "#bd3786"
             ],
             [
              0.5555555555555556,
              "#d8576b"
             ],
             [
              0.6666666666666666,
              "#ed7953"
             ],
             [
              0.7777777777777778,
              "#fb9f3a"
             ],
             [
              0.8888888888888888,
              "#fdca26"
             ],
             [
              1,
              "#f0f921"
             ]
            ],
            "type": "histogram2d"
           }
          ],
          "histogram2dcontour": [
           {
            "colorbar": {
             "outlinewidth": 0,
             "ticks": ""
            },
            "colorscale": [
             [
              0,
              "#0d0887"
             ],
             [
              0.1111111111111111,
              "#46039f"
             ],
             [
              0.2222222222222222,
              "#7201a8"
             ],
             [
              0.3333333333333333,
              "#9c179e"
             ],
             [
              0.4444444444444444,
              "#bd3786"
             ],
             [
              0.5555555555555556,
              "#d8576b"
             ],
             [
              0.6666666666666666,
              "#ed7953"
             ],
             [
              0.7777777777777778,
              "#fb9f3a"
             ],
             [
              0.8888888888888888,
              "#fdca26"
             ],
             [
              1,
              "#f0f921"
             ]
            ],
            "type": "histogram2dcontour"
           }
          ],
          "mesh3d": [
           {
            "colorbar": {
             "outlinewidth": 0,
             "ticks": ""
            },
            "type": "mesh3d"
           }
          ],
          "parcoords": [
           {
            "line": {
             "colorbar": {
              "outlinewidth": 0,
              "ticks": ""
             }
            },
            "type": "parcoords"
           }
          ],
          "pie": [
           {
            "automargin": true,
            "type": "pie"
           }
          ],
          "scatter": [
           {
            "fillpattern": {
             "fillmode": "overlay",
             "size": 10,
             "solidity": 0.2
            },
            "type": "scatter"
           }
          ],
          "scatter3d": [
           {
            "line": {
             "colorbar": {
              "outlinewidth": 0,
              "ticks": ""
             }
            },
            "marker": {
             "colorbar": {
              "outlinewidth": 0,
              "ticks": ""
             }
            },
            "type": "scatter3d"
           }
          ],
          "scattercarpet": [
           {
            "marker": {
             "colorbar": {
              "outlinewidth": 0,
              "ticks": ""
             }
            },
            "type": "scattercarpet"
           }
          ],
          "scattergeo": [
           {
            "marker": {
             "colorbar": {
              "outlinewidth": 0,
              "ticks": ""
             }
            },
            "type": "scattergeo"
           }
          ],
          "scattergl": [
           {
            "marker": {
             "colorbar": {
              "outlinewidth": 0,
              "ticks": ""
             }
            },
            "type": "scattergl"
           }
          ],
          "scattermapbox": [
           {
            "marker": {
             "colorbar": {
              "outlinewidth": 0,
              "ticks": ""
             }
            },
            "type": "scattermapbox"
           }
          ],
          "scatterpolar": [
           {
            "marker": {
             "colorbar": {
              "outlinewidth": 0,
              "ticks": ""
             }
            },
            "type": "scatterpolar"
           }
          ],
          "scatterpolargl": [
           {
            "marker": {
             "colorbar": {
              "outlinewidth": 0,
              "ticks": ""
             }
            },
            "type": "scatterpolargl"
           }
          ],
          "scatterternary": [
           {
            "marker": {
             "colorbar": {
              "outlinewidth": 0,
              "ticks": ""
             }
            },
            "type": "scatterternary"
           }
          ],
          "surface": [
           {
            "colorbar": {
             "outlinewidth": 0,
             "ticks": ""
            },
            "colorscale": [
             [
              0,
              "#0d0887"
             ],
             [
              0.1111111111111111,
              "#46039f"
             ],
             [
              0.2222222222222222,
              "#7201a8"
             ],
             [
              0.3333333333333333,
              "#9c179e"
             ],
             [
              0.4444444444444444,
              "#bd3786"
             ],
             [
              0.5555555555555556,
              "#d8576b"
             ],
             [
              0.6666666666666666,
              "#ed7953"
             ],
             [
              0.7777777777777778,
              "#fb9f3a"
             ],
             [
              0.8888888888888888,
              "#fdca26"
             ],
             [
              1,
              "#f0f921"
             ]
            ],
            "type": "surface"
           }
          ],
          "table": [
           {
            "cells": {
             "fill": {
              "color": "#EBF0F8"
             },
             "line": {
              "color": "white"
             }
            },
            "header": {
             "fill": {
              "color": "#C8D4E3"
             },
             "line": {
              "color": "white"
             }
            },
            "type": "table"
           }
          ]
         },
         "layout": {
          "annotationdefaults": {
           "arrowcolor": "#2a3f5f",
           "arrowhead": 0,
           "arrowwidth": 1
          },
          "autotypenumbers": "strict",
          "coloraxis": {
           "colorbar": {
            "outlinewidth": 0,
            "ticks": ""
           }
          },
          "colorscale": {
           "diverging": [
            [
             0,
             "#8e0152"
            ],
            [
             0.1,
             "#c51b7d"
            ],
            [
             0.2,
             "#de77ae"
            ],
            [
             0.3,
             "#f1b6da"
            ],
            [
             0.4,
             "#fde0ef"
            ],
            [
             0.5,
             "#f7f7f7"
            ],
            [
             0.6,
             "#e6f5d0"
            ],
            [
             0.7,
             "#b8e186"
            ],
            [
             0.8,
             "#7fbc41"
            ],
            [
             0.9,
             "#4d9221"
            ],
            [
             1,
             "#276419"
            ]
           ],
           "sequential": [
            [
             0,
             "#0d0887"
            ],
            [
             0.1111111111111111,
             "#46039f"
            ],
            [
             0.2222222222222222,
             "#7201a8"
            ],
            [
             0.3333333333333333,
             "#9c179e"
            ],
            [
             0.4444444444444444,
             "#bd3786"
            ],
            [
             0.5555555555555556,
             "#d8576b"
            ],
            [
             0.6666666666666666,
             "#ed7953"
            ],
            [
             0.7777777777777778,
             "#fb9f3a"
            ],
            [
             0.8888888888888888,
             "#fdca26"
            ],
            [
             1,
             "#f0f921"
            ]
           ],
           "sequentialminus": [
            [
             0,
             "#0d0887"
            ],
            [
             0.1111111111111111,
             "#46039f"
            ],
            [
             0.2222222222222222,
             "#7201a8"
            ],
            [
             0.3333333333333333,
             "#9c179e"
            ],
            [
             0.4444444444444444,
             "#bd3786"
            ],
            [
             0.5555555555555556,
             "#d8576b"
            ],
            [
             0.6666666666666666,
             "#ed7953"
            ],
            [
             0.7777777777777778,
             "#fb9f3a"
            ],
            [
             0.8888888888888888,
             "#fdca26"
            ],
            [
             1,
             "#f0f921"
            ]
           ]
          },
          "colorway": [
           "#636efa",
           "#EF553B",
           "#00cc96",
           "#ab63fa",
           "#FFA15A",
           "#19d3f3",
           "#FF6692",
           "#B6E880",
           "#FF97FF",
           "#FECB52"
          ],
          "font": {
           "color": "#2a3f5f"
          },
          "geo": {
           "bgcolor": "white",
           "lakecolor": "white",
           "landcolor": "#E5ECF6",
           "showlakes": true,
           "showland": true,
           "subunitcolor": "white"
          },
          "hoverlabel": {
           "align": "left"
          },
          "hovermode": "closest",
          "mapbox": {
           "style": "light"
          },
          "paper_bgcolor": "white",
          "plot_bgcolor": "#E5ECF6",
          "polar": {
           "angularaxis": {
            "gridcolor": "white",
            "linecolor": "white",
            "ticks": ""
           },
           "bgcolor": "#E5ECF6",
           "radialaxis": {
            "gridcolor": "white",
            "linecolor": "white",
            "ticks": ""
           }
          },
          "scene": {
           "xaxis": {
            "backgroundcolor": "#E5ECF6",
            "gridcolor": "white",
            "gridwidth": 2,
            "linecolor": "white",
            "showbackground": true,
            "ticks": "",
            "zerolinecolor": "white"
           },
           "yaxis": {
            "backgroundcolor": "#E5ECF6",
            "gridcolor": "white",
            "gridwidth": 2,
            "linecolor": "white",
            "showbackground": true,
            "ticks": "",
            "zerolinecolor": "white"
           },
           "zaxis": {
            "backgroundcolor": "#E5ECF6",
            "gridcolor": "white",
            "gridwidth": 2,
            "linecolor": "white",
            "showbackground": true,
            "ticks": "",
            "zerolinecolor": "white"
           }
          },
          "shapedefaults": {
           "line": {
            "color": "#2a3f5f"
           }
          },
          "ternary": {
           "aaxis": {
            "gridcolor": "white",
            "linecolor": "white",
            "ticks": ""
           },
           "baxis": {
            "gridcolor": "white",
            "linecolor": "white",
            "ticks": ""
           },
           "bgcolor": "#E5ECF6",
           "caxis": {
            "gridcolor": "white",
            "linecolor": "white",
            "ticks": ""
           }
          },
          "title": {
           "x": 0.05
          },
          "xaxis": {
           "automargin": true,
           "gridcolor": "white",
           "linecolor": "white",
           "ticks": "",
           "title": {
            "standoff": 15
           },
           "zerolinecolor": "white",
           "zerolinewidth": 2
          },
          "yaxis": {
           "automargin": true,
           "gridcolor": "white",
           "linecolor": "white",
           "ticks": "",
           "title": {
            "standoff": 15
           },
           "zerolinecolor": "white",
           "zerolinewidth": 2
          }
         }
        }
       }
      },
      "image/png": "[encoded data removed]",
      "text/html": [
       "<div>                            <div id=\"89ea2e08-6eff-440e-a1b4-2f890849568c\" class=\"plotly-graph-div\" style=\"height:525px; width:100%;\"></div>            <script type=\"text/javascript\">                require([\"plotly\"], function(Plotly) {                    window.PLOTLYENV=window.PLOTLYENV || {};                                    if (document.getElementById(\"89ea2e08-6eff-440e-a1b4-2f890849568c\")) {                    Plotly.newPlot(                        \"89ea2e08-6eff-440e-a1b4-2f890849568c\",                        [{\"hovertemplate\":\"r=%{r}<br>theta=%{theta}<extra></extra>\",\"legendgroup\":\"\",\"line\":{\"color\":\"#636efa\",\"dash\":\"solid\"},\"marker\":{\"symbol\":\"circle\"},\"mode\":\"lines\",\"name\":\"\",\"r\":[0.279,0.05399999999999994,0.03184999999999999,0.000164,0.31200000000000006,0.07500000000000001,0.5792214285714287,0.279],\"showlegend\":false,\"subplot\":\"polar\",\"theta\":[\"danceability\",\"energy\",\"loudness\",\"instrumentalness\",\"liveness\",\"valence\",\"tempo\",\"danceability\"],\"type\":\"scatterpolar\"}],                        {\"template\":{\"data\":{\"histogram2dcontour\":[{\"type\":\"histogram2dcontour\",\"colorbar\":{\"outlinewidth\":0,\"ticks\":\"\"},\"colorscale\":[[0.0,\"#0d0887\"],[0.1111111111111111,\"#46039f\"],[0.2222222222222222,\"#7201a8\"],[0.3333333333333333,\"#9c179e\"],[0.4444444444444444,\"#bd3786\"],[0.5555555555555556,\"#d8576b\"],[0.6666666666666666,\"#ed7953\"],[0.7777777777777778,\"#fb9f3a\"],[0.8888888888888888,\"#fdca26\"],[1.0,\"#f0f921\"]]}],\"choropleth\":[{\"type\":\"choropleth\",\"colorbar\":{\"outlinewidth\":0,\"ticks\":\"\"}}],\"histogram2d\":[{\"type\":\"histogram2d\",\"colorbar\":{\"outlinewidth\":0,\"ticks\":\"\"},\"colorscale\":[[0.0,\"#0d0887\"],[0.1111111111111111,\"#46039f\"],[0.2222222222222222,\"#7201a8\"],[0.3333333333333333,\"#9c179e\"],[0.4444444444444444,\"#bd3786\"],[0.5555555555555556,\"#d8576b\"],[0.6666666666666666,\"#ed7953\"],[0.7777777777777778,\"#fb9f3a\"],[0.8888888888888888,\"#fdca26\"],[1.0,\"#f0f921\"]]}],\"heatmap\":[{\"type\":\"heatmap\",\"colorbar\":{\"outlinewidth\":0,\"ticks\":\"\"},\"colorscale\":[[0.0,\"#0d0887\"],[0.1111111111111111,\"#46039f\"],[0.2222222222222222,\"#7201a8\"],[0.3333333333333333,\"#9c179e\"],[0.4444444444444444,\"#bd3786\"],[0.5555555555555556,\"#d8576b\"],[0.6666666666666666,\"#ed7953\"],[0.7777777777777778,\"#fb9f3a\"],[0.8888888888888888,\"#fdca26\"],[1.0,\"#f0f921\"]]}],\"heatmapgl\":[{\"type\":\"heatmapgl\",\"colorbar\":{\"outlinewidth\":0,\"ticks\":\"\"},\"colorscale\":[[0.0,\"#0d0887\"],[0.1111111111111111,\"#46039f\"],[0.2222222222222222,\"#7201a8\"],[0.3333333333333333,\"#9c179e\"],[0.4444444444444444,\"#bd3786\"],[0.5555555555555556,\"#d8576b\"],[0.6666666666666666,\"#ed7953\"],[0.7777777777777778,\"#fb9f3a\"],[0.8888888888888888,\"#fdca26\"],[1.0,\"#f0f921\"]]}],\"contourcarpet\":[{\"type\":\"contourcarpet\",\"colorbar\":{\"outlinewidth\":0,\"ticks\":\"\"}}],\"contour\":[{\"type\":\"contour\",\"colorbar\":{\"outlinewidth\":0,\"ticks\":\"\"},\"colorscale\":[[0.0,\"#0d0887\"],[0.1111111111111111,\"#46039f\"],[0.2222222222222222,\"#7201a8\"],[0.3333333333333333,\"#9c179e\"],[0.4444444444444444,\"#bd3786\"],[0.5555555555555556,\"#d8576b\"],[0.6666666666666666,\"#ed7953\"],[0.7777777777777778,\"#fb9f3a\"],[0.8888888888888888,\"#fdca26\"],[1.0,\"#f0f921\"]]}],\"surface\":[{\"type\":\"surface\",\"colorbar\":{\"outlinewidth\":0,\"ticks\":\"\"},\"colorscale\":[[0.0,\"#0d0887\"],[0.1111111111111111,\"#46039f\"],[0.2222222222222222,\"#7201a8\"],[0.3333333333333333,\"#9c179e\"],[0.4444444444444444,\"#bd3786\"],[0.5555555555555556,\"#d8576b\"],[0.6666666666666666,\"#ed7953\"],[0.7777777777777778,\"#fb9f3a\"],[0.8888888888888888,\"#fdca26\"],[1.0,\"#f0f921\"]]}],\"mesh3d\":[{\"type\":\"mesh3d\",\"colorbar\":{\"outlinewidth\":0,\"ticks\":\"\"}}],\"scatter\":[{\"fillpattern\":{\"fillmode\":\"overlay\",\"size\":10,\"solidity\":0.2},\"type\":\"scatter\"}],\"parcoords\":[{\"type\":\"parcoords\",\"line\":{\"colorbar\":{\"outlinewidth\":0,\"ticks\":\"\"}}}],\"scatterpolargl\":[{\"type\":\"scatterpolargl\",\"marker\":{\"colorbar\":{\"outlinewidth\":0,\"ticks\":\"\"}}}],\"bar\":[{\"error_x\":{\"color\":\"#2a3f5f\"},\"error_y\":{\"color\":\"#2a3f5f\"},\"marker\":{\"line\":{\"color\":\"#E5ECF6\",\"width\":0.5},\"pattern\":{\"fillmode\":\"overlay\",\"size\":10,\"solidity\":0.2}},\"type\":\"bar\"}],\"scattergeo\":[{\"type\":\"scattergeo\",\"marker\":{\"colorbar\":{\"outlinewidth\":0,\"ticks\":\"\"}}}],\"scatterpolar\":[{\"type\":\"scatterpolar\",\"marker\":{\"colorbar\":{\"outlinewidth\":0,\"ticks\":\"\"}}}],\"histogram\":[{\"marker\":{\"pattern\":{\"fillmode\":\"overlay\",\"size\":10,\"solidity\":0.2}},\"type\":\"histogram\"}],\"scattergl\":[{\"type\":\"scattergl\",\"marker\":{\"colorbar\":{\"outlinewidth\":0,\"ticks\":\"\"}}}],\"scatter3d\":[{\"type\":\"scatter3d\",\"line\":{\"colorbar\":{\"outlinewidth\":0,\"ticks\":\"\"}},\"marker\":{\"colorbar\":{\"outlinewidth\":0,\"ticks\":\"\"}}}],\"scattermapbox\":[{\"type\":\"scattermapbox\",\"marker\":{\"colorbar\":{\"outlinewidth\":0,\"ticks\":\"\"}}}],\"scatterternary\":[{\"type\":\"scatterternary\",\"marker\":{\"colorbar\":{\"outlinewidth\":0,\"ticks\":\"\"}}}],\"scattercarpet\":[{\"type\":\"scattercarpet\",\"marker\":{\"colorbar\":{\"outlinewidth\":0,\"ticks\":\"\"}}}],\"carpet\":[{\"aaxis\":{\"endlinecolor\":\"#2a3f5f\",\"gridcolor\":\"white\",\"linecolor\":\"white\",\"minorgridcolor\":\"white\",\"startlinecolor\":\"#2a3f5f\"},\"baxis\":{\"endlinecolor\":\"#2a3f5f\",\"gridcolor\":\"white\",\"linecolor\":\"white\",\"minorgridcolor\":\"white\",\"startlinecolor\":\"#2a3f5f\"},\"type\":\"carpet\"}],\"table\":[{\"cells\":{\"fill\":{\"color\":\"#EBF0F8\"},\"line\":{\"color\":\"white\"}},\"header\":{\"fill\":{\"color\":\"#C8D4E3\"},\"line\":{\"color\":\"white\"}},\"type\":\"table\"}],\"barpolar\":[{\"marker\":{\"line\":{\"color\":\"#E5ECF6\",\"width\":0.5},\"pattern\":{\"fillmode\":\"overlay\",\"size\":10,\"solidity\":0.2}},\"type\":\"barpolar\"}],\"pie\":[{\"automargin\":true,\"type\":\"pie\"}]},\"layout\":{\"autotypenumbers\":\"strict\",\"colorway\":[\"#636efa\",\"#EF553B\",\"#00cc96\",\"#ab63fa\",\"#FFA15A\",\"#19d3f3\",\"#FF6692\",\"#B6E880\",\"#FF97FF\",\"#FECB52\"],\"font\":{\"color\":\"#2a3f5f\"},\"hovermode\":\"closest\",\"hoverlabel\":{\"align\":\"left\"},\"paper_bgcolor\":\"white\",\"plot_bgcolor\":\"#E5ECF6\",\"polar\":{\"bgcolor\":\"#E5ECF6\",\"angularaxis\":{\"gridcolor\":\"white\",\"linecolor\":\"white\",\"ticks\":\"\"},\"radialaxis\":{\"gridcolor\":\"white\",\"linecolor\":\"white\",\"ticks\":\"\"}},\"ternary\":{\"bgcolor\":\"#E5ECF6\",\"aaxis\":{\"gridcolor\":\"white\",\"linecolor\":\"white\",\"ticks\":\"\"},\"baxis\":{\"gridcolor\":\"white\",\"linecolor\":\"white\",\"ticks\":\"\"},\"caxis\":{\"gridcolor\":\"white\",\"linecolor\":\"white\",\"ticks\":\"\"}},\"coloraxis\":{\"colorbar\":{\"outlinewidth\":0,\"ticks\":\"\"}},\"colorscale\":{\"sequential\":[[0.0,\"#0d0887\"],[0.1111111111111111,\"#46039f\"],[0.2222222222222222,\"#7201a8\"],[0.3333333333333333,\"#9c179e\"],[0.4444444444444444,\"#bd3786\"],[0.5555555555555556,\"#d8576b\"],[0.6666666666666666,\"#ed7953\"],[0.7777777777777778,\"#fb9f3a\"],[0.8888888888888888,\"#fdca26\"],[1.0,\"#f0f921\"]],\"sequentialminus\":[[0.0,\"#0d0887\"],[0.1111111111111111,\"#46039f\"],[0.2222222222222222,\"#7201a8\"],[0.3333333333333333,\"#9c179e\"],[0.4444444444444444,\"#bd3786\"],[0.5555555555555556,\"#d8576b\"],[0.6666666666666666,\"#ed7953\"],[0.7777777777777778,\"#fb9f3a\"],[0.8888888888888888,\"#fdca26\"],[1.0,\"#f0f921\"]],\"diverging\":[[0,\"#8e0152\"],[0.1,\"#c51b7d\"],[0.2,\"#de77ae\"],[0.3,\"#f1b6da\"],[0.4,\"#fde0ef\"],[0.5,\"#f7f7f7\"],[0.6,\"#e6f5d0\"],[0.7,\"#b8e186\"],[0.8,\"#7fbc41\"],[0.9,\"#4d9221\"],[1,\"#276419\"]]},\"xaxis\":{\"gridcolor\":\"white\",\"linecolor\":\"white\",\"ticks\":\"\",\"title\":{\"standoff\":15},\"zerolinecolor\":\"white\",\"automargin\":true,\"zerolinewidth\":2},\"yaxis\":{\"gridcolor\":\"white\",\"linecolor\":\"white\",\"ticks\":\"\",\"title\":{\"standoff\":15},\"zerolinecolor\":\"white\",\"automargin\":true,\"zerolinewidth\":2},\"scene\":{\"xaxis\":{\"backgroundcolor\":\"#E5ECF6\",\"gridcolor\":\"white\",\"linecolor\":\"white\",\"showbackground\":true,\"ticks\":\"\",\"zerolinecolor\":\"white\",\"gridwidth\":2},\"yaxis\":{\"backgroundcolor\":\"#E5ECF6\",\"gridcolor\":\"white\",\"linecolor\":\"white\",\"showbackground\":true,\"ticks\":\"\",\"zerolinecolor\":\"white\",\"gridwidth\":2},\"zaxis\":{\"backgroundcolor\":\"#E5ECF6\",\"gridcolor\":\"white\",\"linecolor\":\"white\",\"showbackground\":true,\"ticks\":\"\",\"zerolinecolor\":\"white\",\"gridwidth\":2}},\"shapedefaults\":{\"line\":{\"color\":\"#2a3f5f\"}},\"annotationdefaults\":{\"arrowcolor\":\"#2a3f5f\",\"arrowhead\":0,\"arrowwidth\":1},\"geo\":{\"bgcolor\":\"white\",\"landcolor\":\"#E5ECF6\",\"subunitcolor\":\"white\",\"showland\":true,\"showlakes\":true,\"lakecolor\":\"white\"},\"title\":{\"x\":0.05},\"mapbox\":{\"style\":\"light\"}}},\"polar\":{\"domain\":{\"x\":[0.0,1.0],\"y\":[0.0,1.0]},\"angularaxis\":{\"direction\":\"clockwise\",\"rotation\":90}},\"legend\":{\"tracegroupgap\":0},\"margin\":{\"t\":60}},                        {\"responsive\": true}                    ).then(function(){\n",
       "                            \n",
       "var gd = document.getElementById('89ea2e08-6eff-440e-a1b4-2f890849568c');\n",
       "var x = new MutationObserver(function (mutations, observer) {{\n",
       "        var display = window.getComputedStyle(gd).display;\n",
       "        if (!display || display === 'none') {{\n",
       "            console.log([gd, 'removed!']);\n",
       "            Plotly.purge(gd);\n",
       "            observer.disconnect();\n",
       "        }}\n",
       "}});\n",
       "\n",
       "// Listen for the removal of the full notebook cells\n",
       "var notebookContainer = gd.closest('#notebook-container');\n",
       "if (notebookContainer) {{\n",
       "    x.observe(notebookContainer, {childList: true});\n",
       "}}\n",
       "\n",
       "// Listen for the clearing of the current output cell\n",
       "var outputEl = gd.closest('.output');\n",
       "if (outputEl) {{\n",
       "    x.observe(outputEl, {childList: true});\n",
       "}}\n",
       "\n",
       "                        })                };                });            </script>        </div>"
      ]
     },
     "metadata": {},
     "output_type": "display_data"
    }
   ],
   "source": [
    "def make_radar(tuple_keys_val):\n",
    "    df = pd.DataFrame(dict(\n",
    "        r=tuple_keys_val[1],\n",
    "        theta=tuple_keys_val[0]))\n",
    "    fig = px.line_polar(df, r='r', theta='theta', line_close=True)\n",
    "    fig.show()\n",
    "make_radar(radar_val)"
   ]
  },
  {
   "cell_type": "markdown",
   "id": "f629f32e-9a14-4ff3-934f-263cb7f8a5f3",
   "metadata": {},
   "source": [
    "{'danceability': 0.279,\n",
    " 'energy': 0.05399999999999994,\n",
    " 'instrumentalness': 0.000164,\n",
    " 'liveness': 0.31200000000000006,\n",
    " 'valence': 0.07500000000000001,\n",
    " 'loudness': 0.03184999999999999,\n",
    " 'tempo': 0.5792214285714287,\n",
    " 'key': 0.0,\n",
    " 'mode': 1.0}"
   ]
  },
  {
   "cell_type": "code",
   "execution_count": null,
   "id": "9412ddd6-8ac2-44d5-8542-d2065e456a20",
   "metadata": {},
   "outputs": [],
   "source": [
    "if feature == 'key':\n",
    "            feature_similarities[feature] = compare_keys(track1_features['key'], track1_features['mode'], track2_features['key'], track2_features['mode'])\n",
    "\n",
    "        if feature == 'mode':\n",
    "            feature_similarities[feature] = float(abs(track1_features[feature] - track2_features[feature]))     # converted to float (from int) for uniformity, no practical effect\n"
   ]
  }
 ],
 "metadata": {
  "kernelspec": {
   "display_name": "Python (Encoding Music)",
   "language": "python",
   "name": "encodingmusic"
  },
  "language_info": {
   "codemirror_mode": {
    "name": "ipython",
    "version": 3
   },
   "file_extension": ".py",
   "mimetype": "text/x-python",
   "name": "python",
   "nbconvert_exporter": "python",
   "pygments_lexer": "ipython3",
   "version": "3.10.12"
  }
 },
 "nbformat": 4,
 "nbformat_minor": 5
}
