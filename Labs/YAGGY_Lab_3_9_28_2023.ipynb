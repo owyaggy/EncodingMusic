{
 "cells": [
  {
   "cell_type": "code",
   "execution_count": 29,
   "id": "initial_id",
   "metadata": {
    "collapsed": true,
    "ExecuteTime": {
     "end_time": "2023-09-28T18:17:15.768698Z",
     "start_time": "2023-09-28T18:17:15.759598Z"
    }
   },
   "outputs": [],
   "source": [
    "import pandas as pd"
   ]
  },
  {
   "cell_type": "code",
   "execution_count": 30,
   "outputs": [],
   "source": [
    "beatles_spotify_csv = 'https://docs.google.com/spreadsheets/d/e/2PACX-1vRCv45ldJmq0isl2bvWok7AbD5C6JWA0Xf1tBqow5ngX7_ox8c2d846PnH9iLp_SikzgYmvdPHe9k7G/pub?output=csv'\n",
    "\n",
    "beatles_spotify = pd.read_csv(beatles_spotify_csv)\n"
   ],
   "metadata": {
    "collapsed": false,
    "ExecuteTime": {
     "end_time": "2023-09-28T18:17:16.167405Z",
     "start_time": "2023-09-28T18:17:15.765475Z"
    }
   },
   "id": "586ab4eb92d30e9"
  },
  {
   "cell_type": "code",
   "execution_count": 31,
   "outputs": [
    {
     "data": {
      "text/plain": "['year',\n 'valence',\n 'speechiness',\n 'song',\n 'liveness',\n 'id',\n 'energy',\n 'duration_ms',\n 'danceability',\n 'album',\n 'acousticness']"
     },
     "execution_count": 31,
     "metadata": {},
     "output_type": "execute_result"
    }
   ],
   "source": [
    "beatles_spotify.columns.sort_values(ascending=False).to_list()"
   ],
   "metadata": {
    "collapsed": false,
    "ExecuteTime": {
     "end_time": "2023-09-28T18:17:16.178626Z",
     "start_time": "2023-09-28T18:17:16.168364Z"
    }
   },
   "id": "98da223cde3a6579"
  },
  {
   "cell_type": "code",
   "execution_count": 32,
   "outputs": [
    {
     "data": {
      "text/plain": "     year   id  duration_ms\n0    1963    1       173947\n1    1963    2       108547\n2    1963    3       177133\n3    1963    4       145080\n4    1963    5       146440\n..    ...  ...          ...\n188  1970  189       217560\n189  1970  190       173960\n190  1970  191       218187\n191  1970  192       152213\n192  1970  193       189387\n\n[193 rows x 3 columns]",
      "text/html": "<div>\n<style scoped>\n    .dataframe tbody tr th:only-of-type {\n        vertical-align: middle;\n    }\n\n    .dataframe tbody tr th {\n        vertical-align: top;\n    }\n\n    .dataframe thead th {\n        text-align: right;\n    }\n</style>\n<table border=\"1\" class=\"dataframe\">\n  <thead>\n    <tr style=\"text-align: right;\">\n      <th></th>\n      <th>year</th>\n      <th>id</th>\n      <th>duration_ms</th>\n    </tr>\n  </thead>\n  <tbody>\n    <tr>\n      <th>0</th>\n      <td>1963</td>\n      <td>1</td>\n      <td>173947</td>\n    </tr>\n    <tr>\n      <th>1</th>\n      <td>1963</td>\n      <td>2</td>\n      <td>108547</td>\n    </tr>\n    <tr>\n      <th>2</th>\n      <td>1963</td>\n      <td>3</td>\n      <td>177133</td>\n    </tr>\n    <tr>\n      <th>3</th>\n      <td>1963</td>\n      <td>4</td>\n      <td>145080</td>\n    </tr>\n    <tr>\n      <th>4</th>\n      <td>1963</td>\n      <td>5</td>\n      <td>146440</td>\n    </tr>\n    <tr>\n      <th>...</th>\n      <td>...</td>\n      <td>...</td>\n      <td>...</td>\n    </tr>\n    <tr>\n      <th>188</th>\n      <td>1970</td>\n      <td>189</td>\n      <td>217560</td>\n    </tr>\n    <tr>\n      <th>189</th>\n      <td>1970</td>\n      <td>190</td>\n      <td>173960</td>\n    </tr>\n    <tr>\n      <th>190</th>\n      <td>1970</td>\n      <td>191</td>\n      <td>218187</td>\n    </tr>\n    <tr>\n      <th>191</th>\n      <td>1970</td>\n      <td>192</td>\n      <td>152213</td>\n    </tr>\n    <tr>\n      <th>192</th>\n      <td>1970</td>\n      <td>193</td>\n      <td>189387</td>\n    </tr>\n  </tbody>\n</table>\n<p>193 rows × 3 columns</p>\n</div>"
     },
     "execution_count": 32,
     "metadata": {},
     "output_type": "execute_result"
    }
   ],
   "source": [
    "new_col_order = ['year', 'id', 'duration_ms']\n",
    "bs_selected_cols = beatles_spotify[new_col_order]\n",
    "bs_selected_cols"
   ],
   "metadata": {
    "collapsed": false,
    "ExecuteTime": {
     "end_time": "2023-09-28T18:17:16.185294Z",
     "start_time": "2023-09-28T18:17:16.181214Z"
    }
   },
   "id": "f2a7093cf3a685ef"
  },
  {
   "cell_type": "code",
   "execution_count": 40,
   "outputs": [
    {
     "data": {
      "text/plain": "album\nThe Beatles (white album)                30\nAbbey Road                               17\nPlease Please Me                         14\nWith The Beatles                         14\nBeatles for Sale                         14\nHelp!                                    14\nRubber Soul                              14\nRevolver                                 14\nA Hard Day's Night                       13\nSgt. Pepper's Lonely Hearts Club Band    13\nYellow Submarine                         13\nLet It Be                                12\nMagical Mystery Tour                     11\nName: count, dtype: int64"
     },
     "execution_count": 40,
     "metadata": {},
     "output_type": "execute_result"
    }
   ],
   "source": [
    "beatles_spotify['album'][:].value_counts()"
   ],
   "metadata": {
    "collapsed": false,
    "ExecuteTime": {
     "end_time": "2023-09-28T18:20:07.618007Z",
     "start_time": "2023-09-28T18:20:07.607964Z"
    }
   },
   "id": "f259c1f525f172b"
  },
  {
   "cell_type": "code",
   "execution_count": 47,
   "outputs": [
    {
     "data": {
      "text/plain": "                                     song  danceability  Dance Tune\n108  sgt. Peppers lonely hearts club band         0.653         1.0\n149                          revolution 9         0.208         0.0\n182                            dig a pony         0.538         1.0\n91                 and your bird can sing         0.555         1.0\n65                   tell me what you see         0.592         1.0\n128               happiness is a warm gem         0.431         0.0\n68                       dizzy miss lizzy         0.373         0.0\n133                         rocky raccoon         0.599         1.0\n165                             something         0.396         0.0\n101                         fixing a hole         0.469         0.0\n74                               the word         0.590         1.0\n155                      its all too much         0.390         0.0\n43                         babys in black         0.374         0.0\n158                           sea of time         0.237         0.0\n87             here, there and everywhere         0.290         0.0\n30                              If I Fell         0.665         1.0\n100                        getting better         0.632         1.0\n106                           lovely rita         0.610         1.0\n78                 im looking through you         0.667         1.0\n186                             let it be         0.443         0.0",
      "text/html": "<div>\n<style scoped>\n    .dataframe tbody tr th:only-of-type {\n        vertical-align: middle;\n    }\n\n    .dataframe tbody tr th {\n        vertical-align: top;\n    }\n\n    .dataframe thead th {\n        text-align: right;\n    }\n</style>\n<table border=\"1\" class=\"dataframe\">\n  <thead>\n    <tr style=\"text-align: right;\">\n      <th></th>\n      <th>song</th>\n      <th>danceability</th>\n      <th>Dance Tune</th>\n    </tr>\n  </thead>\n  <tbody>\n    <tr>\n      <th>108</th>\n      <td>sgt. Peppers lonely hearts club band</td>\n      <td>0.653</td>\n      <td>1.0</td>\n    </tr>\n    <tr>\n      <th>149</th>\n      <td>revolution 9</td>\n      <td>0.208</td>\n      <td>0.0</td>\n    </tr>\n    <tr>\n      <th>182</th>\n      <td>dig a pony</td>\n      <td>0.538</td>\n      <td>1.0</td>\n    </tr>\n    <tr>\n      <th>91</th>\n      <td>and your bird can sing</td>\n      <td>0.555</td>\n      <td>1.0</td>\n    </tr>\n    <tr>\n      <th>65</th>\n      <td>tell me what you see</td>\n      <td>0.592</td>\n      <td>1.0</td>\n    </tr>\n    <tr>\n      <th>128</th>\n      <td>happiness is a warm gem</td>\n      <td>0.431</td>\n      <td>0.0</td>\n    </tr>\n    <tr>\n      <th>68</th>\n      <td>dizzy miss lizzy</td>\n      <td>0.373</td>\n      <td>0.0</td>\n    </tr>\n    <tr>\n      <th>133</th>\n      <td>rocky raccoon</td>\n      <td>0.599</td>\n      <td>1.0</td>\n    </tr>\n    <tr>\n      <th>165</th>\n      <td>something</td>\n      <td>0.396</td>\n      <td>0.0</td>\n    </tr>\n    <tr>\n      <th>101</th>\n      <td>fixing a hole</td>\n      <td>0.469</td>\n      <td>0.0</td>\n    </tr>\n    <tr>\n      <th>74</th>\n      <td>the word</td>\n      <td>0.590</td>\n      <td>1.0</td>\n    </tr>\n    <tr>\n      <th>155</th>\n      <td>its all too much</td>\n      <td>0.390</td>\n      <td>0.0</td>\n    </tr>\n    <tr>\n      <th>43</th>\n      <td>babys in black</td>\n      <td>0.374</td>\n      <td>0.0</td>\n    </tr>\n    <tr>\n      <th>158</th>\n      <td>sea of time</td>\n      <td>0.237</td>\n      <td>0.0</td>\n    </tr>\n    <tr>\n      <th>87</th>\n      <td>here, there and everywhere</td>\n      <td>0.290</td>\n      <td>0.0</td>\n    </tr>\n    <tr>\n      <th>30</th>\n      <td>If I Fell</td>\n      <td>0.665</td>\n      <td>1.0</td>\n    </tr>\n    <tr>\n      <th>100</th>\n      <td>getting better</td>\n      <td>0.632</td>\n      <td>1.0</td>\n    </tr>\n    <tr>\n      <th>106</th>\n      <td>lovely rita</td>\n      <td>0.610</td>\n      <td>1.0</td>\n    </tr>\n    <tr>\n      <th>78</th>\n      <td>im looking through you</td>\n      <td>0.667</td>\n      <td>1.0</td>\n    </tr>\n    <tr>\n      <th>186</th>\n      <td>let it be</td>\n      <td>0.443</td>\n      <td>0.0</td>\n    </tr>\n  </tbody>\n</table>\n</div>"
     },
     "execution_count": 47,
     "metadata": {},
     "output_type": "execute_result"
    }
   ],
   "source": [
    "beatles_spotify.loc[beatles_spotify['danceability'].astype(float).between(0.000, 0.500, 'right'), 'Dance Tune'] = 0\n",
    "beatles_spotify.loc[beatles_spotify['danceability'].astype(float).between(0.501, 1.000, 'right'), 'Dance Tune'] = 1\n",
    "beatles_spotify[['song', 'danceability', 'Dance Tune']].sample(20)"
   ],
   "metadata": {
    "collapsed": false,
    "ExecuteTime": {
     "end_time": "2023-09-28T18:27:11.454776Z",
     "start_time": "2023-09-28T18:27:11.449887Z"
    }
   },
   "id": "203fe4be204f5ddd"
  },
  {
   "cell_type": "code",
   "execution_count": 33,
   "outputs": [],
   "source": [
    "beatles_billboard_csv = 'https://raw.githubusercontent.com/inteligentni/Class-05-Feature-engineering/master/The%20Beatles%20songs%20dataset%2C%20v1%2C%20no%20NAs.csv'\n",
    "\n",
    "beatles_billboard = pd.read_csv(beatles_billboard_csv)\n"
   ],
   "metadata": {
    "collapsed": false,
    "ExecuteTime": {
     "end_time": "2023-09-28T18:17:16.341553Z",
     "start_time": "2023-09-28T18:17:16.189295Z"
    }
   },
   "id": "4e34ca41a4602a16"
  },
  {
   "cell_type": "code",
   "execution_count": 34,
   "outputs": [
    {
     "data": {
      "text/plain": "                                     Title  Year  \\\n172                                 Madman  1969   \n186                          Mr. Moonlight  1964   \n44                         Come and Get It  1969   \n184                          Moonlight Bay  1963   \n191                             Not Guilty  1968   \n3               A Shot of Rhythm and Blues  1963   \n57                         Don't Bother Me  1963   \n35                                   Carol  1963   \n307         You've Really Got a Hold on Me  1963   \n115               I Saw Her Standing There  1963   \n289                         Winston's Walk  1960   \n175        Mailman, Bring Me No More Blues  1969   \n52                              Dig a Pony  1969   \n100                          Hold Me Tight  1963   \n187                              My Bonnie  1961   \n10                    All Things Must Pass  1969   \n299  You Know My Name (Look Up the Number)  1967   \n104                        I Am the Walrus  1967   \n259                        The Inner Light  1968   \n36                       Carry That Weight  1969   \n\n                                           Album.debut  Duration  \\\n172                                                NaN       197   \n186               UK: Beatles for Sale US: Beatles '65       155   \n44                                         Anthology 3       142   \n184                                        Anthology 1       150   \n191                                        Anthology 3       215   \n3                                      Live at the BBC       104   \n57          UK: With the Beatles US: Meet The Beatles!       149   \n35                                     Live at the BBC       150   \n307  UK: With the Beatles US: The Beatles Second Album       182   \n115         UK: Please Please Me US: Meet The Beatles!       175   \n289                                                NaN       150   \n175                                        Anthology 3       116   \n52                                           Let It Be       232   \n100         UK: With the Beatles US: Meet The Beatles!       152   \n187                                        Anthology 1       150   \n10                                         Anthology 3       227   \n299                          UK: Rarities US: Rarities       261   \n104                               Magical Mystery Tour       273   \n259                          UK: Rarities US: Rarities       156   \n36                                          Abbey Road        96   \n\n     Other.releases                                              Genre  \\\n172               0                                     Rock, Pop/Rock   \n186              17                                Folk Rock, Pop/Rock   \n44                0                                Power Pop, Pop/Rock   \n184               0                                           Pop/Rock   \n191               0                                 Jazz-Pop, Pop/Rock   \n3                 0                                      R&B, Pop/Rock   \n57               11                            Rock and Roll, Pop/Rock   \n35                0                            Rock and Roll, Pop/Rock   \n307               2                                     Soul, Pop/Rock   \n115              42                            Rock and Roll, Pop/Rock   \n289               0                                                NaN   \n175               0                                           Pop/Rock   \n52               12                               Blues Rock, Pop/Rock   \n100              16                              Rock & Roll, Pop/Rock   \n187              13                            Rock and Roll, Pop/Rock   \n10                0                                Folk Rock, Pop/Rock   \n299               4  Comedy Rock, Jazz, Experimental Rock, Avant-Ga...   \n104              20  Psychedelic Rock, Acid Rock, Experimental Rock...   \n259              10                  Indian Music, Raga Rock, Pop/Rock   \n36                5                           Symphonic Rock, Pop/Rock   \n\n                       Songwriter  \\\n172                        Lennon   \n186                       Johnson   \n44                      McCartney   \n184  Percy Wenrich, Edward Madden   \n191                      Harrison   \n3                        Thompson   \n57                       Harrison   \n35                          Berry   \n307                      Robinson   \n115        McCartney, with Lennon   \n289                        Lennon   \n175   Row, Katz, Roberts, Clayton   \n52                         Lennon   \n100        McCartney, with Lennon   \n187    Traditional, arr. Sheridan   \n10                       Harrison   \n299        Lennon, with McCartney   \n104                        Lennon   \n259                      Harrison   \n36                      McCartney   \n\n                                            Lead.vocal  Top.50.Billboard  \n172                                             Lennon                -1  \n186                                             Lennon                -1  \n44                                           McCartney                -1  \n184  Lennon, McCartney, Harrison, Eric Morecambe, E...                -1  \n191                                           Harrison                -1  \n3                                               Lennon                -1  \n57                                            Harrison                -1  \n35                                              Lennon                -1  \n307                                Lennon and Harrison                -1  \n115                             McCartney, with Lennon                36  \n289                                                NaN                -1  \n175                                             Lennon                -1  \n52                                              Lennon                -1  \n100                                          McCartney                -1  \n187                                           Sheridan                45  \n10                                            Harrison                -1  \n299                               Lennon and McCartney                -1  \n104                                             Lennon                -1  \n259                                           Harrison                -1  \n36        McCartney, with Lennon, Harrison and Starkey                -1  ",
      "text/html": "<div>\n<style scoped>\n    .dataframe tbody tr th:only-of-type {\n        vertical-align: middle;\n    }\n\n    .dataframe tbody tr th {\n        vertical-align: top;\n    }\n\n    .dataframe thead th {\n        text-align: right;\n    }\n</style>\n<table border=\"1\" class=\"dataframe\">\n  <thead>\n    <tr style=\"text-align: right;\">\n      <th></th>\n      <th>Title</th>\n      <th>Year</th>\n      <th>Album.debut</th>\n      <th>Duration</th>\n      <th>Other.releases</th>\n      <th>Genre</th>\n      <th>Songwriter</th>\n      <th>Lead.vocal</th>\n      <th>Top.50.Billboard</th>\n    </tr>\n  </thead>\n  <tbody>\n    <tr>\n      <th>172</th>\n      <td>Madman</td>\n      <td>1969</td>\n      <td>NaN</td>\n      <td>197</td>\n      <td>0</td>\n      <td>Rock, Pop/Rock</td>\n      <td>Lennon</td>\n      <td>Lennon</td>\n      <td>-1</td>\n    </tr>\n    <tr>\n      <th>186</th>\n      <td>Mr. Moonlight</td>\n      <td>1964</td>\n      <td>UK: Beatles for Sale US: Beatles '65</td>\n      <td>155</td>\n      <td>17</td>\n      <td>Folk Rock, Pop/Rock</td>\n      <td>Johnson</td>\n      <td>Lennon</td>\n      <td>-1</td>\n    </tr>\n    <tr>\n      <th>44</th>\n      <td>Come and Get It</td>\n      <td>1969</td>\n      <td>Anthology 3</td>\n      <td>142</td>\n      <td>0</td>\n      <td>Power Pop, Pop/Rock</td>\n      <td>McCartney</td>\n      <td>McCartney</td>\n      <td>-1</td>\n    </tr>\n    <tr>\n      <th>184</th>\n      <td>Moonlight Bay</td>\n      <td>1963</td>\n      <td>Anthology 1</td>\n      <td>150</td>\n      <td>0</td>\n      <td>Pop/Rock</td>\n      <td>Percy Wenrich, Edward Madden</td>\n      <td>Lennon, McCartney, Harrison, Eric Morecambe, E...</td>\n      <td>-1</td>\n    </tr>\n    <tr>\n      <th>191</th>\n      <td>Not Guilty</td>\n      <td>1968</td>\n      <td>Anthology 3</td>\n      <td>215</td>\n      <td>0</td>\n      <td>Jazz-Pop, Pop/Rock</td>\n      <td>Harrison</td>\n      <td>Harrison</td>\n      <td>-1</td>\n    </tr>\n    <tr>\n      <th>3</th>\n      <td>A Shot of Rhythm and Blues</td>\n      <td>1963</td>\n      <td>Live at the BBC</td>\n      <td>104</td>\n      <td>0</td>\n      <td>R&amp;B, Pop/Rock</td>\n      <td>Thompson</td>\n      <td>Lennon</td>\n      <td>-1</td>\n    </tr>\n    <tr>\n      <th>57</th>\n      <td>Don't Bother Me</td>\n      <td>1963</td>\n      <td>UK: With the Beatles US: Meet The Beatles!</td>\n      <td>149</td>\n      <td>11</td>\n      <td>Rock and Roll, Pop/Rock</td>\n      <td>Harrison</td>\n      <td>Harrison</td>\n      <td>-1</td>\n    </tr>\n    <tr>\n      <th>35</th>\n      <td>Carol</td>\n      <td>1963</td>\n      <td>Live at the BBC</td>\n      <td>150</td>\n      <td>0</td>\n      <td>Rock and Roll, Pop/Rock</td>\n      <td>Berry</td>\n      <td>Lennon</td>\n      <td>-1</td>\n    </tr>\n    <tr>\n      <th>307</th>\n      <td>You've Really Got a Hold on Me</td>\n      <td>1963</td>\n      <td>UK: With the Beatles US: The Beatles Second Album</td>\n      <td>182</td>\n      <td>2</td>\n      <td>Soul, Pop/Rock</td>\n      <td>Robinson</td>\n      <td>Lennon and Harrison</td>\n      <td>-1</td>\n    </tr>\n    <tr>\n      <th>115</th>\n      <td>I Saw Her Standing There</td>\n      <td>1963</td>\n      <td>UK: Please Please Me US: Meet The Beatles!</td>\n      <td>175</td>\n      <td>42</td>\n      <td>Rock and Roll, Pop/Rock</td>\n      <td>McCartney, with Lennon</td>\n      <td>McCartney, with Lennon</td>\n      <td>36</td>\n    </tr>\n    <tr>\n      <th>289</th>\n      <td>Winston's Walk</td>\n      <td>1960</td>\n      <td>NaN</td>\n      <td>150</td>\n      <td>0</td>\n      <td>NaN</td>\n      <td>Lennon</td>\n      <td>NaN</td>\n      <td>-1</td>\n    </tr>\n    <tr>\n      <th>175</th>\n      <td>Mailman, Bring Me No More Blues</td>\n      <td>1969</td>\n      <td>Anthology 3</td>\n      <td>116</td>\n      <td>0</td>\n      <td>Pop/Rock</td>\n      <td>Row, Katz, Roberts, Clayton</td>\n      <td>Lennon</td>\n      <td>-1</td>\n    </tr>\n    <tr>\n      <th>52</th>\n      <td>Dig a Pony</td>\n      <td>1969</td>\n      <td>Let It Be</td>\n      <td>232</td>\n      <td>12</td>\n      <td>Blues Rock, Pop/Rock</td>\n      <td>Lennon</td>\n      <td>Lennon</td>\n      <td>-1</td>\n    </tr>\n    <tr>\n      <th>100</th>\n      <td>Hold Me Tight</td>\n      <td>1963</td>\n      <td>UK: With the Beatles US: Meet The Beatles!</td>\n      <td>152</td>\n      <td>16</td>\n      <td>Rock &amp; Roll, Pop/Rock</td>\n      <td>McCartney, with Lennon</td>\n      <td>McCartney</td>\n      <td>-1</td>\n    </tr>\n    <tr>\n      <th>187</th>\n      <td>My Bonnie</td>\n      <td>1961</td>\n      <td>Anthology 1</td>\n      <td>150</td>\n      <td>13</td>\n      <td>Rock and Roll, Pop/Rock</td>\n      <td>Traditional, arr. Sheridan</td>\n      <td>Sheridan</td>\n      <td>45</td>\n    </tr>\n    <tr>\n      <th>10</th>\n      <td>All Things Must Pass</td>\n      <td>1969</td>\n      <td>Anthology 3</td>\n      <td>227</td>\n      <td>0</td>\n      <td>Folk Rock, Pop/Rock</td>\n      <td>Harrison</td>\n      <td>Harrison</td>\n      <td>-1</td>\n    </tr>\n    <tr>\n      <th>299</th>\n      <td>You Know My Name (Look Up the Number)</td>\n      <td>1967</td>\n      <td>UK: Rarities US: Rarities</td>\n      <td>261</td>\n      <td>4</td>\n      <td>Comedy Rock, Jazz, Experimental Rock, Avant-Ga...</td>\n      <td>Lennon, with McCartney</td>\n      <td>Lennon and McCartney</td>\n      <td>-1</td>\n    </tr>\n    <tr>\n      <th>104</th>\n      <td>I Am the Walrus</td>\n      <td>1967</td>\n      <td>Magical Mystery Tour</td>\n      <td>273</td>\n      <td>20</td>\n      <td>Psychedelic Rock, Acid Rock, Experimental Rock...</td>\n      <td>Lennon</td>\n      <td>Lennon</td>\n      <td>-1</td>\n    </tr>\n    <tr>\n      <th>259</th>\n      <td>The Inner Light</td>\n      <td>1968</td>\n      <td>UK: Rarities US: Rarities</td>\n      <td>156</td>\n      <td>10</td>\n      <td>Indian Music, Raga Rock, Pop/Rock</td>\n      <td>Harrison</td>\n      <td>Harrison</td>\n      <td>-1</td>\n    </tr>\n    <tr>\n      <th>36</th>\n      <td>Carry That Weight</td>\n      <td>1969</td>\n      <td>Abbey Road</td>\n      <td>96</td>\n      <td>5</td>\n      <td>Symphonic Rock, Pop/Rock</td>\n      <td>McCartney</td>\n      <td>McCartney, with Lennon, Harrison and Starkey</td>\n      <td>-1</td>\n    </tr>\n  </tbody>\n</table>\n</div>"
     },
     "execution_count": 34,
     "metadata": {},
     "output_type": "execute_result"
    }
   ],
   "source": [
    "beatles_billboard.sample(20)"
   ],
   "metadata": {
    "collapsed": false,
    "ExecuteTime": {
     "end_time": "2023-09-28T18:17:16.342621Z",
     "start_time": "2023-09-28T18:17:16.322583Z"
    }
   },
   "id": "a60c3eee6b564a0"
  },
  {
   "cell_type": "code",
   "execution_count": 37,
   "outputs": [
    {
     "data": {
      "text/plain": "                                  Title  Year  \\\n31                         Blue Jay Way  1967   \n48              Crying, Waiting, Hoping  1963   \n144          In Spite of All the Danger  1958   \n28   Being for the Benefit of Mr. Kite!  1967   \n222                          Sexy Sadie  1968   \n\n                               Album.debut  Duration  Other.releases  \\\n31                    Magical Mystery Tour       235              13   \n48                         Live at the BBC       130               0   \n144                            Anthology 1       164               0   \n28   Sgt. Pepper's Lonely Hearts Club Band       157               7   \n222                            The Beatles       195              11   \n\n                                                 Genre  \\\n31                          Psychedelic Rock, Pop/Rock   \n48                             Rock and Roll, Pop/Rock   \n144            Skiffle, Blues, Rock and Roll, Pop/Rock   \n28   Experimental Rock, Psychedelic Rock, Circus, P...   \n222                                           Pop/Rock   \n\n                 Songwriter Lead.vocal  Top.50.Billboard  Date  \n31                 Harrison   Harrison                -1  1972  \n48              Buddy Holly   Harrison                -1  1968  \n144  McCartney and Harrison     Lennon                -1  1963  \n28   Lennon, with McCartney     Lennon                -1  1972  \n222                  Lennon     Lennon                -1  1973  ",
      "text/html": "<div>\n<style scoped>\n    .dataframe tbody tr th:only-of-type {\n        vertical-align: middle;\n    }\n\n    .dataframe tbody tr th {\n        vertical-align: top;\n    }\n\n    .dataframe thead th {\n        text-align: right;\n    }\n</style>\n<table border=\"1\" class=\"dataframe\">\n  <thead>\n    <tr style=\"text-align: right;\">\n      <th></th>\n      <th>Title</th>\n      <th>Year</th>\n      <th>Album.debut</th>\n      <th>Duration</th>\n      <th>Other.releases</th>\n      <th>Genre</th>\n      <th>Songwriter</th>\n      <th>Lead.vocal</th>\n      <th>Top.50.Billboard</th>\n      <th>Date</th>\n    </tr>\n  </thead>\n  <tbody>\n    <tr>\n      <th>31</th>\n      <td>Blue Jay Way</td>\n      <td>1967</td>\n      <td>Magical Mystery Tour</td>\n      <td>235</td>\n      <td>13</td>\n      <td>Psychedelic Rock, Pop/Rock</td>\n      <td>Harrison</td>\n      <td>Harrison</td>\n      <td>-1</td>\n      <td>1972</td>\n    </tr>\n    <tr>\n      <th>48</th>\n      <td>Crying, Waiting, Hoping</td>\n      <td>1963</td>\n      <td>Live at the BBC</td>\n      <td>130</td>\n      <td>0</td>\n      <td>Rock and Roll, Pop/Rock</td>\n      <td>Buddy Holly</td>\n      <td>Harrison</td>\n      <td>-1</td>\n      <td>1968</td>\n    </tr>\n    <tr>\n      <th>144</th>\n      <td>In Spite of All the Danger</td>\n      <td>1958</td>\n      <td>Anthology 1</td>\n      <td>164</td>\n      <td>0</td>\n      <td>Skiffle, Blues, Rock and Roll, Pop/Rock</td>\n      <td>McCartney and Harrison</td>\n      <td>Lennon</td>\n      <td>-1</td>\n      <td>1963</td>\n    </tr>\n    <tr>\n      <th>28</th>\n      <td>Being for the Benefit of Mr. Kite!</td>\n      <td>1967</td>\n      <td>Sgt. Pepper's Lonely Hearts Club Band</td>\n      <td>157</td>\n      <td>7</td>\n      <td>Experimental Rock, Psychedelic Rock, Circus, P...</td>\n      <td>Lennon, with McCartney</td>\n      <td>Lennon</td>\n      <td>-1</td>\n      <td>1972</td>\n    </tr>\n    <tr>\n      <th>222</th>\n      <td>Sexy Sadie</td>\n      <td>1968</td>\n      <td>The Beatles</td>\n      <td>195</td>\n      <td>11</td>\n      <td>Pop/Rock</td>\n      <td>Lennon</td>\n      <td>Lennon</td>\n      <td>-1</td>\n      <td>1973</td>\n    </tr>\n  </tbody>\n</table>\n</div>"
     },
     "execution_count": 37,
     "metadata": {},
     "output_type": "execute_result"
    }
   ],
   "source": [
    "bb = beatles_billboard\n",
    "bb.rename(columns = {'Album.debut':'album'})\n",
    "bb['Date'] = bb['Year']\n",
    "bb.sample(5)"
   ],
   "metadata": {
    "collapsed": false,
    "ExecuteTime": {
     "end_time": "2023-09-28T18:17:54.013445Z",
     "start_time": "2023-09-28T18:17:53.996807Z"
    }
   },
   "id": "dc5ff1bc24dcac0c"
  },
  {
   "cell_type": "code",
   "execution_count": 35,
   "outputs": [],
   "source": [
    "# find the minimum and the maximum value in the given column:\n",
    "min_value = beatles_billboard['Duration'].min()\n",
    "max_value = beatles_billboard['Duration'].max()\n",
    "# create labels for the bins\n",
    "labels = ['short', 'medium', 'long']\n",
    "\n"
   ],
   "metadata": {
    "collapsed": false,
    "ExecuteTime": {
     "end_time": "2023-09-28T18:17:16.351037Z",
     "start_time": "2023-09-28T18:17:16.346137Z"
    }
   },
   "id": "88412982ed2f6d27"
  }
 ],
 "metadata": {
  "kernelspec": {
   "display_name": "Python 3",
   "language": "python",
   "name": "python3"
  },
  "language_info": {
   "codemirror_mode": {
    "name": "ipython",
    "version": 2
   },
   "file_extension": ".py",
   "mimetype": "text/x-python",
   "name": "python",
   "nbconvert_exporter": "python",
   "pygments_lexer": "ipython2",
   "version": "2.7.6"
  }
 },
 "nbformat": 4,
 "nbformat_minor": 5
}
