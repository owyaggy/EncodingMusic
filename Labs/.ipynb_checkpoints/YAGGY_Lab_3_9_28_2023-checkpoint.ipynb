{
 "cells": [
  {
   "cell_type": "code",
   "execution_count": 16,
   "id": "initial_id",
   "metadata": {
    "collapsed": true,
    "ExecuteTime": {
     "end_time": "2023-09-28T18:08:51.662136Z",
     "start_time": "2023-09-28T18:08:51.651474Z"
    }
   },
   "outputs": [],
   "source": [
    "import pandas as pd"
   ]
  },
  {
   "cell_type": "code",
   "execution_count": 17,
   "outputs": [],
   "source": [
    "beatles_spotify_csv = 'https://docs.google.com/spreadsheets/d/e/2PACX-1vRCv45ldJmq0isl2bvWok7AbD5C6JWA0Xf1tBqow5ngX7_ox8c2d846PnH9iLp_SikzgYmvdPHe9k7G/pub?output=csv'\n",
    "\n",
    "beatles_spotify = pd.read_csv(beatles_spotify_csv)\n"
   ],
   "metadata": {
    "collapsed": false,
    "ExecuteTime": {
     "end_time": "2023-09-28T18:08:52.375924Z",
     "start_time": "2023-09-28T18:08:51.660861Z"
    }
   },
   "id": "586ab4eb92d30e9"
  },
  {
   "cell_type": "code",
   "execution_count": 18,
   "outputs": [
    {
     "data": {
      "text/plain": "['year',\n 'valence',\n 'speechiness',\n 'song',\n 'liveness',\n 'id',\n 'energy',\n 'duration_ms',\n 'danceability',\n 'album',\n 'acousticness']"
     },
     "execution_count": 18,
     "metadata": {},
     "output_type": "execute_result"
    }
   ],
   "source": [
    "beatles_spotify.columns.sort_values(ascending=False).to_list()"
   ],
   "metadata": {
    "collapsed": false,
    "ExecuteTime": {
     "end_time": "2023-09-28T18:08:52.383630Z",
     "start_time": "2023-09-28T18:08:52.374628Z"
    }
   },
   "id": "98da223cde3a6579"
  },
  {
   "cell_type": "code",
   "execution_count": 19,
   "outputs": [
    {
     "data": {
      "text/plain": "     year   id  duration_ms\n0    1963    1       173947\n1    1963    2       108547\n2    1963    3       177133\n3    1963    4       145080\n4    1963    5       146440\n..    ...  ...          ...\n188  1970  189       217560\n189  1970  190       173960\n190  1970  191       218187\n191  1970  192       152213\n192  1970  193       189387\n\n[193 rows x 3 columns]",
      "text/html": "<div>\n<style scoped>\n    .dataframe tbody tr th:only-of-type {\n        vertical-align: middle;\n    }\n\n    .dataframe tbody tr th {\n        vertical-align: top;\n    }\n\n    .dataframe thead th {\n        text-align: right;\n    }\n</style>\n<table border=\"1\" class=\"dataframe\">\n  <thead>\n    <tr style=\"text-align: right;\">\n      <th></th>\n      <th>year</th>\n      <th>id</th>\n      <th>duration_ms</th>\n    </tr>\n  </thead>\n  <tbody>\n    <tr>\n      <th>0</th>\n      <td>1963</td>\n      <td>1</td>\n      <td>173947</td>\n    </tr>\n    <tr>\n      <th>1</th>\n      <td>1963</td>\n      <td>2</td>\n      <td>108547</td>\n    </tr>\n    <tr>\n      <th>2</th>\n      <td>1963</td>\n      <td>3</td>\n      <td>177133</td>\n    </tr>\n    <tr>\n      <th>3</th>\n      <td>1963</td>\n      <td>4</td>\n      <td>145080</td>\n    </tr>\n    <tr>\n      <th>4</th>\n      <td>1963</td>\n      <td>5</td>\n      <td>146440</td>\n    </tr>\n    <tr>\n      <th>...</th>\n      <td>...</td>\n      <td>...</td>\n      <td>...</td>\n    </tr>\n    <tr>\n      <th>188</th>\n      <td>1970</td>\n      <td>189</td>\n      <td>217560</td>\n    </tr>\n    <tr>\n      <th>189</th>\n      <td>1970</td>\n      <td>190</td>\n      <td>173960</td>\n    </tr>\n    <tr>\n      <th>190</th>\n      <td>1970</td>\n      <td>191</td>\n      <td>218187</td>\n    </tr>\n    <tr>\n      <th>191</th>\n      <td>1970</td>\n      <td>192</td>\n      <td>152213</td>\n    </tr>\n    <tr>\n      <th>192</th>\n      <td>1970</td>\n      <td>193</td>\n      <td>189387</td>\n    </tr>\n  </tbody>\n</table>\n<p>193 rows × 3 columns</p>\n</div>"
     },
     "execution_count": 19,
     "metadata": {},
     "output_type": "execute_result"
    }
   ],
   "source": [
    "new_col_order = ['year', 'id', 'duration_ms']\n",
    "bs_selected_cols = beatles_spotify[new_col_order]\n",
    "bs_selected_cols"
   ],
   "metadata": {
    "collapsed": false,
    "ExecuteTime": {
     "end_time": "2023-09-28T18:08:52.395556Z",
     "start_time": "2023-09-28T18:08:52.387563Z"
    }
   },
   "id": "f2a7093cf3a685ef"
  },
  {
   "cell_type": "code",
   "execution_count": 20,
   "outputs": [],
   "source": [
    "beatles_billboard_csv = 'https://raw.githubusercontent.com/inteligentni/Class-05-Feature-engineering/master/The%20Beatles%20songs%20dataset%2C%20v1%2C%20no%20NAs.csv'\n",
    "\n",
    "beatles_billboard = pd.read_csv(beatles_billboard_csv)\n"
   ],
   "metadata": {
    "collapsed": false,
    "ExecuteTime": {
     "end_time": "2023-09-28T18:08:52.534234Z",
     "start_time": "2023-09-28T18:08:52.397890Z"
    }
   },
   "id": "4e34ca41a4602a16"
  },
  {
   "cell_type": "code",
   "execution_count": 21,
   "outputs": [
    {
     "data": {
      "text/plain": "                           Title  Year  \\\n297                    Yesterday  1965   \n231                        Shout  1964   \n269              Three Cool Cats  1962   \n308                  Young Blood  1963   \n220                    Searchin'  1962   \n69                 Fixing a Hole  1967   \n70                        Flying  1967   \n264                     The Word  1965   \n45                 Come Together  1969   \n4               A Taste of Honey  1963   \n73                Free as a Bird  1977   \n178      Maxwell's Silver Hammer  1969   \n18                    Ask Me Why  1962   \n12          All You Need Is Love  1967   \n95            Here Comes the Sun  1969   \n120  I Want You (She's So Heavy)  1969   \n116   I Should Have Known Better  1964   \n36             Carry That Weight  1969   \n3     A Shot of Rhythm and Blues  1963   \n259              The Inner Light  1968   \n\n                                    Album.debut  Duration  Other.releases  \\\n297           UK: Help! US: Yesterday and Today       123              33   \n231                                 Anthology 1       135               0   \n269                                 Anthology 1       128               0   \n308                             Live at the BBC       116               0   \n220                                 Anthology 1       156               0   \n69        Sgt. Pepper's Lonely Hearts Club Band       146               5   \n70                         Magical Mystery Tour       137              12   \n264                                 Rubber Soul       161               6   \n45                                   Abbey Road       258              17   \n4    UK: Please Please Me US: The Early Beatles       163              29   \n73                                  Anthology 1       266               0   \n178                                  Abbey Road       207               8   \n18   UK: Please Please Me US: The Early Beatles       144              24   \n12                         Magical Mystery Tour       237              25   \n95                                   Abbey Road       186               6   \n120                                  Abbey Road       467               5   \n116         UK: A Hard Day's Night US: Hey Jude       164              18   \n36                                   Abbey Road        96               5   \n3                               Live at the BBC       104               0   \n259                   UK: Rarities US: Rarities       156              10   \n\n                                                 Genre  \\\n297                              Baroque Pop, Pop/Rock   \n231                    Rock and Roll, Gospel, Pop/Rock   \n269                                      R&B, Pop/Rock   \n308                                           Pop/Rock   \n220                            Rock and Roll, Pop/Rock   \n69              Psychedelic pop, Baroque Pop, Pop/Rock   \n70   Psychedelic Rock, Instrumental Rock, Space Roc...   \n264                                     Rock, Pop/Rock   \n45                                Blues Rock, Pop/Rock   \n4                         Pop/Rock, Jazz, Stage&Screen   \n73                                      Rock, Pop/Rock   \n178                         Rock, Music Hall, Pop/Rock   \n18                                            Pop/Rock   \n12                                            Pop/Rock   \n95                                  Folk Pop, Pop/Rock   \n120  Blues Rock, Hard Rock, Progressive Rock, Pop/Rock   \n116                                           Pop/Rock   \n36                            Symphonic Rock, Pop/Rock   \n3                                        R&B, Pop/Rock   \n259                  Indian Music, Raga Rock, Pop/Rock   \n\n                                       Songwriter  \\\n297                                     McCartney   \n231                           Isley, Isley, Isley   \n269                               Leiber, Stoller   \n308                               Leiber, Stoller   \n220                               Leiber, Stoller   \n69                                      McCartney   \n70        Lennon, McCartney, Harrison and Starkey   \n264                          Lennon and McCartney   \n45                                         Lennon   \n4                                   Scott, Marlow   \n73   Lennon, with McCartney, Harrison and Starkey   \n178                                     McCartney   \n18                         Lennon, with McCartney   \n12                                         Lennon   \n95                                       Harrison   \n120                                        Lennon   \n116                                        Lennon   \n36                                      McCartney   \n3                                        Thompson   \n259                                      Harrison   \n\n                                       Lead.vocal  Top.50.Billboard  \n297                                     McCartney                12  \n231       Lennon, McCartney, Harrison and Starkey                -1  \n269                                      Harrison                -1  \n308                                      Harrison                -1  \n220                                     McCartney                -1  \n69                                      McCartney                -1  \n70                                            NaN                -1  \n264                Lennon, McCartney and Harrison                -1  \n45                                         Lennon                 6  \n4                                       McCartney                -1  \n73                 Lennon, McCartney and Harrison                39  \n178                                     McCartney                -1  \n18                                         Lennon                -1  \n12                                         Lennon                15  \n95                                       Harrison                -1  \n120                                        Lennon                -1  \n116                                        Lennon                -1  \n36   McCartney, with Lennon, Harrison and Starkey                -1  \n3                                          Lennon                -1  \n259                                      Harrison                -1  ",
      "text/html": "<div>\n<style scoped>\n    .dataframe tbody tr th:only-of-type {\n        vertical-align: middle;\n    }\n\n    .dataframe tbody tr th {\n        vertical-align: top;\n    }\n\n    .dataframe thead th {\n        text-align: right;\n    }\n</style>\n<table border=\"1\" class=\"dataframe\">\n  <thead>\n    <tr style=\"text-align: right;\">\n      <th></th>\n      <th>Title</th>\n      <th>Year</th>\n      <th>Album.debut</th>\n      <th>Duration</th>\n      <th>Other.releases</th>\n      <th>Genre</th>\n      <th>Songwriter</th>\n      <th>Lead.vocal</th>\n      <th>Top.50.Billboard</th>\n    </tr>\n  </thead>\n  <tbody>\n    <tr>\n      <th>297</th>\n      <td>Yesterday</td>\n      <td>1965</td>\n      <td>UK: Help! US: Yesterday and Today</td>\n      <td>123</td>\n      <td>33</td>\n      <td>Baroque Pop, Pop/Rock</td>\n      <td>McCartney</td>\n      <td>McCartney</td>\n      <td>12</td>\n    </tr>\n    <tr>\n      <th>231</th>\n      <td>Shout</td>\n      <td>1964</td>\n      <td>Anthology 1</td>\n      <td>135</td>\n      <td>0</td>\n      <td>Rock and Roll, Gospel, Pop/Rock</td>\n      <td>Isley, Isley, Isley</td>\n      <td>Lennon, McCartney, Harrison and Starkey</td>\n      <td>-1</td>\n    </tr>\n    <tr>\n      <th>269</th>\n      <td>Three Cool Cats</td>\n      <td>1962</td>\n      <td>Anthology 1</td>\n      <td>128</td>\n      <td>0</td>\n      <td>R&amp;B, Pop/Rock</td>\n      <td>Leiber, Stoller</td>\n      <td>Harrison</td>\n      <td>-1</td>\n    </tr>\n    <tr>\n      <th>308</th>\n      <td>Young Blood</td>\n      <td>1963</td>\n      <td>Live at the BBC</td>\n      <td>116</td>\n      <td>0</td>\n      <td>Pop/Rock</td>\n      <td>Leiber, Stoller</td>\n      <td>Harrison</td>\n      <td>-1</td>\n    </tr>\n    <tr>\n      <th>220</th>\n      <td>Searchin'</td>\n      <td>1962</td>\n      <td>Anthology 1</td>\n      <td>156</td>\n      <td>0</td>\n      <td>Rock and Roll, Pop/Rock</td>\n      <td>Leiber, Stoller</td>\n      <td>McCartney</td>\n      <td>-1</td>\n    </tr>\n    <tr>\n      <th>69</th>\n      <td>Fixing a Hole</td>\n      <td>1967</td>\n      <td>Sgt. Pepper's Lonely Hearts Club Band</td>\n      <td>146</td>\n      <td>5</td>\n      <td>Psychedelic pop, Baroque Pop, Pop/Rock</td>\n      <td>McCartney</td>\n      <td>McCartney</td>\n      <td>-1</td>\n    </tr>\n    <tr>\n      <th>70</th>\n      <td>Flying</td>\n      <td>1967</td>\n      <td>Magical Mystery Tour</td>\n      <td>137</td>\n      <td>12</td>\n      <td>Psychedelic Rock, Instrumental Rock, Space Roc...</td>\n      <td>Lennon, McCartney, Harrison and Starkey</td>\n      <td>NaN</td>\n      <td>-1</td>\n    </tr>\n    <tr>\n      <th>264</th>\n      <td>The Word</td>\n      <td>1965</td>\n      <td>Rubber Soul</td>\n      <td>161</td>\n      <td>6</td>\n      <td>Rock, Pop/Rock</td>\n      <td>Lennon and McCartney</td>\n      <td>Lennon, McCartney and Harrison</td>\n      <td>-1</td>\n    </tr>\n    <tr>\n      <th>45</th>\n      <td>Come Together</td>\n      <td>1969</td>\n      <td>Abbey Road</td>\n      <td>258</td>\n      <td>17</td>\n      <td>Blues Rock, Pop/Rock</td>\n      <td>Lennon</td>\n      <td>Lennon</td>\n      <td>6</td>\n    </tr>\n    <tr>\n      <th>4</th>\n      <td>A Taste of Honey</td>\n      <td>1963</td>\n      <td>UK: Please Please Me US: The Early Beatles</td>\n      <td>163</td>\n      <td>29</td>\n      <td>Pop/Rock, Jazz, Stage&amp;Screen</td>\n      <td>Scott, Marlow</td>\n      <td>McCartney</td>\n      <td>-1</td>\n    </tr>\n    <tr>\n      <th>73</th>\n      <td>Free as a Bird</td>\n      <td>1977</td>\n      <td>Anthology 1</td>\n      <td>266</td>\n      <td>0</td>\n      <td>Rock, Pop/Rock</td>\n      <td>Lennon, with McCartney, Harrison and Starkey</td>\n      <td>Lennon, McCartney and Harrison</td>\n      <td>39</td>\n    </tr>\n    <tr>\n      <th>178</th>\n      <td>Maxwell's Silver Hammer</td>\n      <td>1969</td>\n      <td>Abbey Road</td>\n      <td>207</td>\n      <td>8</td>\n      <td>Rock, Music Hall, Pop/Rock</td>\n      <td>McCartney</td>\n      <td>McCartney</td>\n      <td>-1</td>\n    </tr>\n    <tr>\n      <th>18</th>\n      <td>Ask Me Why</td>\n      <td>1962</td>\n      <td>UK: Please Please Me US: The Early Beatles</td>\n      <td>144</td>\n      <td>24</td>\n      <td>Pop/Rock</td>\n      <td>Lennon, with McCartney</td>\n      <td>Lennon</td>\n      <td>-1</td>\n    </tr>\n    <tr>\n      <th>12</th>\n      <td>All You Need Is Love</td>\n      <td>1967</td>\n      <td>Magical Mystery Tour</td>\n      <td>237</td>\n      <td>25</td>\n      <td>Pop/Rock</td>\n      <td>Lennon</td>\n      <td>Lennon</td>\n      <td>15</td>\n    </tr>\n    <tr>\n      <th>95</th>\n      <td>Here Comes the Sun</td>\n      <td>1969</td>\n      <td>Abbey Road</td>\n      <td>186</td>\n      <td>6</td>\n      <td>Folk Pop, Pop/Rock</td>\n      <td>Harrison</td>\n      <td>Harrison</td>\n      <td>-1</td>\n    </tr>\n    <tr>\n      <th>120</th>\n      <td>I Want You (She's So Heavy)</td>\n      <td>1969</td>\n      <td>Abbey Road</td>\n      <td>467</td>\n      <td>5</td>\n      <td>Blues Rock, Hard Rock, Progressive Rock, Pop/Rock</td>\n      <td>Lennon</td>\n      <td>Lennon</td>\n      <td>-1</td>\n    </tr>\n    <tr>\n      <th>116</th>\n      <td>I Should Have Known Better</td>\n      <td>1964</td>\n      <td>UK: A Hard Day's Night US: Hey Jude</td>\n      <td>164</td>\n      <td>18</td>\n      <td>Pop/Rock</td>\n      <td>Lennon</td>\n      <td>Lennon</td>\n      <td>-1</td>\n    </tr>\n    <tr>\n      <th>36</th>\n      <td>Carry That Weight</td>\n      <td>1969</td>\n      <td>Abbey Road</td>\n      <td>96</td>\n      <td>5</td>\n      <td>Symphonic Rock, Pop/Rock</td>\n      <td>McCartney</td>\n      <td>McCartney, with Lennon, Harrison and Starkey</td>\n      <td>-1</td>\n    </tr>\n    <tr>\n      <th>3</th>\n      <td>A Shot of Rhythm and Blues</td>\n      <td>1963</td>\n      <td>Live at the BBC</td>\n      <td>104</td>\n      <td>0</td>\n      <td>R&amp;B, Pop/Rock</td>\n      <td>Thompson</td>\n      <td>Lennon</td>\n      <td>-1</td>\n    </tr>\n    <tr>\n      <th>259</th>\n      <td>The Inner Light</td>\n      <td>1968</td>\n      <td>UK: Rarities US: Rarities</td>\n      <td>156</td>\n      <td>10</td>\n      <td>Indian Music, Raga Rock, Pop/Rock</td>\n      <td>Harrison</td>\n      <td>Harrison</td>\n      <td>-1</td>\n    </tr>\n  </tbody>\n</table>\n</div>"
     },
     "execution_count": 21,
     "metadata": {},
     "output_type": "execute_result"
    }
   ],
   "source": [
    "beatles_billboard.sample(20)"
   ],
   "metadata": {
    "collapsed": false,
    "ExecuteTime": {
     "end_time": "2023-09-28T18:08:52.535468Z",
     "start_time": "2023-09-28T18:08:52.525105Z"
    }
   },
   "id": "a60c3eee6b564a0"
  }
 ],
 "metadata": {
  "kernelspec": {
   "display_name": "Python 3",
   "language": "python",
   "name": "python3"
  },
  "language_info": {
   "codemirror_mode": {
    "name": "ipython",
    "version": 2
   },
   "file_extension": ".py",
   "mimetype": "text/x-python",
   "name": "python",
   "nbconvert_exporter": "python",
   "pygments_lexer": "ipython2",
   "version": "2.7.6"
  }
 },
 "nbformat": 4,
 "nbformat_minor": 5
}
