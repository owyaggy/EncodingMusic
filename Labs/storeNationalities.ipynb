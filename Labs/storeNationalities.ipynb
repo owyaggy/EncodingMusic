{
 "cells": [
  {
   "cell_type": "code",
   "execution_count": 15,
   "outputs": [],
   "source": [
    "import pandas as pd\n",
    "import requests\n",
    "\n",
    "def store_nationalities(query_results, path_to_nationalities_csv):\n",
    "    \"\"\"Creates a csv listing all Carnegie composer IDs and all their nationalities, which are stored in a string.\"\"\"\n",
    "    nationalities_df = pd.read_csv('CarnegieData/name_skos.csv')\n",
    "    nationalities_df.insert(2, 'nationalities', pd.Series(dtype=str))\n",
    "    \n",
    "    for index in nationalities_df.index:\n",
    "            # isolate the data in the 'skos' row\n",
    "            wikidata_id = nationalities_df.loc[index, 'skos']\n",
    "            # isolate the unique wikidata item identifier beginning with 'Q'\n",
    "            wikidata_id = wikidata_id[wikidata_id.index('Q'):]\n",
    "            \n",
    "            # API call to wikidata to get the \"countries of citizenship\" for this item\n",
    "            request = requests.get(f'https://www.wikidata.org/w/rest.php/wikibase/v0/entities/items/{wikidata_id}/statements?property=P27')\n",
    "            if len(dict(request.json())) == 0:\n",
    "                request = requests.get(f'https://www.wikidata.org/w/rest.php/wikibase/v0/entities/items/{wikidata_id}/statements?property=P495')\n",
    "            \n",
    "            # create blank list to store nationalities\n",
    "            nationalities = pd.Series(dtype=str)\n",
    "            \n",
    "            try:\n",
    "                # iterate through all countries of citizenship for the composer\n",
    "                for result in dict(request.json())['P27']:\n",
    "                    nationalities = nationalities.append(pd.Series([result['value']['content']]), ignore_index=True)\n",
    "            except KeyError:\n",
    "                try:\n",
    "                    for result in dict(request.json())['P495']:\n",
    "                        nationalities = nationalities.append(pd.Series([result['value']['content']]), ignore_index=True)\n",
    "                except KeyError:\n",
    "                    nationalities = nationalities.append(pd.Series(['Q223050']), ignore_index=True)         # stateless\n",
    "                \n",
    "            for i in nationalities.index:\n",
    "                nationalities.loc[i] = requests.get(f'https://www.wikidata.org/w/rest.php/wikibase/v0/entities/items/{nationalities[i]}/labels/en').json()\n",
    "                \n",
    "            nationalities_df.at[index, 'nationalities'] = nationalities\n",
    "    \n",
    "    for index in nationalities_df.index:\n",
    "        nationalities_df.at[index, 'nationalities'] = nationalities_df.at[index, 'nationalities'].to_string()\n",
    "    \n",
    "    # Create and store a CSV based on the nationality data\n",
    "    nationalities_df.to_csv('path/to/nationalities_list.csv')"
   ],
   "metadata": {
    "collapsed": false,
    "ExecuteTime": {
     "end_time": "2023-12-12T11:42:05.565235Z",
     "start_time": "2023-12-12T11:42:04.528519Z"
    }
   },
   "id": "81b671c6019db69e"
  }
 ],
 "metadata": {
  "kernelspec": {
   "display_name": "Python 3",
   "language": "python",
   "name": "python3"
  },
  "language_info": {
   "codemirror_mode": {
    "name": "ipython",
    "version": 2
   },
   "file_extension": ".py",
   "mimetype": "text/x-python",
   "name": "python",
   "nbconvert_exporter": "python",
   "pygments_lexer": "ipython2",
   "version": "2.7.6"
  }
 },
 "nbformat": 4,
 "nbformat_minor": 5
}
