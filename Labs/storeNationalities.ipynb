{
 "cells": [
  {
   "cell_type": "code",
   "execution_count": 13,
   "id": "initial_id",
   "metadata": {
    "collapsed": true,
    "ExecuteTime": {
     "end_time": "2023-12-12T11:40:58.569955Z",
     "start_time": "2023-12-12T11:14:03.188663Z"
    }
   },
   "outputs": [],
   "source": [
    "import pandas as pd\n",
    "import requests\n",
    "\n",
    "df = pd.read_csv('CarnegieData/name_skos.csv')\n",
    "df.insert(2, 'nationalities', pd.Series(dtype=str))\n",
    "\n",
    "for index in df.index:\n",
    "        # isolate the data in the 'skos' row\n",
    "        wikidata_id = df.loc[index, 'skos']\n",
    "        # isolate the unique wikidata item identifier beginning with 'Q'\n",
    "        wikidata_id = wikidata_id[wikidata_id.index('Q'):]\n",
    "        \n",
    "        # API call to wikidata to get the \"countries of citizenship\" for this item\n",
    "        request = requests.get(f'https://www.wikidata.org/w/rest.php/wikibase/v0/entities/items/{wikidata_id}/statements?property=P27')\n",
    "        if len(dict(request.json())) == 0:\n",
    "            request = requests.get(f'https://www.wikidata.org/w/rest.php/wikibase/v0/entities/items/{wikidata_id}/statements?property=P495')\n",
    "        \n",
    "        # create blank list to store nationalities\n",
    "        nationalities = pd.Series(dtype=str)\n",
    "        \n",
    "        try:\n",
    "            # iterate through all countries of citizenship for the composer\n",
    "            for result in dict(request.json())['P27']:\n",
    "                #print(result['value']['content'])\n",
    "                #print(pd.Series([result['value']['content']]))\n",
    "                nationalities = nationalities.append(pd.Series([result['value']['content']]), ignore_index=True)\n",
    "        except KeyError:\n",
    "            try:\n",
    "                for result in dict(request.json())['P495']:\n",
    "                    nationalities = nationalities.append(pd.Series([result['value']['content']]), ignore_index=True)\n",
    "            except KeyError:\n",
    "                nationalities = nationalities.append(pd.Series(['Q223050']), ignore_index=True)         # stateless\n",
    "            \n",
    "        for i in nationalities.index:\n",
    "            nationalities.loc[i] = requests.get(f'https://www.wikidata.org/w/rest.php/wikibase/v0/entities/items/{nationalities[i]}/labels/en').json()\n",
    "                #print(nationalities.loc[i])\n",
    "            \n",
    "        df.at[index, 'nationalities'] = nationalities"
   ]
  },
  {
   "cell_type": "code",
   "execution_count": 14,
   "outputs": [],
   "source": [
    "df.to_csv('nationalities.csv')"
   ],
   "metadata": {
    "collapsed": false,
    "ExecuteTime": {
     "end_time": "2023-12-12T11:41:58.708230Z",
     "start_time": "2023-12-12T11:41:57.017221Z"
    }
   },
   "id": "54daa59239599199"
  },
  {
   "cell_type": "code",
   "execution_count": 6,
   "outputs": [
    {
     "data": {
      "text/plain": "                                    composer  \\\n0    http://data.carnegiehall.org/names/8886   \n1   http://data.carnegiehall.org/names/92308   \n2   http://data.carnegiehall.org/names/82882   \n3   http://data.carnegiehall.org/names/76687   \n4   http://data.carnegiehall.org/names/31775   \n..                                       ...   \n95  http://data.carnegiehall.org/names/66342   \n96   http://data.carnegiehall.org/names/8574   \n97  http://data.carnegiehall.org/names/65049   \n98  http://data.carnegiehall.org/names/15062   \n99  http://data.carnegiehall.org/names/58490   \n\n                                        skos  \\\n0     http://www.wikidata.org/entity/Q727702   \n1    http://www.wikidata.org/entity/Q3093810   \n2     http://www.wikidata.org/entity/Q202847   \n3     http://www.wikidata.org/entity/Q483828   \n4     http://www.wikidata.org/entity/Q234017   \n..                                       ...   \n95   http://www.wikidata.org/entity/Q3018260   \n96    http://www.wikidata.org/entity/Q743673   \n97  http://www.wikidata.org/entity/Q43225100   \n98    http://www.wikidata.org/entity/Q235952   \n99   http://www.wikidata.org/entity/Q2140172   \n\n                                    nationalities  \n0     0    United States of America\ndtype: object  \n1     0    United States of America\ndtype: object  \n2     0    United States of America\ndtype: object  \n3                      0    Iceland\ndtype: object  \n4     0    United States of America\ndtype: object  \n..                                            ...  \n95    0    United States of America\ndtype: object  \n96    0    United States of America\ndtype: object  \n97    0    United States of America\ndtype: object  \n98    0    United States of America\ndtype: object  \n99  0    German Democratic Republic\ndtype: object  \n\n[100 rows x 3 columns]",
      "text/html": "<div>\n<style scoped>\n    .dataframe tbody tr th:only-of-type {\n        vertical-align: middle;\n    }\n\n    .dataframe tbody tr th {\n        vertical-align: top;\n    }\n\n    .dataframe thead th {\n        text-align: right;\n    }\n</style>\n<table border=\"1\" class=\"dataframe\">\n  <thead>\n    <tr style=\"text-align: right;\">\n      <th></th>\n      <th>composer</th>\n      <th>skos</th>\n      <th>nationalities</th>\n    </tr>\n  </thead>\n  <tbody>\n    <tr>\n      <th>0</th>\n      <td>http://data.carnegiehall.org/names/8886</td>\n      <td>http://www.wikidata.org/entity/Q727702</td>\n      <td>0    United States of America\ndtype: object</td>\n    </tr>\n    <tr>\n      <th>1</th>\n      <td>http://data.carnegiehall.org/names/92308</td>\n      <td>http://www.wikidata.org/entity/Q3093810</td>\n      <td>0    United States of America\ndtype: object</td>\n    </tr>\n    <tr>\n      <th>2</th>\n      <td>http://data.carnegiehall.org/names/82882</td>\n      <td>http://www.wikidata.org/entity/Q202847</td>\n      <td>0    United States of America\ndtype: object</td>\n    </tr>\n    <tr>\n      <th>3</th>\n      <td>http://data.carnegiehall.org/names/76687</td>\n      <td>http://www.wikidata.org/entity/Q483828</td>\n      <td>0    Iceland\ndtype: object</td>\n    </tr>\n    <tr>\n      <th>4</th>\n      <td>http://data.carnegiehall.org/names/31775</td>\n      <td>http://www.wikidata.org/entity/Q234017</td>\n      <td>0    United States of America\ndtype: object</td>\n    </tr>\n    <tr>\n      <th>...</th>\n      <td>...</td>\n      <td>...</td>\n      <td>...</td>\n    </tr>\n    <tr>\n      <th>95</th>\n      <td>http://data.carnegiehall.org/names/66342</td>\n      <td>http://www.wikidata.org/entity/Q3018260</td>\n      <td>0    United States of America\ndtype: object</td>\n    </tr>\n    <tr>\n      <th>96</th>\n      <td>http://data.carnegiehall.org/names/8574</td>\n      <td>http://www.wikidata.org/entity/Q743673</td>\n      <td>0    United States of America\ndtype: object</td>\n    </tr>\n    <tr>\n      <th>97</th>\n      <td>http://data.carnegiehall.org/names/65049</td>\n      <td>http://www.wikidata.org/entity/Q43225100</td>\n      <td>0    United States of America\ndtype: object</td>\n    </tr>\n    <tr>\n      <th>98</th>\n      <td>http://data.carnegiehall.org/names/15062</td>\n      <td>http://www.wikidata.org/entity/Q235952</td>\n      <td>0    United States of America\ndtype: object</td>\n    </tr>\n    <tr>\n      <th>99</th>\n      <td>http://data.carnegiehall.org/names/58490</td>\n      <td>http://www.wikidata.org/entity/Q2140172</td>\n      <td>0    German Democratic Republic\ndtype: object</td>\n    </tr>\n  </tbody>\n</table>\n<p>100 rows × 3 columns</p>\n</div>"
     },
     "execution_count": 6,
     "metadata": {},
     "output_type": "execute_result"
    }
   ],
   "source": [
    "df.head(100)"
   ],
   "metadata": {
    "collapsed": false,
    "ExecuteTime": {
     "end_time": "2023-12-12T07:00:48.648163Z",
     "start_time": "2023-12-12T07:00:48.644640Z"
    }
   },
   "id": "500a0d90249546d8"
  },
  {
   "cell_type": "code",
   "execution_count": 15,
   "outputs": [],
   "source": [
    "for index in df.index:\n",
    "    df.at[index, 'nationalities'] = df.at[index, 'nationalities'].to_string()"
   ],
   "metadata": {
    "collapsed": false,
    "ExecuteTime": {
     "end_time": "2023-12-12T11:42:05.565235Z",
     "start_time": "2023-12-12T11:42:04.528519Z"
    }
   },
   "id": "81b671c6019db69e"
  },
  {
   "cell_type": "code",
   "execution_count": 16,
   "outputs": [],
   "source": [
    "df.to_csv('CarnegieData/nationalities_new.csv')"
   ],
   "metadata": {
    "collapsed": false,
    "ExecuteTime": {
     "end_time": "2023-12-12T11:42:09.267962Z",
     "start_time": "2023-12-12T11:42:09.229899Z"
    }
   },
   "id": "d9892fc040ebb602"
  },
  {
   "cell_type": "code",
   "execution_count": null,
   "outputs": [],
   "source": [],
   "metadata": {
    "collapsed": false
   },
   "id": "d7e4c304d3c8866e"
  }
 ],
 "metadata": {
  "kernelspec": {
   "display_name": "Python 3",
   "language": "python",
   "name": "python3"
  },
  "language_info": {
   "codemirror_mode": {
    "name": "ipython",
    "version": 2
   },
   "file_extension": ".py",
   "mimetype": "text/x-python",
   "name": "python",
   "nbconvert_exporter": "python",
   "pygments_lexer": "ipython2",
   "version": "2.7.6"
  }
 },
 "nbformat": 4,
 "nbformat_minor": 5
}
