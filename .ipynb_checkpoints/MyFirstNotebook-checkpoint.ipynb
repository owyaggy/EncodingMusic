{
 "cells": [
  {
   "cell_type": "markdown",
   "source": [
    "# MyFirstNotebook\n",
    "### Owen Yaggy"
   ],
   "metadata": {
    "collapsed": false
   },
   "id": "cb7f301cc6afebdf"
  },
  {
   "cell_type": "code",
   "execution_count": null,
   "outputs": [],
   "source": [],
   "metadata": {
    "collapsed": false,
    "ExecuteTime": {
     "end_time": "2023-09-14T17:44:22.886406Z",
     "start_time": "2023-09-14T17:44:22.871997Z"
    }
   },
   "id": "d404254b3e8eb4de"
  }
 ],
 "metadata": {
  "kernelspec": {
   "display_name": "Python 3",
   "language": "python",
   "name": "python3"
  },
  "language_info": {
   "codemirror_mode": {
    "name": "ipython",
    "version": 2
   },
   "file_extension": ".py",
   "mimetype": "text/x-python",
   "name": "python",
   "nbconvert_exporter": "python",
   "pygments_lexer": "ipython2",
   "version": "2.7.6"
  }
 },
 "nbformat": 4,
 "nbformat_minor": 5
}
